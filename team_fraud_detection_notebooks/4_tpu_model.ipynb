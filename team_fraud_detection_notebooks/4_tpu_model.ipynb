{
  "cells": [
    {
      "cell_type": "markdown",
      "metadata": {
        "id": "JtZQpF6AIDDs"
      },
      "source": [
        "# Final Project - Detecting Fraudulent Credit Card Transactions\n",
        "\n",
        "| Course | Term | Section | Group | Objective | Kaggle URL |\n",
        "| --- | --- | --- | --- | --- | --- |\n",
        "| W207 | Fall 2022 | 11 | 2 | Detect fraudulent credit card transactions | IEEE-CIS Fraud Detection ([Link](kaggle.com/competitions/ieee-fraud-detection)) |\n",
        "\n",
        "**Group Members**\n",
        "- Naikaj Pandya\n",
        "- Chase Madson\n",
        "- Eric Danforth\n"
      ]
    },
    {
      "cell_type": "markdown",
      "metadata": {
        "id": "LtxEOKztIDDy"
      },
      "source": [
        "# I. Setup"
      ]
    },
    {
      "cell_type": "markdown",
      "metadata": {
        "id": "L892Pa11IDDz"
      },
      "source": [
        "## A. Load Libraries"
      ]
    },
    {
      "cell_type": "code",
      "execution_count": 1,
      "metadata": {
        "id": "P0kbz7ypIDD1"
      },
      "outputs": [],
      "source": [
        "import numpy as np\n",
        "import pandas as pd\n",
        "import matplotlib.pyplot as plt\n",
        "\n",
        "# For feature engineering\n",
        "from decimal import Decimal\n",
        "\n",
        "# For splitting data \n",
        "from sklearn.model_selection import train_test_split\n",
        "\n",
        "# For preprocessing\n",
        "from sklearn.preprocessing import minmax_scale, OneHotEncoder\n",
        "\n",
        "# For fitting\n",
        "import tensorflow as tf\n",
        "\n",
        "# For model evalutaion\n",
        "from sklearn.metrics import roc_curve, auc"
      ]
    },
    {
      "cell_type": "markdown",
      "metadata": {
        "id": "ZPUJYkuiKkje"
      },
      "source": [
        "## B. Connect to TPU\n",
        "Navigate to Edit→Notebook Settings\n",
        "select TPU from the Hardware Accelerator drop-down, and High-RAM Runtime"
      ]
    },
    {
      "cell_type": "code",
      "execution_count": 2,
      "metadata": {
        "colab": {
          "base_uri": "https://localhost:8080/"
        },
        "id": "6JkV7u7_IKOe",
        "outputId": "2ecb44c7-31a0-4122-a828-ecd423644a61"
      },
      "outputs": [
        {
          "name": "stdout",
          "output_type": "stream",
          "text": [
            "Running on TPU  ['10.59.86.50:8470']\n"
          ]
        }
      ],
      "source": [
        "try:\n",
        "  tpu = tf.distribute.cluster_resolver.TPUClusterResolver()  # TPU detection\n",
        "  print('Running on TPU ', tpu.cluster_spec().as_dict()['worker'])\n",
        "except ValueError:\n",
        "  raise BaseException('ERROR: Not connected to a TPU runtime')\n",
        "\n",
        "tf.config.experimental_connect_to_cluster(tpu)\n",
        "tf.tpu.experimental.initialize_tpu_system(tpu)\n",
        "tpu_strategy = tf.distribute.TPUStrategy(tpu)"
      ]
    },
    {
      "cell_type": "markdown",
      "metadata": {
        "id": "i73znjohIDD4"
      },
      "source": [
        "## C. Load Data"
      ]
    },
    {
      "cell_type": "markdown",
      "metadata": {
        "id": "qjVVjXD5LH6W"
      },
      "source": [
        "### Run the following in a kaggle notebook for the current gcs link:\n",
        "```\n",
        "from kaggle_datasets import KaggleDatasets\n",
        "KaggleDatasets().get_gcs_path()\n",
        "```"
      ]
    },
    {
      "cell_type": "code",
      "execution_count": 3,
      "metadata": {
        "colab": {
          "base_uri": "https://localhost:8080/"
        },
        "id": "ejjlSlUQIK_O",
        "outputId": "3b7613f7-f10b-4d0e-fa45-3fcdd5c937a5"
      },
      "outputs": [
        {
          "name": "stdout",
          "output_type": "stream",
          "text": [
            "  % Total    % Received % Xferd  Average Speed   Time    Time     Time  Current\n",
            "                                 Dload  Upload   Total   Spent    Left  Speed\n",
            "\r  0     0    0     0    0     0      0      0 --:--:-- --:--:-- --:--:--     0\r100  2537  100  2537    0     0   137k      0 --:--:-- --:--:-- --:--:--  137k\n",
            "OK\n",
            "Hit:1 http://packages.cloud.google.com/apt gcsfuse-bionic InRelease\n",
            "Hit:2 https://cloud.r-project.org/bin/linux/ubuntu bionic-cran40/ InRelease\n",
            "Ign:3 https://developer.download.nvidia.com/compute/machine-learning/repos/ubuntu1804/x86_64  InRelease\n",
            "Hit:4 https://developer.download.nvidia.com/compute/cuda/repos/ubuntu1804/x86_64  InRelease\n",
            "Hit:5 http://archive.ubuntu.com/ubuntu bionic InRelease\n",
            "Hit:6 https://developer.download.nvidia.com/compute/machine-learning/repos/ubuntu1804/x86_64  Release\n",
            "Hit:7 http://archive.ubuntu.com/ubuntu bionic-updates InRelease\n",
            "Hit:8 http://security.ubuntu.com/ubuntu bionic-security InRelease\n",
            "Hit:9 http://archive.ubuntu.com/ubuntu bionic-backports InRelease\n",
            "Hit:10 http://ppa.launchpad.net/c2d4u.team/c2d4u4.0+/ubuntu bionic InRelease\n",
            "Hit:11 http://ppa.launchpad.net/cran/libgit2/ubuntu bionic InRelease\n",
            "Hit:12 http://ppa.launchpad.net/deadsnakes/ppa/ubuntu bionic InRelease\n",
            "Hit:13 http://ppa.launchpad.net/graphics-drivers/ppa/ubuntu bionic InRelease\n",
            "Reading package lists... Done\n",
            "Building dependency tree       \n",
            "Reading state information... Done\n",
            "7 packages can be upgraded. Run 'apt list --upgradable' to see them.\n",
            "Reading package lists... Done\n",
            "Building dependency tree       \n",
            "Reading state information... Done\n",
            "gcsfuse is already the newest version (0.41.9).\n",
            "The following package was automatically installed and is no longer required:\n",
            "  libnvidia-common-460\n",
            "Use 'apt autoremove' to remove it.\n",
            "0 upgraded, 0 newly installed, 0 to remove and 7 not upgraded.\n",
            "2022/12/04 06:05:17.890786 Start gcsfuse/0.41.9 (Go version go1.18.4) for app \"\" using mount point: /content/ieee-fraud-detection\n",
            "2022/12/04 06:05:17.913233 Opening GCS connection...\n",
            "2022/12/04 06:05:18.030741 Mounting file system \"kds-736d2b976458a9f97a40a072c8624c2de9e65455a381ffdae66caa06\"...\n",
            "2022/12/04 06:05:18.031112 File system has been successfully mounted.\n"
          ]
        }
      ],
      "source": [
        "from google.colab import auth\n",
        "auth.authenticate_user()\n",
        "! echo \"deb http://packages.cloud.google.com/apt gcsfuse-bionic main\" > /etc/apt/sources.list.d/gcsfuse.list \n",
        "! curl https://packages.cloud.google.com/apt/doc/apt-key.gpg | apt-key add - \n",
        "! apt update \n",
        "! apt install gcsfuse \n",
        "! mkdir -p 'ieee-fraud-detection'\n",
        "! gcsfuse  --implicit-dirs --limit-bytes-per-sec -1 --limit-ops-per-sec -1 'kds-736d2b976458a9f97a40a072c8624c2de9e65455a381ffdae66caa06' 'ieee-fraud-detection' "
      ]
    },
    {
      "cell_type": "code",
      "execution_count": 4,
      "metadata": {
        "id": "wb_ClL4KIDD5"
      },
      "outputs": [],
      "source": [
        "# Load Data\n",
        "train = pd.read_csv('ieee-fraud-detection/train_transaction.csv')\n",
        "test = pd.read_csv('ieee-fraud-detection/test_transaction.csv')\n",
        "sub = pd.read_csv('ieee-fraud-detection/sample_submission.csv').drop('isFraud', axis=1)"
      ]
    },
    {
      "cell_type": "code",
      "execution_count": 5,
      "metadata": {
        "id": "XAs6ZGQK1ME7"
      },
      "outputs": [],
      "source": [
        "train_id = pd.read_csv('ieee-fraud-detection/train_identity.csv')\n",
        "test_id = pd.read_csv('ieee-fraud-detection/test_identity.csv')"
      ]
    },
    {
      "cell_type": "code",
      "execution_count": 6,
      "metadata": {
        "id": "U1DRCl_h8kBD"
      },
      "outputs": [],
      "source": [
        "import re\n",
        "test_id = test_id.rename(columns=lambda x: re.sub('-','_',x))"
      ]
    },
    {
      "cell_type": "markdown",
      "metadata": {
        "id": "djQOLp8DIDD6"
      },
      "source": [
        "## D. Feature Engineering"
      ]
    },
    {
      "cell_type": "markdown",
      "metadata": {
        "id": "vysrIqUUIDD7"
      },
      "source": [
        "### 1. Custom Groupings for Purchaser and Recipient Domains\n",
        "\n",
        "To use the purchaser and recipient domain email addresses, we create a highly customized categorical variable called `custom_domain_grouping`. \n",
        "\n",
        "This uses a switch statement to condense information about:\n",
        "\n",
        "1. Drop the domain extensions so \"gmail.com\" and \"gmail\" are placed into same group\n",
        "2. Whether recipient, purchaser, or both email addresses are null\n",
        "3. Whether the recipient and purchaser domain address matched (e.g., gmail to gmail)\n",
        "4. If the recipient and purchaser domain addresses do match, what domain is it?"
      ]
    },
    {
      "cell_type": "code",
      "execution_count": 7,
      "metadata": {
        "id": "EUgZhKy6IDD9"
      },
      "outputs": [],
      "source": [
        "def get_custom_domain_grouping(df_train, df_test):\n",
        "    \"\"\"This function is disgusting but gives us good categories from the domain addresses\"\"\"\n",
        "\n",
        "    # Remove the domain extensions on all variables\n",
        "    df_train['purch_domain_name'] = df_train.P_emaildomain.str.replace('\\..*', '', regex=True)\n",
        "    df_train['recip_domain_name'] = df_train.R_emaildomain.str.replace('\\..*', '', regex=True)\n",
        "    df_test['purch_domain_name'] = df_test.P_emaildomain.str.replace('\\..*', '', regex=True)\n",
        "    df_test['recip_domain_name'] = df_test.R_emaildomain.str.replace('\\..*', '', regex=True)\n",
        "\n",
        "    # Get the list of top 95% of email domains in the _training_ set only \n",
        "    top_95pct_purch_domains = (\n",
        "        df_train.purch_domain_name\n",
        "        .value_counts(normalize=True)\n",
        "        .rename_axis('factor_levels')\n",
        "        .cumsum()\n",
        "        .reset_index(name='cumsum')\n",
        "        .query('cumsum<0.95')\n",
        "        .sort_values('cumsum')\n",
        "        .factor_levels\n",
        "        .tolist()   \n",
        "    )\n",
        "    \n",
        "    # This switch statement is based on \n",
        "    custom_domain_grouping_train = np.select(\n",
        "        condlist = [\n",
        "            # Create a group for null recipients\n",
        "            df_train.R_emaildomain.isnull(),\n",
        "            # Create a group for null purchasers (when recipient not null)\n",
        "            df_train.P_emaildomain.isnull(),\n",
        "            # Create a group for purchaser domains paired with a distinct recipient domain\n",
        "            df_train.purch_domain_name != df_train.recip_domain_name,\n",
        "            # If domains match and in our most common domains \n",
        "            df_train.purch_domain_name.isin(top_95pct_purch_domains)\n",
        "            ], \n",
        "        choicelist = [\n",
        "            'Recipient or Both Blank',\n",
        "            'Just Purchaser Blank',\n",
        "            'Purchaser and Recipient Differ',\n",
        "            'Purchaser and Recipient Same: ' + df_train.purch_domain_name\n",
        "            ],\n",
        "        default='Purchaser and Recipient Same: other domain'\n",
        "    )\n",
        "\n",
        "    # Do the same as above, but for the test set\n",
        "    custom_domain_grouping_test = np.select(\n",
        "        condlist = [\n",
        "            df_test.R_emaildomain.isnull(),\n",
        "            df_test.P_emaildomain.isnull(),\n",
        "            df_test.purch_domain_name != df_test.recip_domain_name,\n",
        "            df_test.purch_domain_name.isin(top_95pct_purch_domains)\n",
        "            ], \n",
        "        choicelist = [\n",
        "            'Recipient or Both Blank',\n",
        "            'Just Purchaser Blank',\n",
        "            'Purchaser and Recipient Differ',\n",
        "            'Purchaser and Recipient Same: ' + df_test.purch_domain_name\n",
        "            ],\n",
        "        default='Purchaser and Recipient Same: other domain'\n",
        "    )\n",
        "\n",
        "    return custom_domain_grouping_train, custom_domain_grouping_test\n",
        "\n",
        "train['custom_domain_grouping'], test['custom_domain_grouping'] = get_custom_domain_grouping(train, test)"
      ]
    },
    {
      "cell_type": "markdown",
      "metadata": {
        "id": "uP5Wzct3IDEB"
      },
      "source": [
        "### 3. Feature Engineering: Whether Currency has More than Two Decimals"
      ]
    },
    {
      "cell_type": "code",
      "execution_count": 8,
      "metadata": {
        "id": "kntcXvbVIDEC"
      },
      "outputs": [],
      "source": [
        "def txn_usd_convert(amt):\n",
        "    return np.float16(-Decimal(str(amt)).as_tuple().exponent > 2)\n",
        "\n",
        "train['Transaction_curr_type'] = train['TransactionAmt'].apply(txn_usd_convert)\n",
        "test['Transaction_curr_type'] = test['TransactionAmt'].apply(txn_usd_convert)"
      ]
    },
    {
      "cell_type": "markdown",
      "metadata": {
        "id": "1lVYyGMlIDED"
      },
      "source": [
        "### 4. Feature Engineering: User ID"
      ]
    },
    {
      "cell_type": "code",
      "execution_count": 9,
      "metadata": {
        "id": "qMngouKQIDED"
      },
      "outputs": [],
      "source": [
        "train['uid'] = train['ProductCD'].astype(str) + '_' + \\\n",
        "  train['card1'].astype(str) + '_' + \\\n",
        "  train['card4'].astype(str) + '_' + \\\n",
        "  train['card6'].astype(str) + '_' + \\\n",
        "  train['addr1'].astype(str) + '_' + \\\n",
        "  train['dist1'].astype(str) + '_' + \\\n",
        "  train['dist2'].astype(str) + '_' + \\\n",
        "  train['P_emaildomain'].astype(str) + '_' + \\\n",
        "  train['C13'].astype(str)\n",
        "train['uid'] = train['uid'].apply(lambda x: hash(x))\n",
        "\n",
        "test['uid'] = test['ProductCD'].astype(str) + '_' + \\\n",
        "  test['card1'].astype(str) + '_' + \\\n",
        "  test['card4'].astype(str) + '_' + \\\n",
        "  test['card6'].astype(str) + '_' + \\\n",
        "  test['addr1'].astype(str) + '_' + \\\n",
        "  test['dist1'].astype(str) + '_' + \\\n",
        "  test['dist2'].astype(str) + '_' + \\\n",
        "  test['P_emaildomain'].astype(str) + '_' + \\\n",
        "  test['C13'].astype(str)\n",
        "  \n",
        "test['uid'] = test['uid'].apply(lambda x: hash(x))"
      ]
    },
    {
      "cell_type": "code",
      "execution_count": 11,
      "metadata": {
        "id": "B55pAr4-17NV"
      },
      "outputs": [],
      "source": [
        "train = train.merge(train_id, how='left', on='TransactionID')\n",
        "train1 = train[train['id_01'].isnull()]\n",
        "train1 = train1.iloc[:,:-39]\n",
        "train2 = train[~train['id_01'].isnull()]\n",
        "train3 = train2.iloc[:,-41:].drop_duplicates(subset=['uid'])\n",
        "train1 = train1.merge(train3, how='left', on='uid')\n",
        "train = pd.concat([train1, train2])\n",
        "del train1, train2, train3\n",
        "train = train.sort_values(\"TransactionID\",ascending=True)"
      ]
    },
    {
      "cell_type": "code",
      "execution_count": 14,
      "metadata": {
        "id": "lDS7jfOS2x2J"
      },
      "outputs": [],
      "source": [
        "test = test.merge(test_id, how='left', on='TransactionID')\n",
        "test1 = test[test['id_01'].isnull()]\n",
        "test1 = test1.iloc[:,:-39]\n",
        "test2 = test[~test['id_01'].isnull()]\n",
        "test3 = test2.iloc[:,-41:].drop_duplicates(subset=['uid'])\n",
        "test1 = test1.merge(test3, how='left', on='uid')\n",
        "test = pd.concat([test1, test2])\n",
        "del test1, test2, test3\n",
        "test = test.sort_values(\"TransactionID\",ascending=True)"
      ]
    },
    {
      "cell_type": "markdown",
      "metadata": {
        "id": "GkyNECDLIDEE"
      },
      "source": [
        "## E. Group the Columns"
      ]
    },
    {
      "cell_type": "code",
      "execution_count": 15,
      "metadata": {
        "id": "ya_znPpIIDEE"
      },
      "outputs": [],
      "source": [
        "# Transaction payment amount in USD\n",
        "features_num_amt = train[['TransactionAmt']].columns\n",
        "\n",
        "# Date and time of transactions\n",
        "features_num_dt = train[['TransactionDT']].columns\n",
        "\n",
        "# Distance measures between two masked points\n",
        "features_num_dist = train.filter(regex='^dist').columns\n",
        "\n",
        "# Various (masked) counts, e.g. how many addresses associated with payment card\n",
        "features_num_C = train.filter(regex='^C').columns\n",
        "\n",
        "# Various (masked) timedeltas, e.g. days between previous transactions\n",
        "features_num_D = train.filter(regex='^D[0-9]').columns\n",
        "\n",
        "# Various (masked) Vesta engineered rich features\n",
        "features_num_V = train.filter(regex='^V').columns\n",
        "\n",
        "# uid\n",
        "features_uid = train[['uid']].columns\n",
        "\n",
        "features_id_num = ['id_01', 'id_02', 'id_03', 'id_04', 'id_05', 'id_06',\n",
        "       'id_07', 'id_08', 'id_09', 'id_10', 'id_11', 'id_13', 'id_14',\n",
        "       'id_17', 'id_18', 'id_19', 'id_20', 'id_21', 'id_22',\n",
        "       'id_24', 'id_25', 'id_26', ]\n",
        "\n",
        "features_num = (\n",
        "    features_num_amt\n",
        "    .union(features_num_dt)\n",
        "    .union(features_num_dist)\n",
        "    .union(features_num_C)\n",
        "    .union(features_num_D)\n",
        "    .union(features_num_V)\n",
        "    .union(features_uid)\n",
        "    .union(features_id_num)\n",
        ")"
      ]
    },
    {
      "cell_type": "code",
      "execution_count": 16,
      "metadata": {
        "id": "k8XSI1p9IDEF"
      },
      "outputs": [],
      "source": [
        "# Product code for the product associated with the transaction\n",
        "features_cat_CD = train[['ProductCD']].columns\n",
        "\n",
        "# Payment card information, such as card type, card category, issue bank, country\n",
        "# features_cat_card = train.filter(regex='^card').columns\n",
        "features_cat_card4 = train.filter(regex='^card4').columns\n",
        "features_cat_card6 = train.filter(regex='^card6').columns\n",
        "\n",
        "# Address (unspecified)\n",
        "features_cat_addr = train.filter(regex='^addr').columns\n",
        "\n",
        "# Purchaser and recipient email domains\n",
        "features_cat_domain = train[['custom_domain_grouping']].columns\n",
        "\n",
        "# Various matches (masked), e.g. names on card and addresses\n",
        "features_cat_M = train.filter(regex='^M').columns\n",
        "\n",
        "# New feature - whether the transaction amount had more than 2 decimal places\n",
        "features_cat_curr_type = train[['Transaction_curr_type']].columns\n",
        "\n",
        "features_id = ['id_12', 'id_15', 'id_16', 'id_23', 'id_27', 'id_28', 'id_29', 'id_30',\n",
        "       'id_31', 'id_32', 'id_34', 'id_35', 'id_36', 'id_37', 'id_38',]\n",
        "features_device = train.filter(regex='^Device').columns\n",
        "\n",
        "features_cat = (\n",
        "    features_cat_CD\n",
        "    # .union(features_cat_card)\n",
        "    .union(features_cat_card4)\n",
        "    .union(features_cat_card6)\n",
        "    .union(features_cat_addr)\n",
        "    .union(features_cat_domain)\n",
        "    .union(features_cat_M)\n",
        "    .union(features_cat_curr_type)\n",
        "    .union(features_id)\n",
        "    #.union(features_device)\n",
        ")"
      ]
    },
    {
      "cell_type": "code",
      "execution_count": 17,
      "metadata": {
        "colab": {
          "base_uri": "https://localhost:8080/"
        },
        "id": "7vbj20aRIDEG",
        "outputId": "8e42f847-aa37-424d-8170-8990132b8629"
      },
      "outputs": [
        {
          "name": "stdout",
          "output_type": "stream",
          "text": [
            "We start with 426 available features: 395 numeric and 31 categorical.\n"
          ]
        }
      ],
      "source": [
        "# Define the sets of features used, by variable type \n",
        "features = features_num.union(features_cat)\n",
        "\n",
        "# Define our ID column and target\n",
        "id = train[['TransactionID']].columns\n",
        "target = train[['isFraud']].columns\n",
        "\n",
        "# Select relevant columns\n",
        "train = train[target.union(features)]\n",
        "test = test[features]\n",
        "\n",
        "print(f'We start with {len(features)} available features: {len(features_num)} numeric and {len(features_cat)} categorical.')"
      ]
    },
    {
      "cell_type": "markdown",
      "metadata": {
        "id": "L-Gx0_YaIDEH"
      },
      "source": [
        "# II. Data Preparation"
      ]
    },
    {
      "cell_type": "markdown",
      "metadata": {
        "id": "G5cQurG6IDEI"
      },
      "source": [
        "## A. Split Data into Train and Validation"
      ]
    },
    {
      "cell_type": "code",
      "execution_count": 18,
      "metadata": {
        "id": "hcgND41GIDEI"
      },
      "outputs": [],
      "source": [
        "# Save 30% of the training data for validation\n",
        "training, validation = train_test_split(train, test_size=0.3, random_state=1)\n",
        "\n",
        "# With the remaining 70% in the training set, downsample the majority class\n",
        "training = (\n",
        "    training\n",
        "    .groupby('isFraud')\n",
        "    .sample(\n",
        "        n=sum(training.isFraud == 1),\n",
        "        random_state=1\n",
        "    )\n",
        ")\n",
        "\n",
        "# Separate the features from the label\n",
        "y_train = training[['isFraud']]\n",
        "y_val = validation[['isFraud']]\n",
        "X_train = training[features]\n",
        "X_val = validation[features]\n",
        "\n",
        "# Drop unneeded DataFrames\n",
        "del training, validation"
      ]
    },
    {
      "cell_type": "markdown",
      "metadata": {
        "id": "BQL33Es_IDEJ"
      },
      "source": [
        "## B. Preprocessing Numeric Values\n",
        "\n",
        "Apply Min-Max normalization and replace missing values for all numeric features in training, validation, and test sets"
      ]
    },
    {
      "cell_type": "code",
      "execution_count": 19,
      "metadata": {
        "id": "5EYWqtkFIDEJ"
      },
      "outputs": [],
      "source": [
        "def replace_na_and_normalize(df, cols=features_num):\n",
        "    return (df[cols]\n",
        "        .apply(lambda var: var.fillna(var.min() - 2))\n",
        "        .apply(minmax_scale, feature_range=(0,1))\n",
        "    )\n",
        "\n",
        "X_train[features_num] = replace_na_and_normalize(X_train)\n",
        "X_val[features_num] = replace_na_and_normalize(X_val)\n",
        "test[features_num] = replace_na_and_normalize(test)"
      ]
    },
    {
      "cell_type": "markdown",
      "metadata": {
        "id": "EyIOuVY8IDEK"
      },
      "source": [
        "## C. Preprocessing Categorical Values\n",
        "\n",
        "Replace raw categorical features with one-hot encoding values"
      ]
    },
    {
      "cell_type": "code",
      "execution_count": 20,
      "metadata": {
        "id": "plBLWs6eX6Xl"
      },
      "outputs": [],
      "source": [
        "sys_dict = {'Android':'Android', \n",
        "'Android 4.4.2':'Android', \n",
        "'Android 5.0':'Android', \n",
        "'Android 5.0.2':'Android', \n",
        "'Android 5.1.1':'Android', \n",
        "'Android 6.0':'Android', \n",
        "'Android 6.0.1':'Android', \n",
        "'Android 7.0':'Android', \n",
        "'Android 7.1.1':'Android', \n",
        "'Android 7.1.2':'Android', \n",
        "'Android 8.0.0':'Android', \n",
        "'Android 8.1.0':'Android', \n",
        "'Android 9':'Android', \n",
        "'func':'func', \n",
        "'iOS':'iOS', \n",
        "'iOS 10.0.2':'iOS', \n",
        "'iOS 10.1.1':'iOS', \n",
        "'iOS 10.2.0':'iOS', \n",
        "'iOS 10.2.1':'iOS', \n",
        "'iOS 10.3.1':'iOS', \n",
        "'iOS 10.3.2':'iOS', \n",
        "'iOS 10.3.3':'iOS', \n",
        "'iOS 11.0.0':'iOS', \n",
        "'iOS 11.0.1':'iOS', \n",
        "'iOS 11.0.2':'iOS', \n",
        "'iOS 11.0.3':'iOS', \n",
        "'iOS 11.1.0':'iOS', \n",
        "'iOS 11.1.1':'iOS', \n",
        "'iOS 11.1.2':'iOS', \n",
        "'iOS 11.2.0':'iOS', \n",
        "'iOS 11.2.1':'iOS', \n",
        "'iOS 11.2.2':'iOS', \n",
        "'iOS 11.2.5':'iOS', \n",
        "'iOS 11.2.6':'iOS', \n",
        "'iOS 11.3.0':'iOS', \n",
        "'iOS 11.3.1':'iOS', \n",
        "'iOS 11.4.0':'iOS', \n",
        "'iOS 11.4.1':'iOS', \n",
        "'iOS 12.0.0':'iOS', \n",
        "'iOS 12.0.1':'iOS', \n",
        "'iOS 12.1.0':'iOS', \n",
        "'iOS 12.1.1':'iOS', \n",
        "'iOS 12.1.2':'iOS', \n",
        "'iOS 9.3.5':'iOS', \n",
        "'Linux':'Linux', \n",
        "'Mac':'Mac', \n",
        "'Mac OS X 10.10':'Mac', \n",
        "'Mac OS X 10.11':'Mac', \n",
        "'Mac OS X 10.12':'Mac', \n",
        "'Mac OS X 10.13':'Mac', \n",
        "'Mac OS X 10.14':'Mac', \n",
        "'Mac OS X 10.6':'Mac', \n",
        "'Mac OS X 10.9':'Mac', \n",
        "'Mac OS X 10_10_5':'Mac', \n",
        "'Mac OS X 10_11_3':'Mac', \n",
        "'Mac OS X 10_11_4':'Mac', \n",
        "'Mac OS X 10_11_5':'Mac', \n",
        "'Mac OS X 10_11_6':'Mac', \n",
        "'Mac OS X 10_12':'Mac', \n",
        "'Mac OS X 10_12_1':'Mac', \n",
        "'Mac OS X 10_12_2':'Mac', \n",
        "'Mac OS X 10_12_3':'Mac', \n",
        "'Mac OS X 10_12_4':'Mac', \n",
        "'Mac OS X 10_12_5':'Mac', \n",
        "'Mac OS X 10_12_6':'Mac', \n",
        "'Mac OS X 10_13_1':'Mac', \n",
        "'Mac OS X 10_13_2':'Mac', \n",
        "'Mac OS X 10_13_3':'Mac', \n",
        "'Mac OS X 10_13_4':'Mac', \n",
        "'Mac OS X 10_13_5':'Mac', \n",
        "'Mac OS X 10_13_6':'Mac', \n",
        "'Mac OS X 10_14':'Mac', \n",
        "'Mac OS X 10_14_0':'Mac', \n",
        "'Mac OS X 10_14_1':'Mac', \n",
        "'Mac OS X 10_14_2':'Mac', \n",
        "'Mac OS X 10_6_8':'Mac', \n",
        "'Mac OS X 10_7_5':'Mac', \n",
        "'Mac OS X 10_8_5':'Mac', \n",
        "'Mac OS X 10_9_5':'Mac', \n",
        "'other':'other', \n",
        "'Windows':'Windows', \n",
        "'Windows 10':'Windows', \n",
        "'Windows 7':'Windows', \n",
        "'Windows 8':'Windows', \n",
        "'Windows 8.1':'Windows', \n",
        "'Windows Vista':'Windows', \n",
        "'Windows XP':'Windows', }"
      ]
    },
    {
      "cell_type": "code",
      "execution_count": 21,
      "metadata": {
        "id": "cfTe46g5i30y"
      },
      "outputs": [],
      "source": [
        "browser_dict = {'android':'android', \n",
        "'android browser 4.0':'android', \n",
        "'android webview 4.0':'android', \n",
        "'aol':'aol', \n",
        "'blackberry':'blackberry', \n",
        "'Cherry':'Cherry', \n",
        "'chrome':'chrome', \n",
        "'chrome 39.0 for android':'chrome', \n",
        "'chrome 43.0 for android':'chrome', \n",
        "'chrome 46.0 for android':'chrome', \n",
        "'chrome 49.0':'chrome', \n",
        "'chrome 49.0 for android':'chrome', \n",
        "'chrome 50.0 for android':'chrome', \n",
        "'chrome 51.0':'chrome', \n",
        "'chrome 51.0 for android':'chrome', \n",
        "'chrome 52.0 for android':'chrome', \n",
        "'chrome 53.0 for android':'chrome', \n",
        "'chrome 54.0 for android':'chrome', \n",
        "'chrome 55.0':'chrome', \n",
        "'chrome 55.0 for android':'chrome', \n",
        "'chrome 56.0':'chrome', \n",
        "'chrome 56.0 for android':'chrome', \n",
        "'chrome 57.0':'chrome', \n",
        "'chrome 57.0 for android':'chrome', \n",
        "'chrome 58.0':'chrome', \n",
        "'chrome 58.0 for android':'chrome', \n",
        "'chrome 59.0':'chrome', \n",
        "'chrome 59.0 for android':'chrome', \n",
        "'chrome 60.0':'chrome', \n",
        "'chrome 60.0 for android':'chrome', \n",
        "'chrome 61.0':'chrome', \n",
        "'chrome 61.0 for android':'chrome', \n",
        "'chrome 62.0':'chrome', \n",
        "'chrome 62.0 for android':'chrome', \n",
        "'chrome 62.0 for ios':'chrome', \n",
        "'chrome 63.0':'chrome', \n",
        "'chrome 63.0 for android':'chrome', \n",
        "'chrome 63.0 for ios':'chrome', \n",
        "'chrome 64.0':'chrome', \n",
        "'chrome 64.0 for android':'chrome', \n",
        "'chrome 64.0 for ios':'chrome', \n",
        "'chrome 65.0':'chrome', \n",
        "'chrome 65.0 for android':'chrome', \n",
        "'chrome 65.0 for ios':'chrome', \n",
        "'chrome 66.0':'chrome', \n",
        "'chrome 66.0 for android':'chrome', \n",
        "'chrome 66.0 for ios':'chrome', \n",
        "'chrome 67.0':'chrome', \n",
        "'chrome 67.0 for android':'chrome', \n",
        "'chrome 67.0 for ios':'chrome', \n",
        "'chrome 68.0':'chrome', \n",
        "'chrome 68.0 for android':'chrome', \n",
        "'chrome 68.0 for ios':'chrome', \n",
        "'chrome 69.0':'chrome', \n",
        "'chrome 69.0 for android':'chrome', \n",
        "'chrome 69.0 for ios':'chrome', \n",
        "'chrome 70.0':'chrome', \n",
        "'chrome 70.0 for android':'chrome', \n",
        "'chrome 70.0 for ios':'chrome', \n",
        "'chrome 71.0':'chrome', \n",
        "'chrome 71.0 for android':'chrome', \n",
        "'chrome 71.0 for ios':'chrome', \n",
        "'chrome generic':'chrome', \n",
        "'chrome generic for android':'chrome', \n",
        "'comodo':'comodo', \n",
        "'cyberfox':'cyberfox', \n",
        "'edge':'edge', \n",
        "'edge 13.0':'edge', \n",
        "'edge 14.0':'edge', \n",
        "'edge 15.0':'edge', \n",
        "'edge 16.0':'edge', \n",
        "'edge 17.0':'edge', \n",
        "'edge 18.0':'edge', \n",
        "'facebook':'facebook', \n",
        "'firefox':'firefox', \n",
        "'firefox 47.0':'firefox', \n",
        "'firefox 48.0':'firefox', \n",
        "'firefox 52.0':'firefox', \n",
        "'firefox 55.0':'firefox', \n",
        "'firefox 56.0':'firefox', \n",
        "'firefox 57.0':'firefox', \n",
        "'firefox 58.0':'firefox', \n",
        "'firefox 59.0':'firefox', \n",
        "'firefox 60.0':'firefox', \n",
        "'firefox 61.0':'firefox', \n",
        "'firefox 62.0':'firefox', \n",
        "'firefox 63.0':'firefox', \n",
        "'firefox 64.0':'firefox', \n",
        "'firefox generic':'firefox', \n",
        "'firefox mobile 61.0':'firefox', \n",
        "'firefox mobile 62.0':'firefox', \n",
        "'firefox mobile 63.0':'firefox', \n",
        "'Generic/Android':'Generic', \n",
        "'Generic/Android 7.0':'Generic', \n",
        "'google':'google', \n",
        "'google search application 48.0':'google', \n",
        "'google search application 49.0':'google', \n",
        "'google search application 52.0':'google', \n",
        "'google search application 54.0':'google', \n",
        "'google search application 56.0':'google', \n",
        "'google search application 58.0':'google', \n",
        "'google search application 59.0':'google', \n",
        "'google search application 60.0':'google', \n",
        "'google search application 61.0':'google', \n",
        "'google search application 62.0':'google', \n",
        "'google search application 63.0':'google', \n",
        "'google search application 64.0':'google', \n",
        "'google search application 65.0':'google', \n",
        "'icedragon':'icedragon', \n",
        "'ie':'ie', \n",
        "'ie 11.0 for desktop':'ie', \n",
        "'ie 11.0 for tablet':'ie', \n",
        "'Lanix/Ilium':'Lanix', \n",
        "'line':'line', \n",
        "'maxthon':'maxthon', \n",
        "'Microsoft/Windows':'Microsoft', \n",
        "'mobile':'mobile', \n",
        "'mobile safari 10.0':'mobile', \n",
        "'mobile safari 11.0':'mobile', \n",
        "'mobile safari 12.0':'mobile', \n",
        "'mobile safari 8.0':'mobile', \n",
        "'mobile safari 9.0':'mobile', \n",
        "'mobile safari generic':'mobile', \n",
        "'mobile safari uiwebview':'mobile', \n",
        "'Mozilla/Firefox':'Mozilla', \n",
        "'opera':'opera', \n",
        "'opera 49.0':'opera', \n",
        "'opera 51.0':'opera', \n",
        "'opera 52.0':'opera', \n",
        "'opera 53.0':'opera', \n",
        "'opera 54.0':'opera', \n",
        "'opera 55.0':'opera', \n",
        "'opera 56.0':'opera', \n",
        "'opera generic':'opera', \n",
        "'other':'other', \n",
        "'palemoon':'palemoon', \n",
        "'puffin':'puffin', \n",
        "'rim':'rim', \n",
        "'safari':'safari', \n",
        "'safari 10.0':'safari', \n",
        "'safari 11.0':'safari', \n",
        "'safari 12.0':'safari', \n",
        "'safari 9.0':'safari', \n",
        "'safari generic':'safari', \n",
        "'samsung':'samsung', \n",
        "'samsung browser 3.3':'samsung', \n",
        "'samsung browser 4.0':'samsung', \n",
        "'samsung browser 4.2':'samsung', \n",
        "'samsung browser 5.2':'samsung', \n",
        "'samsung browser 5.4':'samsung', \n",
        "'samsung browser 6.2':'samsung', \n",
        "'samsung browser 6.4':'samsung', \n",
        "'samsung browser 7.0':'samsung', \n",
        "'samsung browser 7.2':'samsung', \n",
        "'samsung browser 7.4':'samsung', \n",
        "'samsung browser 8.2':'samsung', \n",
        "'samsung browser generic':'samsung', \n",
        "'Samsung/SCH':'Samsung', \n",
        "'Samsung/SM-G531H':'Samsung', \n",
        "'Samsung/SM-G532M':'Samsung', \n",
        "'seamonkey':'seamonkey', \n",
        "'silk':'silk', \n",
        "'uc':'uc', \n",
        "'ZTE/Blade':'ZTE', \n",
        "}"
      ]
    },
    {
      "cell_type": "code",
      "execution_count": 22,
      "metadata": {
        "id": "IIzQZKuKX6eb"
      },
      "outputs": [],
      "source": [
        "X_train = X_train.replace({\"id_30\": sys_dict})\n",
        "X_train = X_train.replace({\"id_31\": browser_dict})\n",
        "#X_train = X_train.drop('id_33', axis=1)\n",
        "\n",
        "X_val = X_val.replace({\"id_30\": sys_dict})\n",
        "X_val = X_val.replace({\"id_31\": browser_dict})\n",
        "#X_val = X_val.drop('id_33', axis=1)\n",
        "\n",
        "test = test.replace({\"id_30\": sys_dict})\n",
        "test = test.replace({\"id_31\": browser_dict})\n",
        "#test = test.drop('id_33', axis=1)"
      ]
    },
    {
      "cell_type": "code",
      "execution_count": 23,
      "metadata": {
        "id": "1lnN1L6HIDEK"
      },
      "outputs": [],
      "source": [
        "concat = pd.concat([X_train, X_val, test])\n",
        "\n",
        "def get_one_hot_encoding(df, feature):\n",
        "    # Instantiate the transformer\n",
        "    ohe = OneHotEncoder(handle_unknown = 'ignore')\n",
        "\n",
        "    # Stack all datasets to get all unique categories observed\n",
        "    categories = concat[[feature]]\n",
        "\n",
        "    # Fit the transformer with the observed classes\n",
        "    ohe.fit(categories)\n",
        "\n",
        "    # Create a sparse array with one binary vector per category\n",
        "    transformed_array = ohe.transform(df[[feature]]).toarray()\n",
        "\n",
        "    # Turn the transformed array into a DataFrame and assign names\n",
        "    transformed_ndarray = pd.DataFrame(\n",
        "        transformed_array,\n",
        "        columns=ohe.get_feature_names_out(),\n",
        "        index=df.index\n",
        "    ).astype(np.float16)\n",
        "\n",
        "    return transformed_ndarray"
      ]
    },
    {
      "cell_type": "code",
      "execution_count": 24,
      "metadata": {
        "id": "dJqusBW5IDEK"
      },
      "outputs": [],
      "source": [
        "def replace_raw_cats_with_one_hots(df, cols=features_cat):\n",
        "    # Initialize a placeholder list\n",
        "    tmp_list = []\n",
        "\n",
        "    # For each variable in our categorical features, get one-hot encoding matrix\n",
        "    for var in features_cat:\n",
        "        tmp_list.append(get_one_hot_encoding(df, var))\n",
        "\n",
        "    # Convert list of DataFrames into one DataFrame of several sparse matrices\n",
        "    tmp_df = pd.concat(tmp_list, axis=1)\n",
        "\n",
        "    # Drop the raw categorical variables and replace with sparce matrices\n",
        "    new_df = pd.concat([df.drop(features_cat, axis=1), tmp_df], axis=1)\n",
        "    \n",
        "    return new_df"
      ]
    },
    {
      "cell_type": "code",
      "execution_count": 25,
      "metadata": {
        "id": "Xe913Na4IDEL"
      },
      "outputs": [],
      "source": [
        "# Carry out the one-hot encoding functions above for each data set\n",
        "X_train = replace_raw_cats_with_one_hots(X_train)\n",
        "X_val = replace_raw_cats_with_one_hots(X_val)\n",
        "test = replace_raw_cats_with_one_hots(test)"
      ]
    },
    {
      "cell_type": "markdown",
      "metadata": {
        "id": "MjnIW2VNIDEL"
      },
      "source": [
        "# III. Fitting a Model"
      ]
    },
    {
      "cell_type": "code",
      "execution_count": 78,
      "metadata": {
        "id": "R2AiS8qhIDEM"
      },
      "outputs": [],
      "source": [
        "HIDDEN_LAYER_SIZES = [1024, 512, 256, 128]\n",
        "HL_ACTIVATION = 'relu'\n",
        "LEARNING_RATE = 0.0005\n",
        "OPTIMIZER = tf.keras.optimizers.Adam(learning_rate=LEARNING_RATE)\n",
        "LAMBDA = 0.05\n",
        "DROPOUT_RATE = 0.2\n",
        "NUM_EPOCHS = 64\n",
        "BATCH_SIZE = 1024\n",
        "VALIDATION_SPLIT = 0.1"
      ]
    },
    {
      "cell_type": "code",
      "execution_count": 79,
      "metadata": {
        "id": "IdFvoYHapZ7m"
      },
      "outputs": [],
      "source": [
        "tf.keras.backend.clear_session()"
      ]
    },
    {
      "cell_type": "code",
      "execution_count": 80,
      "metadata": {
        "id": "FNFQsY0JIDEM"
      },
      "outputs": [],
      "source": [
        "def build_model():\n",
        "  i=0\n",
        "  #tf.keras.backend.clear_session()\n",
        "  np.random.seed(0)\n",
        "  tf.random.set_seed(0)\n",
        "  # INPUT LAYER\n",
        "  model = tf.keras.Sequential()\n",
        "  # HIDDEN LAYERS\n",
        "  for hidden_layer_size in HIDDEN_LAYER_SIZES:\n",
        "    if i == 0:\n",
        "      model.add(tf.keras.layers.Dense(\n",
        "        units=hidden_layer_size, activation=HL_ACTIVATION, name=f'dense_{i}'\n",
        "      ))\n",
        "    else:\n",
        "      model.add(tf.keras.layers.Dense(\n",
        "        units=hidden_layer_size, activation=HL_ACTIVATION, name=f'dense_{i}',\n",
        "        kernel_regularizer=tf.keras.regularizers.L2(l2=LAMBDA)\n",
        "      ))\n",
        "    model.add(tf.keras.layers.BatchNormalization(name=f'batch_norm_{i}'))\n",
        "    model.add(tf.keras.layers.Dropout(DROPOUT_RATE, name=f'dropout_{i}'))\n",
        "    i+=1\n",
        "  # OUTPUT LAYER\n",
        "  model.add(tf.keras.layers.Dense(units=1, use_bias=True, activation='sigmoid'))\n",
        "  model.compile(\n",
        "    loss='binary_crossentropy', \n",
        "    optimizer=OPTIMIZER, \n",
        "    metrics=[\n",
        "      tf.keras.metrics.AUC(name='auc'),\n",
        "      tf.keras.metrics.Precision(name='pre'),\n",
        "      tf.keras.metrics.Recall(name='rec'),\n",
        "      ]\n",
        "  ) \n",
        "  return model"
      ]
    },
    {
      "cell_type": "code",
      "execution_count": 81,
      "metadata": {
        "colab": {
          "base_uri": "https://localhost:8080/",
          "height": 1000
        },
        "id": "ARiojqBTMTc7",
        "outputId": "ad7c26c9-e1a7-4681-8b7d-6f85c64e5d8a"
      },
      "outputs": [
        {
          "name": "stdout",
          "output_type": "stream",
          "text": [
            "Training...\n",
            "Epoch 1/64\n",
            "26/26 [==============================] - 4s 70ms/step - loss: 48.4928 - auc: 0.7462 - pre: 0.6442 - rec: 0.6412 - val_loss: 36.7682 - val_auc: 0.0000e+00 - val_pre: 1.0000 - val_rec: 0.0131\n",
            "Epoch 2/64\n",
            "26/26 [==============================] - 1s 38ms/step - loss: 28.6420 - auc: 0.8059 - pre: 0.7219 - rec: 0.6647 - val_loss: 21.6055 - val_auc: 0.0000e+00 - val_pre: 0.0000e+00 - val_rec: 0.0000e+00\n",
            "Epoch 3/64\n",
            "26/26 [==============================] - 1s 39ms/step - loss: 16.6371 - auc: 0.8224 - pre: 0.7393 - rec: 0.6738 - val_loss: 12.7875 - val_auc: 0.0000e+00 - val_pre: 0.0000e+00 - val_rec: 0.0000e+00\n",
            "Epoch 4/64\n",
            "26/26 [==============================] - 1s 38ms/step - loss: 9.7610 - auc: 0.8334 - pre: 0.7512 - rec: 0.6867 - val_loss: 7.7945 - val_auc: 0.0000e+00 - val_pre: 0.0000e+00 - val_rec: 0.0000e+00\n",
            "Epoch 5/64\n",
            "26/26 [==============================] - 1s 38ms/step - loss: 5.8606 - auc: 0.8414 - pre: 0.7625 - rec: 0.6926 - val_loss: 4.9730 - val_auc: 0.0000e+00 - val_pre: 0.0000e+00 - val_rec: 0.0000e+00\n",
            "Epoch 6/64\n",
            "26/26 [==============================] - 1s 38ms/step - loss: 3.6427 - auc: 0.8496 - pre: 0.7741 - rec: 0.6958 - val_loss: 3.3489 - val_auc: 0.0000e+00 - val_pre: 0.0000e+00 - val_rec: 0.0000e+00\n",
            "Epoch 7/64\n",
            "26/26 [==============================] - 1s 38ms/step - loss: 2.3814 - auc: 0.8543 - pre: 0.7783 - rec: 0.7042 - val_loss: 2.4664 - val_auc: 0.0000e+00 - val_pre: 0.0000e+00 - val_rec: 0.0000e+00\n",
            "Epoch 8/64\n",
            "26/26 [==============================] - 1s 38ms/step - loss: 1.6400 - auc: 0.8627 - pre: 0.7931 - rec: 0.7082 - val_loss: 1.9287 - val_auc: 0.0000e+00 - val_pre: 0.0000e+00 - val_rec: 0.0000e+00\n",
            "Epoch 9/64\n",
            "26/26 [==============================] - 1s 38ms/step - loss: 1.1974 - auc: 0.8655 - pre: 0.7923 - rec: 0.7124 - val_loss: 1.6358 - val_auc: 0.0000e+00 - val_pre: 0.0000e+00 - val_rec: 0.0000e+00\n",
            "Epoch 10/64\n",
            "26/26 [==============================] - 1s 37ms/step - loss: 0.9199 - auc: 0.8749 - pre: 0.8063 - rec: 0.7171 - val_loss: 1.4001 - val_auc: 0.0000e+00 - val_pre: 0.0000e+00 - val_rec: 0.0000e+00\n",
            "Epoch 11/64\n",
            "26/26 [==============================] - 1s 38ms/step - loss: 0.7626 - auc: 0.8762 - pre: 0.8125 - rec: 0.7193 - val_loss: 1.2743 - val_auc: 0.0000e+00 - val_pre: 1.0000 - val_rec: 0.0024\n",
            "Epoch 12/64\n",
            "26/26 [==============================] - 1s 38ms/step - loss: 0.6535 - auc: 0.8820 - pre: 0.8132 - rec: 0.7244 - val_loss: 1.1784 - val_auc: 0.0000e+00 - val_pre: 1.0000 - val_rec: 0.0041\n",
            "Epoch 13/64\n",
            "26/26 [==============================] - 1s 38ms/step - loss: 0.5920 - auc: 0.8835 - pre: 0.8136 - rec: 0.7324 - val_loss: 1.0711 - val_auc: 0.0000e+00 - val_pre: 1.0000 - val_rec: 0.0248\n",
            "Epoch 14/64\n",
            "26/26 [==============================] - 1s 38ms/step - loss: 0.5420 - auc: 0.8880 - pre: 0.8154 - rec: 0.7460 - val_loss: 1.0232 - val_auc: 0.0000e+00 - val_pre: 1.0000 - val_rec: 0.0386\n",
            "Epoch 15/64\n",
            "26/26 [==============================] - 1s 38ms/step - loss: 0.5084 - auc: 0.8916 - pre: 0.8234 - rec: 0.7448 - val_loss: 0.9572 - val_auc: 0.0000e+00 - val_pre: 1.0000 - val_rec: 0.0475\n",
            "Epoch 16/64\n",
            "26/26 [==============================] - 1s 38ms/step - loss: 0.4876 - auc: 0.8946 - pre: 0.8255 - rec: 0.7445 - val_loss: 0.8946 - val_auc: 0.0000e+00 - val_pre: 1.0000 - val_rec: 0.1081\n",
            "Epoch 17/64\n",
            "26/26 [==============================] - 1s 38ms/step - loss: 0.4740 - auc: 0.8961 - pre: 0.8231 - rec: 0.7559 - val_loss: 0.9666 - val_auc: 0.0000e+00 - val_pre: 1.0000 - val_rec: 0.0913\n",
            "Epoch 18/64\n",
            "26/26 [==============================] - 1s 38ms/step - loss: 0.4615 - auc: 0.9003 - pre: 0.8353 - rec: 0.7517 - val_loss: 0.8502 - val_auc: 0.0000e+00 - val_pre: 1.0000 - val_rec: 0.3034\n",
            "Epoch 19/64\n",
            "26/26 [==============================] - 1s 38ms/step - loss: 0.4565 - auc: 0.9026 - pre: 0.8318 - rec: 0.7596 - val_loss: 0.8128 - val_auc: 0.0000e+00 - val_pre: 1.0000 - val_rec: 0.4160\n",
            "Epoch 20/64\n",
            "26/26 [==============================] - 1s 38ms/step - loss: 0.4468 - auc: 0.9054 - pre: 0.8398 - rec: 0.7541 - val_loss: 0.7590 - val_auc: 0.0000e+00 - val_pre: 1.0000 - val_rec: 0.4914\n",
            "Epoch 21/64\n",
            "26/26 [==============================] - 1s 38ms/step - loss: 0.4470 - auc: 0.9053 - pre: 0.8381 - rec: 0.7569 - val_loss: 0.6102 - val_auc: 0.0000e+00 - val_pre: 1.0000 - val_rec: 0.6612\n",
            "Epoch 22/64\n",
            "26/26 [==============================] - 1s 37ms/step - loss: 0.4401 - auc: 0.9097 - pre: 0.8408 - rec: 0.7718 - val_loss: 0.6696 - val_auc: 0.0000e+00 - val_pre: 1.0000 - val_rec: 0.5744\n",
            "Epoch 23/64\n",
            "26/26 [==============================] - 1s 38ms/step - loss: 0.4338 - auc: 0.9109 - pre: 0.8390 - rec: 0.7676 - val_loss: 0.5985 - val_auc: 0.0000e+00 - val_pre: 1.0000 - val_rec: 0.6491\n",
            "Epoch 24/64\n",
            "26/26 [==============================] - 1s 38ms/step - loss: 0.4254 - auc: 0.9155 - pre: 0.8494 - rec: 0.7745 - val_loss: 0.6623 - val_auc: 0.0000e+00 - val_pre: 1.0000 - val_rec: 0.6360\n",
            "Epoch 25/64\n",
            "26/26 [==============================] - 1s 38ms/step - loss: 0.4272 - auc: 0.9146 - pre: 0.8456 - rec: 0.7763 - val_loss: 0.5324 - val_auc: 0.0000e+00 - val_pre: 1.0000 - val_rec: 0.7727\n",
            "Epoch 26/64\n",
            "26/26 [==============================] - 1s 38ms/step - loss: 0.4170 - auc: 0.9194 - pre: 0.8431 - rec: 0.7869 - val_loss: 0.6415 - val_auc: 0.0000e+00 - val_pre: 1.0000 - val_rec: 0.6543\n",
            "Epoch 27/64\n",
            "26/26 [==============================] - 1s 37ms/step - loss: 0.4199 - auc: 0.9182 - pre: 0.8496 - rec: 0.7791 - val_loss: 0.8614 - val_auc: 0.0000e+00 - val_pre: 1.0000 - val_rec: 0.6219\n",
            "Epoch 28/64\n",
            "26/26 [==============================] - 1s 38ms/step - loss: 0.4120 - auc: 0.9220 - pre: 0.8500 - rec: 0.7853 - val_loss: 0.5796 - val_auc: 0.0000e+00 - val_pre: 1.0000 - val_rec: 0.7569\n",
            "Epoch 29/64\n",
            "26/26 [==============================] - 1s 38ms/step - loss: 0.4084 - auc: 0.9222 - pre: 0.8490 - rec: 0.7931 - val_loss: 0.5330 - val_auc: 0.0000e+00 - val_pre: 1.0000 - val_rec: 0.7466\n",
            "Epoch 30/64\n",
            "26/26 [==============================] - 1s 38ms/step - loss: 0.4057 - auc: 0.9233 - pre: 0.8536 - rec: 0.7910 - val_loss: 0.5678 - val_auc: 0.0000e+00 - val_pre: 1.0000 - val_rec: 0.7466\n",
            "Epoch 31/64\n",
            "26/26 [==============================] - 1s 38ms/step - loss: 0.4050 - auc: 0.9242 - pre: 0.8590 - rec: 0.7887 - val_loss: 0.4898 - val_auc: 0.0000e+00 - val_pre: 1.0000 - val_rec: 0.8010\n",
            "Epoch 32/64\n",
            "26/26 [==============================] - 1s 38ms/step - loss: 0.3999 - auc: 0.9252 - pre: 0.8541 - rec: 0.7953 - val_loss: 0.5490 - val_auc: 0.0000e+00 - val_pre: 1.0000 - val_rec: 0.7624\n",
            "Epoch 33/64\n",
            "26/26 [==============================] - 1s 38ms/step - loss: 0.3939 - auc: 0.9270 - pre: 0.8616 - rec: 0.7955 - val_loss: 0.5061 - val_auc: 0.0000e+00 - val_pre: 1.0000 - val_rec: 0.8048\n",
            "Epoch 34/64\n",
            "26/26 [==============================] - 1s 38ms/step - loss: 0.3815 - auc: 0.9320 - pre: 0.8646 - rec: 0.7999 - val_loss: 0.4580 - val_auc: 0.0000e+00 - val_pre: 1.0000 - val_rec: 0.8147\n",
            "Epoch 35/64\n",
            "26/26 [==============================] - 1s 38ms/step - loss: 0.3755 - auc: 0.9343 - pre: 0.8689 - rec: 0.8064 - val_loss: 0.5225 - val_auc: 0.0000e+00 - val_pre: 1.0000 - val_rec: 0.7693\n",
            "Epoch 36/64\n",
            "26/26 [==============================] - 1s 38ms/step - loss: 0.3833 - auc: 0.9324 - pre: 0.8627 - rec: 0.8033 - val_loss: 0.5604 - val_auc: 0.0000e+00 - val_pre: 1.0000 - val_rec: 0.7287\n",
            "Epoch 37/64\n",
            "26/26 [==============================] - 1s 38ms/step - loss: 0.3763 - auc: 0.9350 - pre: 0.8710 - rec: 0.8001 - val_loss: 0.4509 - val_auc: 0.0000e+00 - val_pre: 1.0000 - val_rec: 0.7979\n",
            "Epoch 38/64\n",
            "26/26 [==============================] - 1s 38ms/step - loss: 0.3695 - auc: 0.9372 - pre: 0.8686 - rec: 0.8134 - val_loss: 0.5740 - val_auc: 0.0000e+00 - val_pre: 1.0000 - val_rec: 0.7497\n",
            "Epoch 39/64\n",
            "26/26 [==============================] - 1s 38ms/step - loss: 0.3623 - auc: 0.9393 - pre: 0.8716 - rec: 0.8154 - val_loss: 0.4851 - val_auc: 0.0000e+00 - val_pre: 1.0000 - val_rec: 0.7968\n",
            "Epoch 40/64\n",
            "26/26 [==============================] - 1s 38ms/step - loss: 0.3646 - auc: 0.9385 - pre: 0.8773 - rec: 0.8078 - val_loss: 0.5687 - val_auc: 0.0000e+00 - val_pre: 1.0000 - val_rec: 0.7417\n",
            "Epoch 41/64\n",
            "26/26 [==============================] - 1s 38ms/step - loss: 0.3583 - auc: 0.9406 - pre: 0.8717 - rec: 0.8178 - val_loss: 0.3939 - val_auc: 0.0000e+00 - val_pre: 1.0000 - val_rec: 0.8802\n",
            "Epoch 42/64\n",
            "26/26 [==============================] - 1s 38ms/step - loss: 0.3663 - auc: 0.9373 - pre: 0.8703 - rec: 0.8139 - val_loss: 0.4718 - val_auc: 0.0000e+00 - val_pre: 1.0000 - val_rec: 0.8096\n",
            "Epoch 43/64\n",
            "26/26 [==============================] - 1s 38ms/step - loss: 0.3533 - auc: 0.9423 - pre: 0.8812 - rec: 0.8186 - val_loss: 0.5227 - val_auc: 0.0000e+00 - val_pre: 1.0000 - val_rec: 0.7696\n",
            "Epoch 44/64\n",
            "26/26 [==============================] - 1s 38ms/step - loss: 0.3499 - auc: 0.9433 - pre: 0.8779 - rec: 0.8251 - val_loss: 0.8450 - val_auc: 0.0000e+00 - val_pre: 1.0000 - val_rec: 0.6773\n",
            "Epoch 45/64\n",
            "26/26 [==============================] - 1s 39ms/step - loss: 0.3536 - auc: 0.9423 - pre: 0.8719 - rec: 0.8238 - val_loss: 0.6019 - val_auc: 0.0000e+00 - val_pre: 1.0000 - val_rec: 0.7218\n",
            "Epoch 46/64\n",
            "26/26 [==============================] - 1s 38ms/step - loss: 0.3436 - auc: 0.9449 - pre: 0.8796 - rec: 0.8192 - val_loss: 0.6240 - val_auc: 0.0000e+00 - val_pre: 1.0000 - val_rec: 0.7497\n",
            "Epoch 47/64\n",
            "26/26 [==============================] - 1s 38ms/step - loss: 0.3371 - auc: 0.9475 - pre: 0.8820 - rec: 0.8328 - val_loss: 0.6528 - val_auc: 0.0000e+00 - val_pre: 1.0000 - val_rec: 0.7693\n",
            "Epoch 48/64\n",
            "26/26 [==============================] - 1s 38ms/step - loss: 0.3404 - auc: 0.9462 - pre: 0.8796 - rec: 0.8235 - val_loss: 0.4312 - val_auc: 0.0000e+00 - val_pre: 1.0000 - val_rec: 0.8561\n",
            "Epoch 49/64\n",
            "26/26 [==============================] - 1s 38ms/step - loss: 0.3362 - auc: 0.9468 - pre: 0.8764 - rec: 0.8281 - val_loss: 0.4846 - val_auc: 0.0000e+00 - val_pre: 1.0000 - val_rec: 0.8237\n",
            "Epoch 50/64\n",
            "26/26 [==============================] - 1s 38ms/step - loss: 0.3318 - auc: 0.9478 - pre: 0.8845 - rec: 0.8268 - val_loss: 0.4880 - val_auc: 0.0000e+00 - val_pre: 1.0000 - val_rec: 0.8110\n",
            "Epoch 51/64\n",
            "26/26 [==============================] - 1s 38ms/step - loss: 0.3340 - auc: 0.9474 - pre: 0.8800 - rec: 0.8277 - val_loss: 0.6712 - val_auc: 0.0000e+00 - val_pre: 1.0000 - val_rec: 0.7896\n",
            "Epoch 52/64\n",
            "26/26 [==============================] - 1s 38ms/step - loss: 0.3320 - auc: 0.9481 - pre: 0.8808 - rec: 0.8322 - val_loss: 0.6555 - val_auc: 0.0000e+00 - val_pre: 1.0000 - val_rec: 0.7455\n",
            "Epoch 53/64\n",
            "26/26 [==============================] - 1s 38ms/step - loss: 0.3179 - auc: 0.9522 - pre: 0.8842 - rec: 0.8401 - val_loss: 0.3804 - val_auc: 0.0000e+00 - val_pre: 1.0000 - val_rec: 0.8574\n",
            "Epoch 54/64\n",
            "26/26 [==============================] - 1s 38ms/step - loss: 0.3226 - auc: 0.9504 - pre: 0.8846 - rec: 0.8347 - val_loss: 0.6622 - val_auc: 0.0000e+00 - val_pre: 1.0000 - val_rec: 0.7576\n",
            "Epoch 55/64\n",
            "26/26 [==============================] - 1s 40ms/step - loss: 0.3223 - auc: 0.9510 - pre: 0.8791 - rec: 0.8402 - val_loss: 0.7255 - val_auc: 0.0000e+00 - val_pre: 1.0000 - val_rec: 0.6959\n",
            "Epoch 56/64\n",
            "26/26 [==============================] - 1s 39ms/step - loss: 0.3154 - auc: 0.9522 - pre: 0.8849 - rec: 0.8385 - val_loss: 0.6118 - val_auc: 0.0000e+00 - val_pre: 1.0000 - val_rec: 0.7641\n",
            "Epoch 57/64\n",
            "26/26 [==============================] - 1s 39ms/step - loss: 0.3213 - auc: 0.9507 - pre: 0.8788 - rec: 0.8403 - val_loss: 0.5614 - val_auc: 0.0000e+00 - val_pre: 1.0000 - val_rec: 0.7989\n",
            "Epoch 58/64\n",
            "26/26 [==============================] - 1s 39ms/step - loss: 0.3164 - auc: 0.9531 - pre: 0.8864 - rec: 0.8403 - val_loss: 0.6226 - val_auc: 0.0000e+00 - val_pre: 1.0000 - val_rec: 0.7479\n",
            "Epoch 59/64\n",
            "26/26 [==============================] - 1s 39ms/step - loss: 0.3083 - auc: 0.9545 - pre: 0.8904 - rec: 0.8366 - val_loss: 0.4906 - val_auc: 0.0000e+00 - val_pre: 1.0000 - val_rec: 0.7917\n",
            "Epoch 60/64\n",
            "26/26 [==============================] - 1s 38ms/step - loss: 0.2970 - auc: 0.9574 - pre: 0.8920 - rec: 0.8532 - val_loss: 0.4257 - val_auc: 0.0000e+00 - val_pre: 1.0000 - val_rec: 0.8357\n",
            "Epoch 61/64\n",
            "26/26 [==============================] - 1s 39ms/step - loss: 0.2992 - auc: 0.9567 - pre: 0.8967 - rec: 0.8452 - val_loss: 0.3579 - val_auc: 0.0000e+00 - val_pre: 1.0000 - val_rec: 0.8650\n",
            "Epoch 62/64\n",
            "26/26 [==============================] - 1s 40ms/step - loss: 0.3019 - auc: 0.9552 - pre: 0.8933 - rec: 0.8441 - val_loss: 0.3422 - val_auc: 0.0000e+00 - val_pre: 1.0000 - val_rec: 0.8898\n",
            "Epoch 63/64\n",
            "26/26 [==============================] - 1s 42ms/step - loss: 0.2951 - auc: 0.9573 - pre: 0.8936 - rec: 0.8467 - val_loss: 0.4208 - val_auc: 0.0000e+00 - val_pre: 1.0000 - val_rec: 0.8612\n",
            "Epoch 64/64\n",
            "26/26 [==============================] - 1s 39ms/step - loss: 0.2915 - auc: 0.9585 - pre: 0.8983 - rec: 0.8498 - val_loss: 0.4917 - val_auc: 0.0000e+00 - val_pre: 1.0000 - val_rec: 0.8161\n"
          ]
        },
        {
          "data": {
            "image/png": "[encoded data removed]",
            "text/plain": [
              "<Figure size 432x288 with 1 Axes>"
            ]
          },
          "metadata": {
            "needs_background": "light"
          },
          "output_type": "display_data"
        }
      ],
      "source": [
        "def train_and_evaluate(\n",
        "  df_x_train=X_train,\n",
        "  df_y_train=y_train,\n",
        "  df_x_test=X_val,\n",
        "  df_y_test=y_val\n",
        "  ):\n",
        "\n",
        "  # Build the model.\n",
        "  #with tpu_strategy.scope(): # creating the model in the TPUStrategy scope means we will train the model on the TPU\n",
        "  model = build_model()\n",
        "\n",
        "  # Train the model.\n",
        "  print('Training...')\n",
        "\n",
        "  history = model.fit(\n",
        "    x=df_x_train,\n",
        "    y=df_y_train,\n",
        "    epochs=NUM_EPOCHS,\n",
        "    batch_size=BATCH_SIZE,\n",
        "    validation_split=VALIDATION_SPLIT,\n",
        "    verbose=1\n",
        "    )\n",
        "    \n",
        "  # Retrieve training metrics (after each train epoch) and the final test accuracy\n",
        "  train_loss = history.history['loss']\n",
        "  val_loss = history.history['val_loss']\n",
        "  plt.plot(train_loss, label='train loss')\n",
        "  plt.plot(val_loss, label='validation loss')\n",
        "  plt.xticks(range(NUM_EPOCHS))\n",
        "  plt.xlabel('Train epochs')\n",
        "  plt.legend()\n",
        "  plt.show()\n",
        "\n",
        "  test_metrics = model.evaluate(\n",
        "    x=df_x_test,\n",
        "    y=df_y_test,\n",
        "    verbose=0,\n",
        "    return_dict=True\n",
        "    )\n",
        "  \n",
        "  return model, test_metrics\n",
        "\n",
        "fit, test_metrics = train_and_evaluate()"
      ]
    },
    {
      "cell_type": "markdown",
      "metadata": {
        "id": "ocIGFWwmIDEN"
      },
      "source": [
        "# IV. Evaluating the Model"
      ]
    },
    {
      "cell_type": "code",
      "execution_count": 82,
      "metadata": {
        "colab": {
          "base_uri": "https://localhost:8080/"
        },
        "id": "DVMQQ7YiIDEN",
        "outputId": "5b9737ef-e08c-4aba-cc6d-1e1321bedd87"
      },
      "outputs": [
        {
          "data": {
            "text/plain": [
              "{'loss': 0.422247052192688,\n",
              " 'auc': 0.8918395042419434,\n",
              " 'pre': 0.17123942077159882,\n",
              " 'rec': 0.7574426531791687}"
            ]
          },
          "execution_count": 82,
          "metadata": {},
          "output_type": "execute_result"
        }
      ],
      "source": [
        "test_metrics"
      ]
    },
    {
      "cell_type": "code",
      "execution_count": 83,
      "metadata": {
        "colab": {
          "base_uri": "https://localhost:8080/",
          "height": 312
        },
        "id": "fvNaxL0SIDEN",
        "outputId": "a46759c0-9e72-49d6-8ead-9c8d630a9c77"
      },
      "outputs": [
        {
          "name": "stdout",
          "output_type": "stream",
          "text": [
            "5537/5537 [==============================] - 20s 4ms/step\n"
          ]
        },
        {
          "data": {
            "image/png": "[encoded data removed]",
            "text/plain": [
              "<Figure size 432x288 with 1 Axes>"
            ]
          },
          "metadata": {
            "needs_background": "light"
          },
          "output_type": "display_data"
        }
      ],
      "source": [
        "fpr, tpr, threshold = roc_curve(y_val, fit.predict(X_val))\n",
        "roc_auc = auc(fpr, tpr)\n",
        "\n",
        "plt.plot(fpr, tpr, 'b', label = f'AUC = {roc_auc:.1%}')\n",
        "plt.legend(loc = 'lower right')\n",
        "plt.plot([0, 1], [0, 1],'r--')\n",
        "plt.xlim([0, 1])\n",
        "plt.ylim([0, 1])\n",
        "plt.ylabel('True Positive Rate')\n",
        "plt.xlabel('False Positive Rate')\n",
        "plt.title('ROC Curve')\n",
        "plt.show()"
      ]
    },
    {
      "cell_type": "markdown",
      "metadata": {
        "id": "E7E7nouiIDEO"
      },
      "source": [
        "# V. Outputting Model"
      ]
    },
    {
      "cell_type": "code",
      "execution_count": 84,
      "metadata": {
        "colab": {
          "base_uri": "https://localhost:8080/"
        },
        "id": "hCK2JQ7MIDEO",
        "outputId": "dcd78cc0-cc6e-49cf-f34c-a4c275c8e53b"
      },
      "outputs": [
        {
          "name": "stdout",
          "output_type": "stream",
          "text": [
            "7813/7813 [==============================] - 28s 4ms/step\n",
            "8022/8022 [==============================] - 32s 4ms/step\n"
          ]
        }
      ],
      "source": [
        "preds1 = fit.predict(test.iloc[:250000])\n",
        "preds2 = fit.predict(test.iloc[250000:])\n",
        "preds = np.concatenate((preds1, preds2), axis=0)\n",
        "sub['isFraud'] = preds"
      ]
    },
    {
      "cell_type": "code",
      "execution_count": 106,
      "metadata": {
        "colab": {
          "base_uri": "https://localhost:8080/",
          "height": 17
        },
        "id": "aznZBIgRIDEP",
        "outputId": "13a148ff-6e69-4853-ecaf-0c84808812e1"
      },
      "outputs": [
        {
          "data": {
            "application/javascript": "\n    async function download(id, filename, size) {\n      if (!google.colab.kernel.accessAllowed) {\n        return;\n      }\n      const div = document.createElement('div');\n      const label = document.createElement('label');\n      label.textContent = `Downloading \"${filename}\": `;\n      div.appendChild(label);\n      const progress = document.createElement('progress');\n      progress.max = size;\n      div.appendChild(progress);\n      document.body.appendChild(div);\n\n      const buffers = [];\n      let downloaded = 0;\n\n      const channel = await google.colab.kernel.comms.open(id);\n      // Send a message to notify the kernel that we're ready.\n      channel.send({})\n\n      for await (const message of channel.messages) {\n        // Send a message to notify the kernel that we're ready.\n        channel.send({})\n        if (message.buffers) {\n          for (const buffer of message.buffers) {\n            buffers.push(buffer);\n            downloaded += buffer.byteLength;\n            progress.value = downloaded;\n          }\n        }\n      }\n      const blob = new Blob(buffers, {type: 'application/binary'});\n      const a = document.createElement('a');\n      a.href = window.URL.createObjectURL(blob);\n      a.download = filename;\n      div.appendChild(a);\n      a.click();\n      div.remove();\n    }\n  ",
            "text/plain": [
              "<IPython.core.display.Javascript object>"
            ]
          },
          "metadata": {},
          "output_type": "display_data"
        },
        {
          "data": {
            "application/javascript": "download(\"download_3eb6aacb-c030-43fa-a58c-c3a40e754f10\", \"keras_nn_submission.csv\", 29859291)",
            "text/plain": [
              "<IPython.core.display.Javascript object>"
            ]
          },
          "metadata": {},
          "output_type": "display_data"
        }
      ],
      "source": [
        "from google.colab import files\n",
        "sub.to_csv('keras_nn_submission.csv', index=False)\n",
        "files.download('keras_nn_submission.csv')"
      ]
    },
    {
      "cell_type": "code",
      "execution_count": null,
      "metadata": {
        "id": "y6TxF68KO4eW"
      },
      "outputs": [],
      "source": [
        "from google.colab import runtime\n",
        "runtime.unassign()"
      ]
    }
  ],
  "metadata": {
    "accelerator": "TPU",
    "colab": {
      "machine_shape": "hm",
      "provenance": []
    },
    "gpuClass": "standard",
    "kernelspec": {
      "display_name": "Python 3.10.4 64-bit",
      "language": "python",
      "name": "python3"
    },
    "language_info": {
      "codemirror_mode": {
        "name": "ipython",
        "version": 3
      },
      "file_extension": ".py",
      "mimetype": "text/x-python",
      "name": "python",
      "nbconvert_exporter": "python",
      "pygments_lexer": "ipython3",
      "version": "3.10.4 (tags/v3.10.4:9d38120, Mar 23 2022, 23:13:41) [MSC v.1929 64 bit (AMD64)]"
    },
    "orig_nbformat": 4,
    "vscode": {
      "interpreter": {
        "hash": "807207e50864ba942fdea3697702c6ceff6811bbc7deef42e07b12b1046b97db"
      }
    }
  },
  "nbformat": 4,
  "nbformat_minor": 0
}
