{
 "cells": [
  {
   "cell_type": "markdown",
   "metadata": {},
   "source": [
    "# Final Project - Detecting Fraudulent Credit Card Transactions\n",
    "\n",
    "| Course | Term | Section | Group | Objective | Kaggle URL |\n",
    "| --- | --- | --- | --- | --- | --- |\n",
    "| W207 | Fall 2022 | 11 | 2 | Detect fraudulent credit card transactions | IEEE-CIS Fraud Detection ([Link](kaggle.com/competitions/ieee-fraud-detection)) |\n",
    "\n",
    "**Group Members**\n",
    "- Naikaj Pandya\n",
    "- Chase Madson\n",
    "- Eric Danforth\n"
   ]
  },
  {
   "cell_type": "markdown",
   "metadata": {},
   "source": [
    "# I. Setup"
   ]
  },
  {
   "attachments": {},
   "cell_type": "markdown",
   "metadata": {},
   "source": [
    "### A. Load Libraries"
   ]
  },
  {
   "cell_type": "code",
   "execution_count": 1,
   "metadata": {},
   "outputs": [],
   "source": [
    "import numpy as np\n",
    "import pandas as pd\n",
    "from math import floor\n",
    "import seaborn as sns\n",
    "import matplotlib.pyplot as plt\n",
    "from decimal import Decimal\n",
    "from sklearn.model_selection import train_test_split\n",
    "from sklearn.preprocessing import minmax_scale, OneHotEncoder\n",
    "import tensorflow as tf\n",
    "from sklearn.metrics import roc_curve, auc"
   ]
  },
  {
   "attachments": {},
   "cell_type": "markdown",
   "metadata": {},
   "source": [
    "### B. Load Data"
   ]
  },
  {
   "cell_type": "code",
   "execution_count": 2,
   "metadata": {},
   "outputs": [],
   "source": [
    "# Load Data\n",
    "train = pd.read_csv('../data/train_transaction.csv')\n",
    "test = pd.read_csv('../data/test_transaction.csv')\n",
    "train_identity = pd.read_csv('../data/train_identity.csv')\n",
    "test_identity = pd.read_csv('../data/test_identity.csv')\n",
    "sub = pd.read_csv('../data/sample_submission.csv').drop('isFraud', axis=1)"
   ]
  },
  {
   "attachments": {},
   "cell_type": "markdown",
   "metadata": {},
   "source": [
    "# II. Exploratory Data Analysis"
   ]
  },
  {
   "attachments": {},
   "cell_type": "markdown",
   "metadata": {},
   "source": [
    "### A. Background Info and Summary of Data\n",
    "\n",
    "This competition involves the application of machine learning neural networks to determine fraudulent credit card transactions. The aim of the project is to train a model on credit card activity dataset from Vesta and use it to determine which transactions in the test data are likely to be fraudulent. This competition is hosted by IEEE-CIS (IEEE Computational Intelligence Society) and the Vesta corporation, the world's leading payment service company.  \n",
    "\n",
    "The data comes primarily from Vesta in terms of 2 tables: the transaction table and the identity table:  \n",
    "\n",
    "* The transaction table is a list of each transaction with attributes such as transaction ID, transaction amount, card issue company, product purchased, etc. Along with these, there are a large number of \"masked\" fields in which the data is masked/encoded or the column name is masked. We believe that these masked data fields contain valuable information like currency of transaction, latitude/longitude of transaction, etc. The transaction table has the important column `isFraud` which is 1 if the transaction is a fraud and is 0 if it is not. This is our target column. The transaction table is the primary table with 1.97m rows split into train and test dataset, having 590,540 rows and 506,691 rows.  \n",
    "\n",
    "* Next, the Identity table is a much smaller table when compared to the transaction table. This table includes a number of fields that are masked/encoded because they provide identifying features. The Identity dataset has a total of 286k rows split into train and test datasets having 144,233 rows and 141,907 rows, respectively. The identity table rows can be mapped to the transaction table using the transactionID column.  "
   ]
  },
  {
   "attachments": {},
   "cell_type": "markdown",
   "metadata": {},
   "source": [
    "### B. First Look at the Data\n",
    "\n",
    "This data is collected by Vesta’s fraud protection system and digital security partners (the sponsors of this competition)."
   ]
  },
  {
   "cell_type": "code",
   "execution_count": 3,
   "metadata": {},
   "outputs": [
    {
     "data": {
      "text/html": [
       "<div>\n",
       "<style scoped>\n",
       "    .dataframe tbody tr th:only-of-type {\n",
       "        vertical-align: middle;\n",
       "    }\n",
       "\n",
       "    .dataframe tbody tr th {\n",
       "        vertical-align: top;\n",
       "    }\n",
       "\n",
       "    .dataframe thead th {\n",
       "        text-align: right;\n",
       "    }\n",
       "</style>\n",
       "<table border=\"1\" class=\"dataframe\">\n",
       "  <thead>\n",
       "    <tr style=\"text-align: right;\">\n",
       "      <th></th>\n",
       "      <th>train_transaction</th>\n",
       "      <th>test_transaction</th>\n",
       "      <th>train_identity</th>\n",
       "      <th>test_identity</th>\n",
       "    </tr>\n",
       "  </thead>\n",
       "  <tbody>\n",
       "    <tr>\n",
       "      <th>Transactions</th>\n",
       "      <td>590540</td>\n",
       "      <td>506691</td>\n",
       "      <td>144233</td>\n",
       "      <td>141907</td>\n",
       "    </tr>\n",
       "    <tr>\n",
       "      <th>Features</th>\n",
       "      <td>394</td>\n",
       "      <td>393</td>\n",
       "      <td>41</td>\n",
       "      <td>41</td>\n",
       "    </tr>\n",
       "    <tr>\n",
       "      <th>Date Range</th>\n",
       "      <td>[0, 181]</td>\n",
       "      <td>[212, 394]</td>\n",
       "      <td></td>\n",
       "      <td></td>\n",
       "    </tr>\n",
       "  </tbody>\n",
       "</table>\n",
       "</div>"
      ],
      "text/plain": [
       "             train_transaction test_transaction train_identity test_identity\n",
       "Transactions            590540           506691         144233        141907\n",
       "Features                   394              393             41            41\n",
       "Date Range            [0, 181]       [212, 394]                             "
      ]
     },
     "execution_count": 3,
     "metadata": {},
     "output_type": "execute_result"
    }
   ],
   "source": [
    "tmp_dict = {\n",
    " name:{\n",
    "    'Transactions': len(df), \n",
    "    'Features': len(df.columns),\n",
    "    'Date Range': [floor(i / (60 * 60 * 24)) - 1 for i in (df['TransactionDT'].min(), df['TransactionDT'].max())] \n",
    "                  if 'TransactionDT' in df else '',\n",
    "    }\n",
    " for df, name\n",
    " in zip(\n",
    "   (train, test, train_identity, test_identity),\n",
    "   ('train_transaction', 'test_transaction', 'train_identity', 'test_identity')\n",
    "   )\n",
    "}\n",
    "\n",
    "pd.DataFrame.from_dict(tmp_dict, dtype='str')"
   ]
  },
  {
   "attachments": {},
   "cell_type": "markdown",
   "metadata": {},
   "source": [
    "#### Takeaways  \n",
    "\n",
    "* **Big Data**: We have over half a million records of card transactions in each of `train_transaction` and `test_transaction` datasets, and a maximum of 434 features to work with\n",
    "\n",
    "- **Differing Transaction Date Ranges**: The transaction dates in `training_transaction` appear to cover a 181-day time period starting at day 0, while the transaction dates in `test_transaction` appear to cover a 182-day time period starting at day 212  \n",
    "    - The training and test data do not overlap in time\n",
    "    - Though the data publishers deliberately mask the dates of this data, we infer that Day 0 is June 1, 2018 based on timing of the competition the apparent choice to omit December as an outlier holiday month"
   ]
  },
  {
   "attachments": {},
   "cell_type": "markdown",
   "metadata": {},
   "source": [
    "### C. Missing Data"
   ]
  },
  {
   "cell_type": "code",
   "execution_count": 4,
   "metadata": {},
   "outputs": [
    {
     "data": {
      "text/html": [
       "<div>\n",
       "<style scoped>\n",
       "    .dataframe tbody tr th:only-of-type {\n",
       "        vertical-align: middle;\n",
       "    }\n",
       "\n",
       "    .dataframe tbody tr th {\n",
       "        vertical-align: top;\n",
       "    }\n",
       "\n",
       "    .dataframe thead th {\n",
       "        text-align: right;\n",
       "    }\n",
       "</style>\n",
       "<table border=\"1\" class=\"dataframe\">\n",
       "  <thead>\n",
       "    <tr style=\"text-align: right;\">\n",
       "      <th></th>\n",
       "      <th>train_transaction</th>\n",
       "      <th>test_transaction</th>\n",
       "      <th>train_identity</th>\n",
       "      <th>test_identity</th>\n",
       "    </tr>\n",
       "  </thead>\n",
       "  <tbody>\n",
       "    <tr>\n",
       "      <th>Percent of all Values that are Null</th>\n",
       "      <td>41.1%</td>\n",
       "      <td>36.9%</td>\n",
       "      <td>35.6%</td>\n",
       "      <td>36.2%</td>\n",
       "    </tr>\n",
       "    <tr>\n",
       "      <th>Total Features</th>\n",
       "      <td>394</td>\n",
       "      <td>393</td>\n",
       "      <td>41</td>\n",
       "      <td>41</td>\n",
       "    </tr>\n",
       "    <tr>\n",
       "      <th>Features w/ Nulls</th>\n",
       "      <td>374</td>\n",
       "      <td>345</td>\n",
       "      <td>38</td>\n",
       "      <td>38</td>\n",
       "    </tr>\n",
       "    <tr>\n",
       "      <th>Features w/ &gt; 50% Nulls</th>\n",
       "      <td>174</td>\n",
       "      <td>170</td>\n",
       "      <td>12</td>\n",
       "      <td>15</td>\n",
       "    </tr>\n",
       "    <tr>\n",
       "      <th>Features w/ &gt; 80% Nulls</th>\n",
       "      <td>55</td>\n",
       "      <td>52</td>\n",
       "      <td>9</td>\n",
       "      <td>9</td>\n",
       "    </tr>\n",
       "  </tbody>\n",
       "</table>\n",
       "</div>"
      ],
      "text/plain": [
       "                                    train_transaction test_transaction  \\\n",
       "Percent of all Values that are Null             41.1%            36.9%   \n",
       "Total Features                                    394              393   \n",
       "Features w/ Nulls                                 374              345   \n",
       "Features w/ > 50% Nulls                           174              170   \n",
       "Features w/ > 80% Nulls                            55               52   \n",
       "\n",
       "                                    train_identity test_identity  \n",
       "Percent of all Values that are Null          35.6%         36.2%  \n",
       "Total Features                                  41            41  \n",
       "Features w/ Nulls                               38            38  \n",
       "Features w/ > 50% Nulls                         12            15  \n",
       "Features w/ > 80% Nulls                          9             9  "
      ]
     },
     "execution_count": 4,
     "metadata": {},
     "output_type": "execute_result"
    }
   ],
   "source": [
    "tmp_dict = {\n",
    " name:{\n",
    "    'Percent of all Values that are Null': f'{(len(df) - df.count()).sum() / (df.shape[0] * df.shape[1]):.1%}',\n",
    "    'Total Features': df.shape[1],\n",
    "    'Features w/ Nulls': df.isnull().any().sum(),\n",
    "    'Features w/ > 50% Nulls': (df.count() < (len(df) * 0.5)).values.sum(),\n",
    "    'Features w/ > 80% Nulls': (df.count() < (len(df) * 0.2)).values.sum(),\n",
    "    }\n",
    " for df, name\n",
    " in zip(\n",
    "   (train, test, train_identity, test_identity),\n",
    "   ('train_transaction', 'test_transaction', 'train_identity', 'test_identity')\n",
    "   )\n",
    "}\n",
    "\n",
    "pd.DataFrame.from_dict(tmp_dict, dtype='str')"
   ]
  },
  {
   "attachments": {},
   "cell_type": "markdown",
   "metadata": {},
   "source": [
    "#### Takeaways  \n",
    "\n",
    "* **Missing Data**: Almost all the columns include some portion of missing data."
   ]
  },
  {
   "attachments": {},
   "cell_type": "markdown",
   "metadata": {},
   "source": [
    "### D. Outcome Variable - `isFraud`"
   ]
  },
  {
   "cell_type": "code",
   "execution_count": 5,
   "metadata": {},
   "outputs": [
    {
     "name": "stdout",
     "output_type": "stream",
     "text": [
      "Percent Fraudulent: 3.50%\n"
     ]
    }
   ],
   "source": [
    "print(f'Percent Fraudulent: {train.isFraud.sum() / len(train):.2%}')"
   ]
  },
  {
   "cell_type": "code",
   "execution_count": 6,
   "metadata": {},
   "outputs": [
    {
     "data": {
      "image/png": "[encoded data removed]",
      "text/plain": [
       "<Figure size 640x480 with 1 Axes>"
      ]
     },
     "metadata": {},
     "output_type": "display_data"
    }
   ],
   "source": [
    "(sns.countplot(data=train, x='isFraud')\n",
    "    .set(\n",
    "     ylabel='Number of Transactions', \n",
    "     title='Count of Fraudulent vs. Non-Fraudulent Transactions'\n",
    "     )\n",
    ");"
   ]
  },
  {
   "cell_type": "code",
   "execution_count": 7,
   "metadata": {},
   "outputs": [
    {
     "data": {
      "image/png": "[encoded data removed]",
      "text/plain": [
       "<Figure size 640x480 with 1 Axes>"
      ]
     },
     "metadata": {},
     "output_type": "display_data"
    }
   ],
   "source": [
    "boxplot = sns.boxplot(data=train, x='isFraud', y='TransactionAmt')\n",
    "boxplot.axes.axis(ymin=0, ymax=400)\n",
    "boxplot.set_ylabel('Transaction Amount')\n",
    "boxplot.set_title('Boxplots of Distributions for Fraudulent vs. Non-Fraudulent Transactions')\n",
    "boxplot;"
   ]
  },
  {
   "attachments": {},
   "cell_type": "markdown",
   "metadata": {},
   "source": [
    "#### Takeaways  \n",
    "\n",
    "* **Imbalanced Outcome Variable**: Only 3.5% of transactions are marked fraud, so we may want to account for this during training - we should be cautious of accuracy as a metric\n",
    "    - One strategy: Downsample the majority class (i.e., not-fraud transactions) in the training data to build the model, then test the model against a normal test set.  \n",
    "\n",
    "\n",
    "- **Difference in Transaction Amounts**: The distribution of fraudulent transactions appear to be somewhat greater than for the transactions not marked as fraud. This feature should be included in the model. "
   ]
  },
  {
   "attachments": {},
   "cell_type": "markdown",
   "metadata": {},
   "source": [
    "### E. Identity Table"
   ]
  },
  {
   "cell_type": "code",
   "execution_count": 8,
   "metadata": {},
   "outputs": [
    {
     "data": {
      "text/html": [
       "<div>\n",
       "<style scoped>\n",
       "    .dataframe tbody tr th:only-of-type {\n",
       "        vertical-align: middle;\n",
       "    }\n",
       "\n",
       "    .dataframe tbody tr th {\n",
       "        vertical-align: top;\n",
       "    }\n",
       "\n",
       "    .dataframe thead th {\n",
       "        text-align: right;\n",
       "    }\n",
       "</style>\n",
       "<table border=\"1\" class=\"dataframe\">\n",
       "  <thead>\n",
       "    <tr style=\"text-align: right;\">\n",
       "      <th></th>\n",
       "      <th>TransactionID</th>\n",
       "      <th>id_01</th>\n",
       "    </tr>\n",
       "    <tr>\n",
       "      <th>have_identity</th>\n",
       "      <th></th>\n",
       "      <th></th>\n",
       "    </tr>\n",
       "  </thead>\n",
       "  <tbody>\n",
       "    <tr>\n",
       "      <th>False</th>\n",
       "      <td>446307</td>\n",
       "      <td>0</td>\n",
       "    </tr>\n",
       "    <tr>\n",
       "      <th>True</th>\n",
       "      <td>144233</td>\n",
       "      <td>144233</td>\n",
       "    </tr>\n",
       "  </tbody>\n",
       "</table>\n",
       "</div>"
      ],
      "text/plain": [
       "               TransactionID   id_01\n",
       "have_identity                       \n",
       "False                 446307       0\n",
       "True                  144233  144233"
      ]
     },
     "execution_count": 8,
     "metadata": {},
     "output_type": "execute_result"
    }
   ],
   "source": [
    "(train[['TransactionID']]\n",
    "    .merge(train_identity.iloc[:,range(2)], on='TransactionID', how='left')\n",
    "    .assign(have_identity=lambda df: ~pd.isna(df['id_01']))\n",
    "    .groupby('have_identity')\n",
    "    .count()\n",
    ")"
   ]
  },
  {
   "attachments": {},
   "cell_type": "markdown",
   "metadata": {},
   "source": [
    "#### Takeaways  \n",
    "\n",
    "* The transactions in `train_identity` are a subset of the transactions in `train_transaction`, as is `test_identity` to `test_transaction` \n",
    "* About 25% of the transactions in `training_transaction` have a corresponding record in `training_identity`\n",
    "* Because joining `training_identity` features to `training_transaction` will introduce a lot of `NULL` values, we will simply create a binary variable `have_identity` to indicate whether a transaction appears in both tables"
   ]
  },
  {
   "attachments": {},
   "cell_type": "markdown",
   "metadata": {},
   "source": [
    "### F. Transaction Datetime\n",
    "\n",
    "Let's take a look at how the transaction datetime frequencies vary over time."
   ]
  },
  {
   "cell_type": "code",
   "execution_count": 9,
   "metadata": {},
   "outputs": [
    {
     "data": {
      "image/png": "[encoded data removed]",
      "text/plain": [
       "<Figure size 640x480 with 1 Axes>"
      ]
     },
     "metadata": {},
     "output_type": "display_data"
    }
   ],
   "source": [
    "sns.histplot(train['TransactionDT'],  kde=False, label='train', color='orange')\n",
    "sns.histplot(test['TransactionDT'],  kde=False, label='test', color='blue')\n",
    "plt.legend(prop={'size': 12})\n",
    "plt.title('Distribution of TransactionDT')\n",
    "plt.xlabel('TransactionDT')\n",
    "plt.ylabel('Density')\n",
    "plt.show()"
   ]
  },
  {
   "attachments": {},
   "cell_type": "markdown",
   "metadata": {},
   "source": [
    "#### Takeaways  \n",
    "\n",
    "* The train and test data appear to be two distinct time periods\n",
    "    - Considering these are durations of seconds, that would make them each six month periods\n",
    "* There is about a one-month gap between the two\n",
    "* Test data has a spike around the end of the period, while training data has a spike near the beginning\n",
    "* Note: We tried performing a time-based split of the training data to obtain our validation set - resulting model performed worse on our final Kaggle score\n",
    "* Note: We tried extract a bunch of time features like isWeekend, isHoliday, but did not improve model"
   ]
  },
  {
   "attachments": {},
   "cell_type": "markdown",
   "metadata": {},
   "source": [
    "# III. Feature Engineering"
   ]
  },
  {
   "attachments": {},
   "cell_type": "markdown",
   "metadata": {},
   "source": [
    "### A. Custom Groupings for Purchaser and Recipient Domains\n",
    "\n",
    "To use the purchaser and recipient domain email addresses, we create a highly customized categorical variable called `custom_domain_grouping`. \n",
    "\n",
    "This uses a switch statement to condense information about:\n",
    "\n",
    "1. Drop the domain extensions so \"gmail.com\" and \"gmail\" are placed into same group\n",
    "2. Whether recipient, purchaser, or both email addresses are null\n",
    "3. Whether the recipient and purchaser domain address matched (e.g., gmail to gmail)\n",
    "4. If the recipient and purchaser domain addresses do match, what domain is it?"
   ]
  },
  {
   "cell_type": "code",
   "execution_count": 10,
   "metadata": {},
   "outputs": [],
   "source": [
    "def get_custom_domain_grouping(df_train, df_test):\n",
    "    \"\"\"This function is disgusting but gives us good categories from the domain addresses\"\"\"\n",
    "\n",
    "    # Remove the domain extensions on all variables\n",
    "    df_train['purch_domain_name'] = df_train.P_emaildomain.str.replace('\\..*', '', regex=True)\n",
    "    df_train['recip_domain_name'] = df_train.R_emaildomain.str.replace('\\..*', '', regex=True)\n",
    "    df_test['purch_domain_name'] = df_test.P_emaildomain.str.replace('\\..*', '', regex=True)\n",
    "    df_test['recip_domain_name'] = df_test.R_emaildomain.str.replace('\\..*', '', regex=True)\n",
    "\n",
    "    # Get the list of top 95% of email domains in the _training_ set only \n",
    "    top_95pct_purch_domains = (\n",
    "        df_train.purch_domain_name\n",
    "        .value_counts(normalize=True)\n",
    "        .rename_axis('factor_levels')\n",
    "        .cumsum()\n",
    "        .reset_index(name='cumsum')\n",
    "        .query('cumsum<0.95')\n",
    "        .sort_values('cumsum')\n",
    "        .factor_levels\n",
    "        .tolist()   \n",
    "    )\n",
    "    \n",
    "    # This switch statement is based on \n",
    "    custom_domain_grouping_train = np.select(\n",
    "        condlist = [\n",
    "            # Create a group for null recipients\n",
    "            df_train.R_emaildomain.isnull(),\n",
    "            # Create a group for null purchasers (when recipient not null)\n",
    "            df_train.P_emaildomain.isnull(),\n",
    "            # Create a group for purchaser domains paired with a distinct recipient domain\n",
    "            df_train.purch_domain_name != df_train.recip_domain_name,\n",
    "            # If domains match and in our most common domains \n",
    "            df_train.purch_domain_name.isin(top_95pct_purch_domains)\n",
    "            ], \n",
    "        choicelist = [\n",
    "            'Recipient or Both Blank',\n",
    "            'Just Purchaser Blank',\n",
    "            'Purchaser and Recipient Differ',\n",
    "            'Purchaser and Recipient Same: ' + df_train.purch_domain_name\n",
    "            ],\n",
    "        default='Purchaser and Recipient Same: other domain'\n",
    "    )\n",
    "\n",
    "    # Do the same as above, but for the test set\n",
    "    custom_domain_grouping_test = np.select(\n",
    "        condlist = [\n",
    "            df_test.R_emaildomain.isnull(),\n",
    "            df_test.P_emaildomain.isnull(),\n",
    "            df_test.purch_domain_name != df_test.recip_domain_name,\n",
    "            df_test.purch_domain_name.isin(top_95pct_purch_domains)\n",
    "            ], \n",
    "        choicelist = [\n",
    "            'Recipient or Both Blank',\n",
    "            'Just Purchaser Blank',\n",
    "            'Purchaser and Recipient Differ',\n",
    "            'Purchaser and Recipient Same: ' + df_test.purch_domain_name\n",
    "            ],\n",
    "        default='Purchaser and Recipient Same: other domain'\n",
    "    )\n",
    "\n",
    "    return custom_domain_grouping_train, custom_domain_grouping_test\n",
    "\n",
    "train['custom_domain_grouping'], test['custom_domain_grouping'] = get_custom_domain_grouping(train, test)"
   ]
  },
  {
   "attachments": {},
   "cell_type": "markdown",
   "metadata": {},
   "source": [
    "### B. Whether Currency has More than Two Decimals\n",
    "\n",
    "We create a new binary variable that indicates whether currency has more than two decimals, which suggests the purchase needed to be converted into USD."
   ]
  },
  {
   "cell_type": "code",
   "execution_count": 11,
   "metadata": {},
   "outputs": [],
   "source": [
    "def txn_usd_convert(amt):\n",
    "    return np.float16(-Decimal(str(amt)).as_tuple().exponent > 2)\n",
    "\n",
    "train['Transaction_curr_type'] = train['TransactionAmt'].apply(txn_usd_convert)\n",
    "test['Transaction_curr_type'] = test['TransactionAmt'].apply(txn_usd_convert)"
   ]
  },
  {
   "attachments": {},
   "cell_type": "markdown",
   "metadata": {},
   "source": [
    "### C. Feature Engineering: User ID\n",
    "\n",
    "Create a heuristic for User ID"
   ]
  },
  {
   "cell_type": "code",
   "execution_count": 12,
   "metadata": {},
   "outputs": [],
   "source": [
    "train['uid'] = train['ProductCD'].astype(str) + '_' + \\\n",
    "  train['card1'].astype(str) + '_' + \\\n",
    "  train['card4'].astype(str) + '_' + \\\n",
    "  train['card6'].astype(str) + '_' + \\\n",
    "  train['addr1'].astype(str) + '_' + \\\n",
    "  train['dist1'].astype(str) + '_' + \\\n",
    "  train['dist2'].astype(str) + '_' + \\\n",
    "  train['P_emaildomain'].astype(str) + '_' + \\\n",
    "  train['C13'].astype(str)\n",
    "train['uid'] = train['uid'].apply(lambda x: hash(x))\n",
    "\n",
    "test['uid'] = test['ProductCD'].astype(str) + '_' + \\\n",
    "  test['card1'].astype(str) + '_' + \\\n",
    "  test['card4'].astype(str) + '_' + \\\n",
    "  test['card6'].astype(str) + '_' + \\\n",
    "  test['addr1'].astype(str) + '_' + \\\n",
    "  test['dist1'].astype(str) + '_' + \\\n",
    "  test['dist2'].astype(str) + '_' + \\\n",
    "  test['P_emaildomain'].astype(str) + '_' + \\\n",
    "  test['C13'].astype(str)\n",
    "  \n",
    "test['uid'] = test['uid'].apply(lambda x: hash(x))"
   ]
  },
  {
   "attachments": {},
   "cell_type": "markdown",
   "metadata": {},
   "source": [
    "# IV. Data Preparation"
   ]
  },
  {
   "attachments": {},
   "cell_type": "markdown",
   "metadata": {},
   "source": [
    "### A. Group the Columns\n",
    "\n",
    "We define a lot of column sets for convenient subsetting features. Breaks down by numeric and categorical, and then type from there. "
   ]
  },
  {
   "cell_type": "code",
   "execution_count": 13,
   "metadata": {},
   "outputs": [],
   "source": [
    "# Transaction payment amount in USD\n",
    "features_num_amt = train[['TransactionAmt']].columns\n",
    "\n",
    "# Date and time of transactions\n",
    "features_num_dt = train[['TransactionDT']].columns\n",
    "\n",
    "# Distance measures between two masked points\n",
    "features_num_dist = train.filter(regex='^dist').columns\n",
    "\n",
    "# Various (masked) counts, e.g. how many addresses associated with payment card\n",
    "features_num_C = train.filter(regex='^C').columns\n",
    "\n",
    "# Various (masked) timedeltas, e.g. days between previous transactions\n",
    "features_num_D = train.filter(regex='^D').columns\n",
    "\n",
    "# Various (masked) Vesta engineered rich features\n",
    "features_num_V = train.filter(regex='^V').columns\n",
    "\n",
    "# uid\n",
    "features_uid = train[['uid']].columns\n",
    "\n",
    "features_num = (\n",
    "    features_num_amt\n",
    "    .union(features_num_dt)\n",
    "    .union(features_num_dist)\n",
    "    .union(features_num_C)\n",
    "    .union(features_num_D)\n",
    "    .union(features_num_V)\n",
    "    .union(features_uid)\n",
    ")"
   ]
  },
  {
   "cell_type": "code",
   "execution_count": 14,
   "metadata": {},
   "outputs": [],
   "source": [
    "# Product code for the product associated with the transaction\n",
    "features_cat_CD = train[['ProductCD']].columns\n",
    "\n",
    "# Payment card information, such as card type, card category, issue bank, country\n",
    "# features_cat_card = train.filter(regex='^card').columns\n",
    "features_cat_card4 = train.filter(regex='^card4').columns\n",
    "features_cat_card6 = train.filter(regex='^card6').columns\n",
    "\n",
    "# Address (unspecified)\n",
    "features_cat_addr = train.filter(regex='^addr').columns\n",
    "\n",
    "# Purchaser and recipient email domains\n",
    "features_cat_domain = train[['custom_domain_grouping']].columns\n",
    "\n",
    "# Various matches (masked), e.g. names on card and addresses\n",
    "features_cat_M = train.filter(regex='^M').columns\n",
    "\n",
    "# New feature - whether the transaction amount had more than 2 decimal places\n",
    "features_cat_curr_type = train[['Transaction_curr_type']].columns\n",
    "\n",
    "features_cat = (\n",
    "    features_cat_CD\n",
    "    # .union(features_cat_card)\n",
    "    .union(features_cat_card4)\n",
    "    .union(features_cat_card6)\n",
    "    .union(features_cat_addr)\n",
    "    .union(features_cat_domain)\n",
    "    .union(features_cat_M)\n",
    "    .union(features_cat_curr_type)\n",
    ")"
   ]
  },
  {
   "cell_type": "code",
   "execution_count": 15,
   "metadata": {},
   "outputs": [
    {
     "name": "stdout",
     "output_type": "stream",
     "text": [
      "We start with 389 available features: 373 numeric and 16 categorical.\n"
     ]
    }
   ],
   "source": [
    "# Define the sets of features used, by variable type \n",
    "features = features_num.union(features_cat)\n",
    "\n",
    "# Define our ID column and target\n",
    "id = train[['TransactionID']].columns\n",
    "target = train[['isFraud']].columns\n",
    "\n",
    "# Select relevant columns\n",
    "train = train[target.union(features)]\n",
    "test = test[features]\n",
    "\n",
    "print(f'We start with {len(features)} available features: {len(features_num)} numeric and {len(features_cat)} categorical.')"
   ]
  },
  {
   "attachments": {},
   "cell_type": "markdown",
   "metadata": {},
   "source": [
    "### B. Split Data into Train and Validation"
   ]
  },
  {
   "cell_type": "code",
   "execution_count": 16,
   "metadata": {},
   "outputs": [],
   "source": [
    "# Save 30% of the training data for validation\n",
    "training, validation = train_test_split(train, test_size=0.3, random_state=1)\n",
    "\n",
    "# With the remaining 70% in the training set, downsample the majority class\n",
    "training = (\n",
    "    training\n",
    "    .groupby('isFraud')\n",
    "    .sample(\n",
    "        n=sum(training.isFraud == 1),\n",
    "        random_state=1\n",
    "    )\n",
    ")\n",
    "\n",
    "# Separate the features from the label\n",
    "y_train = training[['isFraud']]\n",
    "y_val = validation[['isFraud']]\n",
    "X_train = training[features]\n",
    "X_val = validation[features]\n",
    "\n",
    "# Drop unneeded DataFrames\n",
    "del training, validation"
   ]
  },
  {
   "attachments": {},
   "cell_type": "markdown",
   "metadata": {},
   "source": [
    "### C. Preprocessing"
   ]
  },
  {
   "attachments": {},
   "cell_type": "markdown",
   "metadata": {},
   "source": [
    "#### 1. Numeric Values - Replace N/A and Normalize\n",
    "\n",
    "Apply Min-Max normalization and replace missing values for all numeric features in training, validation, and test sets"
   ]
  },
  {
   "cell_type": "code",
   "execution_count": 17,
   "metadata": {},
   "outputs": [],
   "source": [
    "def replace_na_and_normalize(df, cols=features_num):\n",
    "    return (df[cols]\n",
    "        .apply(lambda var: var.fillna(var.min() - 2))\n",
    "        .apply(minmax_scale, feature_range=(0,1))\n",
    "    )\n",
    "\n",
    "X_train[features_num] = replace_na_and_normalize(X_train)\n",
    "X_val[features_num] = replace_na_and_normalize(X_val)\n",
    "test[features_num] = replace_na_and_normalize(test)"
   ]
  },
  {
   "attachments": {},
   "cell_type": "markdown",
   "metadata": {},
   "source": [
    "#### 2. Categorical Values - Replace N/A and One-Hot Encode\n",
    "\n",
    "Replace raw categorical features with one-hot encoding values"
   ]
  },
  {
   "cell_type": "code",
   "execution_count": 18,
   "metadata": {},
   "outputs": [],
   "source": [
    "def get_one_hot_encoding(df, feature):\n",
    "    # Instantiate the transformer\n",
    "    ohe = OneHotEncoder()\n",
    "\n",
    "    # Stack all datasets to get all unique categories observed\n",
    "    categories = pd.concat([train[[feature]], test[[feature]]])\n",
    "\n",
    "    # Fit the transformer with the observed classes\n",
    "    ohe.fit(categories)\n",
    "\n",
    "    # Create a sparse array with one binary vector per category\n",
    "    transformed_array = ohe.transform(df[[feature]]).toarray()\n",
    "\n",
    "    # Turn the transformed array into a DataFrame and assign names\n",
    "    transformed_ndarray = pd.DataFrame(\n",
    "        transformed_array,\n",
    "        columns=ohe.get_feature_names_out(),\n",
    "        index=df.index\n",
    "    ).astype(np.float16)\n",
    "\n",
    "    return transformed_ndarray"
   ]
  },
  {
   "cell_type": "code",
   "execution_count": 19,
   "metadata": {},
   "outputs": [],
   "source": [
    "def replace_raw_cats_with_one_hots(df, cols=features_cat):\n",
    "    # Initialize a placeholder list\n",
    "    tmp_list = []\n",
    "\n",
    "    # For each variable in our categorical features, get one-hot encoding matrix\n",
    "    for var in features_cat:\n",
    "        tmp_list.append(get_one_hot_encoding(df, var))\n",
    "\n",
    "    # Convert list of DataFrames into one DataFrame of several sparse matrices\n",
    "    tmp_df = pd.concat(tmp_list, axis=1)\n",
    "\n",
    "    # Drop the raw categorical variables and replace with sparce matrices\n",
    "    new_df = pd.concat([df.drop(features_cat, axis=1), tmp_df], axis=1)\n",
    "    \n",
    "    return new_df"
   ]
  },
  {
   "cell_type": "code",
   "execution_count": 20,
   "metadata": {},
   "outputs": [],
   "source": [
    "# Carry out the one-hot encoding functions above for each data set\n",
    "X_train = replace_raw_cats_with_one_hots(X_train)\n",
    "X_val = replace_raw_cats_with_one_hots(X_val)\n",
    "test = replace_raw_cats_with_one_hots(test)"
   ]
  },
  {
   "attachments": {},
   "cell_type": "markdown",
   "metadata": {},
   "source": [
    "# V. Fitting a Model"
   ]
  },
  {
   "attachments": {},
   "cell_type": "markdown",
   "metadata": {},
   "source": [
    "### A. Hyperparameters for Manual Tuning"
   ]
  },
  {
   "cell_type": "code",
   "execution_count": 21,
   "metadata": {},
   "outputs": [],
   "source": [
    "HIDDEN_LAYER_SIZES = [512, 256, 256, 128]\n",
    "HL_ACTIVATION = 'relu'\n",
    "LEARNING_RATE = 0.0005\n",
    "OPTIMIZER = tf.keras.optimizers.Adam(learning_rate=LEARNING_RATE)\n",
    "LAMBDA = 0.05\n",
    "DROPOUT_RATE = 0.5\n",
    "NUM_EPOCHS = 64\n",
    "BATCH_SIZE = 1024\n",
    "VALIDATION_SPLIT = 0.1"
   ]
  },
  {
   "attachments": {},
   "cell_type": "markdown",
   "metadata": {},
   "source": [
    "### B. Define Functions for Building the Model and Testing/Evaluation"
   ]
  },
  {
   "cell_type": "code",
   "execution_count": 22,
   "metadata": {},
   "outputs": [],
   "source": [
    "def build_model():\n",
    "  i=0\n",
    "  tf.keras.backend.clear_session()\n",
    "  np.random.seed(0)\n",
    "  tf.random.set_seed(0)\n",
    "  # INPUT LAYER\n",
    "  model = tf.keras.Sequential()\n",
    "  # HIDDEN LAYERS\n",
    "  for hidden_layer_size in HIDDEN_LAYER_SIZES:\n",
    "    if i == 0:\n",
    "      model.add(tf.keras.layers.Dense(\n",
    "        units=hidden_layer_size, activation=HL_ACTIVATION, name=f'dense_{i}'\n",
    "      ))\n",
    "    else:\n",
    "      model.add(tf.keras.layers.Dense(\n",
    "        units=hidden_layer_size, activation=HL_ACTIVATION, name=f'dense_{i}',\n",
    "        kernel_regularizer=tf.keras.regularizers.L2(l2=LAMBDA)\n",
    "      ))\n",
    "    model.add(tf.keras.layers.BatchNormalization(name=f'batch_norm_{i}'))\n",
    "    model.add(tf.keras.layers.Dropout(DROPOUT_RATE, name=f'dropout_{i}'))\n",
    "    i+=1\n",
    "  # OUTPUT LAYER\n",
    "  model.add(tf.keras.layers.Dense(units=1, use_bias=True, activation='sigmoid'))\n",
    "  model.compile(\n",
    "    loss='binary_crossentropy', \n",
    "    optimizer=OPTIMIZER, \n",
    "    metrics=[\n",
    "      tf.keras.metrics.AUC(name='auc'),\n",
    "      tf.keras.metrics.Precision(name='pre'),\n",
    "      tf.keras.metrics.Recall(name='rec'),\n",
    "      ]\n",
    "  ) \n",
    "  return model"
   ]
  },
  {
   "cell_type": "code",
   "execution_count": 23,
   "metadata": {},
   "outputs": [],
   "source": [
    "def train_and_evaluate(\n",
    "  df_x_train=X_train,\n",
    "  df_y_train=y_train,\n",
    "  df_x_test=X_val,\n",
    "  df_y_test=y_val\n",
    "  ):\n",
    "\n",
    "  # Build the model.\n",
    "  model = build_model()\n",
    "\n",
    "  # Train the model.\n",
    "  print('Training...')\n",
    "\n",
    "  history = model.fit(\n",
    "    x=df_x_train,\n",
    "    y=df_y_train,\n",
    "    epochs=NUM_EPOCHS,\n",
    "    batch_size=BATCH_SIZE,\n",
    "    validation_split=VALIDATION_SPLIT,\n",
    "    verbose=1\n",
    "    )\n",
    "    \n",
    "  # Retrieve training metrics (after each train epoch) and the final test accuracy\n",
    "  train_loss = history.history['loss']\n",
    "  val_loss = history.history['val_loss']\n",
    "  plt.plot(train_loss, label='train loss')\n",
    "  plt.plot(val_loss, label='validation loss')\n",
    "  plt.xticks(range(NUM_EPOCHS))\n",
    "  plt.xlabel('Train epochs')\n",
    "  plt.legend()\n",
    "  plt.show()\n",
    "\n",
    "  test_metrics = model.evaluate(\n",
    "    x=df_x_test,\n",
    "    y=df_y_test,\n",
    "    verbose=0,\n",
    "    return_dict=True\n",
    "    )\n",
    "  \n",
    "  return model, test_metrics"
   ]
  },
  {
   "attachments": {},
   "cell_type": "markdown",
   "metadata": {},
   "source": [
    "### C. Actually Train and Evaluate the Model"
   ]
  },
  {
   "cell_type": "code",
   "execution_count": 24,
   "metadata": {},
   "outputs": [
    {
     "name": "stdout",
     "output_type": "stream",
     "text": [
      "Training...\n",
      "Epoch 1/64\n",
      "26/26 [==============================] - 2s 42ms/step - loss: 33.7047 - auc: 0.6339 - pre: 0.5496 - rec: 0.5809 - val_loss: 27.8512 - val_auc: 0.0000e+00 - val_pre: 1.0000 - val_rec: 0.0909\n",
      "Epoch 2/64\n",
      "26/26 [==============================] - 1s 31ms/step - loss: 23.5968 - auc: 0.6881 - pre: 0.5930 - rec: 0.5972 - val_loss: 19.4629 - val_auc: 0.0000e+00 - val_pre: 1.0000 - val_rec: 0.0021\n",
      "Epoch 3/64\n",
      "26/26 [==============================] - 1s 30ms/step - loss: 16.2947 - auc: 0.7219 - pre: 0.6234 - rec: 0.6065 - val_loss: 13.5465 - val_auc: 0.0000e+00 - val_pre: 0.0000e+00 - val_rec: 0.0000e+00\n",
      "Epoch 4/64\n",
      "26/26 [==============================] - 1s 32ms/step - loss: 11.1811 - auc: 0.7474 - pre: 0.6539 - rec: 0.6154 - val_loss: 9.4403 - val_auc: 0.0000e+00 - val_pre: 0.0000e+00 - val_rec: 0.0000e+00\n",
      "Epoch 5/64\n",
      "26/26 [==============================] - 1s 31ms/step - loss: 7.6591 - auc: 0.7706 - pre: 0.6717 - rec: 0.6327 - val_loss: 6.6750 - val_auc: 0.0000e+00 - val_pre: 0.0000e+00 - val_rec: 0.0000e+00\n",
      "Epoch 6/64\n",
      "26/26 [==============================] - 1s 31ms/step - loss: 5.2546 - auc: 0.7844 - pre: 0.7035 - rec: 0.6262 - val_loss: 4.7123 - val_auc: 0.0000e+00 - val_pre: 0.0000e+00 - val_rec: 0.0000e+00\n",
      "Epoch 7/64\n",
      "26/26 [==============================] - 1s 32ms/step - loss: 3.6253 - auc: 0.8008 - pre: 0.7182 - rec: 0.6409 - val_loss: 3.4308 - val_auc: 0.0000e+00 - val_pre: 0.0000e+00 - val_rec: 0.0000e+00\n",
      "Epoch 8/64\n",
      "26/26 [==============================] - 1s 31ms/step - loss: 2.5427 - auc: 0.8101 - pre: 0.7309 - rec: 0.6441 - val_loss: 2.5742 - val_auc: 0.0000e+00 - val_pre: 0.0000e+00 - val_rec: 0.0000e+00\n",
      "Epoch 9/64\n",
      "26/26 [==============================] - 1s 31ms/step - loss: 1.8228 - auc: 0.8201 - pre: 0.7400 - rec: 0.6570 - val_loss: 2.0316 - val_auc: 0.0000e+00 - val_pre: 0.0000e+00 - val_rec: 0.0000e+00\n",
      "Epoch 10/64\n",
      "26/26 [==============================] - 1s 39ms/step - loss: 1.3494 - auc: 0.8284 - pre: 0.7557 - rec: 0.6637 - val_loss: 1.6732 - val_auc: 0.0000e+00 - val_pre: 1.0000 - val_rec: 3.4435e-04\n",
      "Epoch 11/64\n",
      "26/26 [==============================] - 1s 32ms/step - loss: 1.0514 - auc: 0.8302 - pre: 0.7641 - rec: 0.6571 - val_loss: 1.4137 - val_auc: 0.0000e+00 - val_pre: 1.0000 - val_rec: 0.0031\n",
      "Epoch 12/64\n",
      "26/26 [==============================] - 1s 32ms/step - loss: 0.8503 - auc: 0.8386 - pre: 0.7655 - rec: 0.6690 - val_loss: 1.2692 - val_auc: 0.0000e+00 - val_pre: 1.0000 - val_rec: 0.0038\n",
      "Epoch 13/64\n",
      "26/26 [==============================] - 1s 32ms/step - loss: 0.7266 - auc: 0.8422 - pre: 0.7712 - rec: 0.6751 - val_loss: 1.1572 - val_auc: 0.0000e+00 - val_pre: 1.0000 - val_rec: 0.0072\n",
      "Epoch 14/64\n",
      "26/26 [==============================] - 1s 31ms/step - loss: 0.6486 - auc: 0.8445 - pre: 0.7717 - rec: 0.6889 - val_loss: 1.0934 - val_auc: 0.0000e+00 - val_pre: 1.0000 - val_rec: 0.0134\n",
      "Epoch 15/64\n",
      "26/26 [==============================] - 1s 31ms/step - loss: 0.5996 - auc: 0.8471 - pre: 0.7730 - rec: 0.6830 - val_loss: 1.0105 - val_auc: 0.0000e+00 - val_pre: 1.0000 - val_rec: 0.0203\n",
      "Epoch 16/64\n",
      "26/26 [==============================] - 1s 31ms/step - loss: 0.5722 - auc: 0.8475 - pre: 0.7753 - rec: 0.6828 - val_loss: 0.9955 - val_auc: 0.0000e+00 - val_pre: 1.0000 - val_rec: 0.0465\n",
      "Epoch 17/64\n",
      "26/26 [==============================] - 1s 31ms/step - loss: 0.5470 - auc: 0.8512 - pre: 0.7778 - rec: 0.6995 - val_loss: 0.9760 - val_auc: 0.0000e+00 - val_pre: 1.0000 - val_rec: 0.0844\n",
      "Epoch 18/64\n",
      "26/26 [==============================] - 1s 31ms/step - loss: 0.5350 - auc: 0.8521 - pre: 0.7893 - rec: 0.6821 - val_loss: 0.9197 - val_auc: 0.0000e+00 - val_pre: 1.0000 - val_rec: 0.1309\n",
      "Epoch 19/64\n",
      "26/26 [==============================] - 1s 31ms/step - loss: 0.5229 - auc: 0.8564 - pre: 0.7853 - rec: 0.6996 - val_loss: 0.8582 - val_auc: 0.0000e+00 - val_pre: 1.0000 - val_rec: 0.1842\n",
      "Epoch 20/64\n",
      "26/26 [==============================] - 1s 31ms/step - loss: 0.5167 - auc: 0.8571 - pre: 0.7890 - rec: 0.6954 - val_loss: 0.8590 - val_auc: 0.0000e+00 - val_pre: 1.0000 - val_rec: 0.2459\n",
      "Epoch 21/64\n",
      "26/26 [==============================] - 1s 31ms/step - loss: 0.5124 - auc: 0.8601 - pre: 0.7909 - rec: 0.6999 - val_loss: 0.7519 - val_auc: 0.0000e+00 - val_pre: 1.0000 - val_rec: 0.4280\n",
      "Epoch 22/64\n",
      "26/26 [==============================] - 1s 31ms/step - loss: 0.5102 - auc: 0.8622 - pre: 0.7870 - rec: 0.7084 - val_loss: 0.7520 - val_auc: 0.0000e+00 - val_pre: 1.0000 - val_rec: 0.4483\n",
      "Epoch 23/64\n",
      "26/26 [==============================] - 1s 32ms/step - loss: 0.5073 - auc: 0.8631 - pre: 0.7922 - rec: 0.7063 - val_loss: 0.7077 - val_auc: 0.0000e+00 - val_pre: 1.0000 - val_rec: 0.5510\n",
      "Epoch 24/64\n",
      "26/26 [==============================] - 1s 31ms/step - loss: 0.5044 - auc: 0.8643 - pre: 0.7925 - rec: 0.7069 - val_loss: 0.7579 - val_auc: 0.0000e+00 - val_pre: 1.0000 - val_rec: 0.4404\n",
      "Epoch 25/64\n",
      "26/26 [==============================] - 1s 31ms/step - loss: 0.4974 - auc: 0.8676 - pre: 0.7933 - rec: 0.7127 - val_loss: 0.6346 - val_auc: 0.0000e+00 - val_pre: 1.0000 - val_rec: 0.6388\n",
      "Epoch 26/64\n",
      "26/26 [==============================] - 1s 31ms/step - loss: 0.4978 - auc: 0.8669 - pre: 0.7899 - rec: 0.7151 - val_loss: 0.6426 - val_auc: 0.0000e+00 - val_pre: 1.0000 - val_rec: 0.6043\n",
      "Epoch 27/64\n",
      "26/26 [==============================] - 1s 31ms/step - loss: 0.4954 - auc: 0.8708 - pre: 0.8001 - rec: 0.7183 - val_loss: 0.7198 - val_auc: 0.0000e+00 - val_pre: 1.0000 - val_rec: 0.5599\n",
      "Epoch 28/64\n",
      "26/26 [==============================] - 1s 32ms/step - loss: 0.4924 - auc: 0.8730 - pre: 0.8007 - rec: 0.7226 - val_loss: 0.6168 - val_auc: 0.0000e+00 - val_pre: 1.0000 - val_rec: 0.6777\n",
      "Epoch 29/64\n",
      "26/26 [==============================] - 1s 33ms/step - loss: 0.4894 - auc: 0.8739 - pre: 0.8053 - rec: 0.7134 - val_loss: 0.5820 - val_auc: 0.0000e+00 - val_pre: 1.0000 - val_rec: 0.7049\n",
      "Epoch 30/64\n",
      "26/26 [==============================] - 1s 32ms/step - loss: 0.4884 - auc: 0.8746 - pre: 0.8034 - rec: 0.7217 - val_loss: 0.5776 - val_auc: 0.0000e+00 - val_pre: 1.0000 - val_rec: 0.7004\n",
      "Epoch 31/64\n",
      "26/26 [==============================] - 1s 32ms/step - loss: 0.4834 - auc: 0.8781 - pre: 0.8021 - rec: 0.7292 - val_loss: 0.5756 - val_auc: 0.0000e+00 - val_pre: 1.0000 - val_rec: 0.7194\n",
      "Epoch 32/64\n",
      "26/26 [==============================] - 1s 32ms/step - loss: 0.4817 - auc: 0.8788 - pre: 0.8118 - rec: 0.7234 - val_loss: 0.4463 - val_auc: 0.0000e+00 - val_pre: 1.0000 - val_rec: 0.7965\n",
      "Epoch 33/64\n",
      "26/26 [==============================] - 1s 33ms/step - loss: 0.4820 - auc: 0.8794 - pre: 0.8136 - rec: 0.7238 - val_loss: 0.5387 - val_auc: 0.0000e+00 - val_pre: 1.0000 - val_rec: 0.7579\n",
      "Epoch 34/64\n",
      "26/26 [==============================] - 1s 33ms/step - loss: 0.4783 - auc: 0.8829 - pre: 0.8115 - rec: 0.7336 - val_loss: 0.5114 - val_auc: 0.0000e+00 - val_pre: 1.0000 - val_rec: 0.7634\n",
      "Epoch 35/64\n",
      "26/26 [==============================] - 1s 32ms/step - loss: 0.4755 - auc: 0.8845 - pre: 0.8117 - rec: 0.7355 - val_loss: 0.5937 - val_auc: 0.0000e+00 - val_pre: 1.0000 - val_rec: 0.7076\n",
      "Epoch 36/64\n",
      "26/26 [==============================] - 1s 32ms/step - loss: 0.4763 - auc: 0.8834 - pre: 0.8114 - rec: 0.7316 - val_loss: 0.4824 - val_auc: 0.0000e+00 - val_pre: 1.0000 - val_rec: 0.7837\n",
      "Epoch 37/64\n",
      "26/26 [==============================] - 1s 31ms/step - loss: 0.4737 - auc: 0.8854 - pre: 0.8103 - rec: 0.7391 - val_loss: 0.4370 - val_auc: 0.0000e+00 - val_pre: 1.0000 - val_rec: 0.8171\n",
      "Epoch 38/64\n",
      "26/26 [==============================] - 1s 31ms/step - loss: 0.4721 - auc: 0.8863 - pre: 0.8126 - rec: 0.7386 - val_loss: 0.5279 - val_auc: 0.0000e+00 - val_pre: 1.0000 - val_rec: 0.7459\n",
      "Epoch 39/64\n",
      "26/26 [==============================] - 1s 31ms/step - loss: 0.4678 - auc: 0.8885 - pre: 0.8126 - rec: 0.7407 - val_loss: 0.4823 - val_auc: 0.0000e+00 - val_pre: 1.0000 - val_rec: 0.7569\n",
      "Epoch 40/64\n",
      "26/26 [==============================] - 1s 32ms/step - loss: 0.4633 - auc: 0.8900 - pre: 0.8176 - rec: 0.7409 - val_loss: 0.4867 - val_auc: 0.0000e+00 - val_pre: 1.0000 - val_rec: 0.7744\n",
      "Epoch 41/64\n",
      "26/26 [==============================] - 1s 33ms/step - loss: 0.4663 - auc: 0.8883 - pre: 0.8111 - rec: 0.7411 - val_loss: 0.5291 - val_auc: 0.0000e+00 - val_pre: 1.0000 - val_rec: 0.7610\n",
      "Epoch 42/64\n",
      "26/26 [==============================] - 1s 32ms/step - loss: 0.4642 - auc: 0.8904 - pre: 0.8131 - rec: 0.7407 - val_loss: 0.5776 - val_auc: 0.0000e+00 - val_pre: 1.0000 - val_rec: 0.7662\n",
      "Epoch 43/64\n",
      "26/26 [==============================] - 1s 31ms/step - loss: 0.4579 - auc: 0.8929 - pre: 0.8188 - rec: 0.7470 - val_loss: 0.4862 - val_auc: 0.0000e+00 - val_pre: 1.0000 - val_rec: 0.7617\n",
      "Epoch 44/64\n",
      "26/26 [==============================] - 1s 32ms/step - loss: 0.4550 - auc: 0.8935 - pre: 0.8194 - rec: 0.7484 - val_loss: 0.5489 - val_auc: 0.0000e+00 - val_pre: 1.0000 - val_rec: 0.7503\n",
      "Epoch 45/64\n",
      "26/26 [==============================] - 1s 34ms/step - loss: 0.4510 - auc: 0.8960 - pre: 0.8267 - rec: 0.7471 - val_loss: 0.5908 - val_auc: 0.0000e+00 - val_pre: 1.0000 - val_rec: 0.7004\n",
      "Epoch 46/64\n",
      "26/26 [==============================] - 1s 31ms/step - loss: 0.4505 - auc: 0.8968 - pre: 0.8203 - rec: 0.7573 - val_loss: 0.5733 - val_auc: 0.0000e+00 - val_pre: 1.0000 - val_rec: 0.7317\n",
      "Epoch 47/64\n",
      "26/26 [==============================] - 1s 31ms/step - loss: 0.4513 - auc: 0.8966 - pre: 0.8253 - rec: 0.7484 - val_loss: 0.4722 - val_auc: 0.0000e+00 - val_pre: 1.0000 - val_rec: 0.7855\n",
      "Epoch 48/64\n",
      "26/26 [==============================] - 1s 32ms/step - loss: 0.4472 - auc: 0.8974 - pre: 0.8258 - rec: 0.7437 - val_loss: 0.4654 - val_auc: 0.0000e+00 - val_pre: 1.0000 - val_rec: 0.7992\n",
      "Epoch 49/64\n",
      "26/26 [==============================] - 1s 32ms/step - loss: 0.4380 - auc: 0.9019 - pre: 0.8277 - rec: 0.7610 - val_loss: 0.4178 - val_auc: 0.0000e+00 - val_pre: 1.0000 - val_rec: 0.8168\n",
      "Epoch 50/64\n",
      "26/26 [==============================] - 1s 33ms/step - loss: 0.4431 - auc: 0.9000 - pre: 0.8245 - rec: 0.7595 - val_loss: 0.5882 - val_auc: 0.0000e+00 - val_pre: 1.0000 - val_rec: 0.7307\n",
      "Epoch 51/64\n",
      "26/26 [==============================] - 1s 33ms/step - loss: 0.4416 - auc: 0.9022 - pre: 0.8278 - rec: 0.7589 - val_loss: 0.6616 - val_auc: 0.0000e+00 - val_pre: 1.0000 - val_rec: 0.7221\n",
      "Epoch 52/64\n",
      "26/26 [==============================] - 1s 32ms/step - loss: 0.4430 - auc: 0.9016 - pre: 0.8250 - rec: 0.7638 - val_loss: 0.4443 - val_auc: 0.0000e+00 - val_pre: 1.0000 - val_rec: 0.8120\n",
      "Epoch 53/64\n",
      "26/26 [==============================] - 1s 32ms/step - loss: 0.4386 - auc: 0.9020 - pre: 0.8312 - rec: 0.7584 - val_loss: 0.5026 - val_auc: 0.0000e+00 - val_pre: 1.0000 - val_rec: 0.7479\n",
      "Epoch 54/64\n",
      "26/26 [==============================] - 1s 32ms/step - loss: 0.4381 - auc: 0.9015 - pre: 0.8305 - rec: 0.7507 - val_loss: 0.4780 - val_auc: 0.0000e+00 - val_pre: 1.0000 - val_rec: 0.7999\n",
      "Epoch 55/64\n",
      "26/26 [==============================] - 1s 33ms/step - loss: 0.4321 - auc: 0.9047 - pre: 0.8277 - rec: 0.7671 - val_loss: 0.4817 - val_auc: 0.0000e+00 - val_pre: 1.0000 - val_rec: 0.7899\n",
      "Epoch 56/64\n",
      "26/26 [==============================] - 1s 32ms/step - loss: 0.4261 - auc: 0.9070 - pre: 0.8390 - rec: 0.7644 - val_loss: 0.4640 - val_auc: 0.0000e+00 - val_pre: 1.0000 - val_rec: 0.8013\n",
      "Epoch 57/64\n",
      "26/26 [==============================] - 1s 31ms/step - loss: 0.4348 - auc: 0.9045 - pre: 0.8165 - rec: 0.7767 - val_loss: 0.6530 - val_auc: 0.0000e+00 - val_pre: 1.0000 - val_rec: 0.7032\n",
      "Epoch 58/64\n",
      "26/26 [==============================] - 1s 32ms/step - loss: 0.4295 - auc: 0.9064 - pre: 0.8287 - rec: 0.7711 - val_loss: 0.4582 - val_auc: 0.0000e+00 - val_pre: 1.0000 - val_rec: 0.8134\n",
      "Epoch 59/64\n",
      "26/26 [==============================] - 1s 31ms/step - loss: 0.4265 - auc: 0.9074 - pre: 0.8337 - rec: 0.7694 - val_loss: 0.4714 - val_auc: 0.0000e+00 - val_pre: 1.0000 - val_rec: 0.7803\n",
      "Epoch 60/64\n",
      "26/26 [==============================] - 1s 32ms/step - loss: 0.4224 - auc: 0.9087 - pre: 0.8390 - rec: 0.7668 - val_loss: 0.6021 - val_auc: 0.0000e+00 - val_pre: 1.0000 - val_rec: 0.7338\n",
      "Epoch 61/64\n",
      "26/26 [==============================] - 1s 31ms/step - loss: 0.4243 - auc: 0.9077 - pre: 0.8325 - rec: 0.7701 - val_loss: 0.5426 - val_auc: 0.0000e+00 - val_pre: 1.0000 - val_rec: 0.7293\n",
      "Epoch 62/64\n",
      "26/26 [==============================] - 1s 32ms/step - loss: 0.4188 - auc: 0.9103 - pre: 0.8380 - rec: 0.7740 - val_loss: 0.6034 - val_auc: 0.0000e+00 - val_pre: 1.0000 - val_rec: 0.7159\n",
      "Epoch 63/64\n",
      "26/26 [==============================] - 1s 32ms/step - loss: 0.4185 - auc: 0.9097 - pre: 0.8317 - rec: 0.7761 - val_loss: 0.5205 - val_auc: 0.0000e+00 - val_pre: 1.0000 - val_rec: 0.7500\n",
      "Epoch 64/64\n",
      "26/26 [==============================] - 1s 31ms/step - loss: 0.4201 - auc: 0.9080 - pre: 0.8386 - rec: 0.7645 - val_loss: 0.5799 - val_auc: 0.0000e+00 - val_pre: 1.0000 - val_rec: 0.7503\n"
     ]
    },
    {
     "data": {
      "image/png": "[encoded data removed]",
      "text/plain": [
       "<Figure size 640x480 with 1 Axes>"
      ]
     },
     "metadata": {},
     "output_type": "display_data"
    }
   ],
   "source": [
    "fit, test_metrics = train_and_evaluate()"
   ]
  },
  {
   "attachments": {},
   "cell_type": "markdown",
   "metadata": {},
   "source": [
    "#### Takeaways\n",
    "\n",
    "* During training, our validation loss steeply dropped from 30 to below 1 in 16 epochs, then gradually converges to ½ by the 64th. \n",
    "* Over those same intervals, the validation recall jumps from less than 1% to 10%, then jumps to converge at 79%. "
   ]
  },
  {
   "cell_type": "code",
   "execution_count": 25,
   "metadata": {},
   "outputs": [
    {
     "name": "stdout",
     "output_type": "stream",
     "text": [
      "Model: \"sequential\"\n",
      "_________________________________________________________________\n",
      " Layer (type)                Output Shape              Param #   \n",
      "=================================================================\n",
      " dense_0 (Dense)             (None, 512)               496128    \n",
      "                                                                 \n",
      " batch_norm_0 (BatchNormaliz  (None, 512)              2048      \n",
      " ation)                                                          \n",
      "                                                                 \n",
      " dropout_0 (Dropout)         (None, 512)               0         \n",
      "                                                                 \n",
      " dense_1 (Dense)             (None, 256)               131328    \n",
      "                                                                 \n",
      " batch_norm_1 (BatchNormaliz  (None, 256)              1024      \n",
      " ation)                                                          \n",
      "                                                                 \n",
      " dropout_1 (Dropout)         (None, 256)               0         \n",
      "                                                                 \n",
      " dense_2 (Dense)             (None, 256)               65792     \n",
      "                                                                 \n",
      " batch_norm_2 (BatchNormaliz  (None, 256)              1024      \n",
      " ation)                                                          \n",
      "                                                                 \n",
      " dropout_2 (Dropout)         (None, 256)               0         \n",
      "                                                                 \n",
      " dense_3 (Dense)             (None, 128)               32896     \n",
      "                                                                 \n",
      " batch_norm_3 (BatchNormaliz  (None, 128)              512       \n",
      " ation)                                                          \n",
      "                                                                 \n",
      " dropout_3 (Dropout)         (None, 128)               0         \n",
      "                                                                 \n",
      " dense (Dense)               (None, 1)                 129       \n",
      "                                                                 \n",
      "=================================================================\n",
      "Total params: 730,881\n",
      "Trainable params: 728,577\n",
      "Non-trainable params: 2,304\n",
      "_________________________________________________________________\n"
     ]
    }
   ],
   "source": [
    "fit.summary()"
   ]
  },
  {
   "attachments": {},
   "cell_type": "markdown",
   "metadata": {},
   "source": [
    "# VI. Evaluating the Model\n",
    "\n",
    "We will test our model against the 30% of the training data held-out for validation. Since we are doing binary classification, we care about loss (binary cross-entropy), AUC, precision, and recall. We also plot the ROC curve. "
   ]
  },
  {
   "cell_type": "code",
   "execution_count": 26,
   "metadata": {},
   "outputs": [
    {
     "data": {
      "text/html": [
       "<div>\n",
       "<style scoped>\n",
       "    .dataframe tbody tr th:only-of-type {\n",
       "        vertical-align: middle;\n",
       "    }\n",
       "\n",
       "    .dataframe tbody tr th {\n",
       "        vertical-align: top;\n",
       "    }\n",
       "\n",
       "    .dataframe thead th {\n",
       "        text-align: right;\n",
       "    }\n",
       "</style>\n",
       "<table border=\"1\" class=\"dataframe\">\n",
       "  <thead>\n",
       "    <tr style=\"text-align: right;\">\n",
       "      <th></th>\n",
       "      <th>loss</th>\n",
       "      <th>auc</th>\n",
       "      <th>pre</th>\n",
       "      <th>rec</th>\n",
       "    </tr>\n",
       "  </thead>\n",
       "  <tbody>\n",
       "    <tr>\n",
       "      <th>0</th>\n",
       "      <td>30.7%</td>\n",
       "      <td>88.8%</td>\n",
       "      <td>20.7%</td>\n",
       "      <td>68.4%</td>\n",
       "    </tr>\n",
       "  </tbody>\n",
       "</table>\n",
       "</div>"
      ],
      "text/plain": [
       "    loss    auc    pre    rec\n",
       "0  30.7%  88.8%  20.7%  68.4%"
      ]
     },
     "execution_count": 26,
     "metadata": {},
     "output_type": "execute_result"
    }
   ],
   "source": [
    "pd.DataFrame({k:f'{v:.1%}' for k, v in test_metrics.items()}, index=[0])"
   ]
  },
  {
   "cell_type": "code",
   "execution_count": 27,
   "metadata": {},
   "outputs": [
    {
     "name": "stdout",
     "output_type": "stream",
     "text": [
      "5537/5537 [==============================] - 7s 1ms/step\n"
     ]
    },
    {
     "data": {
      "image/png": "[encoded data removed]",
      "text/plain": [
       "<Figure size 640x480 with 1 Axes>"
      ]
     },
     "metadata": {},
     "output_type": "display_data"
    }
   ],
   "source": [
    "fpr, tpr, threshold = roc_curve(y_val, fit.predict(X_val))\n",
    "\n",
    "plt.plot(fpr, tpr, 'b', label = f'AUC = {test_metrics[\"auc\"]:.1%}')\n",
    "plt.legend(loc = 'lower right')\n",
    "plt.plot([0, 1], [0, 1],'r--')\n",
    "plt.xlim([0, 1])\n",
    "plt.ylim([0, 1])\n",
    "plt.ylabel('True Positive Rate')\n",
    "plt.xlabel('False Positive Rate')\n",
    "plt.title('ROC Curve - Main Neural Network Model')\n",
    "plt.show()"
   ]
  },
  {
   "attachments": {},
   "cell_type": "markdown",
   "metadata": {},
   "source": [
    "#### Takeaways\n",
    "\n",
    "* We see a pretty healthy ROC curve with an area-under-the-curve of 88.8%. "
   ]
  },
  {
   "attachments": {},
   "cell_type": "markdown",
   "metadata": {},
   "source": [
    "# VII. Outputting Model\n",
    "\n",
    "Fit our model onto the unlabelled test data, then output as CSV we can upload to Kaggle."
   ]
  },
  {
   "cell_type": "code",
   "execution_count": 28,
   "metadata": {},
   "outputs": [
    {
     "name": "stdout",
     "output_type": "stream",
     "text": [
      "15835/15835 [==============================] - 23s 1ms/step\n"
     ]
    }
   ],
   "source": [
    "sub['isFraud'] = fit.predict(test)\n",
    "sub.to_csv('../data/submissions/main_neural_network_submission.csv', index=False)"
   ]
  }
 ],
 "metadata": {
  "kernelspec": {
   "display_name": "Python 3.10.4 64-bit",
   "language": "python",
   "name": "python3"
  },
  "language_info": {
   "codemirror_mode": {
    "name": "ipython",
    "version": 3
   },
   "file_extension": ".py",
   "mimetype": "text/x-python",
   "name": "python",
   "nbconvert_exporter": "python",
   "pygments_lexer": "ipython3",
   "version": "3.10.4 (tags/v3.10.4:9d38120, Mar 23 2022, 23:13:41) [MSC v.1929 64 bit (AMD64)]"
  },
  "orig_nbformat": 4,
  "vscode": {
   "interpreter": {
    "hash": "807207e50864ba942fdea3697702c6ceff6811bbc7deef42e07b12b1046b97db"
   }
  }
 },
 "nbformat": 4,
 "nbformat_minor": 2
}
