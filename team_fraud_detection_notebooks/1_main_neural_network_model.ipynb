{
 "cells": [
  {
   "cell_type": "markdown",
   "metadata": {},
   "source": [
    "# Final Project - Detecting Fraudulent Credit Card Transactions\n",
    "\n",
    "| Course | Term | Section | Group | Objective | Kaggle URL |\n",
    "| --- | --- | --- | --- | --- | --- |\n",
    "| W207 | Fall 2022 | 11 | 2 | Detect fraudulent credit card transactions | IEEE-CIS Fraud Detection ([Link](kaggle.com/competitions/ieee-fraud-detection)) |\n",
    "\n",
    "**Group Members**\n",
    "- Naikaj Pandya\n",
    "- Chase Madson\n",
    "- Eric Danforth\n"
   ]
  },
  {
   "cell_type": "markdown",
   "metadata": {},
   "source": [
    "# I. Setup"
   ]
  },
  {
   "attachments": {},
   "cell_type": "markdown",
   "metadata": {},
   "source": [
    "### A. Load Libraries"
   ]
  },
  {
   "cell_type": "code",
   "execution_count": 1,
   "metadata": {},
   "outputs": [],
   "source": [
    "import numpy as np\n",
    "import pandas as pd\n",
    "from math import floor\n",
    "import seaborn as sns\n",
    "import matplotlib.pyplot as plt\n",
    "from decimal import Decimal\n",
    "from sklearn.model_selection import train_test_split\n",
    "from sklearn.preprocessing import minmax_scale, OneHotEncoder\n",
    "import tensorflow as tf\n",
    "from sklearn.metrics import roc_curve, auc"
   ]
  },
  {
   "attachments": {},
   "cell_type": "markdown",
   "metadata": {},
   "source": [
    "### B. Load Data"
   ]
  },
  {
   "cell_type": "code",
   "execution_count": 2,
   "metadata": {},
   "outputs": [],
   "source": [
    "# Load Data\n",
    "train = pd.read_csv('../data/train_transaction.csv')\n",
    "test = pd.read_csv('../data/test_transaction.csv')\n",
    "train_identity = pd.read_csv('../data/train_identity.csv')\n",
    "test_identity = pd.read_csv('../data/test_identity.csv')\n",
    "sub = pd.read_csv('../data/sample_submission.csv').drop('isFraud', axis=1)"
   ]
  },
  {
   "attachments": {},
   "cell_type": "markdown",
   "metadata": {},
   "source": [
    "# II. Exploratory Data Analysis"
   ]
  },
  {
   "attachments": {},
   "cell_type": "markdown",
   "metadata": {},
   "source": [
    "### A. Background Info and Summary of Data\n",
    "\n",
    "This competition involves the application of machine learning neural networks to determine fraudulent credit card transactions. The aim of the project is to train a model on credit card activity dataset from Vesta and use it to determine which transactions in the test data are likely to be fraudulent. This competition is hosted by IEEE-CIS (IEEE Computational Intelligence Society) and the Vesta corporation, the world's leading payment service company.  \n",
    "\n",
    "The data comes primarily from Vesta in terms of 2 tables: the transaction table and the identity table:  \n",
    "\n",
    "* The transaction table is a list of each transaction with attributes such as transaction ID, transaction amount, card issue company, product purchased, etc. Along with these, there are a large number of \"masked\" fields in which the data is masked/encoded or the column name is masked. We believe that these masked data fields contain valuable information like currency of transaction, latitude/longitude of transaction, etc. The transaction table has the important column `isFraud` which is 1 if the transaction is a fraud and is 0 if it is not. This is our target column. The transaction table is the primary table with 1.97m rows split into train and test dataset, having 590,540 rows and 506,691 rows.  \n",
    "\n",
    "* Next, the Identity table is a much smaller table when compared to the transaction table. This table includes a number of fields that are masked/encoded because they provide identifying features. The Identity dataset has a total of 286k rows split into train and test datasets having 144,233 rows and 141,907 rows, respectively. The identity table rows can be mapped to the transaction table using the transactionID column.  "
   ]
  },
  {
   "attachments": {},
   "cell_type": "markdown",
   "metadata": {},
   "source": [
    "### B. First Look at the Data\n",
    "\n",
    "This data is collected by Vesta’s fraud protection system and digital security partners (the sponsors of this competition)."
   ]
  },
  {
   "cell_type": "code",
   "execution_count": 3,
   "metadata": {},
   "outputs": [
    {
     "data": {
      "text/html": [
       "<div>\n",
       "<style scoped>\n",
       "    .dataframe tbody tr th:only-of-type {\n",
       "        vertical-align: middle;\n",
       "    }\n",
       "\n",
       "    .dataframe tbody tr th {\n",
       "        vertical-align: top;\n",
       "    }\n",
       "\n",
       "    .dataframe thead th {\n",
       "        text-align: right;\n",
       "    }\n",
       "</style>\n",
       "<table border=\"1\" class=\"dataframe\">\n",
       "  <thead>\n",
       "    <tr style=\"text-align: right;\">\n",
       "      <th></th>\n",
       "      <th>train_transaction</th>\n",
       "      <th>test_transaction</th>\n",
       "      <th>train_identity</th>\n",
       "      <th>test_identity</th>\n",
       "    </tr>\n",
       "  </thead>\n",
       "  <tbody>\n",
       "    <tr>\n",
       "      <th>Transactions</th>\n",
       "      <td>590540</td>\n",
       "      <td>506691</td>\n",
       "      <td>144233</td>\n",
       "      <td>141907</td>\n",
       "    </tr>\n",
       "    <tr>\n",
       "      <th>Features</th>\n",
       "      <td>394</td>\n",
       "      <td>393</td>\n",
       "      <td>41</td>\n",
       "      <td>41</td>\n",
       "    </tr>\n",
       "    <tr>\n",
       "      <th>Date Range</th>\n",
       "      <td>[0, 181]</td>\n",
       "      <td>[212, 394]</td>\n",
       "      <td></td>\n",
       "      <td></td>\n",
       "    </tr>\n",
       "  </tbody>\n",
       "</table>\n",
       "</div>"
      ],
      "text/plain": [
       "             train_transaction test_transaction train_identity test_identity\n",
       "Transactions            590540           506691         144233        141907\n",
       "Features                   394              393             41            41\n",
       "Date Range            [0, 181]       [212, 394]                             "
      ]
     },
     "execution_count": 3,
     "metadata": {},
     "output_type": "execute_result"
    }
   ],
   "source": [
    "tmp_dict = {\n",
    " name:{\n",
    "    'Transactions': len(df), \n",
    "    'Features': len(df.columns),\n",
    "    'Date Range': [floor(i / (60 * 60 * 24)) - 1 for i in (df['TransactionDT'].min(), df['TransactionDT'].max())] \n",
    "                  if 'TransactionDT' in df else '',\n",
    "    }\n",
    " for df, name\n",
    " in zip(\n",
    "   (train, test, train_identity, test_identity),\n",
    "   ('train_transaction', 'test_transaction', 'train_identity', 'test_identity')\n",
    "   )\n",
    "}\n",
    "\n",
    "pd.DataFrame.from_dict(tmp_dict, dtype='str')"
   ]
  },
  {
   "attachments": {},
   "cell_type": "markdown",
   "metadata": {},
   "source": [
    "#### Takeaways  \n",
    "\n",
    "* **Big Data**: We have over half a million records of card transactions in each of `train_transaction` and `test_transaction` datasets, and a maximum of 434 features to work with\n",
    "\n",
    "- **Differing Transaction Date Ranges**: The transaction dates in `training_transaction` appear to cover a 181-day time period starting at day 0, while the transaction dates in `test_transaction` appear to cover a 182-day time period starting at day 212  \n",
    "    - The training and test data do not overlap in time\n",
    "    - Though the data publishers deliberately mask the dates of this data, we infer that Day 0 is June 1, 2018 based on timing of the competition the apparent choice to omit December as an outlier holiday month"
   ]
  },
  {
   "attachments": {},
   "cell_type": "markdown",
   "metadata": {},
   "source": [
    "### C. Missing Data"
   ]
  },
  {
   "cell_type": "code",
   "execution_count": 4,
   "metadata": {},
   "outputs": [
    {
     "data": {
      "text/html": [
       "<div>\n",
       "<style scoped>\n",
       "    .dataframe tbody tr th:only-of-type {\n",
       "        vertical-align: middle;\n",
       "    }\n",
       "\n",
       "    .dataframe tbody tr th {\n",
       "        vertical-align: top;\n",
       "    }\n",
       "\n",
       "    .dataframe thead th {\n",
       "        text-align: right;\n",
       "    }\n",
       "</style>\n",
       "<table border=\"1\" class=\"dataframe\">\n",
       "  <thead>\n",
       "    <tr style=\"text-align: right;\">\n",
       "      <th></th>\n",
       "      <th>train_transaction</th>\n",
       "      <th>test_transaction</th>\n",
       "      <th>train_identity</th>\n",
       "      <th>test_identity</th>\n",
       "    </tr>\n",
       "  </thead>\n",
       "  <tbody>\n",
       "    <tr>\n",
       "      <th>Percent of all Values that are Null</th>\n",
       "      <td>41.1%</td>\n",
       "      <td>36.9%</td>\n",
       "      <td>35.6%</td>\n",
       "      <td>36.2%</td>\n",
       "    </tr>\n",
       "    <tr>\n",
       "      <th>Total Features</th>\n",
       "      <td>394</td>\n",
       "      <td>393</td>\n",
       "      <td>41</td>\n",
       "      <td>41</td>\n",
       "    </tr>\n",
       "    <tr>\n",
       "      <th>Features w/ Nulls</th>\n",
       "      <td>374</td>\n",
       "      <td>345</td>\n",
       "      <td>38</td>\n",
       "      <td>38</td>\n",
       "    </tr>\n",
       "    <tr>\n",
       "      <th>Features w/ &gt; 50% Nulls</th>\n",
       "      <td>174</td>\n",
       "      <td>170</td>\n",
       "      <td>12</td>\n",
       "      <td>15</td>\n",
       "    </tr>\n",
       "    <tr>\n",
       "      <th>Features w/ &gt; 80% Nulls</th>\n",
       "      <td>55</td>\n",
       "      <td>52</td>\n",
       "      <td>9</td>\n",
       "      <td>9</td>\n",
       "    </tr>\n",
       "  </tbody>\n",
       "</table>\n",
       "</div>"
      ],
      "text/plain": [
       "                                    train_transaction test_transaction  \\\n",
       "Percent of all Values that are Null             41.1%            36.9%   \n",
       "Total Features                                    394              393   \n",
       "Features w/ Nulls                                 374              345   \n",
       "Features w/ > 50% Nulls                           174              170   \n",
       "Features w/ > 80% Nulls                            55               52   \n",
       "\n",
       "                                    train_identity test_identity  \n",
       "Percent of all Values that are Null          35.6%         36.2%  \n",
       "Total Features                                  41            41  \n",
       "Features w/ Nulls                               38            38  \n",
       "Features w/ > 50% Nulls                         12            15  \n",
       "Features w/ > 80% Nulls                          9             9  "
      ]
     },
     "execution_count": 4,
     "metadata": {},
     "output_type": "execute_result"
    }
   ],
   "source": [
    "tmp_dict = {\n",
    " name:{\n",
    "    'Percent of all Values that are Null': f'{(len(df) - df.count()).sum() / (df.shape[0] * df.shape[1]):.1%}',\n",
    "    'Total Features': df.shape[1],\n",
    "    'Features w/ Nulls': df.isnull().any().sum(),\n",
    "    'Features w/ > 50% Nulls': (df.count() < (len(df) * 0.5)).values.sum(),\n",
    "    'Features w/ > 80% Nulls': (df.count() < (len(df) * 0.2)).values.sum(),\n",
    "    }\n",
    " for df, name\n",
    " in zip(\n",
    "   (train, test, train_identity, test_identity),\n",
    "   ('train_transaction', 'test_transaction', 'train_identity', 'test_identity')\n",
    "   )\n",
    "}\n",
    "\n",
    "pd.DataFrame.from_dict(tmp_dict, dtype='str')"
   ]
  },
  {
   "attachments": {},
   "cell_type": "markdown",
   "metadata": {},
   "source": [
    "#### Takeaways  \n",
    "\n",
    "* **Missing Data**: Almost all the columns include some portion of missing data."
   ]
  },
  {
   "attachments": {},
   "cell_type": "markdown",
   "metadata": {},
   "source": [
    "### D. Outcome Variable - `isFraud`"
   ]
  },
  {
   "cell_type": "code",
   "execution_count": 5,
   "metadata": {},
   "outputs": [
    {
     "name": "stdout",
     "output_type": "stream",
     "text": [
      "Percent Fraudulent: 3.50%\n"
     ]
    }
   ],
   "source": [
    "print(f'Percent Fraudulent: {train.isFraud.sum() / len(train):.2%}')"
   ]
  },
  {
   "cell_type": "code",
   "execution_count": 6,
   "metadata": {},
   "outputs": [
    {
     "data": {
      "image/png": "[encoded data removed]",
      "text/plain": [
       "<Figure size 640x480 with 1 Axes>"
      ]
     },
     "metadata": {},
     "output_type": "display_data"
    }
   ],
   "source": [
    "(sns.countplot(data=train, x='isFraud')\n",
    "    .set(\n",
    "     ylabel='Number of Transactions', \n",
    "     title='Count of Fraudulent vs. Non-Fraudulent Transactions'\n",
    "     )\n",
    ");"
   ]
  },
  {
   "cell_type": "code",
   "execution_count": 7,
   "metadata": {},
   "outputs": [
    {
     "data": {
      "image/png": "[encoded data removed]",
      "text/plain": [
       "<Figure size 640x480 with 1 Axes>"
      ]
     },
     "metadata": {},
     "output_type": "display_data"
    }
   ],
   "source": [
    "boxplot = sns.boxplot(data=train, x='isFraud', y='TransactionAmt')\n",
    "boxplot.axes.axis(ymin=0, ymax=400)\n",
    "boxplot.set_ylabel('Transaction Amount')\n",
    "boxplot.set_title('Boxplots of Distributions for Fraudulent vs. Non-Fraudulent Transactions')\n",
    "boxplot;"
   ]
  },
  {
   "attachments": {},
   "cell_type": "markdown",
   "metadata": {},
   "source": [
    "#### Takeaways  \n",
    "\n",
    "* **Imbalanced Outcome Variable**: Only 3.5% of transactions are marked fraud, so we may want to account for this during training - we should be cautious of accuracy as a metric\n",
    "    - One strategy: Downsample the majority class (i.e., not-fraud transactions) in the training data to build the model, then test the model against a normal test set.  \n",
    "\n",
    "\n",
    "- **Difference in Transaction Amounts**: The distribution of fraudulent transactions appear to be somewhat greater than for the transactions not marked as fraud. This feature should be included in the model. "
   ]
  },
  {
   "attachments": {},
   "cell_type": "markdown",
   "metadata": {},
   "source": [
    "### E. Identity Table"
   ]
  },
  {
   "cell_type": "code",
   "execution_count": 8,
   "metadata": {},
   "outputs": [
    {
     "data": {
      "text/html": [
       "<div>\n",
       "<style scoped>\n",
       "    .dataframe tbody tr th:only-of-type {\n",
       "        vertical-align: middle;\n",
       "    }\n",
       "\n",
       "    .dataframe tbody tr th {\n",
       "        vertical-align: top;\n",
       "    }\n",
       "\n",
       "    .dataframe thead th {\n",
       "        text-align: right;\n",
       "    }\n",
       "</style>\n",
       "<table border=\"1\" class=\"dataframe\">\n",
       "  <thead>\n",
       "    <tr style=\"text-align: right;\">\n",
       "      <th></th>\n",
       "      <th>TransactionID</th>\n",
       "      <th>id_01</th>\n",
       "    </tr>\n",
       "    <tr>\n",
       "      <th>have_identity</th>\n",
       "      <th></th>\n",
       "      <th></th>\n",
       "    </tr>\n",
       "  </thead>\n",
       "  <tbody>\n",
       "    <tr>\n",
       "      <th>False</th>\n",
       "      <td>446307</td>\n",
       "      <td>0</td>\n",
       "    </tr>\n",
       "    <tr>\n",
       "      <th>True</th>\n",
       "      <td>144233</td>\n",
       "      <td>144233</td>\n",
       "    </tr>\n",
       "  </tbody>\n",
       "</table>\n",
       "</div>"
      ],
      "text/plain": [
       "               TransactionID   id_01\n",
       "have_identity                       \n",
       "False                 446307       0\n",
       "True                  144233  144233"
      ]
     },
     "execution_count": 8,
     "metadata": {},
     "output_type": "execute_result"
    }
   ],
   "source": [
    "(train[['TransactionID']]\n",
    "    .merge(train_identity.iloc[:,range(2)], on='TransactionID', how='left')\n",
    "    .assign(have_identity=lambda df: ~pd.isna(df['id_01']))\n",
    "    .groupby('have_identity')\n",
    "    .count()\n",
    ")"
   ]
  },
  {
   "attachments": {},
   "cell_type": "markdown",
   "metadata": {},
   "source": [
    "#### Takeaways  \n",
    "\n",
    "* The transactions in `train_identity` are a subset of the transactions in `train_transaction`, as is `test_identity` to `test_transaction` \n",
    "* About 25% of the transactions in `training_transaction` have a corresponding record in `training_identity`\n",
    "* Because joining `training_identity` features to `training_transaction` will introduce a lot of `NULL` values, we will simply create a binary variable `have_identity` to indicate whether a transaction appears in both tables"
   ]
  },
  {
   "attachments": {},
   "cell_type": "markdown",
   "metadata": {},
   "source": [
    "# III. Feature Engineering"
   ]
  },
  {
   "attachments": {},
   "cell_type": "markdown",
   "metadata": {},
   "source": [
    "### A. Custom Groupings for Purchaser and Recipient Domains\n",
    "\n",
    "To use the purchaser and recipient domain email addresses, we create a highly customized categorical variable called `custom_domain_grouping`. \n",
    "\n",
    "This uses a switch statement to condense information about:\n",
    "\n",
    "1. Drop the domain extensions so \"gmail.com\" and \"gmail\" are placed into same group\n",
    "2. Whether recipient, purchaser, or both email addresses are null\n",
    "3. Whether the recipient and purchaser domain address matched (e.g., gmail to gmail)\n",
    "4. If the recipient and purchaser domain addresses do match, what domain is it?"
   ]
  },
  {
   "cell_type": "code",
   "execution_count": 9,
   "metadata": {},
   "outputs": [],
   "source": [
    "def get_custom_domain_grouping(df_train, df_test):\n",
    "    \"\"\"This function is disgusting but gives us good categories from the domain addresses\"\"\"\n",
    "\n",
    "    # Remove the domain extensions on all variables\n",
    "    df_train['purch_domain_name'] = df_train.P_emaildomain.str.replace('\\..*', '', regex=True)\n",
    "    df_train['recip_domain_name'] = df_train.R_emaildomain.str.replace('\\..*', '', regex=True)\n",
    "    df_test['purch_domain_name'] = df_test.P_emaildomain.str.replace('\\..*', '', regex=True)\n",
    "    df_test['recip_domain_name'] = df_test.R_emaildomain.str.replace('\\..*', '', regex=True)\n",
    "\n",
    "    # Get the list of top 95% of email domains in the _training_ set only \n",
    "    top_95pct_purch_domains = (\n",
    "        df_train.purch_domain_name\n",
    "        .value_counts(normalize=True)\n",
    "        .rename_axis('factor_levels')\n",
    "        .cumsum()\n",
    "        .reset_index(name='cumsum')\n",
    "        .query('cumsum<0.95')\n",
    "        .sort_values('cumsum')\n",
    "        .factor_levels\n",
    "        .tolist()   \n",
    "    )\n",
    "    \n",
    "    # This switch statement is based on \n",
    "    custom_domain_grouping_train = np.select(\n",
    "        condlist = [\n",
    "            # Create a group for null recipients\n",
    "            df_train.R_emaildomain.isnull(),\n",
    "            # Create a group for null purchasers (when recipient not null)\n",
    "            df_train.P_emaildomain.isnull(),\n",
    "            # Create a group for purchaser domains paired with a distinct recipient domain\n",
    "            df_train.purch_domain_name != df_train.recip_domain_name,\n",
    "            # If domains match and in our most common domains \n",
    "            df_train.purch_domain_name.isin(top_95pct_purch_domains)\n",
    "            ], \n",
    "        choicelist = [\n",
    "            'Recipient or Both Blank',\n",
    "            'Just Purchaser Blank',\n",
    "            'Purchaser and Recipient Differ',\n",
    "            'Purchaser and Recipient Same: ' + df_train.purch_domain_name\n",
    "            ],\n",
    "        default='Purchaser and Recipient Same: other domain'\n",
    "    )\n",
    "\n",
    "    # Do the same as above, but for the test set\n",
    "    custom_domain_grouping_test = np.select(\n",
    "        condlist = [\n",
    "            df_test.R_emaildomain.isnull(),\n",
    "            df_test.P_emaildomain.isnull(),\n",
    "            df_test.purch_domain_name != df_test.recip_domain_name,\n",
    "            df_test.purch_domain_name.isin(top_95pct_purch_domains)\n",
    "            ], \n",
    "        choicelist = [\n",
    "            'Recipient or Both Blank',\n",
    "            'Just Purchaser Blank',\n",
    "            'Purchaser and Recipient Differ',\n",
    "            'Purchaser and Recipient Same: ' + df_test.purch_domain_name\n",
    "            ],\n",
    "        default='Purchaser and Recipient Same: other domain'\n",
    "    )\n",
    "\n",
    "    return custom_domain_grouping_train, custom_domain_grouping_test\n",
    "\n",
    "train['custom_domain_grouping'], test['custom_domain_grouping'] = get_custom_domain_grouping(train, test)"
   ]
  },
  {
   "attachments": {},
   "cell_type": "markdown",
   "metadata": {},
   "source": [
    "### B. Whether Currency has More than Two Decimals\n",
    "\n",
    "We create a new binary variable that indicates whether currency has more than two decimals, which suggests the purchase needed to be converted into USD."
   ]
  },
  {
   "cell_type": "code",
   "execution_count": 10,
   "metadata": {},
   "outputs": [],
   "source": [
    "def txn_usd_convert(amt):\n",
    "    return np.float16(-Decimal(str(amt)).as_tuple().exponent > 2)\n",
    "\n",
    "train['Transaction_curr_type'] = train['TransactionAmt'].apply(txn_usd_convert)\n",
    "test['Transaction_curr_type'] = test['TransactionAmt'].apply(txn_usd_convert)"
   ]
  },
  {
   "attachments": {},
   "cell_type": "markdown",
   "metadata": {},
   "source": [
    "### C. Feature Engineering: User ID\n",
    "\n",
    "Create a heuristic for User ID"
   ]
  },
  {
   "cell_type": "code",
   "execution_count": 11,
   "metadata": {},
   "outputs": [],
   "source": [
    "train['uid'] = train['ProductCD'].astype(str) + '_' + \\\n",
    "  train['card1'].astype(str) + '_' + \\\n",
    "  train['card4'].astype(str) + '_' + \\\n",
    "  train['card6'].astype(str) + '_' + \\\n",
    "  train['addr1'].astype(str) + '_' + \\\n",
    "  train['dist1'].astype(str) + '_' + \\\n",
    "  train['dist2'].astype(str) + '_' + \\\n",
    "  train['P_emaildomain'].astype(str) + '_' + \\\n",
    "  train['C13'].astype(str)\n",
    "train['uid'] = train['uid'].apply(lambda x: hash(x))\n",
    "\n",
    "test['uid'] = test['ProductCD'].astype(str) + '_' + \\\n",
    "  test['card1'].astype(str) + '_' + \\\n",
    "  test['card4'].astype(str) + '_' + \\\n",
    "  test['card6'].astype(str) + '_' + \\\n",
    "  test['addr1'].astype(str) + '_' + \\\n",
    "  test['dist1'].astype(str) + '_' + \\\n",
    "  test['dist2'].astype(str) + '_' + \\\n",
    "  test['P_emaildomain'].astype(str) + '_' + \\\n",
    "  test['C13'].astype(str)\n",
    "  \n",
    "test['uid'] = test['uid'].apply(lambda x: hash(x))"
   ]
  },
  {
   "attachments": {},
   "cell_type": "markdown",
   "metadata": {},
   "source": [
    "# IV. Data Preparation"
   ]
  },
  {
   "attachments": {},
   "cell_type": "markdown",
   "metadata": {},
   "source": [
    "### A. Group the Columns\n",
    "\n",
    "We define a lot of column sets for convenient subsetting features. Breaks down by numeric and categorical, and then type from there. "
   ]
  },
  {
   "cell_type": "code",
   "execution_count": 12,
   "metadata": {},
   "outputs": [],
   "source": [
    "# Transaction payment amount in USD\n",
    "features_num_amt = train[['TransactionAmt']].columns\n",
    "\n",
    "# Date and time of transactions\n",
    "features_num_dt = train[['TransactionDT']].columns\n",
    "\n",
    "# Distance measures between two masked points\n",
    "features_num_dist = train.filter(regex='^dist').columns\n",
    "\n",
    "# Various (masked) counts, e.g. how many addresses associated with payment card\n",
    "features_num_C = train.filter(regex='^C').columns\n",
    "\n",
    "# Various (masked) timedeltas, e.g. days between previous transactions\n",
    "features_num_D = train.filter(regex='^D').columns\n",
    "\n",
    "# Various (masked) Vesta engineered rich features\n",
    "features_num_V = train.filter(regex='^V').columns\n",
    "\n",
    "# uid\n",
    "features_uid = train[['uid']].columns\n",
    "\n",
    "features_num = (\n",
    "    features_num_amt\n",
    "    .union(features_num_dt)\n",
    "    .union(features_num_dist)\n",
    "    .union(features_num_C)\n",
    "    .union(features_num_D)\n",
    "    .union(features_num_V)\n",
    "    .union(features_uid)\n",
    ")"
   ]
  },
  {
   "cell_type": "code",
   "execution_count": 13,
   "metadata": {},
   "outputs": [],
   "source": [
    "# Product code for the product associated with the transaction\n",
    "features_cat_CD = train[['ProductCD']].columns\n",
    "\n",
    "# Payment card information, such as card type, card category, issue bank, country\n",
    "# features_cat_card = train.filter(regex='^card').columns\n",
    "features_cat_card4 = train.filter(regex='^card4').columns\n",
    "features_cat_card6 = train.filter(regex='^card6').columns\n",
    "\n",
    "# Address (unspecified)\n",
    "features_cat_addr = train.filter(regex='^addr').columns\n",
    "\n",
    "# Purchaser and recipient email domains\n",
    "features_cat_domain = train[['custom_domain_grouping']].columns\n",
    "\n",
    "# Various matches (masked), e.g. names on card and addresses\n",
    "features_cat_M = train.filter(regex='^M').columns\n",
    "\n",
    "# New feature - whether the transaction amount had more than 2 decimal places\n",
    "features_cat_curr_type = train[['Transaction_curr_type']].columns\n",
    "\n",
    "features_cat = (\n",
    "    features_cat_CD\n",
    "    # .union(features_cat_card)\n",
    "    .union(features_cat_card4)\n",
    "    .union(features_cat_card6)\n",
    "    .union(features_cat_addr)\n",
    "    .union(features_cat_domain)\n",
    "    .union(features_cat_M)\n",
    "    .union(features_cat_curr_type)\n",
    ")"
   ]
  },
  {
   "cell_type": "code",
   "execution_count": 14,
   "metadata": {},
   "outputs": [
    {
     "name": "stdout",
     "output_type": "stream",
     "text": [
      "We start with 389 available features: 373 numeric and 16 categorical.\n"
     ]
    }
   ],
   "source": [
    "# Define the sets of features used, by variable type \n",
    "features = features_num.union(features_cat)\n",
    "\n",
    "# Define our ID column and target\n",
    "id = train[['TransactionID']].columns\n",
    "target = train[['isFraud']].columns\n",
    "\n",
    "# Select relevant columns\n",
    "train = train[target.union(features)]\n",
    "test = test[features]\n",
    "\n",
    "print(f'We start with {len(features)} available features: {len(features_num)} numeric and {len(features_cat)} categorical.')"
   ]
  },
  {
   "attachments": {},
   "cell_type": "markdown",
   "metadata": {},
   "source": [
    "### B. Split Data into Train and Validation"
   ]
  },
  {
   "cell_type": "code",
   "execution_count": 15,
   "metadata": {},
   "outputs": [],
   "source": [
    "# Save 30% of the training data for validation\n",
    "training, validation = train_test_split(train, test_size=0.3, random_state=1)\n",
    "\n",
    "# With the remaining 70% in the training set, downsample the majority class\n",
    "training = (\n",
    "    training\n",
    "    .groupby('isFraud')\n",
    "    .sample(\n",
    "        n=sum(training.isFraud == 1),\n",
    "        random_state=1\n",
    "    )\n",
    ")\n",
    "\n",
    "# Separate the features from the label\n",
    "y_train = training[['isFraud']]\n",
    "y_val = validation[['isFraud']]\n",
    "X_train = training[features]\n",
    "X_val = validation[features]\n",
    "\n",
    "# Drop unneeded DataFrames\n",
    "del training, validation"
   ]
  },
  {
   "attachments": {},
   "cell_type": "markdown",
   "metadata": {},
   "source": [
    "### C. Preprocessing"
   ]
  },
  {
   "attachments": {},
   "cell_type": "markdown",
   "metadata": {},
   "source": [
    "#### 1. Numeric Values - Replace N/A and Normalize\n",
    "\n",
    "Apply Min-Max normalization and replace missing values for all numeric features in training, validation, and test sets"
   ]
  },
  {
   "cell_type": "code",
   "execution_count": 16,
   "metadata": {},
   "outputs": [],
   "source": [
    "def replace_na_and_normalize(df, cols=features_num):\n",
    "    return (df[cols]\n",
    "        .apply(lambda var: var.fillna(var.min() - 2))\n",
    "        .apply(minmax_scale, feature_range=(0,1))\n",
    "    )\n",
    "\n",
    "X_train[features_num] = replace_na_and_normalize(X_train)\n",
    "X_val[features_num] = replace_na_and_normalize(X_val)\n",
    "test[features_num] = replace_na_and_normalize(test)"
   ]
  },
  {
   "attachments": {},
   "cell_type": "markdown",
   "metadata": {},
   "source": [
    "#### 2. Categorical Values - Replace N/A and One-Hot Encode\n",
    "\n",
    "Replace raw categorical features with one-hot encoding values"
   ]
  },
  {
   "cell_type": "code",
   "execution_count": 17,
   "metadata": {},
   "outputs": [],
   "source": [
    "def get_one_hot_encoding(df, feature):\n",
    "    # Instantiate the transformer\n",
    "    ohe = OneHotEncoder()\n",
    "\n",
    "    # Stack all datasets to get all unique categories observed\n",
    "    categories = pd.concat([train[[feature]], test[[feature]]])\n",
    "\n",
    "    # Fit the transformer with the observed classes\n",
    "    ohe.fit(categories)\n",
    "\n",
    "    # Create a sparse array with one binary vector per category\n",
    "    transformed_array = ohe.transform(df[[feature]]).toarray()\n",
    "\n",
    "    # Turn the transformed array into a DataFrame and assign names\n",
    "    transformed_ndarray = pd.DataFrame(\n",
    "        transformed_array,\n",
    "        columns=ohe.get_feature_names_out(),\n",
    "        index=df.index\n",
    "    ).astype(np.float16)\n",
    "\n",
    "    return transformed_ndarray"
   ]
  },
  {
   "cell_type": "code",
   "execution_count": 18,
   "metadata": {},
   "outputs": [],
   "source": [
    "def replace_raw_cats_with_one_hots(df, cols=features_cat):\n",
    "    # Initialize a placeholder list\n",
    "    tmp_list = []\n",
    "\n",
    "    # For each variable in our categorical features, get one-hot encoding matrix\n",
    "    for var in features_cat:\n",
    "        tmp_list.append(get_one_hot_encoding(df, var))\n",
    "\n",
    "    # Convert list of DataFrames into one DataFrame of several sparse matrices\n",
    "    tmp_df = pd.concat(tmp_list, axis=1)\n",
    "\n",
    "    # Drop the raw categorical variables and replace with sparce matrices\n",
    "    new_df = pd.concat([df.drop(features_cat, axis=1), tmp_df], axis=1)\n",
    "    \n",
    "    return new_df"
   ]
  },
  {
   "cell_type": "code",
   "execution_count": 19,
   "metadata": {},
   "outputs": [],
   "source": [
    "# Carry out the one-hot encoding functions above for each data set\n",
    "X_train = replace_raw_cats_with_one_hots(X_train)\n",
    "X_val = replace_raw_cats_with_one_hots(X_val)\n",
    "test = replace_raw_cats_with_one_hots(test)"
   ]
  },
  {
   "attachments": {},
   "cell_type": "markdown",
   "metadata": {},
   "source": [
    "# V. Fitting a Model"
   ]
  },
  {
   "attachments": {},
   "cell_type": "markdown",
   "metadata": {},
   "source": [
    "### A. Hyperparameters for Manual Tuning"
   ]
  },
  {
   "cell_type": "code",
   "execution_count": 20,
   "metadata": {},
   "outputs": [],
   "source": [
    "HIDDEN_LAYER_SIZES = [512, 256, 256, 128]\n",
    "HL_ACTIVATION = 'relu'\n",
    "LEARNING_RATE = 0.0005\n",
    "OPTIMIZER = tf.keras.optimizers.Adam(learning_rate=LEARNING_RATE)\n",
    "LAMBDA = 0.05\n",
    "DROPOUT_RATE = 0.5\n",
    "NUM_EPOCHS = 64\n",
    "BATCH_SIZE = 1024\n",
    "VALIDATION_SPLIT = 0.1"
   ]
  },
  {
   "attachments": {},
   "cell_type": "markdown",
   "metadata": {},
   "source": [
    "### B. Define Functions for Building the Model and Testing/Evaluation"
   ]
  },
  {
   "cell_type": "code",
   "execution_count": 21,
   "metadata": {},
   "outputs": [],
   "source": [
    "def build_model():\n",
    "  i=0\n",
    "  tf.keras.backend.clear_session()\n",
    "  np.random.seed(0)\n",
    "  tf.random.set_seed(0)\n",
    "  # INPUT LAYER\n",
    "  model = tf.keras.Sequential()\n",
    "  # HIDDEN LAYERS\n",
    "  for hidden_layer_size in HIDDEN_LAYER_SIZES:\n",
    "    if i == 0:\n",
    "      model.add(tf.keras.layers.Dense(\n",
    "        units=hidden_layer_size, activation=HL_ACTIVATION, name=f'dense_{i}'\n",
    "      ))\n",
    "    else:\n",
    "      model.add(tf.keras.layers.Dense(\n",
    "        units=hidden_layer_size, activation=HL_ACTIVATION, name=f'dense_{i}',\n",
    "        kernel_regularizer=tf.keras.regularizers.L2(l2=LAMBDA)\n",
    "      ))\n",
    "    model.add(tf.keras.layers.BatchNormalization(name=f'batch_norm_{i}'))\n",
    "    model.add(tf.keras.layers.Dropout(DROPOUT_RATE, name=f'dropout_{i}'))\n",
    "    i+=1\n",
    "  # OUTPUT LAYER\n",
    "  model.add(tf.keras.layers.Dense(units=1, use_bias=True, activation='sigmoid'))\n",
    "  model.compile(\n",
    "    loss='binary_crossentropy', \n",
    "    optimizer=OPTIMIZER, \n",
    "    metrics=[\n",
    "      tf.keras.metrics.AUC(name='auc'),\n",
    "      tf.keras.metrics.Precision(name='pre'),\n",
    "      tf.keras.metrics.Recall(name='rec'),\n",
    "      ]\n",
    "  ) \n",
    "  return model"
   ]
  },
  {
   "cell_type": "code",
   "execution_count": 22,
   "metadata": {},
   "outputs": [],
   "source": [
    "def train_and_evaluate(\n",
    "  df_x_train=X_train,\n",
    "  df_y_train=y_train,\n",
    "  df_x_test=X_val,\n",
    "  df_y_test=y_val\n",
    "  ):\n",
    "\n",
    "  # Build the model.\n",
    "  model = build_model()\n",
    "\n",
    "  # Train the model.\n",
    "  print('Training...')\n",
    "\n",
    "  history = model.fit(\n",
    "    x=df_x_train,\n",
    "    y=df_y_train,\n",
    "    epochs=NUM_EPOCHS,\n",
    "    batch_size=BATCH_SIZE,\n",
    "    validation_split=VALIDATION_SPLIT,\n",
    "    verbose=1\n",
    "    )\n",
    "    \n",
    "  # Retrieve training metrics (after each train epoch) and the final test accuracy\n",
    "  train_loss = history.history['loss']\n",
    "  val_loss = history.history['val_loss']\n",
    "  plt.plot(train_loss, label='train loss')\n",
    "  plt.plot(val_loss, label='validation loss')\n",
    "  plt.xticks(range(NUM_EPOCHS))\n",
    "  plt.xlabel('Train epochs')\n",
    "  plt.legend()\n",
    "  plt.show()\n",
    "\n",
    "  test_metrics = model.evaluate(\n",
    "    x=df_x_test,\n",
    "    y=df_y_test,\n",
    "    verbose=0,\n",
    "    return_dict=True\n",
    "    )\n",
    "  \n",
    "  return model, test_metrics"
   ]
  },
  {
   "attachments": {},
   "cell_type": "markdown",
   "metadata": {},
   "source": [
    "### C. Actually Train and Evaluate the Model"
   ]
  },
  {
   "cell_type": "code",
   "execution_count": 23,
   "metadata": {},
   "outputs": [
    {
     "name": "stdout",
     "output_type": "stream",
     "text": [
      "Training...\n",
      "Epoch 1/64\n",
      "26/26 [==============================] - 3s 43ms/step - loss: 33.6171 - auc: 0.6353 - pre: 0.5489 - rec: 0.5772 - val_loss: 27.8042 - val_auc: 0.0000e+00 - val_pre: 1.0000 - val_rec: 0.0296\n",
      "Epoch 2/64\n",
      "26/26 [==============================] - 1s 32ms/step - loss: 23.5138 - auc: 0.6960 - pre: 0.5999 - rec: 0.5942 - val_loss: 19.4744 - val_auc: 0.0000e+00 - val_pre: 0.0000e+00 - val_rec: 0.0000e+00\n",
      "Epoch 3/64\n",
      "26/26 [==============================] - 1s 32ms/step - loss: 16.2225 - auc: 0.7266 - pre: 0.6324 - rec: 0.6074 - val_loss: 13.5694 - val_auc: 0.0000e+00 - val_pre: 0.0000e+00 - val_rec: 0.0000e+00\n",
      "Epoch 4/64\n",
      "26/26 [==============================] - 1s 33ms/step - loss: 11.1265 - auc: 0.7471 - pre: 0.6563 - rec: 0.6105 - val_loss: 9.4585 - val_auc: 0.0000e+00 - val_pre: 0.0000e+00 - val_rec: 0.0000e+00\n",
      "Epoch 5/64\n",
      "26/26 [==============================] - 1s 32ms/step - loss: 7.6104 - auc: 0.7716 - pre: 0.6884 - rec: 0.6281 - val_loss: 6.6854 - val_auc: 0.0000e+00 - val_pre: 0.0000e+00 - val_rec: 0.0000e+00\n",
      "Epoch 6/64\n",
      "26/26 [==============================] - 1s 32ms/step - loss: 5.2199 - auc: 0.7838 - pre: 0.7041 - rec: 0.6208 - val_loss: 4.7271 - val_auc: 0.0000e+00 - val_pre: 0.0000e+00 - val_rec: 0.0000e+00\n",
      "Epoch 7/64\n",
      "26/26 [==============================] - 1s 33ms/step - loss: 3.6002 - auc: 0.8006 - pre: 0.7198 - rec: 0.6305 - val_loss: 3.4495 - val_auc: 0.0000e+00 - val_pre: 0.0000e+00 - val_rec: 0.0000e+00\n",
      "Epoch 8/64\n",
      "26/26 [==============================] - 1s 34ms/step - loss: 2.5171 - auc: 0.8154 - pre: 0.7418 - rec: 0.6504 - val_loss: 2.5897 - val_auc: 0.0000e+00 - val_pre: 0.0000e+00 - val_rec: 0.0000e+00\n",
      "Epoch 9/64\n",
      "26/26 [==============================] - 1s 32ms/step - loss: 1.8037 - auc: 0.8213 - pre: 0.7414 - rec: 0.6588 - val_loss: 2.0366 - val_auc: 0.0000e+00 - val_pre: 1.0000 - val_rec: 3.4435e-04\n",
      "Epoch 10/64\n",
      "26/26 [==============================] - 1s 34ms/step - loss: 1.3359 - auc: 0.8298 - pre: 0.7584 - rec: 0.6635 - val_loss: 1.6688 - val_auc: 0.0000e+00 - val_pre: 1.0000 - val_rec: 0.0014\n",
      "Epoch 11/64\n",
      "26/26 [==============================] - 1s 33ms/step - loss: 1.0377 - auc: 0.8322 - pre: 0.7594 - rec: 0.6596 - val_loss: 1.4352 - val_auc: 0.0000e+00 - val_pre: 1.0000 - val_rec: 0.0031\n",
      "Epoch 12/64\n",
      "26/26 [==============================] - 1s 33ms/step - loss: 0.8453 - auc: 0.8367 - pre: 0.7662 - rec: 0.6725 - val_loss: 1.2645 - val_auc: 0.0000e+00 - val_pre: 1.0000 - val_rec: 0.0048\n",
      "Epoch 13/64\n",
      "26/26 [==============================] - 1s 32ms/step - loss: 0.7191 - auc: 0.8421 - pre: 0.7667 - rec: 0.6785 - val_loss: 1.1441 - val_auc: 0.0000e+00 - val_pre: 1.0000 - val_rec: 0.0083\n",
      "Epoch 14/64\n",
      "26/26 [==============================] - 1s 32ms/step - loss: 0.6435 - auc: 0.8445 - pre: 0.7764 - rec: 0.6749 - val_loss: 1.0642 - val_auc: 0.0000e+00 - val_pre: 1.0000 - val_rec: 0.0141\n",
      "Epoch 15/64\n",
      "26/26 [==============================] - 1s 33ms/step - loss: 0.5994 - auc: 0.8457 - pre: 0.7767 - rec: 0.6798 - val_loss: 1.0397 - val_auc: 0.0000e+00 - val_pre: 1.0000 - val_rec: 0.0220\n",
      "Epoch 16/64\n",
      "26/26 [==============================] - 1s 33ms/step - loss: 0.5722 - auc: 0.8463 - pre: 0.7798 - rec: 0.6773 - val_loss: 0.9826 - val_auc: 0.0000e+00 - val_pre: 1.0000 - val_rec: 0.0606\n",
      "Epoch 17/64\n",
      "26/26 [==============================] - 1s 34ms/step - loss: 0.5479 - auc: 0.8511 - pre: 0.7771 - rec: 0.6983 - val_loss: 0.9887 - val_auc: 0.0000e+00 - val_pre: 1.0000 - val_rec: 0.0868\n",
      "Epoch 18/64\n",
      "26/26 [==============================] - 1s 32ms/step - loss: 0.5344 - auc: 0.8517 - pre: 0.7845 - rec: 0.6883 - val_loss: 0.9140 - val_auc: 0.0000e+00 - val_pre: 1.0000 - val_rec: 0.1346\n",
      "Epoch 19/64\n",
      "26/26 [==============================] - 1s 34ms/step - loss: 0.5255 - auc: 0.8544 - pre: 0.7788 - rec: 0.6967 - val_loss: 0.8338 - val_auc: 0.0000e+00 - val_pre: 1.0000 - val_rec: 0.2552\n",
      "Epoch 20/64\n",
      "26/26 [==============================] - 1s 31ms/step - loss: 0.5217 - auc: 0.8550 - pre: 0.7846 - rec: 0.6881 - val_loss: 0.8169 - val_auc: 0.0000e+00 - val_pre: 1.0000 - val_rec: 0.3454\n",
      "Epoch 21/64\n",
      "26/26 [==============================] - 1s 32ms/step - loss: 0.5159 - auc: 0.8588 - pre: 0.7873 - rec: 0.6976 - val_loss: 0.7952 - val_auc: 0.0000e+00 - val_pre: 1.0000 - val_rec: 0.3963\n",
      "Epoch 22/64\n",
      "26/26 [==============================] - 1s 32ms/step - loss: 0.5122 - auc: 0.8595 - pre: 0.7840 - rec: 0.7081 - val_loss: 0.7934 - val_auc: 0.0000e+00 - val_pre: 1.0000 - val_rec: 0.4115\n",
      "Epoch 23/64\n",
      "26/26 [==============================] - 1s 32ms/step - loss: 0.5075 - auc: 0.8603 - pre: 0.7932 - rec: 0.6938 - val_loss: 0.7150 - val_auc: 0.0000e+00 - val_pre: 1.0000 - val_rec: 0.5296\n",
      "Epoch 24/64\n",
      "26/26 [==============================] - 1s 32ms/step - loss: 0.4994 - auc: 0.8661 - pre: 0.7965 - rec: 0.7067 - val_loss: 0.7024 - val_auc: 0.0000e+00 - val_pre: 1.0000 - val_rec: 0.5379\n",
      "Epoch 25/64\n",
      "26/26 [==============================] - 1s 31ms/step - loss: 0.5012 - auc: 0.8660 - pre: 0.7939 - rec: 0.7142 - val_loss: 0.6104 - val_auc: 0.0000e+00 - val_pre: 1.0000 - val_rec: 0.6419\n",
      "Epoch 26/64\n",
      "26/26 [==============================] - 1s 31ms/step - loss: 0.4992 - auc: 0.8695 - pre: 0.7929 - rec: 0.7171 - val_loss: 0.5902 - val_auc: 0.0000e+00 - val_pre: 1.0000 - val_rec: 0.6835\n",
      "Epoch 27/64\n",
      "26/26 [==============================] - 1s 32ms/step - loss: 0.4958 - auc: 0.8713 - pre: 0.8012 - rec: 0.7192 - val_loss: 0.6010 - val_auc: 0.0000e+00 - val_pre: 1.0000 - val_rec: 0.7173\n",
      "Epoch 28/64\n",
      "26/26 [==============================] - 1s 32ms/step - loss: 0.4976 - auc: 0.8715 - pre: 0.7956 - rec: 0.7174 - val_loss: 0.6203 - val_auc: 0.0000e+00 - val_pre: 1.0000 - val_rec: 0.6767\n",
      "Epoch 29/64\n",
      "26/26 [==============================] - 1s 32ms/step - loss: 0.4960 - auc: 0.8729 - pre: 0.7977 - rec: 0.7226 - val_loss: 0.5962 - val_auc: 0.0000e+00 - val_pre: 1.0000 - val_rec: 0.7028\n",
      "Epoch 30/64\n",
      "26/26 [==============================] - 1s 32ms/step - loss: 0.4940 - auc: 0.8741 - pre: 0.8070 - rec: 0.7159 - val_loss: 0.6313 - val_auc: 0.0000e+00 - val_pre: 1.0000 - val_rec: 0.6467\n",
      "Epoch 31/64\n",
      "26/26 [==============================] - 1s 34ms/step - loss: 0.4950 - auc: 0.8753 - pre: 0.8028 - rec: 0.7198 - val_loss: 0.5186 - val_auc: 0.0000e+00 - val_pre: 1.0000 - val_rec: 0.7724\n",
      "Epoch 32/64\n",
      "26/26 [==============================] - 1s 36ms/step - loss: 0.4872 - auc: 0.8784 - pre: 0.8094 - rec: 0.7239 - val_loss: 0.5617 - val_auc: 0.0000e+00 - val_pre: 1.0000 - val_rec: 0.7104\n",
      "Epoch 33/64\n",
      "26/26 [==============================] - 1s 32ms/step - loss: 0.4833 - auc: 0.8802 - pre: 0.8063 - rec: 0.7336 - val_loss: 0.5886 - val_auc: 0.0000e+00 - val_pre: 1.0000 - val_rec: 0.7173\n",
      "Epoch 34/64\n",
      "26/26 [==============================] - 1s 33ms/step - loss: 0.4808 - auc: 0.8802 - pre: 0.8185 - rec: 0.7179 - val_loss: 0.5480 - val_auc: 0.0000e+00 - val_pre: 1.0000 - val_rec: 0.7376\n",
      "Epoch 35/64\n",
      "26/26 [==============================] - 1s 33ms/step - loss: 0.4758 - auc: 0.8844 - pre: 0.8077 - rec: 0.7385 - val_loss: 0.6156 - val_auc: 0.0000e+00 - val_pre: 1.0000 - val_rec: 0.6849\n",
      "Epoch 36/64\n",
      "26/26 [==============================] - 1s 33ms/step - loss: 0.4784 - auc: 0.8831 - pre: 0.8099 - rec: 0.7326 - val_loss: 0.4672 - val_auc: 0.0000e+00 - val_pre: 1.0000 - val_rec: 0.7782\n",
      "Epoch 37/64\n",
      "26/26 [==============================] - 1s 33ms/step - loss: 0.4761 - auc: 0.8847 - pre: 0.8162 - rec: 0.7272 - val_loss: 0.4566 - val_auc: 0.0000e+00 - val_pre: 1.0000 - val_rec: 0.8065\n",
      "Epoch 38/64\n",
      "26/26 [==============================] - 1s 33ms/step - loss: 0.4734 - auc: 0.8861 - pre: 0.8082 - rec: 0.7368 - val_loss: 0.5850 - val_auc: 0.0000e+00 - val_pre: 1.0000 - val_rec: 0.7018\n",
      "Epoch 39/64\n",
      "26/26 [==============================] - 1s 33ms/step - loss: 0.4739 - auc: 0.8863 - pre: 0.8126 - rec: 0.7404 - val_loss: 0.5700 - val_auc: 0.0000e+00 - val_pre: 1.0000 - val_rec: 0.7324\n",
      "Epoch 40/64\n",
      "26/26 [==============================] - 1s 33ms/step - loss: 0.4645 - auc: 0.8902 - pre: 0.8205 - rec: 0.7338 - val_loss: 0.5504 - val_auc: 0.0000e+00 - val_pre: 1.0000 - val_rec: 0.7414\n",
      "Epoch 41/64\n",
      "26/26 [==============================] - 1s 34ms/step - loss: 0.4686 - auc: 0.8887 - pre: 0.8134 - rec: 0.7409 - val_loss: 0.5026 - val_auc: 0.0000e+00 - val_pre: 1.0000 - val_rec: 0.7961\n",
      "Epoch 42/64\n",
      "26/26 [==============================] - 1s 34ms/step - loss: 0.4693 - auc: 0.8884 - pre: 0.8124 - rec: 0.7450 - val_loss: 0.4921 - val_auc: 0.0000e+00 - val_pre: 1.0000 - val_rec: 0.7851\n",
      "Epoch 43/64\n",
      "26/26 [==============================] - 1s 33ms/step - loss: 0.4606 - auc: 0.8929 - pre: 0.8193 - rec: 0.7474 - val_loss: 0.5637 - val_auc: 0.0000e+00 - val_pre: 1.0000 - val_rec: 0.7321\n",
      "Epoch 44/64\n",
      "26/26 [==============================] - 1s 32ms/step - loss: 0.4637 - auc: 0.8912 - pre: 0.8202 - rec: 0.7424 - val_loss: 0.5556 - val_auc: 0.0000e+00 - val_pre: 1.0000 - val_rec: 0.7562\n",
      "Epoch 45/64\n",
      "26/26 [==============================] - 1s 33ms/step - loss: 0.4554 - auc: 0.8951 - pre: 0.8188 - rec: 0.7494 - val_loss: 0.5735 - val_auc: 0.0000e+00 - val_pre: 1.0000 - val_rec: 0.7593\n",
      "Epoch 46/64\n",
      "26/26 [==============================] - 1s 33ms/step - loss: 0.4534 - auc: 0.8956 - pre: 0.8265 - rec: 0.7422 - val_loss: 0.6001 - val_auc: 0.0000e+00 - val_pre: 1.0000 - val_rec: 0.7362\n",
      "Epoch 47/64\n",
      "26/26 [==============================] - 1s 33ms/step - loss: 0.4552 - auc: 0.8964 - pre: 0.8216 - rec: 0.7529 - val_loss: 0.5179 - val_auc: 0.0000e+00 - val_pre: 1.0000 - val_rec: 0.7669\n",
      "Epoch 48/64\n",
      "26/26 [==============================] - 1s 34ms/step - loss: 0.4473 - auc: 0.8987 - pre: 0.8263 - rec: 0.7483 - val_loss: 0.5999 - val_auc: 0.0000e+00 - val_pre: 1.0000 - val_rec: 0.7307\n",
      "Epoch 49/64\n",
      "26/26 [==============================] - 1s 33ms/step - loss: 0.4510 - auc: 0.8968 - pre: 0.8261 - rec: 0.7516 - val_loss: 0.5341 - val_auc: 0.0000e+00 - val_pre: 1.0000 - val_rec: 0.7658\n",
      "Epoch 50/64\n",
      "26/26 [==============================] - 1s 34ms/step - loss: 0.4502 - auc: 0.8971 - pre: 0.8342 - rec: 0.7444 - val_loss: 0.6337 - val_auc: 0.0000e+00 - val_pre: 1.0000 - val_rec: 0.6822\n",
      "Epoch 51/64\n",
      "26/26 [==============================] - 1s 33ms/step - loss: 0.4461 - auc: 0.8990 - pre: 0.8321 - rec: 0.7548 - val_loss: 0.6807 - val_auc: 0.0000e+00 - val_pre: 1.0000 - val_rec: 0.6680\n",
      "Epoch 52/64\n",
      "26/26 [==============================] - 1s 32ms/step - loss: 0.4476 - auc: 0.8996 - pre: 0.8237 - rec: 0.7559 - val_loss: 0.5468 - val_auc: 0.0000e+00 - val_pre: 1.0000 - val_rec: 0.7445\n",
      "Epoch 53/64\n",
      "26/26 [==============================] - 1s 32ms/step - loss: 0.4464 - auc: 0.9007 - pre: 0.8303 - rec: 0.7553 - val_loss: 0.6116 - val_auc: 0.0000e+00 - val_pre: 1.0000 - val_rec: 0.7335\n",
      "Epoch 54/64\n",
      "26/26 [==============================] - 1s 35ms/step - loss: 0.4441 - auc: 0.9010 - pre: 0.8287 - rec: 0.7565 - val_loss: 0.5493 - val_auc: 0.0000e+00 - val_pre: 1.0000 - val_rec: 0.7321\n",
      "Epoch 55/64\n",
      "26/26 [==============================] - 1s 33ms/step - loss: 0.4423 - auc: 0.9021 - pre: 0.8310 - rec: 0.7608 - val_loss: 0.6276 - val_auc: 0.0000e+00 - val_pre: 1.0000 - val_rec: 0.7073\n",
      "Epoch 56/64\n",
      "26/26 [==============================] - 1s 34ms/step - loss: 0.4373 - auc: 0.9040 - pre: 0.8338 - rec: 0.7576 - val_loss: 0.6010 - val_auc: 0.0000e+00 - val_pre: 1.0000 - val_rec: 0.7214\n",
      "Epoch 57/64\n",
      "26/26 [==============================] - 1s 33ms/step - loss: 0.4395 - auc: 0.9027 - pre: 0.8278 - rec: 0.7621 - val_loss: 0.5075 - val_auc: 0.0000e+00 - val_pre: 1.0000 - val_rec: 0.7517\n",
      "Epoch 58/64\n",
      "26/26 [==============================] - 1s 33ms/step - loss: 0.4346 - auc: 0.9053 - pre: 0.8361 - rec: 0.7610 - val_loss: 0.5199 - val_auc: 0.0000e+00 - val_pre: 1.0000 - val_rec: 0.7524\n",
      "Epoch 59/64\n",
      "26/26 [==============================] - 1s 33ms/step - loss: 0.4372 - auc: 0.9035 - pre: 0.8345 - rec: 0.7545 - val_loss: 0.5382 - val_auc: 0.0000e+00 - val_pre: 1.0000 - val_rec: 0.7514\n",
      "Epoch 60/64\n",
      "26/26 [==============================] - 1s 38ms/step - loss: 0.4343 - auc: 0.9054 - pre: 0.8352 - rec: 0.7616 - val_loss: 0.6329 - val_auc: 0.0000e+00 - val_pre: 1.0000 - val_rec: 0.6798\n",
      "Epoch 61/64\n",
      "26/26 [==============================] - 1s 35ms/step - loss: 0.4321 - auc: 0.9060 - pre: 0.8362 - rec: 0.7656 - val_loss: 0.5819 - val_auc: 0.0000e+00 - val_pre: 1.0000 - val_rec: 0.7145\n",
      "Epoch 62/64\n",
      "26/26 [==============================] - 1s 33ms/step - loss: 0.4323 - auc: 0.9063 - pre: 0.8349 - rec: 0.7606 - val_loss: 0.5175 - val_auc: 0.0000e+00 - val_pre: 1.0000 - val_rec: 0.7590\n",
      "Epoch 63/64\n",
      "26/26 [==============================] - 1s 35ms/step - loss: 0.4297 - auc: 0.9076 - pre: 0.8332 - rec: 0.7677 - val_loss: 0.7244 - val_auc: 0.0000e+00 - val_pre: 1.0000 - val_rec: 0.6911\n",
      "Epoch 64/64\n",
      "26/26 [==============================] - 1s 33ms/step - loss: 0.4252 - auc: 0.9092 - pre: 0.8345 - rec: 0.7705 - val_loss: 0.6824 - val_auc: 0.0000e+00 - val_pre: 1.0000 - val_rec: 0.6756\n"
     ]
    },
    {
     "data": {
      "image/png": "[encoded data removed]",
      "text/plain": [
       "<Figure size 640x480 with 1 Axes>"
      ]
     },
     "metadata": {},
     "output_type": "display_data"
    }
   ],
   "source": [
    "fit, test_metrics = train_and_evaluate()"
   ]
  },
  {
   "attachments": {},
   "cell_type": "markdown",
   "metadata": {},
   "source": [
    "#### Takeaways\n",
    "\n",
    "* During training, our validation loss steeply dropped from 30 to below 1 in 16 epochs, then gradually converges to ½ by the 64th. \n",
    "* Over those same intervals, the validation recall jumps from less than 1% to 10%, then jumps to converge at 79%. "
   ]
  },
  {
   "cell_type": "code",
   "execution_count": 24,
   "metadata": {},
   "outputs": [
    {
     "name": "stdout",
     "output_type": "stream",
     "text": [
      "Model: \"sequential\"\n",
      "_________________________________________________________________\n",
      " Layer (type)                Output Shape              Param #   \n",
      "=================================================================\n",
      " dense_0 (Dense)             (None, 512)               496128    \n",
      "                                                                 \n",
      " batch_norm_0 (BatchNormaliz  (None, 512)              2048      \n",
      " ation)                                                          \n",
      "                                                                 \n",
      " dropout_0 (Dropout)         (None, 512)               0         \n",
      "                                                                 \n",
      " dense_1 (Dense)             (None, 256)               131328    \n",
      "                                                                 \n",
      " batch_norm_1 (BatchNormaliz  (None, 256)              1024      \n",
      " ation)                                                          \n",
      "                                                                 \n",
      " dropout_1 (Dropout)         (None, 256)               0         \n",
      "                                                                 \n",
      " dense_2 (Dense)             (None, 256)               65792     \n",
      "                                                                 \n",
      " batch_norm_2 (BatchNormaliz  (None, 256)              1024      \n",
      " ation)                                                          \n",
      "                                                                 \n",
      " dropout_2 (Dropout)         (None, 256)               0         \n",
      "                                                                 \n",
      " dense_3 (Dense)             (None, 128)               32896     \n",
      "                                                                 \n",
      " batch_norm_3 (BatchNormaliz  (None, 128)              512       \n",
      " ation)                                                          \n",
      "                                                                 \n",
      " dropout_3 (Dropout)         (None, 128)               0         \n",
      "                                                                 \n",
      " dense (Dense)               (None, 1)                 129       \n",
      "                                                                 \n",
      "=================================================================\n",
      "Total params: 730,881\n",
      "Trainable params: 728,577\n",
      "Non-trainable params: 2,304\n",
      "_________________________________________________________________\n"
     ]
    }
   ],
   "source": [
    "fit.summary()"
   ]
  },
  {
   "attachments": {},
   "cell_type": "markdown",
   "metadata": {},
   "source": [
    "# VI. Evaluating the Model\n",
    "\n",
    "We will test our model against the 30% of the training data held-out for validation. Since we are doing binary classification, we care about loss (binary cross-entropy), AUC, precision, and recall. We also plot the ROC curve. "
   ]
  },
  {
   "cell_type": "code",
   "execution_count": 25,
   "metadata": {},
   "outputs": [
    {
     "data": {
      "text/html": [
       "<div>\n",
       "<style scoped>\n",
       "    .dataframe tbody tr th:only-of-type {\n",
       "        vertical-align: middle;\n",
       "    }\n",
       "\n",
       "    .dataframe tbody tr th {\n",
       "        vertical-align: top;\n",
       "    }\n",
       "\n",
       "    .dataframe thead th {\n",
       "        text-align: right;\n",
       "    }\n",
       "</style>\n",
       "<table border=\"1\" class=\"dataframe\">\n",
       "  <thead>\n",
       "    <tr style=\"text-align: right;\">\n",
       "      <th></th>\n",
       "      <th>loss</th>\n",
       "      <th>auc</th>\n",
       "      <th>pre</th>\n",
       "      <th>rec</th>\n",
       "    </tr>\n",
       "  </thead>\n",
       "  <tbody>\n",
       "    <tr>\n",
       "      <th>0</th>\n",
       "      <td>29.5%</td>\n",
       "      <td>88.8%</td>\n",
       "      <td>22.8%</td>\n",
       "      <td>65.6%</td>\n",
       "    </tr>\n",
       "  </tbody>\n",
       "</table>\n",
       "</div>"
      ],
      "text/plain": [
       "    loss    auc    pre    rec\n",
       "0  29.5%  88.8%  22.8%  65.6%"
      ]
     },
     "execution_count": 25,
     "metadata": {},
     "output_type": "execute_result"
    }
   ],
   "source": [
    "pd.DataFrame({k:f'{v:.1%}' for k, v in test_metrics.items()}, index=[0])"
   ]
  },
  {
   "cell_type": "code",
   "execution_count": 26,
   "metadata": {},
   "outputs": [
    {
     "name": "stdout",
     "output_type": "stream",
     "text": [
      "5537/5537 [==============================] - 8s 1ms/step\n"
     ]
    },
    {
     "data": {
      "image/png": "[encoded data removed]",
      "text/plain": [
       "<Figure size 640x480 with 1 Axes>"
      ]
     },
     "metadata": {},
     "output_type": "display_data"
    }
   ],
   "source": [
    "fpr, tpr, threshold = roc_curve(y_val, fit.predict(X_val))\n",
    "\n",
    "plt.plot(fpr, tpr, 'b', label = f'AUC = {test_metrics[\"auc\"]:.1%}')\n",
    "plt.legend(loc = 'lower right')\n",
    "plt.plot([0, 1], [0, 1],'r--')\n",
    "plt.xlim([0, 1])\n",
    "plt.ylim([0, 1])\n",
    "plt.ylabel('True Positive Rate')\n",
    "plt.xlabel('False Positive Rate')\n",
    "plt.title('ROC Curve - Main Neural Network Model')\n",
    "plt.show()"
   ]
  },
  {
   "attachments": {},
   "cell_type": "markdown",
   "metadata": {},
   "source": [
    "#### Takeaways\n",
    "\n",
    "* We see a pretty healthy ROC curve with an area-under-the-curve of 88.8%. "
   ]
  },
  {
   "attachments": {},
   "cell_type": "markdown",
   "metadata": {},
   "source": [
    "# VII. Outputting Model\n",
    "\n",
    "Fit our model onto the unlabelled test data, then output as CSV we can upload to Kaggle."
   ]
  },
  {
   "cell_type": "code",
   "execution_count": 27,
   "metadata": {},
   "outputs": [
    {
     "name": "stdout",
     "output_type": "stream",
     "text": [
      "15835/15835 [==============================] - 25s 2ms/step\n"
     ]
    }
   ],
   "source": [
    "sub['isFraud'] = fit.predict(test)\n",
    "sub.to_csv('../data/submissions/main_neural_network_submission.csv', index=False)"
   ]
  }
 ],
 "metadata": {
  "kernelspec": {
   "display_name": "Python 3.10.4 64-bit",
   "language": "python",
   "name": "python3"
  },
  "language_info": {
   "codemirror_mode": {
    "name": "ipython",
    "version": 3
   },
   "file_extension": ".py",
   "mimetype": "text/x-python",
   "name": "python",
   "nbconvert_exporter": "python",
   "pygments_lexer": "ipython3",
   "version": "3.10.4"
  },
  "orig_nbformat": 4,
  "vscode": {
   "interpreter": {
    "hash": "807207e50864ba942fdea3697702c6ceff6811bbc7deef42e07b12b1046b97db"
   }
  }
 },
 "nbformat": 4,
 "nbformat_minor": 2
}
