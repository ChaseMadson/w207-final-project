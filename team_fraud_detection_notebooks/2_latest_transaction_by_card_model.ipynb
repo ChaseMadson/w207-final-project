{
 "cells": [
  {
   "cell_type": "markdown",
   "metadata": {},
   "source": [
    "# Final Project - Detecting Fraudulent Credit Card Transactions\n",
    "\n",
    "| Course | Term | Section | Group | Objective | Kaggle URL |\n",
    "| --- | --- | --- | --- | --- | --- |\n",
    "| W207 | Fall 2022 | 11 | 2 | Detect fraudulent credit card transactions | IEEE-CIS Fraud Detection ([Link](kaggle.com/competitions/ieee-fraud-detection)) |\n",
    "\n",
    "**Group Members**\n",
    "- Naikaj Pandya\n",
    "- Chase Madson\n",
    "- Eric Danforth\n"
   ]
  },
  {
   "cell_type": "markdown",
   "metadata": {},
   "source": [
    "# I. Setup"
   ]
  },
  {
   "attachments": {},
   "cell_type": "markdown",
   "metadata": {},
   "source": [
    "### A. Load Libraries"
   ]
  },
  {
   "cell_type": "code",
   "execution_count": 1,
   "metadata": {},
   "outputs": [],
   "source": [
    "import numpy as np\n",
    "import pandas as pd\n",
    "from math import floor\n",
    "import seaborn as sns\n",
    "import matplotlib.pyplot as plt\n",
    "from decimal import Decimal\n",
    "from sklearn.model_selection import train_test_split\n",
    "from sklearn.preprocessing import minmax_scale, OneHotEncoder\n",
    "import tensorflow as tf\n",
    "from sklearn.metrics import roc_curve, auc"
   ]
  },
  {
   "attachments": {},
   "cell_type": "markdown",
   "metadata": {},
   "source": [
    "### B. Load Data"
   ]
  },
  {
   "cell_type": "code",
   "execution_count": 2,
   "metadata": {},
   "outputs": [],
   "source": [
    "# Load Data\n",
    "train = pd.read_csv('../data/train_transaction.csv')\n",
    "test = pd.read_csv('../data/test_transaction.csv')\n",
    "train_identity = pd.read_csv('../data/train_identity.csv')\n",
    "test_identity = pd.read_csv('../data/test_identity.csv')\n",
    "sub = pd.read_csv('../data/sample_submission.csv').drop('isFraud', axis=1)"
   ]
  },
  {
   "attachments": {},
   "cell_type": "markdown",
   "metadata": {},
   "source": [
    "# II. Filter to Latest Transaction by Card\n",
    "\n",
    "Group the user account (which are truncated to the last 4 digits), the user’s email address (which is just the domain), date the account opened (which we got by subtracting what we thought was the age of the account in days from the transaction date), and billing address (which is encoded). Each of these variables contain null values and we can only get complete sets on about three-quarters of the transactions.\n",
    "\n",
    "Then we dropped all but the newest record, with the assumption that the latest transaction is the one the cardholder called to report fraud on. Obviously we should be skeptical about this assumption, but that’s the best guess we have to work with. "
   ]
  },
  {
   "cell_type": "code",
   "execution_count": 3,
   "metadata": {},
   "outputs": [],
   "source": [
    "def append_time_features(df_tmp):\n",
    "    df_tmp = (df_tmp\n",
    "        .assign(\n",
    "            txn_timestamp = lambda df: \n",
    "                pd.to_datetime(\n",
    "                    arg=df.TransactionDT,\n",
    "                    unit='s',\n",
    "                    origin='2018-06-01 00:00:00'\n",
    "                ).dt.tz_localize(\n",
    "                    tz='US/Pacific',\n",
    "                    nonexistent='shift_forward',\n",
    "                    ambiguous=True),\n",
    "            txn_date = lambda df: [dt.date() for dt in df.txn_timestamp]\n",
    "        )\n",
    "    )\n",
    "    return df_tmp\n",
    "\n",
    "# Carry out the appending of new time features on each data set\n",
    "train = append_time_features(train)\n",
    "test = append_time_features(test)"
   ]
  },
  {
   "cell_type": "code",
   "execution_count": 4,
   "metadata": {},
   "outputs": [
    {
     "name": "stderr",
     "output_type": "stream",
     "text": [
      "c:\\Users\\chase\\AppData\\Local\\Programs\\Python\\Python310\\lib\\site-packages\\pandas\\core\\arrays\\datetimelike.py:1189: PerformanceWarning: Adding/subtracting object-dtype array to TimedeltaArray not vectorized.\n",
      "  warnings.warn(\n",
      "c:\\Users\\chase\\AppData\\Local\\Programs\\Python\\Python310\\lib\\site-packages\\pandas\\core\\arrays\\datetimelike.py:1189: PerformanceWarning: Adding/subtracting object-dtype array to TimedeltaArray not vectorized.\n",
      "  warnings.warn(\n"
     ]
    }
   ],
   "source": [
    "train['date_account_opened'] = train.txn_date - pd.to_timedelta(train['D1'].fillna(0), unit = 'D')\n",
    "test['date_account_opened'] = test.txn_date - pd.to_timedelta(test['D1'].fillna(0), unit = 'D')"
   ]
  },
  {
   "cell_type": "code",
   "execution_count": 5,
   "metadata": {},
   "outputs": [],
   "source": [
    "user_composite_key = ['card1', 'addr1', 'date_account_opened', 'P_emaildomain']"
   ]
  },
  {
   "cell_type": "code",
   "execution_count": 6,
   "metadata": {},
   "outputs": [],
   "source": [
    "train[user_composite_key] = train[user_composite_key].fillna('missing')\n",
    "test[user_composite_key] = test[user_composite_key].fillna('missing')"
   ]
  },
  {
   "cell_type": "code",
   "execution_count": 7,
   "metadata": {},
   "outputs": [],
   "source": [
    "train_full = train\n",
    "train = (train\n",
    "    .sort_values('TransactionDT')\n",
    "    .groupby(user_composite_key)\n",
    "    .last()\n",
    "    .reset_index()\n",
    ")\n",
    "test_full = test\n",
    "test = (test\n",
    "    .sort_values('TransactionDT')\n",
    "    .groupby(user_composite_key)\n",
    "    .last()\n",
    "    .reset_index()\n",
    ")\n",
    "users = (test\n",
    "    .sort_values('TransactionDT')\n",
    "    .groupby(user_composite_key)\n",
    "    .last()\n",
    "    .reset_index()\n",
    "    .filter(regex='|'.join(user_composite_key))\n",
    ")"
   ]
  },
  {
   "attachments": {},
   "cell_type": "markdown",
   "metadata": {},
   "source": [
    "# III. Feature Engineering"
   ]
  },
  {
   "attachments": {},
   "cell_type": "markdown",
   "metadata": {},
   "source": [
    "### A. Custom Groupings for Purchaser and Recipient Domains\n",
    "\n",
    "To use the purchaser and recipient domain email addresses, we create a highly customized categorical variable called `custom_domain_grouping`. \n",
    "\n",
    "This uses a switch statement to condense information about:\n",
    "\n",
    "1. Drop the domain extensions so \"gmail.com\" and \"gmail\" are placed into same group\n",
    "2. Whether recipient, purchaser, or both email addresses are null\n",
    "3. Whether the recipient and purchaser domain address matched (e.g., gmail to gmail)\n",
    "4. If the recipient and purchaser domain addresses do match, what domain is it?"
   ]
  },
  {
   "cell_type": "code",
   "execution_count": 8,
   "metadata": {},
   "outputs": [],
   "source": [
    "def get_custom_domain_grouping(df_train, df_test):\n",
    "    \"\"\"This function is disgusting but gives us good categories from the domain addresses\"\"\"\n",
    "\n",
    "    # Remove the domain extensions on all variables\n",
    "    df_train['purch_domain_name'] = df_train.P_emaildomain.str.replace('\\..*', '', regex=True)\n",
    "    df_train['recip_domain_name'] = df_train.R_emaildomain.str.replace('\\..*', '', regex=True)\n",
    "    df_test['purch_domain_name'] = df_test.P_emaildomain.str.replace('\\..*', '', regex=True)\n",
    "    df_test['recip_domain_name'] = df_test.R_emaildomain.str.replace('\\..*', '', regex=True)\n",
    "\n",
    "    # Get the list of top 95% of email domains in the _training_ set only \n",
    "    top_95pct_purch_domains = (\n",
    "        df_train.purch_domain_name\n",
    "        .value_counts(normalize=True)\n",
    "        .rename_axis('factor_levels')\n",
    "        .cumsum()\n",
    "        .reset_index(name='cumsum')\n",
    "        .query('cumsum<0.95')\n",
    "        .sort_values('cumsum')\n",
    "        .factor_levels\n",
    "        .tolist()   \n",
    "    )\n",
    "    \n",
    "    # This switch statement is based on \n",
    "    custom_domain_grouping_train = np.select(\n",
    "        condlist = [\n",
    "            # Create a group for null recipients\n",
    "            df_train.R_emaildomain.isnull(),\n",
    "            # Create a group for null purchasers (when recipient not null)\n",
    "            df_train.P_emaildomain.isnull(),\n",
    "            # Create a group for purchaser domains paired with a distinct recipient domain\n",
    "            df_train.purch_domain_name != df_train.recip_domain_name,\n",
    "            # If domains match and in our most common domains \n",
    "            df_train.purch_domain_name.isin(top_95pct_purch_domains)\n",
    "            ], \n",
    "        choicelist = [\n",
    "            'Recipient or Both Blank',\n",
    "            'Just Purchaser Blank',\n",
    "            'Purchaser and Recipient Differ',\n",
    "            'Purchaser and Recipient Same: ' + df_train.purch_domain_name\n",
    "            ],\n",
    "        default='Purchaser and Recipient Same: other domain'\n",
    "    )\n",
    "\n",
    "    # Do the same as above, but for the test set\n",
    "    custom_domain_grouping_test = np.select(\n",
    "        condlist = [\n",
    "            df_test.R_emaildomain.isnull(),\n",
    "            df_test.P_emaildomain.isnull(),\n",
    "            df_test.purch_domain_name != df_test.recip_domain_name,\n",
    "            df_test.purch_domain_name.isin(top_95pct_purch_domains)\n",
    "            ], \n",
    "        choicelist = [\n",
    "            'Recipient or Both Blank',\n",
    "            'Just Purchaser Blank',\n",
    "            'Purchaser and Recipient Differ',\n",
    "            'Purchaser and Recipient Same: ' + df_test.purch_domain_name\n",
    "            ],\n",
    "        default='Purchaser and Recipient Same: other domain'\n",
    "    )\n",
    "\n",
    "    return custom_domain_grouping_train, custom_domain_grouping_test\n",
    "\n",
    "train['custom_domain_grouping'], test['custom_domain_grouping'] = get_custom_domain_grouping(train, test)\n",
    "train_full['custom_domain_grouping'], test_full['custom_domain_grouping'] = get_custom_domain_grouping(train_full, test_full)"
   ]
  },
  {
   "attachments": {},
   "cell_type": "markdown",
   "metadata": {},
   "source": [
    "### B. Whether Currency has More than Two Decimals\n",
    "\n",
    "We create a new binary variable that indicates whether currency has more than two decimals, which suggests the purchase needed to be converted into USD."
   ]
  },
  {
   "cell_type": "code",
   "execution_count": 9,
   "metadata": {},
   "outputs": [],
   "source": [
    "def txn_usd_convert(amt):\n",
    "    return np.float16(-Decimal(str(amt)).as_tuple().exponent > 2)\n",
    "\n",
    "train['Transaction_curr_type'] = train['TransactionAmt'].apply(txn_usd_convert)\n",
    "test['Transaction_curr_type'] = test['TransactionAmt'].apply(txn_usd_convert)\n",
    "\n",
    "train_full['Transaction_curr_type'] = train_full['TransactionAmt'].apply(txn_usd_convert)\n",
    "test_full['Transaction_curr_type'] = test_full['TransactionAmt'].apply(txn_usd_convert)"
   ]
  },
  {
   "attachments": {},
   "cell_type": "markdown",
   "metadata": {},
   "source": [
    "# IV. Data Preparation"
   ]
  },
  {
   "attachments": {},
   "cell_type": "markdown",
   "metadata": {},
   "source": [
    "### A. Group the Columns\n",
    "\n",
    "We define a lot of column sets for convenient subsetting features. Breaks down by numeric and categorical, and then type from there. "
   ]
  },
  {
   "cell_type": "code",
   "execution_count": 10,
   "metadata": {},
   "outputs": [],
   "source": [
    "# Transaction payment amount in USD\n",
    "features_num_amt = train[['TransactionAmt']].columns\n",
    "\n",
    "# Date and time of transactions\n",
    "features_num_dt = train[['TransactionDT']].columns\n",
    "\n",
    "# Distance measures between two masked points\n",
    "features_num_dist = train.filter(regex='^dist').columns\n",
    "\n",
    "# Various (masked) counts, e.g. how many addresses associated with payment card\n",
    "features_num_C = train.filter(regex='^C').columns\n",
    "\n",
    "# Various (masked) timedeltas, e.g. days between previous transactions\n",
    "features_num_D = train.filter(regex='^D').columns\n",
    "\n",
    "# Various (masked) Vesta engineered rich features\n",
    "features_num_V = train.filter(regex='^V').columns\n",
    "\n",
    "features_num = (\n",
    "    features_num_amt\n",
    "    .union(features_num_dt)\n",
    "    .union(features_num_dist)\n",
    "    .union(features_num_C)\n",
    "    .union(features_num_D)\n",
    "    .union(features_num_V)\n",
    ")"
   ]
  },
  {
   "cell_type": "code",
   "execution_count": 11,
   "metadata": {},
   "outputs": [],
   "source": [
    "# Product code for the product associated with the transaction\n",
    "features_cat_CD = train[['ProductCD']].columns\n",
    "\n",
    "# Address (unspecified)\n",
    "features_cat_addr = train.filter(regex='^addr').columns\n",
    "\n",
    "# Purchaser and recipient email domains\n",
    "features_cat_domain = train[['custom_domain_grouping']].columns\n",
    "\n",
    "# Various matches (masked), e.g. names on card and addresses\n",
    "features_cat_M = train.filter(regex='^M').columns\n",
    "\n",
    "# New feature - whether the transaction amount had more than 2 decimal places\n",
    "features_cat_curr_type = train[['Transaction_curr_type']].columns\n",
    "\n",
    "features_cat = (\n",
    "    features_cat_CD\n",
    "    .union(features_cat_domain)\n",
    "    .union(features_cat_M)\n",
    "    .union(features_cat_curr_type)\n",
    ")"
   ]
  },
  {
   "cell_type": "code",
   "execution_count": 12,
   "metadata": {},
   "outputs": [
    {
     "name": "stdout",
     "output_type": "stream",
     "text": [
      "We start with 384 available features: 372 numeric and 12 categorical.\n"
     ]
    }
   ],
   "source": [
    "# Define the sets of features used, by variable type \n",
    "features = features_num.union(features_cat)\n",
    "\n",
    "# Define our ID column and target\n",
    "id = train[['TransactionID']].columns\n",
    "target = train[['isFraud']].columns\n",
    "\n",
    "# Select relevant columns\n",
    "train = train[target.union(features)]\n",
    "test = test[features]\n",
    "train_full = train_full[target.union(features).union(user_composite_key)]\n",
    "test_full = test_full[features.union(user_composite_key)]\n",
    "\n",
    "print(f'We start with {len(features)} available features: {len(features_num)} numeric and {len(features_cat)} categorical.')"
   ]
  },
  {
   "attachments": {},
   "cell_type": "markdown",
   "metadata": {},
   "source": [
    "### B. Split Data into Train and Validation"
   ]
  },
  {
   "cell_type": "code",
   "execution_count": 13,
   "metadata": {},
   "outputs": [],
   "source": [
    "# Save 30% of the training data for validation\n",
    "training, validation = train_test_split(train, test_size=0.3, random_state=1)\n",
    "\n",
    "# With the remaining 70% in the training set, downsample the majority class\n",
    "training = (\n",
    "    training\n",
    "    .groupby('isFraud')\n",
    "    .sample(\n",
    "        n=sum(training.isFraud == 1),\n",
    "        random_state=1\n",
    "    )\n",
    ")\n",
    "\n",
    "# Separate the features from the label\n",
    "y_train = training[['isFraud']]\n",
    "y_val = validation[['isFraud']]\n",
    "X_train = training[features]\n",
    "X_val = validation[features]\n",
    "\n",
    "# Drop unneeded DataFrames\n",
    "del training, validation"
   ]
  },
  {
   "attachments": {},
   "cell_type": "markdown",
   "metadata": {},
   "source": [
    "### C. Preprocessing"
   ]
  },
  {
   "attachments": {},
   "cell_type": "markdown",
   "metadata": {},
   "source": [
    "#### 1. Numeric Values - Replace N/A and Normalize\n",
    "\n",
    "Apply Min-Max normalization and replace missing values for all numeric features in training, validation, and test sets"
   ]
  },
  {
   "cell_type": "code",
   "execution_count": 14,
   "metadata": {},
   "outputs": [],
   "source": [
    "def replace_na_and_normalize(df, cols=features_num):\n",
    "    return (df[cols]\n",
    "        .apply(lambda var: var.fillna(var.min() - 2))\n",
    "        .apply(minmax_scale, feature_range=(0,1))\n",
    "    )\n",
    "\n",
    "X_train[features_num] = replace_na_and_normalize(X_train)\n",
    "X_val[features_num] = replace_na_and_normalize(X_val)\n",
    "test[features_num] = replace_na_and_normalize(test)"
   ]
  },
  {
   "attachments": {},
   "cell_type": "markdown",
   "metadata": {},
   "source": [
    "#### 2. Categorical Values - Replace N/A and One-Hot Encode\n",
    "\n",
    "Replace raw categorical features with one-hot encoding values"
   ]
  },
  {
   "cell_type": "code",
   "execution_count": 15,
   "metadata": {},
   "outputs": [],
   "source": [
    "def get_one_hot_encoding(df, feature):\n",
    "    # Instantiate the transformer\n",
    "    ohe = OneHotEncoder()\n",
    "\n",
    "    # Stack all datasets to get all unique categories observed\n",
    "    categories = pd.concat([train[[feature]], test[[feature]]])\n",
    "\n",
    "    # Fit the transformer with the observed classes\n",
    "    ohe.fit(categories)\n",
    "\n",
    "    # Create a sparse array with one binary vector per category\n",
    "    transformed_array = ohe.transform(df[[feature]]).toarray()\n",
    "\n",
    "    # Turn the transformed array into a DataFrame and assign names\n",
    "    transformed_ndarray = pd.DataFrame(\n",
    "        transformed_array,\n",
    "        columns=ohe.get_feature_names_out(),\n",
    "        index=df.index\n",
    "    ).astype(np.float16)\n",
    "\n",
    "    return transformed_ndarray"
   ]
  },
  {
   "cell_type": "code",
   "execution_count": 16,
   "metadata": {},
   "outputs": [],
   "source": [
    "def replace_raw_cats_with_one_hots(df, cols=features_cat):\n",
    "    # Initialize a placeholder list\n",
    "    tmp_list = []\n",
    "\n",
    "    # For each variable in our categorical features, get one-hot encoding matrix\n",
    "    for var in features_cat:\n",
    "        tmp_list.append(get_one_hot_encoding(df, var))\n",
    "\n",
    "    # Convert list of DataFrames into one DataFrame of several sparse matrices\n",
    "    tmp_df = pd.concat(tmp_list, axis=1)\n",
    "\n",
    "    # Drop the raw categorical variables and replace with sparce matrices\n",
    "    new_df = pd.concat([df.drop(features_cat, axis=1), tmp_df], axis=1)\n",
    "    \n",
    "    return new_df"
   ]
  },
  {
   "cell_type": "code",
   "execution_count": 17,
   "metadata": {},
   "outputs": [],
   "source": [
    "# Carry out the one-hot encoding functions above for each data set\n",
    "X_train = replace_raw_cats_with_one_hots(X_train)\n",
    "X_val = replace_raw_cats_with_one_hots(X_val)\n",
    "test = replace_raw_cats_with_one_hots(test)"
   ]
  },
  {
   "attachments": {},
   "cell_type": "markdown",
   "metadata": {},
   "source": [
    "# V. Fitting a Model"
   ]
  },
  {
   "attachments": {},
   "cell_type": "markdown",
   "metadata": {},
   "source": [
    "### A. Hyperparameters for Manual Tuning"
   ]
  },
  {
   "cell_type": "code",
   "execution_count": 18,
   "metadata": {},
   "outputs": [],
   "source": [
    "HIDDEN_LAYER_SIZES = [512, 256, 256, 128]\n",
    "HL_ACTIVATION = 'relu'\n",
    "LEARNING_RATE = 0.0005\n",
    "OPTIMIZER = tf.keras.optimizers.Adam(learning_rate=LEARNING_RATE)\n",
    "LAMBDA = 0.05\n",
    "DROPOUT_RATE = 0.5\n",
    "NUM_EPOCHS = 64\n",
    "BATCH_SIZE = 1024\n",
    "VALIDATION_SPLIT = 0.1"
   ]
  },
  {
   "attachments": {},
   "cell_type": "markdown",
   "metadata": {},
   "source": [
    "### B. Define Functions for Building the Model and Testing/Evaluation"
   ]
  },
  {
   "cell_type": "code",
   "execution_count": 19,
   "metadata": {},
   "outputs": [],
   "source": [
    "def build_model():\n",
    "  i=0\n",
    "  tf.keras.backend.clear_session()\n",
    "  np.random.seed(0)\n",
    "  tf.random.set_seed(0)\n",
    "  # INPUT LAYER\n",
    "  model = tf.keras.Sequential()\n",
    "  # HIDDEN LAYERS\n",
    "  for hidden_layer_size in HIDDEN_LAYER_SIZES:\n",
    "    if i == 0:\n",
    "      model.add(tf.keras.layers.Dense(\n",
    "        units=hidden_layer_size, activation=HL_ACTIVATION, name=f'dense_{i}'\n",
    "      ))\n",
    "    else:\n",
    "      model.add(tf.keras.layers.Dense(\n",
    "        units=hidden_layer_size, activation=HL_ACTIVATION, name=f'dense_{i}',\n",
    "        kernel_regularizer=tf.keras.regularizers.L2(l2=LAMBDA)\n",
    "      ))\n",
    "    model.add(tf.keras.layers.BatchNormalization(name=f'batch_norm_{i}'))\n",
    "    model.add(tf.keras.layers.Dropout(DROPOUT_RATE, name=f'dropout_{i}'))\n",
    "    i+=1\n",
    "  # OUTPUT LAYER\n",
    "  model.add(tf.keras.layers.Dense(units=1, use_bias=True, activation='sigmoid'))\n",
    "  model.compile(\n",
    "    loss='binary_crossentropy', \n",
    "    optimizer=OPTIMIZER, \n",
    "    metrics=[\n",
    "      tf.keras.metrics.AUC(name='auc'),\n",
    "      tf.keras.metrics.Precision(name='pre'),\n",
    "      tf.keras.metrics.Recall(name='rec'),\n",
    "      ]\n",
    "  ) \n",
    "  return model"
   ]
  },
  {
   "cell_type": "code",
   "execution_count": 20,
   "metadata": {},
   "outputs": [],
   "source": [
    "def train_and_evaluate(\n",
    "  df_x_train=X_train,\n",
    "  df_y_train=y_train,\n",
    "  df_x_test=X_val,\n",
    "  df_y_test=y_val\n",
    "  ):\n",
    "\n",
    "  # Build the model.\n",
    "  model = build_model()\n",
    "\n",
    "  # Train the model.\n",
    "  print('Training...')\n",
    "\n",
    "  history = model.fit(\n",
    "    x=df_x_train,\n",
    "    y=df_y_train,\n",
    "    epochs=NUM_EPOCHS,\n",
    "    batch_size=BATCH_SIZE,\n",
    "    validation_split=VALIDATION_SPLIT,\n",
    "    verbose=1\n",
    "    )\n",
    "    \n",
    "  # Retrieve training metrics (after each train epoch) and the final test accuracy\n",
    "  train_loss = history.history['loss']\n",
    "  val_loss = history.history['val_loss']\n",
    "  plt.plot(train_loss, label='train loss')\n",
    "  plt.plot(val_loss, label='validation loss')\n",
    "  plt.xticks(range(NUM_EPOCHS))\n",
    "  plt.xlabel('Train epochs')\n",
    "  plt.legend()\n",
    "  plt.show()\n",
    "\n",
    "  test_metrics = model.evaluate(\n",
    "    x=df_x_test,\n",
    "    y=df_y_test,\n",
    "    verbose=0,\n",
    "    return_dict=True\n",
    "    )\n",
    "  \n",
    "  return model, test_metrics"
   ]
  },
  {
   "attachments": {},
   "cell_type": "markdown",
   "metadata": {},
   "source": [
    "### C. Actually Train and Evaluate the Model"
   ]
  },
  {
   "cell_type": "code",
   "execution_count": 21,
   "metadata": {},
   "outputs": [
    {
     "name": "stdout",
     "output_type": "stream",
     "text": [
      "Training...\n",
      "Epoch 1/64\n",
      "10/10 [==============================] - 2s 59ms/step - loss: 37.0796 - auc: 0.6221 - pre: 0.5377 - rec: 0.5748 - val_loss: 34.2233 - val_auc: 0.0000e+00 - val_pre: 1.0000 - val_rec: 0.7173\n",
      "Epoch 2/64\n",
      "10/10 [==============================] - 0s 29ms/step - loss: 32.4220 - auc: 0.6776 - pre: 0.5906 - rec: 0.5932 - val_loss: 29.9823 - val_auc: 0.0000e+00 - val_pre: 1.0000 - val_rec: 0.3947\n",
      "Epoch 3/64\n",
      "10/10 [==============================] - 0s 30ms/step - loss: 28.2482 - auc: 0.6913 - pre: 0.6070 - rec: 0.5919 - val_loss: 26.1891 - val_auc: 0.0000e+00 - val_pre: 1.0000 - val_rec: 0.0738\n",
      "Epoch 4/64\n",
      "10/10 [==============================] - 0s 30ms/step - loss: 24.5276 - auc: 0.7053 - pre: 0.6227 - rec: 0.5906 - val_loss: 22.8327 - val_auc: 0.0000e+00 - val_pre: 1.0000 - val_rec: 0.0187\n",
      "Epoch 5/64\n",
      "10/10 [==============================] - 0s 30ms/step - loss: 21.2405 - auc: 0.7266 - pre: 0.6450 - rec: 0.6008 - val_loss: 19.8699 - val_auc: 0.0000e+00 - val_pre: 1.0000 - val_rec: 0.0071\n",
      "Epoch 6/64\n",
      "10/10 [==============================] - 0s 30ms/step - loss: 18.3628 - auc: 0.7437 - pre: 0.6606 - rec: 0.6070 - val_loss: 17.2822 - val_auc: 0.0000e+00 - val_pre: 1.0000 - val_rec: 0.0018\n",
      "Epoch 7/64\n",
      "10/10 [==============================] - 0s 29ms/step - loss: 15.8548 - auc: 0.7497 - pre: 0.6718 - rec: 0.6006 - val_loss: 15.0270 - val_auc: 0.0000e+00 - val_pre: 1.0000 - val_rec: 8.8889e-04\n",
      "Epoch 8/64\n",
      "10/10 [==============================] - 0s 30ms/step - loss: 13.6810 - auc: 0.7528 - pre: 0.6759 - rec: 0.5961 - val_loss: 13.0703 - val_auc: 0.0000e+00 - val_pre: 0.0000e+00 - val_rec: 0.0000e+00\n",
      "Epoch 9/64\n",
      "10/10 [==============================] - 0s 30ms/step - loss: 11.7853 - auc: 0.7692 - pre: 0.6945 - rec: 0.6068 - val_loss: 11.3639 - val_auc: 0.0000e+00 - val_pre: 0.0000e+00 - val_rec: 0.0000e+00\n",
      "Epoch 10/64\n",
      "10/10 [==============================] - 0s 30ms/step - loss: 10.1457 - auc: 0.7802 - pre: 0.7106 - rec: 0.6168 - val_loss: 9.8929 - val_auc: 0.0000e+00 - val_pre: 0.0000e+00 - val_rec: 0.0000e+00\n",
      "Epoch 11/64\n",
      "10/10 [==============================] - 0s 32ms/step - loss: 8.7328 - auc: 0.7900 - pre: 0.7232 - rec: 0.6248 - val_loss: 8.6008 - val_auc: 0.0000e+00 - val_pre: 0.0000e+00 - val_rec: 0.0000e+00\n",
      "Epoch 12/64\n",
      "10/10 [==============================] - 0s 32ms/step - loss: 7.5128 - auc: 0.7973 - pre: 0.7360 - rec: 0.6235 - val_loss: 7.5040 - val_auc: 0.0000e+00 - val_pre: 0.0000e+00 - val_rec: 0.0000e+00\n",
      "Epoch 13/64\n",
      "10/10 [==============================] - 0s 30ms/step - loss: 6.4674 - auc: 0.8038 - pre: 0.7394 - rec: 0.6299 - val_loss: 6.5365 - val_auc: 0.0000e+00 - val_pre: 1.0000 - val_rec: 8.8889e-04\n",
      "Epoch 14/64\n",
      "10/10 [==============================] - 0s 29ms/step - loss: 5.5622 - auc: 0.8134 - pre: 0.7530 - rec: 0.6444 - val_loss: 5.7311 - val_auc: 0.0000e+00 - val_pre: 1.0000 - val_rec: 8.8889e-04\n",
      "Epoch 15/64\n",
      "10/10 [==============================] - 0s 30ms/step - loss: 4.7937 - auc: 0.8160 - pre: 0.7544 - rec: 0.6526 - val_loss: 5.0340 - val_auc: 0.0000e+00 - val_pre: 0.0000e+00 - val_rec: 0.0000e+00\n",
      "Epoch 16/64\n",
      "10/10 [==============================] - 0s 30ms/step - loss: 4.1339 - auc: 0.8195 - pre: 0.7580 - rec: 0.6497 - val_loss: 4.4375 - val_auc: 0.0000e+00 - val_pre: 1.0000 - val_rec: 8.8889e-04\n",
      "Epoch 17/64\n",
      "10/10 [==============================] - 0s 30ms/step - loss: 3.5735 - auc: 0.8225 - pre: 0.7736 - rec: 0.6464 - val_loss: 3.9289 - val_auc: 0.0000e+00 - val_pre: 0.0000e+00 - val_rec: 0.0000e+00\n",
      "Epoch 18/64\n",
      "10/10 [==============================] - 0s 30ms/step - loss: 3.0863 - auc: 0.8341 - pre: 0.7756 - rec: 0.6639 - val_loss: 3.4860 - val_auc: 0.0000e+00 - val_pre: 1.0000 - val_rec: 8.8889e-04\n",
      "Epoch 19/64\n",
      "10/10 [==============================] - 0s 32ms/step - loss: 2.6743 - auc: 0.8374 - pre: 0.7762 - rec: 0.6590 - val_loss: 3.1059 - val_auc: 0.0000e+00 - val_pre: 1.0000 - val_rec: 8.8889e-04\n",
      "Epoch 20/64\n",
      "10/10 [==============================] - 0s 32ms/step - loss: 2.3326 - auc: 0.8359 - pre: 0.7755 - rec: 0.6635 - val_loss: 2.7946 - val_auc: 0.0000e+00 - val_pre: 1.0000 - val_rec: 8.8889e-04\n",
      "Epoch 21/64\n",
      "10/10 [==============================] - 0s 30ms/step - loss: 2.0313 - auc: 0.8432 - pre: 0.7924 - rec: 0.6710 - val_loss: 2.5138 - val_auc: 0.0000e+00 - val_pre: 1.0000 - val_rec: 8.8889e-04\n",
      "Epoch 22/64\n",
      "10/10 [==============================] - 0s 30ms/step - loss: 1.7853 - auc: 0.8446 - pre: 0.7880 - rec: 0.6641 - val_loss: 2.2962 - val_auc: 0.0000e+00 - val_pre: 1.0000 - val_rec: 8.8889e-04\n",
      "Epoch 23/64\n",
      "10/10 [==============================] - 0s 32ms/step - loss: 1.5783 - auc: 0.8451 - pre: 0.7898 - rec: 0.6673 - val_loss: 2.0984 - val_auc: 0.0000e+00 - val_pre: 1.0000 - val_rec: 8.8889e-04\n",
      "Epoch 24/64\n",
      "10/10 [==============================] - 0s 31ms/step - loss: 1.3999 - auc: 0.8449 - pre: 0.7982 - rec: 0.6753 - val_loss: 1.9376 - val_auc: 0.0000e+00 - val_pre: 1.0000 - val_rec: 8.8889e-04\n",
      "Epoch 25/64\n",
      "10/10 [==============================] - 0s 30ms/step - loss: 1.2503 - auc: 0.8488 - pre: 0.8023 - rec: 0.6693 - val_loss: 1.7690 - val_auc: 0.0000e+00 - val_pre: 1.0000 - val_rec: 0.0062\n",
      "Epoch 26/64\n",
      "10/10 [==============================] - 0s 30ms/step - loss: 1.1182 - auc: 0.8559 - pre: 0.8038 - rec: 0.6757 - val_loss: 1.6708 - val_auc: 0.0000e+00 - val_pre: 1.0000 - val_rec: 0.0089\n",
      "Epoch 27/64\n",
      "10/10 [==============================] - 0s 30ms/step - loss: 1.0151 - auc: 0.8566 - pre: 0.8114 - rec: 0.6744 - val_loss: 1.5779 - val_auc: 0.0000e+00 - val_pre: 1.0000 - val_rec: 0.0080\n",
      "Epoch 28/64\n",
      "10/10 [==============================] - 0s 29ms/step - loss: 0.9291 - auc: 0.8541 - pre: 0.8126 - rec: 0.6706 - val_loss: 1.4744 - val_auc: 0.0000e+00 - val_pre: 1.0000 - val_rec: 0.0107\n",
      "Epoch 29/64\n",
      "10/10 [==============================] - 0s 30ms/step - loss: 0.8547 - auc: 0.8587 - pre: 0.8087 - rec: 0.6764 - val_loss: 1.3855 - val_auc: 0.0000e+00 - val_pre: 1.0000 - val_rec: 0.0124\n",
      "Epoch 30/64\n",
      "10/10 [==============================] - 0s 30ms/step - loss: 0.7959 - auc: 0.8575 - pre: 0.8068 - rec: 0.6842 - val_loss: 1.3167 - val_auc: 0.0000e+00 - val_pre: 1.0000 - val_rec: 0.0133\n",
      "Epoch 31/64\n",
      "10/10 [==============================] - 0s 30ms/step - loss: 0.7452 - auc: 0.8596 - pre: 0.8043 - rec: 0.6908 - val_loss: 1.2478 - val_auc: 0.0000e+00 - val_pre: 1.0000 - val_rec: 0.0133\n",
      "Epoch 32/64\n",
      "10/10 [==============================] - 0s 30ms/step - loss: 0.6945 - auc: 0.8645 - pre: 0.8114 - rec: 0.6913 - val_loss: 1.1997 - val_auc: 0.0000e+00 - val_pre: 1.0000 - val_rec: 0.0160\n",
      "Epoch 33/64\n",
      "10/10 [==============================] - 0s 30ms/step - loss: 0.6561 - auc: 0.8671 - pre: 0.8174 - rec: 0.7013 - val_loss: 1.1649 - val_auc: 0.0000e+00 - val_pre: 1.0000 - val_rec: 0.0187\n",
      "Epoch 34/64\n",
      "10/10 [==============================] - 0s 30ms/step - loss: 0.6302 - auc: 0.8636 - pre: 0.8159 - rec: 0.6857 - val_loss: 1.1418 - val_auc: 0.0000e+00 - val_pre: 1.0000 - val_rec: 0.0204\n",
      "Epoch 35/64\n",
      "10/10 [==============================] - 0s 30ms/step - loss: 0.6044 - auc: 0.8669 - pre: 0.8179 - rec: 0.6910 - val_loss: 1.1053 - val_auc: 0.0000e+00 - val_pre: 1.0000 - val_rec: 0.0231\n",
      "Epoch 36/64\n",
      "10/10 [==============================] - 0s 35ms/step - loss: 0.5900 - auc: 0.8645 - pre: 0.7958 - rec: 0.7053 - val_loss: 1.0585 - val_auc: 0.0000e+00 - val_pre: 1.0000 - val_rec: 0.0267\n",
      "Epoch 37/64\n",
      "10/10 [==============================] - 0s 30ms/step - loss: 0.5665 - auc: 0.8694 - pre: 0.8257 - rec: 0.6750 - val_loss: 1.0423 - val_auc: 0.0000e+00 - val_pre: 1.0000 - val_rec: 0.0356\n",
      "Epoch 38/64\n",
      "10/10 [==============================] - 0s 30ms/step - loss: 0.5573 - auc: 0.8669 - pre: 0.8158 - rec: 0.6997 - val_loss: 1.0364 - val_auc: 0.0000e+00 - val_pre: 1.0000 - val_rec: 0.0364\n",
      "Epoch 39/64\n",
      "10/10 [==============================] - 0s 30ms/step - loss: 0.5411 - auc: 0.8688 - pre: 0.8252 - rec: 0.6875 - val_loss: 0.9985 - val_auc: 0.0000e+00 - val_pre: 1.0000 - val_rec: 0.0720\n",
      "Epoch 40/64\n",
      "10/10 [==============================] - 0s 30ms/step - loss: 0.5344 - auc: 0.8672 - pre: 0.8152 - rec: 0.6873 - val_loss: 0.9611 - val_auc: 0.0000e+00 - val_pre: 1.0000 - val_rec: 0.0818\n",
      "Epoch 41/64\n",
      "10/10 [==============================] - 0s 29ms/step - loss: 0.5203 - auc: 0.8723 - pre: 0.8218 - rec: 0.7002 - val_loss: 0.9272 - val_auc: 0.0000e+00 - val_pre: 1.0000 - val_rec: 0.1084\n",
      "Epoch 42/64\n",
      "10/10 [==============================] - 0s 29ms/step - loss: 0.5121 - auc: 0.8691 - pre: 0.8151 - rec: 0.7053 - val_loss: 0.9258 - val_auc: 0.0000e+00 - val_pre: 1.0000 - val_rec: 0.1156\n",
      "Epoch 43/64\n",
      "10/10 [==============================] - 0s 30ms/step - loss: 0.5064 - auc: 0.8719 - pre: 0.8243 - rec: 0.7006 - val_loss: 0.9040 - val_auc: 0.0000e+00 - val_pre: 1.0000 - val_rec: 0.1307\n",
      "Epoch 44/64\n",
      "10/10 [==============================] - 0s 32ms/step - loss: 0.4968 - auc: 0.8746 - pre: 0.8197 - rec: 0.7082 - val_loss: 0.8994 - val_auc: 0.0000e+00 - val_pre: 1.0000 - val_rec: 0.1867\n",
      "Epoch 45/64\n",
      "10/10 [==============================] - 0s 30ms/step - loss: 0.4982 - auc: 0.8707 - pre: 0.8191 - rec: 0.6953 - val_loss: 0.8635 - val_auc: 0.0000e+00 - val_pre: 1.0000 - val_rec: 0.2009\n",
      "Epoch 46/64\n",
      "10/10 [==============================] - 0s 31ms/step - loss: 0.4974 - auc: 0.8720 - pre: 0.8253 - rec: 0.6962 - val_loss: 0.8424 - val_auc: 0.0000e+00 - val_pre: 1.0000 - val_rec: 0.2747\n",
      "Epoch 47/64\n",
      "10/10 [==============================] - 0s 30ms/step - loss: 0.4908 - auc: 0.8736 - pre: 0.8200 - rec: 0.7017 - val_loss: 0.7876 - val_auc: 0.0000e+00 - val_pre: 1.0000 - val_rec: 0.3564\n",
      "Epoch 48/64\n",
      "10/10 [==============================] - 0s 30ms/step - loss: 0.4865 - auc: 0.8768 - pre: 0.8236 - rec: 0.7048 - val_loss: 0.7895 - val_auc: 0.0000e+00 - val_pre: 1.0000 - val_rec: 0.3422\n",
      "Epoch 49/64\n",
      "10/10 [==============================] - 0s 31ms/step - loss: 0.4848 - auc: 0.8734 - pre: 0.8317 - rec: 0.6966 - val_loss: 0.7497 - val_auc: 0.0000e+00 - val_pre: 1.0000 - val_rec: 0.4053\n",
      "Epoch 50/64\n",
      "10/10 [==============================] - 0s 30ms/step - loss: 0.4854 - auc: 0.8733 - pre: 0.8309 - rec: 0.7024 - val_loss: 0.7258 - val_auc: 0.0000e+00 - val_pre: 1.0000 - val_rec: 0.4489\n",
      "Epoch 51/64\n",
      "10/10 [==============================] - 0s 31ms/step - loss: 0.4769 - auc: 0.8797 - pre: 0.8323 - rec: 0.7146 - val_loss: 0.6971 - val_auc: 0.0000e+00 - val_pre: 1.0000 - val_rec: 0.5333\n",
      "Epoch 52/64\n",
      "10/10 [==============================] - 0s 30ms/step - loss: 0.4794 - auc: 0.8771 - pre: 0.8186 - rec: 0.7119 - val_loss: 0.6974 - val_auc: 0.0000e+00 - val_pre: 1.0000 - val_rec: 0.4889\n",
      "Epoch 53/64\n",
      "10/10 [==============================] - 0s 30ms/step - loss: 0.4770 - auc: 0.8808 - pre: 0.8452 - rec: 0.6944 - val_loss: 0.7119 - val_auc: 0.0000e+00 - val_pre: 1.0000 - val_rec: 0.4978\n",
      "Epoch 54/64\n",
      "10/10 [==============================] - 0s 30ms/step - loss: 0.4768 - auc: 0.8794 - pre: 0.8264 - rec: 0.7142 - val_loss: 0.7294 - val_auc: 0.0000e+00 - val_pre: 1.0000 - val_rec: 0.4409\n",
      "Epoch 55/64\n",
      "10/10 [==============================] - 0s 31ms/step - loss: 0.4809 - auc: 0.8774 - pre: 0.8213 - rec: 0.7099 - val_loss: 0.6962 - val_auc: 0.0000e+00 - val_pre: 1.0000 - val_rec: 0.4782\n",
      "Epoch 56/64\n",
      "10/10 [==============================] - 0s 32ms/step - loss: 0.4764 - auc: 0.8784 - pre: 0.8294 - rec: 0.7035 - val_loss: 0.7212 - val_auc: 0.0000e+00 - val_pre: 1.0000 - val_rec: 0.4924\n",
      "Epoch 57/64\n",
      "10/10 [==============================] - 0s 31ms/step - loss: 0.4699 - auc: 0.8830 - pre: 0.8367 - rec: 0.7106 - val_loss: 0.7095 - val_auc: 0.0000e+00 - val_pre: 1.0000 - val_rec: 0.5111\n",
      "Epoch 58/64\n",
      "10/10 [==============================] - 0s 32ms/step - loss: 0.4683 - auc: 0.8821 - pre: 0.8348 - rec: 0.7130 - val_loss: 0.6693 - val_auc: 0.0000e+00 - val_pre: 1.0000 - val_rec: 0.5191\n",
      "Epoch 59/64\n",
      "10/10 [==============================] - 0s 34ms/step - loss: 0.4758 - auc: 0.8786 - pre: 0.8460 - rec: 0.6935 - val_loss: 0.6723 - val_auc: 0.0000e+00 - val_pre: 1.0000 - val_rec: 0.5502\n",
      "Epoch 60/64\n",
      "10/10 [==============================] - 0s 32ms/step - loss: 0.4676 - auc: 0.8846 - pre: 0.8315 - rec: 0.7253 - val_loss: 0.6653 - val_auc: 0.0000e+00 - val_pre: 1.0000 - val_rec: 0.5609\n",
      "Epoch 61/64\n",
      "10/10 [==============================] - 0s 32ms/step - loss: 0.4693 - auc: 0.8812 - pre: 0.8324 - rec: 0.7210 - val_loss: 0.6470 - val_auc: 0.0000e+00 - val_pre: 1.0000 - val_rec: 0.5947\n",
      "Epoch 62/64\n",
      "10/10 [==============================] - 0s 30ms/step - loss: 0.4652 - auc: 0.8843 - pre: 0.8290 - rec: 0.7351 - val_loss: 0.6763 - val_auc: 0.0000e+00 - val_pre: 1.0000 - val_rec: 0.5529\n",
      "Epoch 63/64\n",
      "10/10 [==============================] - 0s 30ms/step - loss: 0.4618 - auc: 0.8848 - pre: 0.8451 - rec: 0.7193 - val_loss: 0.6078 - val_auc: 0.0000e+00 - val_pre: 1.0000 - val_rec: 0.6471\n",
      "Epoch 64/64\n",
      "10/10 [==============================] - 0s 31ms/step - loss: 0.4624 - auc: 0.8844 - pre: 0.8368 - rec: 0.7157 - val_loss: 0.6299 - val_auc: 0.0000e+00 - val_pre: 1.0000 - val_rec: 0.6213\n"
     ]
    },
    {
     "data": {
      "image/png": "[encoded data removed]",
      "text/plain": [
       "<Figure size 640x480 with 1 Axes>"
      ]
     },
     "metadata": {},
     "output_type": "display_data"
    }
   ],
   "source": [
    "fit, test_metrics = train_and_evaluate()"
   ]
  },
  {
   "attachments": {},
   "cell_type": "markdown",
   "metadata": {},
   "source": [
    "#### Takeaways\n",
    "\n",
    "* During training, our validation loss steeply dropped from 30 to below 1 in 16 epochs, then gradually converges to ½ by the 64th. \n",
    "* Over those same intervals, the validation recall jumps from less than 1% to 10%, then jumps to converge at 79%. "
   ]
  },
  {
   "cell_type": "code",
   "execution_count": 22,
   "metadata": {},
   "outputs": [
    {
     "name": "stdout",
     "output_type": "stream",
     "text": [
      "Model: \"sequential\"\n",
      "_________________________________________________________________\n",
      " Layer (type)                Output Shape              Param #   \n",
      "=================================================================\n",
      " dense_0 (Dense)             (None, 512)               215040    \n",
      "                                                                 \n",
      " batch_norm_0 (BatchNormaliz  (None, 512)              2048      \n",
      " ation)                                                          \n",
      "                                                                 \n",
      " dropout_0 (Dropout)         (None, 512)               0         \n",
      "                                                                 \n",
      " dense_1 (Dense)             (None, 256)               131328    \n",
      "                                                                 \n",
      " batch_norm_1 (BatchNormaliz  (None, 256)              1024      \n",
      " ation)                                                          \n",
      "                                                                 \n",
      " dropout_1 (Dropout)         (None, 256)               0         \n",
      "                                                                 \n",
      " dense_2 (Dense)             (None, 256)               65792     \n",
      "                                                                 \n",
      " batch_norm_2 (BatchNormaliz  (None, 256)              1024      \n",
      " ation)                                                          \n",
      "                                                                 \n",
      " dropout_2 (Dropout)         (None, 256)               0         \n",
      "                                                                 \n",
      " dense_3 (Dense)             (None, 128)               32896     \n",
      "                                                                 \n",
      " batch_norm_3 (BatchNormaliz  (None, 128)              512       \n",
      " ation)                                                          \n",
      "                                                                 \n",
      " dropout_3 (Dropout)         (None, 128)               0         \n",
      "                                                                 \n",
      " dense (Dense)               (None, 1)                 129       \n",
      "                                                                 \n",
      "=================================================================\n",
      "Total params: 449,793\n",
      "Trainable params: 447,489\n",
      "Non-trainable params: 2,304\n",
      "_________________________________________________________________\n"
     ]
    }
   ],
   "source": [
    "fit.summary()"
   ]
  },
  {
   "attachments": {},
   "cell_type": "markdown",
   "metadata": {},
   "source": [
    "# VI. Evaluating the Model\n",
    "\n",
    "We will test our model against the 30% of the training data held-out for validation. Since we are doing binary classification, we care about loss (binary cross-entropy), AUC, precision, and recall. We also plot the ROC curve. "
   ]
  },
  {
   "cell_type": "code",
   "execution_count": 23,
   "metadata": {},
   "outputs": [
    {
     "data": {
      "text/html": [
       "<div>\n",
       "<style scoped>\n",
       "    .dataframe tbody tr th:only-of-type {\n",
       "        vertical-align: middle;\n",
       "    }\n",
       "\n",
       "    .dataframe tbody tr th {\n",
       "        vertical-align: top;\n",
       "    }\n",
       "\n",
       "    .dataframe thead th {\n",
       "        text-align: right;\n",
       "    }\n",
       "</style>\n",
       "<table border=\"1\" class=\"dataframe\">\n",
       "  <thead>\n",
       "    <tr style=\"text-align: right;\">\n",
       "      <th></th>\n",
       "      <th>loss</th>\n",
       "      <th>auc</th>\n",
       "      <th>pre</th>\n",
       "      <th>rec</th>\n",
       "    </tr>\n",
       "  </thead>\n",
       "  <tbody>\n",
       "    <tr>\n",
       "      <th>0</th>\n",
       "      <td>45.8%</td>\n",
       "      <td>85.8%</td>\n",
       "      <td>20.2%</td>\n",
       "      <td>60.8%</td>\n",
       "    </tr>\n",
       "  </tbody>\n",
       "</table>\n",
       "</div>"
      ],
      "text/plain": [
       "    loss    auc    pre    rec\n",
       "0  45.8%  85.8%  20.2%  60.8%"
      ]
     },
     "execution_count": 23,
     "metadata": {},
     "output_type": "execute_result"
    }
   ],
   "source": [
    "pd.DataFrame({k:f'{v:.1%}' for k, v in test_metrics.items()}, index=[0])"
   ]
  },
  {
   "cell_type": "code",
   "execution_count": 24,
   "metadata": {},
   "outputs": [
    {
     "name": "stdout",
     "output_type": "stream",
     "text": [
      "2566/2566 [==============================] - 3s 1ms/step\n"
     ]
    },
    {
     "data": {
      "image/png": "[encoded data removed]",
      "text/plain": [
       "<Figure size 640x480 with 1 Axes>"
      ]
     },
     "metadata": {},
     "output_type": "display_data"
    }
   ],
   "source": [
    "fpr, tpr, threshold = roc_curve(y_val, fit.predict(X_val))\n",
    "\n",
    "plt.plot(fpr, tpr, 'b', label = f'AUC = {test_metrics[\"auc\"]:.1%}')\n",
    "plt.legend(loc = 'lower right')\n",
    "plt.plot([0, 1], [0, 1],'r--')\n",
    "plt.xlim([0, 1])\n",
    "plt.ylim([0, 1])\n",
    "plt.ylabel('True Positive Rate')\n",
    "plt.xlabel('False Positive Rate')\n",
    "plt.title('ROC Curve - Main Neural Network Model')\n",
    "plt.show()"
   ]
  },
  {
   "attachments": {},
   "cell_type": "markdown",
   "metadata": {},
   "source": [
    "#### Takeaways\n",
    "\n",
    "* We see a pretty healthy ROC curve with an area-under-the-curve of 88.8%. "
   ]
  },
  {
   "attachments": {},
   "cell_type": "markdown",
   "metadata": {},
   "source": [
    "# VII. Outputting Model\n",
    "\n",
    "Fit our model onto the unlabelled test data, then output as CSV we can upload to Kaggle."
   ]
  },
  {
   "cell_type": "code",
   "execution_count": 25,
   "metadata": {},
   "outputs": [
    {
     "name": "stdout",
     "output_type": "stream",
     "text": [
      "7337/7337 [==============================] - 8s 1ms/step\n"
     ]
    }
   ],
   "source": [
    "users['predictions'] = fit.predict(test)\n",
    "sub['isFraud'] = test_full.merge(users, on=user_composite_key, how='left').predictions\n",
    "sub.to_csv('../data/submissions/lastest_transaction_submission.csv', index=False)"
   ]
  },
  {
   "attachments": {},
   "cell_type": "markdown",
   "metadata": {},
   "source": [
    "# VIII. Simple Ensembling Approach"
   ]
  },
  {
   "cell_type": "code",
   "execution_count": 26,
   "metadata": {},
   "outputs": [],
   "source": [
    "(pd.read_csv('../data/submissions/main_neural_network_submission.csv')\n",
    "    .merge(sub, on='TransactionID', how='left')\n",
    "    .assign(isFraud = lambda df: (df.isFraud_x + df.isFraud_y) / 2)\n",
    "    .drop(['isFraud_x', 'isFraud_y'], axis=1)\n",
    ").to_csv('../data/submissions/ensemble_submission.csv', index=False)"
   ]
  }
 ],
 "metadata": {
  "kernelspec": {
   "display_name": "Python 3.10.4 64-bit",
   "language": "python",
   "name": "python3"
  },
  "language_info": {
   "codemirror_mode": {
    "name": "ipython",
    "version": 3
   },
   "file_extension": ".py",
   "mimetype": "text/x-python",
   "name": "python",
   "nbconvert_exporter": "python",
   "pygments_lexer": "ipython3",
   "version": "3.10.4"
  },
  "orig_nbformat": 4,
  "vscode": {
   "interpreter": {
    "hash": "807207e50864ba942fdea3697702c6ceff6811bbc7deef42e07b12b1046b97db"
   }
  }
 },
 "nbformat": 4,
 "nbformat_minor": 2
}
