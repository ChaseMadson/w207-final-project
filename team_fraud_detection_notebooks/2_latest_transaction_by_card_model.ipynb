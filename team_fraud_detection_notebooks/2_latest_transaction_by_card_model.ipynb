{
 "cells": [
  {
   "cell_type": "markdown",
   "metadata": {},
   "source": [
    "# Final Project - Detecting Fraudulent Credit Card Transactions\n",
    "\n",
    "| Course | Term | Section | Group | Objective | Kaggle URL |\n",
    "| --- | --- | --- | --- | --- | --- |\n",
    "| W207 | Fall 2022 | 11 | 2 | Detect fraudulent credit card transactions | IEEE-CIS Fraud Detection ([Link](kaggle.com/competitions/ieee-fraud-detection)) |\n",
    "\n",
    "**Group Members**\n",
    "- Naikaj Pandya\n",
    "- Chase Madson\n",
    "- Eric Danforth\n"
   ]
  },
  {
   "cell_type": "markdown",
   "metadata": {},
   "source": [
    "# I. Setup"
   ]
  },
  {
   "attachments": {},
   "cell_type": "markdown",
   "metadata": {},
   "source": [
    "### A. Load Libraries"
   ]
  },
  {
   "cell_type": "code",
   "execution_count": 1,
   "metadata": {},
   "outputs": [],
   "source": [
    "import numpy as np\n",
    "import pandas as pd\n",
    "from math import floor\n",
    "import seaborn as sns\n",
    "import matplotlib.pyplot as plt\n",
    "from decimal import Decimal\n",
    "from sklearn.model_selection import train_test_split\n",
    "from sklearn.preprocessing import minmax_scale, OneHotEncoder\n",
    "import tensorflow as tf\n",
    "from sklearn.metrics import roc_curve, auc"
   ]
  },
  {
   "attachments": {},
   "cell_type": "markdown",
   "metadata": {},
   "source": [
    "### B. Load Data"
   ]
  },
  {
   "cell_type": "code",
   "execution_count": 2,
   "metadata": {},
   "outputs": [],
   "source": [
    "# Load Data\n",
    "train = pd.read_csv('../data/train_transaction.csv')\n",
    "test = pd.read_csv('../data/test_transaction.csv')\n",
    "train_identity = pd.read_csv('../data/train_identity.csv')\n",
    "test_identity = pd.read_csv('../data/test_identity.csv')\n",
    "sub = pd.read_csv('../data/sample_submission.csv').drop('isFraud', axis=1)"
   ]
  },
  {
   "attachments": {},
   "cell_type": "markdown",
   "metadata": {},
   "source": [
    "# II. Filter to Latest Transaction by Card\n",
    "\n",
    "Group the user account (which are truncated to the last 4 digits), the user’s email address (which is just the domain), date the account opened (which we got by subtracting what we thought was the age of the account in days from the transaction date), and billing address (which is encoded). Each of these variables contain null values and we can only get complete sets on about three-quarters of the transactions.\n",
    "\n",
    "Then we dropped all but the newest record, with the assumption that the latest transaction is the one the cardholder called to report fraud on. Obviously we should be skeptical about this assumption, but that’s the best guess we have to work with. "
   ]
  },
  {
   "cell_type": "code",
   "execution_count": 3,
   "metadata": {},
   "outputs": [],
   "source": [
    "def append_time_features(df_tmp):\n",
    "    df_tmp = (df_tmp\n",
    "        .assign(\n",
    "            txn_timestamp = lambda df: \n",
    "                pd.to_datetime(\n",
    "                    arg=df.TransactionDT,\n",
    "                    unit='s',\n",
    "                    origin='2018-06-01 00:00:00'\n",
    "                ).dt.tz_localize(\n",
    "                    tz='US/Pacific',\n",
    "                    nonexistent='shift_forward',\n",
    "                    ambiguous=True),\n",
    "            txn_date = lambda df: [dt.date() for dt in df.txn_timestamp]\n",
    "        )\n",
    "    )\n",
    "    return df_tmp\n",
    "\n",
    "# Carry out the appending of new time features on each data set\n",
    "train = append_time_features(train)\n",
    "test = append_time_features(test)"
   ]
  },
  {
   "cell_type": "code",
   "execution_count": 4,
   "metadata": {},
   "outputs": [
    {
     "name": "stderr",
     "output_type": "stream",
     "text": [
      "c:\\Users\\chase\\AppData\\Local\\Programs\\Python\\Python310\\lib\\site-packages\\pandas\\core\\arrays\\datetimelike.py:1189: PerformanceWarning: Adding/subtracting object-dtype array to TimedeltaArray not vectorized.\n",
      "  warnings.warn(\n",
      "c:\\Users\\chase\\AppData\\Local\\Programs\\Python\\Python310\\lib\\site-packages\\pandas\\core\\arrays\\datetimelike.py:1189: PerformanceWarning: Adding/subtracting object-dtype array to TimedeltaArray not vectorized.\n",
      "  warnings.warn(\n"
     ]
    }
   ],
   "source": [
    "train['date_account_opened'] = train.txn_date - pd.to_timedelta(train['D1'].fillna(0), unit = 'D')\n",
    "test['date_account_opened'] = test.txn_date - pd.to_timedelta(test['D1'].fillna(0), unit = 'D')"
   ]
  },
  {
   "cell_type": "code",
   "execution_count": 5,
   "metadata": {},
   "outputs": [],
   "source": [
    "user_composite_key = ['card1', 'addr1', 'date_account_opened', 'P_emaildomain']"
   ]
  },
  {
   "cell_type": "code",
   "execution_count": 6,
   "metadata": {},
   "outputs": [],
   "source": [
    "train[user_composite_key] = train[user_composite_key].fillna('missing')\n",
    "test[user_composite_key] = test[user_composite_key].fillna('missing')"
   ]
  },
  {
   "cell_type": "code",
   "execution_count": 7,
   "metadata": {},
   "outputs": [],
   "source": [
    "train_full = train\n",
    "train = (train\n",
    "    .sort_values('TransactionDT')\n",
    "    .groupby(user_composite_key)\n",
    "    .last()\n",
    "    .reset_index()\n",
    ")\n",
    "test_full = test\n",
    "test = (test\n",
    "    .sort_values('TransactionDT')\n",
    "    .groupby(user_composite_key)\n",
    "    .last()\n",
    "    .reset_index()\n",
    ")\n",
    "users = (test\n",
    "    .sort_values('TransactionDT')\n",
    "    .groupby(user_composite_key)\n",
    "    .last()\n",
    "    .reset_index()\n",
    "    .filter(regex='|'.join(user_composite_key))\n",
    ")"
   ]
  },
  {
   "attachments": {},
   "cell_type": "markdown",
   "metadata": {},
   "source": [
    "# III. Feature Engineering"
   ]
  },
  {
   "attachments": {},
   "cell_type": "markdown",
   "metadata": {},
   "source": [
    "### A. Custom Groupings for Purchaser and Recipient Domains\n",
    "\n",
    "To use the purchaser and recipient domain email addresses, we create a highly customized categorical variable called `custom_domain_grouping`. \n",
    "\n",
    "This uses a switch statement to condense information about:\n",
    "\n",
    "1. Drop the domain extensions so \"gmail.com\" and \"gmail\" are placed into same group\n",
    "2. Whether recipient, purchaser, or both email addresses are null\n",
    "3. Whether the recipient and purchaser domain address matched (e.g., gmail to gmail)\n",
    "4. If the recipient and purchaser domain addresses do match, what domain is it?"
   ]
  },
  {
   "cell_type": "code",
   "execution_count": 8,
   "metadata": {},
   "outputs": [],
   "source": [
    "def get_custom_domain_grouping(df_train, df_test):\n",
    "    \"\"\"This function is disgusting but gives us good categories from the domain addresses\"\"\"\n",
    "\n",
    "    # Remove the domain extensions on all variables\n",
    "    df_train['purch_domain_name'] = df_train.P_emaildomain.str.replace('\\..*', '', regex=True)\n",
    "    df_train['recip_domain_name'] = df_train.R_emaildomain.str.replace('\\..*', '', regex=True)\n",
    "    df_test['purch_domain_name'] = df_test.P_emaildomain.str.replace('\\..*', '', regex=True)\n",
    "    df_test['recip_domain_name'] = df_test.R_emaildomain.str.replace('\\..*', '', regex=True)\n",
    "\n",
    "    # Get the list of top 95% of email domains in the _training_ set only \n",
    "    top_95pct_purch_domains = (\n",
    "        df_train.purch_domain_name\n",
    "        .value_counts(normalize=True)\n",
    "        .rename_axis('factor_levels')\n",
    "        .cumsum()\n",
    "        .reset_index(name='cumsum')\n",
    "        .query('cumsum<0.95')\n",
    "        .sort_values('cumsum')\n",
    "        .factor_levels\n",
    "        .tolist()   \n",
    "    )\n",
    "    \n",
    "    # This switch statement is based on \n",
    "    custom_domain_grouping_train = np.select(\n",
    "        condlist = [\n",
    "            # Create a group for null recipients\n",
    "            df_train.R_emaildomain.isnull(),\n",
    "            # Create a group for null purchasers (when recipient not null)\n",
    "            df_train.P_emaildomain.isnull(),\n",
    "            # Create a group for purchaser domains paired with a distinct recipient domain\n",
    "            df_train.purch_domain_name != df_train.recip_domain_name,\n",
    "            # If domains match and in our most common domains \n",
    "            df_train.purch_domain_name.isin(top_95pct_purch_domains)\n",
    "            ], \n",
    "        choicelist = [\n",
    "            'Recipient or Both Blank',\n",
    "            'Just Purchaser Blank',\n",
    "            'Purchaser and Recipient Differ',\n",
    "            'Purchaser and Recipient Same: ' + df_train.purch_domain_name\n",
    "            ],\n",
    "        default='Purchaser and Recipient Same: other domain'\n",
    "    )\n",
    "\n",
    "    # Do the same as above, but for the test set\n",
    "    custom_domain_grouping_test = np.select(\n",
    "        condlist = [\n",
    "            df_test.R_emaildomain.isnull(),\n",
    "            df_test.P_emaildomain.isnull(),\n",
    "            df_test.purch_domain_name != df_test.recip_domain_name,\n",
    "            df_test.purch_domain_name.isin(top_95pct_purch_domains)\n",
    "            ], \n",
    "        choicelist = [\n",
    "            'Recipient or Both Blank',\n",
    "            'Just Purchaser Blank',\n",
    "            'Purchaser and Recipient Differ',\n",
    "            'Purchaser and Recipient Same: ' + df_test.purch_domain_name\n",
    "            ],\n",
    "        default='Purchaser and Recipient Same: other domain'\n",
    "    )\n",
    "\n",
    "    return custom_domain_grouping_train, custom_domain_grouping_test\n",
    "\n",
    "train['custom_domain_grouping'], test['custom_domain_grouping'] = get_custom_domain_grouping(train, test)\n",
    "train_full['custom_domain_grouping'], test_full['custom_domain_grouping'] = get_custom_domain_grouping(train_full, test_full)"
   ]
  },
  {
   "attachments": {},
   "cell_type": "markdown",
   "metadata": {},
   "source": [
    "### B. Whether Currency has More than Two Decimals\n",
    "\n",
    "We create a new binary variable that indicates whether currency has more than two decimals, which suggests the purchase needed to be converted into USD."
   ]
  },
  {
   "cell_type": "code",
   "execution_count": 9,
   "metadata": {},
   "outputs": [],
   "source": [
    "def txn_usd_convert(amt):\n",
    "    return np.float16(-Decimal(str(amt)).as_tuple().exponent > 2)\n",
    "\n",
    "train['Transaction_curr_type'] = train['TransactionAmt'].apply(txn_usd_convert)\n",
    "test['Transaction_curr_type'] = test['TransactionAmt'].apply(txn_usd_convert)\n",
    "\n",
    "train_full['Transaction_curr_type'] = train_full['TransactionAmt'].apply(txn_usd_convert)\n",
    "test_full['Transaction_curr_type'] = test_full['TransactionAmt'].apply(txn_usd_convert)"
   ]
  },
  {
   "attachments": {},
   "cell_type": "markdown",
   "metadata": {},
   "source": [
    "# IV. Data Preparation"
   ]
  },
  {
   "attachments": {},
   "cell_type": "markdown",
   "metadata": {},
   "source": [
    "### A. Group the Columns\n",
    "\n",
    "We define a lot of column sets for convenient subsetting features. Breaks down by numeric and categorical, and then type from there. "
   ]
  },
  {
   "cell_type": "code",
   "execution_count": 10,
   "metadata": {},
   "outputs": [],
   "source": [
    "# Transaction payment amount in USD\n",
    "features_num_amt = train[['TransactionAmt']].columns\n",
    "\n",
    "# Date and time of transactions\n",
    "features_num_dt = train[['TransactionDT']].columns\n",
    "\n",
    "# Distance measures between two masked points\n",
    "features_num_dist = train.filter(regex='^dist').columns\n",
    "\n",
    "# Various (masked) counts, e.g. how many addresses associated with payment card\n",
    "features_num_C = train.filter(regex='^C').columns\n",
    "\n",
    "# Various (masked) timedeltas, e.g. days between previous transactions\n",
    "features_num_D = train.filter(regex='^D').columns\n",
    "\n",
    "# Various (masked) Vesta engineered rich features\n",
    "features_num_V = train.filter(regex='^V').columns\n",
    "\n",
    "features_num = (\n",
    "    features_num_amt\n",
    "    .union(features_num_dt)\n",
    "    .union(features_num_dist)\n",
    "    .union(features_num_C)\n",
    "    .union(features_num_D)\n",
    "    .union(features_num_V)\n",
    ")"
   ]
  },
  {
   "cell_type": "code",
   "execution_count": 11,
   "metadata": {},
   "outputs": [],
   "source": [
    "# Product code for the product associated with the transaction\n",
    "features_cat_CD = train[['ProductCD']].columns\n",
    "\n",
    "# Address (unspecified)\n",
    "features_cat_addr = train.filter(regex='^addr').columns\n",
    "\n",
    "# Purchaser and recipient email domains\n",
    "features_cat_domain = train[['custom_domain_grouping']].columns\n",
    "\n",
    "# Various matches (masked), e.g. names on card and addresses\n",
    "features_cat_M = train.filter(regex='^M').columns\n",
    "\n",
    "# New feature - whether the transaction amount had more than 2 decimal places\n",
    "features_cat_curr_type = train[['Transaction_curr_type']].columns\n",
    "\n",
    "features_cat = (\n",
    "    features_cat_CD\n",
    "    .union(features_cat_domain)\n",
    "    .union(features_cat_M)\n",
    "    .union(features_cat_curr_type)\n",
    ")"
   ]
  },
  {
   "cell_type": "code",
   "execution_count": 12,
   "metadata": {},
   "outputs": [
    {
     "name": "stdout",
     "output_type": "stream",
     "text": [
      "We start with 384 available features: 372 numeric and 12 categorical.\n"
     ]
    }
   ],
   "source": [
    "# Define the sets of features used, by variable type \n",
    "features = features_num.union(features_cat)\n",
    "\n",
    "# Define our ID column and target\n",
    "id = train[['TransactionID']].columns\n",
    "target = train[['isFraud']].columns\n",
    "\n",
    "# Select relevant columns\n",
    "train = train[target.union(features)]\n",
    "test = test[features]\n",
    "train_full = train_full[target.union(features).union(user_composite_key)]\n",
    "test_full = test_full[features.union(user_composite_key)]\n",
    "\n",
    "print(f'We start with {len(features)} available features: {len(features_num)} numeric and {len(features_cat)} categorical.')"
   ]
  },
  {
   "attachments": {},
   "cell_type": "markdown",
   "metadata": {},
   "source": [
    "### B. Split Data into Train and Validation"
   ]
  },
  {
   "cell_type": "code",
   "execution_count": 13,
   "metadata": {},
   "outputs": [],
   "source": [
    "# Save 30% of the training data for validation\n",
    "training, validation = train_test_split(train, test_size=0.3, random_state=1)\n",
    "\n",
    "# With the remaining 70% in the training set, downsample the majority class\n",
    "training = (\n",
    "    training\n",
    "    .groupby('isFraud')\n",
    "    .sample(\n",
    "        n=sum(training.isFraud == 1),\n",
    "        random_state=1\n",
    "    )\n",
    ")\n",
    "\n",
    "# Separate the features from the label\n",
    "y_train = training[['isFraud']]\n",
    "y_val = validation[['isFraud']]\n",
    "X_train = training[features]\n",
    "X_val = validation[features]\n",
    "\n",
    "# Drop unneeded DataFrames\n",
    "del training, validation"
   ]
  },
  {
   "attachments": {},
   "cell_type": "markdown",
   "metadata": {},
   "source": [
    "### C. Preprocessing"
   ]
  },
  {
   "attachments": {},
   "cell_type": "markdown",
   "metadata": {},
   "source": [
    "#### 1. Numeric Values - Replace N/A and Normalize\n",
    "\n",
    "Apply Min-Max normalization and replace missing values for all numeric features in training, validation, and test sets"
   ]
  },
  {
   "cell_type": "code",
   "execution_count": 14,
   "metadata": {},
   "outputs": [],
   "source": [
    "def replace_na_and_normalize(df, cols=features_num):\n",
    "    return (df[cols]\n",
    "        .apply(lambda var: var.fillna(var.min() - 2))\n",
    "        .apply(minmax_scale, feature_range=(0,1))\n",
    "    )\n",
    "\n",
    "X_train[features_num] = replace_na_and_normalize(X_train)\n",
    "X_val[features_num] = replace_na_and_normalize(X_val)\n",
    "test[features_num] = replace_na_and_normalize(test)"
   ]
  },
  {
   "attachments": {},
   "cell_type": "markdown",
   "metadata": {},
   "source": [
    "#### 2. Categorical Values - Replace N/A and One-Hot Encode\n",
    "\n",
    "Replace raw categorical features with one-hot encoding values"
   ]
  },
  {
   "cell_type": "code",
   "execution_count": 15,
   "metadata": {},
   "outputs": [],
   "source": [
    "def get_one_hot_encoding(df, feature):\n",
    "    # Instantiate the transformer\n",
    "    ohe = OneHotEncoder()\n",
    "\n",
    "    # Stack all datasets to get all unique categories observed\n",
    "    categories = pd.concat([train[[feature]], test[[feature]]])\n",
    "\n",
    "    # Fit the transformer with the observed classes\n",
    "    ohe.fit(categories)\n",
    "\n",
    "    # Create a sparse array with one binary vector per category\n",
    "    transformed_array = ohe.transform(df[[feature]]).toarray()\n",
    "\n",
    "    # Turn the transformed array into a DataFrame and assign names\n",
    "    transformed_ndarray = pd.DataFrame(\n",
    "        transformed_array,\n",
    "        columns=ohe.get_feature_names_out(),\n",
    "        index=df.index\n",
    "    ).astype(np.float16)\n",
    "\n",
    "    return transformed_ndarray"
   ]
  },
  {
   "cell_type": "code",
   "execution_count": 16,
   "metadata": {},
   "outputs": [],
   "source": [
    "def replace_raw_cats_with_one_hots(df, cols=features_cat):\n",
    "    # Initialize a placeholder list\n",
    "    tmp_list = []\n",
    "\n",
    "    # For each variable in our categorical features, get one-hot encoding matrix\n",
    "    for var in features_cat:\n",
    "        tmp_list.append(get_one_hot_encoding(df, var))\n",
    "\n",
    "    # Convert list of DataFrames into one DataFrame of several sparse matrices\n",
    "    tmp_df = pd.concat(tmp_list, axis=1)\n",
    "\n",
    "    # Drop the raw categorical variables and replace with sparce matrices\n",
    "    new_df = pd.concat([df.drop(features_cat, axis=1), tmp_df], axis=1)\n",
    "    \n",
    "    return new_df"
   ]
  },
  {
   "cell_type": "code",
   "execution_count": 17,
   "metadata": {},
   "outputs": [],
   "source": [
    "# Carry out the one-hot encoding functions above for each data set\n",
    "X_train = replace_raw_cats_with_one_hots(X_train)\n",
    "X_val = replace_raw_cats_with_one_hots(X_val)\n",
    "test = replace_raw_cats_with_one_hots(test)"
   ]
  },
  {
   "attachments": {},
   "cell_type": "markdown",
   "metadata": {},
   "source": [
    "# V. Fitting a Model"
   ]
  },
  {
   "attachments": {},
   "cell_type": "markdown",
   "metadata": {},
   "source": [
    "### A. Hyperparameters for Manual Tuning"
   ]
  },
  {
   "cell_type": "code",
   "execution_count": 18,
   "metadata": {},
   "outputs": [],
   "source": [
    "HIDDEN_LAYER_SIZES = [512, 256, 256, 128]\n",
    "HL_ACTIVATION = 'relu'\n",
    "LEARNING_RATE = 0.0005\n",
    "OPTIMIZER = tf.keras.optimizers.Adam(learning_rate=LEARNING_RATE)\n",
    "LAMBDA = 0.05\n",
    "DROPOUT_RATE = 0.5\n",
    "NUM_EPOCHS = 64\n",
    "BATCH_SIZE = 1024\n",
    "VALIDATION_SPLIT = 0.1"
   ]
  },
  {
   "attachments": {},
   "cell_type": "markdown",
   "metadata": {},
   "source": [
    "### B. Define Functions for Building the Model and Testing/Evaluation"
   ]
  },
  {
   "cell_type": "code",
   "execution_count": 19,
   "metadata": {},
   "outputs": [],
   "source": [
    "def build_model():\n",
    "  i=0\n",
    "  tf.keras.backend.clear_session()\n",
    "  np.random.seed(0)\n",
    "  tf.random.set_seed(0)\n",
    "  # INPUT LAYER\n",
    "  model = tf.keras.Sequential()\n",
    "  # HIDDEN LAYERS\n",
    "  for hidden_layer_size in HIDDEN_LAYER_SIZES:\n",
    "    if i == 0:\n",
    "      model.add(tf.keras.layers.Dense(\n",
    "        units=hidden_layer_size, activation=HL_ACTIVATION, name=f'dense_{i}'\n",
    "      ))\n",
    "    else:\n",
    "      model.add(tf.keras.layers.Dense(\n",
    "        units=hidden_layer_size, activation=HL_ACTIVATION, name=f'dense_{i}',\n",
    "        kernel_regularizer=tf.keras.regularizers.L2(l2=LAMBDA)\n",
    "      ))\n",
    "    model.add(tf.keras.layers.BatchNormalization(name=f'batch_norm_{i}'))\n",
    "    model.add(tf.keras.layers.Dropout(DROPOUT_RATE, name=f'dropout_{i}'))\n",
    "    i+=1\n",
    "  # OUTPUT LAYER\n",
    "  model.add(tf.keras.layers.Dense(units=1, use_bias=True, activation='sigmoid'))\n",
    "  model.compile(\n",
    "    loss='binary_crossentropy', \n",
    "    optimizer=OPTIMIZER, \n",
    "    metrics=[\n",
    "      tf.keras.metrics.AUC(name='auc'),\n",
    "      tf.keras.metrics.Precision(name='pre'),\n",
    "      tf.keras.metrics.Recall(name='rec'),\n",
    "      ]\n",
    "  ) \n",
    "  return model"
   ]
  },
  {
   "cell_type": "code",
   "execution_count": 20,
   "metadata": {},
   "outputs": [],
   "source": [
    "def train_and_evaluate(\n",
    "  df_x_train=X_train,\n",
    "  df_y_train=y_train,\n",
    "  df_x_test=X_val,\n",
    "  df_y_test=y_val\n",
    "  ):\n",
    "\n",
    "  # Build the model.\n",
    "  model = build_model()\n",
    "\n",
    "  # Train the model.\n",
    "  print('Training...')\n",
    "\n",
    "  history = model.fit(\n",
    "    x=df_x_train,\n",
    "    y=df_y_train,\n",
    "    epochs=NUM_EPOCHS,\n",
    "    batch_size=BATCH_SIZE,\n",
    "    validation_split=VALIDATION_SPLIT,\n",
    "    verbose=1\n",
    "    )\n",
    "    \n",
    "  # Retrieve training metrics (after each train epoch) and the final test accuracy\n",
    "  train_loss = history.history['loss']\n",
    "  val_loss = history.history['val_loss']\n",
    "  plt.plot(train_loss, label='train loss')\n",
    "  plt.plot(val_loss, label='validation loss')\n",
    "  plt.xticks(range(NUM_EPOCHS))\n",
    "  plt.xlabel('Train epochs')\n",
    "  plt.legend()\n",
    "  plt.show()\n",
    "\n",
    "  test_metrics = model.evaluate(\n",
    "    x=df_x_test,\n",
    "    y=df_y_test,\n",
    "    verbose=0,\n",
    "    return_dict=True\n",
    "    )\n",
    "  \n",
    "  return model, test_metrics"
   ]
  },
  {
   "attachments": {},
   "cell_type": "markdown",
   "metadata": {},
   "source": [
    "### C. Actually Train and Evaluate the Model"
   ]
  },
  {
   "cell_type": "code",
   "execution_count": 21,
   "metadata": {},
   "outputs": [
    {
     "name": "stdout",
     "output_type": "stream",
     "text": [
      "Training...\n",
      "Epoch 1/64\n",
      "10/10 [==============================] - 2s 62ms/step - loss: 37.1299 - auc: 0.5961 - pre: 0.5101 - rec: 0.5663 - val_loss: 34.3803 - val_auc: 0.0000e+00 - val_pre: 1.0000 - val_rec: 0.3982\n",
      "Epoch 2/64\n",
      "10/10 [==============================] - 0s 30ms/step - loss: 32.4626 - auc: 0.6732 - pre: 0.5819 - rec: 0.6144 - val_loss: 30.0758 - val_auc: 0.0000e+00 - val_pre: 1.0000 - val_rec: 0.3049\n",
      "Epoch 3/64\n",
      "10/10 [==============================] - 0s 30ms/step - loss: 28.2841 - auc: 0.6870 - pre: 0.6002 - rec: 0.6052 - val_loss: 26.2276 - val_auc: 0.0000e+00 - val_pre: 1.0000 - val_rec: 0.0996\n",
      "Epoch 4/64\n",
      "10/10 [==============================] - 0s 31ms/step - loss: 24.5507 - auc: 0.7012 - pre: 0.6110 - rec: 0.6026 - val_loss: 22.8381 - val_auc: 0.0000e+00 - val_pre: 1.0000 - val_rec: 0.0160\n",
      "Epoch 5/64\n",
      "10/10 [==============================] - 0s 31ms/step - loss: 21.2702 - auc: 0.7168 - pre: 0.6257 - rec: 0.6070 - val_loss: 19.8680 - val_auc: 0.0000e+00 - val_pre: 1.0000 - val_rec: 0.0053\n",
      "Epoch 6/64\n",
      "10/10 [==============================] - 0s 29ms/step - loss: 18.3987 - auc: 0.7286 - pre: 0.6356 - rec: 0.6168 - val_loss: 17.2609 - val_auc: 0.0000e+00 - val_pre: 1.0000 - val_rec: 8.8889e-04\n",
      "Epoch 7/64\n",
      "10/10 [==============================] - 0s 29ms/step - loss: 15.8850 - auc: 0.7454 - pre: 0.6604 - rec: 0.6190 - val_loss: 14.9926 - val_auc: 0.0000e+00 - val_pre: 1.0000 - val_rec: 8.8889e-04\n",
      "Epoch 8/64\n",
      "10/10 [==============================] - 0s 31ms/step - loss: 13.6992 - auc: 0.7616 - pre: 0.6746 - rec: 0.6244 - val_loss: 13.0096 - val_auc: 0.0000e+00 - val_pre: 1.0000 - val_rec: 8.8889e-04\n",
      "Epoch 9/64\n",
      "10/10 [==============================] - 0s 29ms/step - loss: 11.8260 - auc: 0.7660 - pre: 0.6766 - rec: 0.6259 - val_loss: 11.2847 - val_auc: 0.0000e+00 - val_pre: 1.0000 - val_rec: 8.8889e-04\n",
      "Epoch 10/64\n",
      "10/10 [==============================] - 0s 31ms/step - loss: 10.1835 - auc: 0.7815 - pre: 0.7008 - rec: 0.6457 - val_loss: 9.8170 - val_auc: 0.0000e+00 - val_pre: 1.0000 - val_rec: 8.8889e-04\n",
      "Epoch 11/64\n",
      "10/10 [==============================] - 0s 29ms/step - loss: 8.7701 - auc: 0.7870 - pre: 0.7119 - rec: 0.6344 - val_loss: 8.5398 - val_auc: 0.0000e+00 - val_pre: 0.0000e+00 - val_rec: 0.0000e+00\n",
      "Epoch 12/64\n",
      "10/10 [==============================] - 0s 30ms/step - loss: 7.5455 - auc: 0.7986 - pre: 0.7213 - rec: 0.6470 - val_loss: 7.4438 - val_auc: 0.0000e+00 - val_pre: 1.0000 - val_rec: 8.8889e-04\n",
      "Epoch 13/64\n",
      "10/10 [==============================] - 0s 30ms/step - loss: 6.5104 - auc: 0.7999 - pre: 0.7281 - rec: 0.6399 - val_loss: 6.5132 - val_auc: 0.0000e+00 - val_pre: 0.0000e+00 - val_rec: 0.0000e+00\n",
      "Epoch 14/64\n",
      "10/10 [==============================] - 0s 29ms/step - loss: 5.6012 - auc: 0.8086 - pre: 0.7395 - rec: 0.6473 - val_loss: 5.6857 - val_auc: 0.0000e+00 - val_pre: 0.0000e+00 - val_rec: 0.0000e+00\n",
      "Epoch 15/64\n",
      "10/10 [==============================] - 0s 30ms/step - loss: 4.8288 - auc: 0.8136 - pre: 0.7549 - rec: 0.6448 - val_loss: 4.9659 - val_auc: 0.0000e+00 - val_pre: 0.0000e+00 - val_rec: 0.0000e+00\n",
      "Epoch 16/64\n",
      "10/10 [==============================] - 0s 30ms/step - loss: 4.1712 - auc: 0.8142 - pre: 0.7461 - rec: 0.6466 - val_loss: 4.3650 - val_auc: 0.0000e+00 - val_pre: 1.0000 - val_rec: 8.8889e-04\n",
      "Epoch 17/64\n",
      "10/10 [==============================] - 0s 31ms/step - loss: 3.6020 - auc: 0.8254 - pre: 0.7630 - rec: 0.6626 - val_loss: 3.8604 - val_auc: 0.0000e+00 - val_pre: 1.0000 - val_rec: 8.8889e-04\n",
      "Epoch 18/64\n",
      "10/10 [==============================] - 0s 31ms/step - loss: 3.1198 - auc: 0.8293 - pre: 0.7713 - rec: 0.6590 - val_loss: 3.4075 - val_auc: 0.0000e+00 - val_pre: 1.0000 - val_rec: 0.0018\n",
      "Epoch 19/64\n",
      "10/10 [==============================] - 0s 28ms/step - loss: 2.7053 - auc: 0.8357 - pre: 0.7733 - rec: 0.6688 - val_loss: 3.0353 - val_auc: 0.0000e+00 - val_pre: 1.0000 - val_rec: 0.0027\n",
      "Epoch 20/64\n",
      "10/10 [==============================] - 0s 31ms/step - loss: 2.3573 - auc: 0.8363 - pre: 0.7775 - rec: 0.6610 - val_loss: 2.7336 - val_auc: 0.0000e+00 - val_pre: 1.0000 - val_rec: 8.8889e-04\n",
      "Epoch 21/64\n",
      "10/10 [==============================] - 0s 31ms/step - loss: 2.0558 - auc: 0.8402 - pre: 0.7910 - rec: 0.6639 - val_loss: 2.4740 - val_auc: 0.0000e+00 - val_pre: 1.0000 - val_rec: 0.0044\n",
      "Epoch 22/64\n",
      "10/10 [==============================] - 0s 29ms/step - loss: 1.8013 - auc: 0.8463 - pre: 0.7988 - rec: 0.6717 - val_loss: 2.2464 - val_auc: 0.0000e+00 - val_pre: 1.0000 - val_rec: 0.0062\n",
      "Epoch 23/64\n",
      "10/10 [==============================] - 0s 31ms/step - loss: 1.5961 - auc: 0.8455 - pre: 0.7894 - rec: 0.6899 - val_loss: 2.0446 - val_auc: 0.0000e+00 - val_pre: 1.0000 - val_rec: 0.0071\n",
      "Epoch 24/64\n",
      "10/10 [==============================] - 0s 30ms/step - loss: 1.4143 - auc: 0.8480 - pre: 0.7956 - rec: 0.6835 - val_loss: 1.8815 - val_auc: 0.0000e+00 - val_pre: 1.0000 - val_rec: 0.0044\n",
      "Epoch 25/64\n",
      "10/10 [==============================] - 0s 32ms/step - loss: 1.2606 - auc: 0.8521 - pre: 0.7906 - rec: 0.6846 - val_loss: 1.7347 - val_auc: 0.0000e+00 - val_pre: 1.0000 - val_rec: 0.0071\n",
      "Epoch 26/64\n",
      "10/10 [==============================] - 0s 31ms/step - loss: 1.1286 - auc: 0.8556 - pre: 0.8067 - rec: 0.6817 - val_loss: 1.6274 - val_auc: 0.0000e+00 - val_pre: 1.0000 - val_rec: 0.0080\n",
      "Epoch 27/64\n",
      "10/10 [==============================] - 0s 30ms/step - loss: 1.0259 - auc: 0.8560 - pre: 0.8111 - rec: 0.6870 - val_loss: 1.4839 - val_auc: 0.0000e+00 - val_pre: 1.0000 - val_rec: 0.0116\n",
      "Epoch 28/64\n",
      "10/10 [==============================] - 0s 30ms/step - loss: 0.9369 - auc: 0.8567 - pre: 0.8024 - rec: 0.6904 - val_loss: 1.4162 - val_auc: 0.0000e+00 - val_pre: 1.0000 - val_rec: 0.0133\n",
      "Epoch 29/64\n",
      "10/10 [==============================] - 0s 30ms/step - loss: 0.8657 - auc: 0.8559 - pre: 0.8181 - rec: 0.6788 - val_loss: 1.3386 - val_auc: 0.0000e+00 - val_pre: 1.0000 - val_rec: 0.0151\n",
      "Epoch 30/64\n",
      "10/10 [==============================] - 0s 29ms/step - loss: 0.8067 - auc: 0.8556 - pre: 0.8026 - rec: 0.6868 - val_loss: 1.2756 - val_auc: 0.0000e+00 - val_pre: 1.0000 - val_rec: 0.0169\n",
      "Epoch 31/64\n",
      "10/10 [==============================] - 0s 30ms/step - loss: 0.7497 - auc: 0.8599 - pre: 0.8190 - rec: 0.6890 - val_loss: 1.2420 - val_auc: 0.0000e+00 - val_pre: 1.0000 - val_rec: 0.0160\n",
      "Epoch 32/64\n",
      "10/10 [==============================] - 0s 30ms/step - loss: 0.7021 - auc: 0.8619 - pre: 0.8160 - rec: 0.6873 - val_loss: 1.1669 - val_auc: 0.0000e+00 - val_pre: 1.0000 - val_rec: 0.0213\n",
      "Epoch 33/64\n",
      "10/10 [==============================] - 0s 31ms/step - loss: 0.6630 - auc: 0.8665 - pre: 0.8171 - rec: 0.6953 - val_loss: 1.1251 - val_auc: 0.0000e+00 - val_pre: 1.0000 - val_rec: 0.0276\n",
      "Epoch 34/64\n",
      "10/10 [==============================] - 0s 31ms/step - loss: 0.6324 - auc: 0.8659 - pre: 0.8074 - rec: 0.6968 - val_loss: 1.1198 - val_auc: 0.0000e+00 - val_pre: 1.0000 - val_rec: 0.0293\n",
      "Epoch 35/64\n",
      "10/10 [==============================] - 0s 30ms/step - loss: 0.6088 - auc: 0.8654 - pre: 0.8216 - rec: 0.6899 - val_loss: 1.0859 - val_auc: 0.0000e+00 - val_pre: 1.0000 - val_rec: 0.0338\n",
      "Epoch 36/64\n",
      "10/10 [==============================] - 0s 29ms/step - loss: 0.5887 - auc: 0.8684 - pre: 0.8182 - rec: 0.7042 - val_loss: 1.0563 - val_auc: 0.0000e+00 - val_pre: 1.0000 - val_rec: 0.0364\n",
      "Epoch 37/64\n",
      "10/10 [==============================] - 0s 31ms/step - loss: 0.5749 - auc: 0.8652 - pre: 0.8250 - rec: 0.6810 - val_loss: 1.0347 - val_auc: 0.0000e+00 - val_pre: 1.0000 - val_rec: 0.0507\n",
      "Epoch 38/64\n",
      "10/10 [==============================] - 0s 32ms/step - loss: 0.5632 - auc: 0.8632 - pre: 0.8167 - rec: 0.6913 - val_loss: 1.0455 - val_auc: 0.0000e+00 - val_pre: 1.0000 - val_rec: 0.0409\n",
      "Epoch 39/64\n",
      "10/10 [==============================] - 0s 30ms/step - loss: 0.5463 - auc: 0.8674 - pre: 0.8232 - rec: 0.6895 - val_loss: 0.9588 - val_auc: 0.0000e+00 - val_pre: 1.0000 - val_rec: 0.0898\n",
      "Epoch 40/64\n",
      "10/10 [==============================] - 0s 30ms/step - loss: 0.5360 - auc: 0.8675 - pre: 0.8253 - rec: 0.6930 - val_loss: 0.9619 - val_auc: 0.0000e+00 - val_pre: 1.0000 - val_rec: 0.1120\n",
      "Epoch 41/64\n",
      "10/10 [==============================] - 0s 32ms/step - loss: 0.5252 - auc: 0.8685 - pre: 0.8302 - rec: 0.6946 - val_loss: 0.9553 - val_auc: 0.0000e+00 - val_pre: 1.0000 - val_rec: 0.1244\n",
      "Epoch 42/64\n",
      "10/10 [==============================] - 0s 30ms/step - loss: 0.5183 - auc: 0.8682 - pre: 0.8099 - rec: 0.7053 - val_loss: 0.8923 - val_auc: 0.0000e+00 - val_pre: 1.0000 - val_rec: 0.1689\n",
      "Epoch 43/64\n",
      "10/10 [==============================] - 0s 31ms/step - loss: 0.5071 - auc: 0.8712 - pre: 0.8218 - rec: 0.6993 - val_loss: 0.9085 - val_auc: 0.0000e+00 - val_pre: 1.0000 - val_rec: 0.1511\n",
      "Epoch 44/64\n",
      "10/10 [==============================] - 0s 30ms/step - loss: 0.5001 - auc: 0.8738 - pre: 0.8250 - rec: 0.7095 - val_loss: 0.8882 - val_auc: 0.0000e+00 - val_pre: 1.0000 - val_rec: 0.1831\n",
      "Epoch 45/64\n",
      "10/10 [==============================] - 0s 29ms/step - loss: 0.5065 - auc: 0.8666 - pre: 0.8134 - rec: 0.6877 - val_loss: 0.8660 - val_auc: 0.0000e+00 - val_pre: 1.0000 - val_rec: 0.1796\n",
      "Epoch 46/64\n",
      "10/10 [==============================] - 0s 30ms/step - loss: 0.4918 - auc: 0.8740 - pre: 0.8215 - rec: 0.7090 - val_loss: 0.8381 - val_auc: 0.0000e+00 - val_pre: 1.0000 - val_rec: 0.2702\n",
      "Epoch 47/64\n",
      "10/10 [==============================] - 0s 30ms/step - loss: 0.4821 - auc: 0.8785 - pre: 0.8279 - rec: 0.7119 - val_loss: 0.7925 - val_auc: 0.0000e+00 - val_pre: 1.0000 - val_rec: 0.3396\n",
      "Epoch 48/64\n",
      "10/10 [==============================] - 0s 30ms/step - loss: 0.4888 - auc: 0.8733 - pre: 0.8259 - rec: 0.7095 - val_loss: 0.8231 - val_auc: 0.0000e+00 - val_pre: 1.0000 - val_rec: 0.3004\n",
      "Epoch 49/64\n",
      "10/10 [==============================] - 0s 30ms/step - loss: 0.4812 - auc: 0.8777 - pre: 0.8221 - rec: 0.6997 - val_loss: 0.7940 - val_auc: 0.0000e+00 - val_pre: 1.0000 - val_rec: 0.3298\n",
      "Epoch 50/64\n",
      "10/10 [==============================] - 0s 30ms/step - loss: 0.4811 - auc: 0.8752 - pre: 0.8235 - rec: 0.7073 - val_loss: 0.7799 - val_auc: 0.0000e+00 - val_pre: 1.0000 - val_rec: 0.3636\n",
      "Epoch 51/64\n",
      "10/10 [==============================] - 0s 30ms/step - loss: 0.4767 - auc: 0.8780 - pre: 0.8360 - rec: 0.7057 - val_loss: 0.7648 - val_auc: 0.0000e+00 - val_pre: 1.0000 - val_rec: 0.4356\n",
      "Epoch 52/64\n",
      "10/10 [==============================] - 0s 30ms/step - loss: 0.4798 - auc: 0.8783 - pre: 0.8121 - rec: 0.7233 - val_loss: 0.7350 - val_auc: 0.0000e+00 - val_pre: 1.0000 - val_rec: 0.4978\n",
      "Epoch 53/64\n",
      "10/10 [==============================] - 0s 30ms/step - loss: 0.4754 - auc: 0.8814 - pre: 0.8310 - rec: 0.7082 - val_loss: 0.6860 - val_auc: 0.0000e+00 - val_pre: 1.0000 - val_rec: 0.5938\n",
      "Epoch 54/64\n",
      "10/10 [==============================] - 0s 29ms/step - loss: 0.4763 - auc: 0.8810 - pre: 0.8224 - rec: 0.7235 - val_loss: 0.7061 - val_auc: 0.0000e+00 - val_pre: 1.0000 - val_rec: 0.5084\n",
      "Epoch 55/64\n",
      "10/10 [==============================] - 0s 30ms/step - loss: 0.4739 - auc: 0.8819 - pre: 0.8300 - rec: 0.7239 - val_loss: 0.6646 - val_auc: 0.0000e+00 - val_pre: 1.0000 - val_rec: 0.5556\n",
      "Epoch 56/64\n",
      "10/10 [==============================] - 0s 30ms/step - loss: 0.4709 - auc: 0.8830 - pre: 0.8278 - rec: 0.7235 - val_loss: 0.6863 - val_auc: 0.0000e+00 - val_pre: 1.0000 - val_rec: 0.5298\n",
      "Epoch 57/64\n",
      "10/10 [==============================] - 0s 30ms/step - loss: 0.4750 - auc: 0.8811 - pre: 0.8306 - rec: 0.7062 - val_loss: 0.6912 - val_auc: 0.0000e+00 - val_pre: 1.0000 - val_rec: 0.5191\n",
      "Epoch 58/64\n",
      "10/10 [==============================] - 0s 30ms/step - loss: 0.4702 - auc: 0.8813 - pre: 0.8333 - rec: 0.7166 - val_loss: 0.6795 - val_auc: 0.0000e+00 - val_pre: 1.0000 - val_rec: 0.5191\n",
      "Epoch 59/64\n",
      "10/10 [==============================] - 0s 29ms/step - loss: 0.4688 - auc: 0.8828 - pre: 0.8369 - rec: 0.7197 - val_loss: 0.7029 - val_auc: 0.0000e+00 - val_pre: 1.0000 - val_rec: 0.5138\n",
      "Epoch 60/64\n",
      "10/10 [==============================] - 0s 30ms/step - loss: 0.4677 - auc: 0.8841 - pre: 0.8289 - rec: 0.7246 - val_loss: 0.7111 - val_auc: 0.0000e+00 - val_pre: 1.0000 - val_rec: 0.5271\n",
      "Epoch 61/64\n",
      "10/10 [==============================] - 0s 30ms/step - loss: 0.4679 - auc: 0.8833 - pre: 0.8325 - rec: 0.7179 - val_loss: 0.6935 - val_auc: 0.0000e+00 - val_pre: 1.0000 - val_rec: 0.5422\n",
      "Epoch 62/64\n",
      "10/10 [==============================] - 0s 31ms/step - loss: 0.4683 - auc: 0.8837 - pre: 0.8335 - rec: 0.7190 - val_loss: 0.7120 - val_auc: 0.0000e+00 - val_pre: 1.0000 - val_rec: 0.5200\n",
      "Epoch 63/64\n",
      "10/10 [==============================] - 0s 30ms/step - loss: 0.4710 - auc: 0.8825 - pre: 0.8442 - rec: 0.7068 - val_loss: 0.6582 - val_auc: 0.0000e+00 - val_pre: 1.0000 - val_rec: 0.5840\n",
      "Epoch 64/64\n",
      "10/10 [==============================] - 0s 30ms/step - loss: 0.4647 - auc: 0.8855 - pre: 0.8368 - rec: 0.7257 - val_loss: 0.6490 - val_auc: 0.0000e+00 - val_pre: 1.0000 - val_rec: 0.6044\n"
     ]
    },
    {
     "data": {
      "image/png": "[encoded data removed]",
      "text/plain": [
       "<Figure size 640x480 with 1 Axes>"
      ]
     },
     "metadata": {},
     "output_type": "display_data"
    }
   ],
   "source": [
    "fit, test_metrics = train_and_evaluate()"
   ]
  },
  {
   "attachments": {},
   "cell_type": "markdown",
   "metadata": {},
   "source": [
    "#### Takeaways\n",
    "\n",
    "* During training, our validation loss steeply dropped from 30 to below 1 in 16 epochs, then gradually converges to ½ by the 64th. \n",
    "* Over those same intervals, the validation recall jumps from less than 1% to 10%, then jumps to converge at 79%. "
   ]
  },
  {
   "cell_type": "code",
   "execution_count": 22,
   "metadata": {},
   "outputs": [
    {
     "name": "stdout",
     "output_type": "stream",
     "text": [
      "Model: \"sequential\"\n",
      "_________________________________________________________________\n",
      " Layer (type)                Output Shape              Param #   \n",
      "=================================================================\n",
      " dense_0 (Dense)             (None, 512)               215040    \n",
      "                                                                 \n",
      " batch_norm_0 (BatchNormaliz  (None, 512)              2048      \n",
      " ation)                                                          \n",
      "                                                                 \n",
      " dropout_0 (Dropout)         (None, 512)               0         \n",
      "                                                                 \n",
      " dense_1 (Dense)             (None, 256)               131328    \n",
      "                                                                 \n",
      " batch_norm_1 (BatchNormaliz  (None, 256)              1024      \n",
      " ation)                                                          \n",
      "                                                                 \n",
      " dropout_1 (Dropout)         (None, 256)               0         \n",
      "                                                                 \n",
      " dense_2 (Dense)             (None, 256)               65792     \n",
      "                                                                 \n",
      " batch_norm_2 (BatchNormaliz  (None, 256)              1024      \n",
      " ation)                                                          \n",
      "                                                                 \n",
      " dropout_2 (Dropout)         (None, 256)               0         \n",
      "                                                                 \n",
      " dense_3 (Dense)             (None, 128)               32896     \n",
      "                                                                 \n",
      " batch_norm_3 (BatchNormaliz  (None, 128)              512       \n",
      " ation)                                                          \n",
      "                                                                 \n",
      " dropout_3 (Dropout)         (None, 128)               0         \n",
      "                                                                 \n",
      " dense (Dense)               (None, 1)                 129       \n",
      "                                                                 \n",
      "=================================================================\n",
      "Total params: 449,793\n",
      "Trainable params: 447,489\n",
      "Non-trainable params: 2,304\n",
      "_________________________________________________________________\n"
     ]
    }
   ],
   "source": [
    "fit.summary()"
   ]
  },
  {
   "attachments": {},
   "cell_type": "markdown",
   "metadata": {},
   "source": [
    "# VI. Evaluating the Model\n",
    "\n",
    "We will test our model against the 30% of the training data held-out for validation. Since we are doing binary classification, we care about loss (binary cross-entropy), AUC, precision, and recall. We also plot the ROC curve. "
   ]
  },
  {
   "cell_type": "code",
   "execution_count": 23,
   "metadata": {},
   "outputs": [
    {
     "data": {
      "text/html": [
       "<div>\n",
       "<style scoped>\n",
       "    .dataframe tbody tr th:only-of-type {\n",
       "        vertical-align: middle;\n",
       "    }\n",
       "\n",
       "    .dataframe tbody tr th {\n",
       "        vertical-align: top;\n",
       "    }\n",
       "\n",
       "    .dataframe thead th {\n",
       "        text-align: right;\n",
       "    }\n",
       "</style>\n",
       "<table border=\"1\" class=\"dataframe\">\n",
       "  <thead>\n",
       "    <tr style=\"text-align: right;\">\n",
       "      <th></th>\n",
       "      <th>loss</th>\n",
       "      <th>auc</th>\n",
       "      <th>pre</th>\n",
       "      <th>rec</th>\n",
       "    </tr>\n",
       "  </thead>\n",
       "  <tbody>\n",
       "    <tr>\n",
       "      <th>0</th>\n",
       "      <td>42.0%</td>\n",
       "      <td>85.4%</td>\n",
       "      <td>23.2%</td>\n",
       "      <td>56.2%</td>\n",
       "    </tr>\n",
       "  </tbody>\n",
       "</table>\n",
       "</div>"
      ],
      "text/plain": [
       "    loss    auc    pre    rec\n",
       "0  42.0%  85.4%  23.2%  56.2%"
      ]
     },
     "execution_count": 23,
     "metadata": {},
     "output_type": "execute_result"
    }
   ],
   "source": [
    "pd.DataFrame({k:f'{v:.1%}' for k, v in test_metrics.items()}, index=[0])"
   ]
  },
  {
   "cell_type": "code",
   "execution_count": 24,
   "metadata": {},
   "outputs": [
    {
     "name": "stdout",
     "output_type": "stream",
     "text": [
      "2566/2566 [==============================] - 3s 958us/step\n"
     ]
    },
    {
     "data": {
      "image/png": "[encoded data removed]",
      "text/plain": [
       "<Figure size 640x480 with 1 Axes>"
      ]
     },
     "metadata": {},
     "output_type": "display_data"
    }
   ],
   "source": [
    "fpr, tpr, threshold = roc_curve(y_val, fit.predict(X_val))\n",
    "\n",
    "plt.plot(fpr, tpr, 'b', label = f'AUC = {test_metrics[\"auc\"]:.1%}')\n",
    "plt.legend(loc = 'lower right')\n",
    "plt.plot([0, 1], [0, 1],'r--')\n",
    "plt.xlim([0, 1])\n",
    "plt.ylim([0, 1])\n",
    "plt.ylabel('True Positive Rate')\n",
    "plt.xlabel('False Positive Rate')\n",
    "plt.title('ROC Curve - Main Neural Network Model')\n",
    "plt.show()"
   ]
  },
  {
   "attachments": {},
   "cell_type": "markdown",
   "metadata": {},
   "source": [
    "#### Takeaways\n",
    "\n",
    "* We see a pretty healthy ROC curve with an area-under-the-curve of 88.8%. "
   ]
  },
  {
   "attachments": {},
   "cell_type": "markdown",
   "metadata": {},
   "source": [
    "# VII. Outputting Model\n",
    "\n",
    "Fit our model onto the unlabelled test data, then output as CSV we can upload to Kaggle."
   ]
  },
  {
   "cell_type": "code",
   "execution_count": 25,
   "metadata": {},
   "outputs": [
    {
     "name": "stdout",
     "output_type": "stream",
     "text": [
      "7337/7337 [==============================] - 8s 1ms/step\n"
     ]
    }
   ],
   "source": [
    "users['predictions'] = fit.predict(test)\n",
    "sub['isFraud'] = test_full.merge(users, on=user_composite_key, how='left').predictions\n",
    "sub.to_csv('../data/submissions/lastest_transaction_submission.csv', index=False)"
   ]
  },
  {
   "attachments": {},
   "cell_type": "markdown",
   "metadata": {},
   "source": [
    "# VIII. Simple Ensembling Approach"
   ]
  },
  {
   "cell_type": "code",
   "execution_count": 26,
   "metadata": {},
   "outputs": [],
   "source": [
    "(pd.read_csv('../data/submissions/main_neural_network_submission.csv')\n",
    "    .merge(sub, on='TransactionID', how='left')\n",
    "    .assign(isFraud = lambda df: (df.isFraud_x + df.isFraud_y) / 2)\n",
    "    .drop(['isFraud_x', 'isFraud_y'], axis=1)\n",
    ").to_csv('../data/submissions/ensemble_submission.csv', index=False)"
   ]
  }
 ],
 "metadata": {
  "kernelspec": {
   "display_name": "Python 3.10.4 64-bit",
   "language": "python",
   "name": "python3"
  },
  "language_info": {
   "codemirror_mode": {
    "name": "ipython",
    "version": 3
   },
   "file_extension": ".py",
   "mimetype": "text/x-python",
   "name": "python",
   "nbconvert_exporter": "python",
   "pygments_lexer": "ipython3",
   "version": "3.10.4"
  },
  "orig_nbformat": 4,
  "vscode": {
   "interpreter": {
    "hash": "807207e50864ba942fdea3697702c6ceff6811bbc7deef42e07b12b1046b97db"
   }
  }
 },
 "nbformat": 4,
 "nbformat_minor": 2
}
