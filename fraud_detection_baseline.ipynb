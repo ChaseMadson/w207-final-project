{
 "cells": [
  {
   "cell_type": "markdown",
   "metadata": {},
   "source": [
    "# Final Project - Detecting Fraudulent Credit Card Transactions\n",
    "\n",
    "| Course | Term | Section | Group | Objective | Kaggle URL |\n",
    "| --- | --- | --- | --- | --- | --- |\n",
    "| W207 | Fall 2022 | 11 | 2 | Detect fraudulent credit card transactions | IEEE-CIS Fraud Detection ([Link](kaggle.com/competitions/ieee-fraud-detection)) |\n",
    "\n",
    "### Group Members \n",
    "- Naikaj Pandya\n",
    "- Chase Madson\n",
    "- Eric Danforth\n"
   ]
  },
  {
   "cell_type": "markdown",
   "metadata": {},
   "source": [
    "# I. Setup"
   ]
  },
  {
   "cell_type": "markdown",
   "metadata": {},
   "source": [
    "## Import Packages"
   ]
  },
  {
   "cell_type": "code",
   "execution_count": 1,
   "metadata": {},
   "outputs": [],
   "source": [
    "# Import necessary libraries\n",
    "import numpy as np\n",
    "from matplotlib import pyplot as plt\n",
    "import pandas as pd\n",
    "import seaborn as sns  # for nicer plots\n",
    "from math import floor\n",
    "# sns.set(style=\"darkgrid\")  # default style\n",
    "from sklearn.model_selection import train_test_split\n",
    "from sklearn.neighbors import KNeighborsClassifier\n",
    "from sklearn.metrics import roc_curve\n",
    "from sklearn.metrics import auc\n",
    "\n",
    "# import tensorflow as tf\n",
    "# from tensorflow import keras\n",
    "# from keras import metrics\n",
    "# tf.get_logger().setLevel('INFO')"
   ]
  },
  {
   "cell_type": "markdown",
   "metadata": {},
   "source": [
    "## Load Data"
   ]
  },
  {
   "cell_type": "code",
   "execution_count": 2,
   "metadata": {},
   "outputs": [],
   "source": [
    "train_identity = pd.read_csv('data/train_identity.csv')\n",
    "train_transaction = pd.read_csv('data/train_transaction.csv')\n",
    "test_identity = pd.read_csv('data/test_identity.csv')\n",
    "test_transaction = pd.read_csv('data/test_transaction.csv')\n",
    "sub = pd.read_csv('data/sample_submission.csv')\n",
    "# let's combine the data and work with the whole dataset\n",
    "#train = pd.merge(train_transaction, train_identity, on='TransactionID', how='left')\n",
    "#test = pd.merge(test_transaction, test_identity, on='TransactionID', how='left')"
   ]
  },
  {
   "cell_type": "markdown",
   "metadata": {},
   "source": [
    "# II. EDA"
   ]
  },
  {
   "cell_type": "markdown",
   "metadata": {},
   "source": [
    "## First Look at the Data\n",
    "\n",
    "This data is collected by Vesta’s fraud protection system and digital security partners (the sponsors of this competition)."
   ]
  },
  {
   "cell_type": "code",
   "execution_count": 3,
   "metadata": {},
   "outputs": [
    {
     "data": {
      "text/html": [
       "<div>\n",
       "<style scoped>\n",
       "    .dataframe tbody tr th:only-of-type {\n",
       "        vertical-align: middle;\n",
       "    }\n",
       "\n",
       "    .dataframe tbody tr th {\n",
       "        vertical-align: top;\n",
       "    }\n",
       "\n",
       "    .dataframe thead th {\n",
       "        text-align: right;\n",
       "    }\n",
       "</style>\n",
       "<table border=\"1\" class=\"dataframe\">\n",
       "  <thead>\n",
       "    <tr style=\"text-align: right;\">\n",
       "      <th></th>\n",
       "      <th>train_transaction</th>\n",
       "      <th>test_transaction</th>\n",
       "      <th>train_identity</th>\n",
       "      <th>test_identity</th>\n",
       "    </tr>\n",
       "  </thead>\n",
       "  <tbody>\n",
       "    <tr>\n",
       "      <th>Transactions</th>\n",
       "      <td>590540</td>\n",
       "      <td>506691</td>\n",
       "      <td>144233</td>\n",
       "      <td>141907</td>\n",
       "    </tr>\n",
       "    <tr>\n",
       "      <th>Features</th>\n",
       "      <td>394</td>\n",
       "      <td>393</td>\n",
       "      <td>41</td>\n",
       "      <td>41</td>\n",
       "    </tr>\n",
       "    <tr>\n",
       "      <th>Features w/ Nulls</th>\n",
       "      <td>374</td>\n",
       "      <td>345</td>\n",
       "      <td>38</td>\n",
       "      <td>38</td>\n",
       "    </tr>\n",
       "    <tr>\n",
       "      <th>Date Range</th>\n",
       "      <td>[0, 181]</td>\n",
       "      <td>[212, 394]</td>\n",
       "      <td></td>\n",
       "      <td></td>\n",
       "    </tr>\n",
       "    <tr>\n",
       "      <th>Percent Fraudulent</th>\n",
       "      <td>3.499%</td>\n",
       "      <td></td>\n",
       "      <td></td>\n",
       "      <td></td>\n",
       "    </tr>\n",
       "  </tbody>\n",
       "</table>\n",
       "</div>"
      ],
      "text/plain": [
       "                   train_transaction test_transaction train_identity  \\\n",
       "Transactions                  590540           506691         144233   \n",
       "Features                         394              393             41   \n",
       "Features w/ Nulls                374              345             38   \n",
       "Date Range                  [0, 181]       [212, 394]                  \n",
       "Percent Fraudulent            3.499%                                   \n",
       "\n",
       "                   test_identity  \n",
       "Transactions              141907  \n",
       "Features                      41  \n",
       "Features w/ Nulls             38  \n",
       "Date Range                        \n",
       "Percent Fraudulent                "
      ]
     },
     "execution_count": 3,
     "metadata": {},
     "output_type": "execute_result"
    }
   ],
   "source": [
    "tmp_dict = {\n",
    " name:{\n",
    "    'Transactions': len(df), \n",
    "    'Features': len(df.columns),\n",
    "    'Features w/ Nulls': df.isnull().any().sum(),\n",
    "    'Date Range': [floor(i / (60 * 60 * 24)) - 1 for i in (df['TransactionDT'].min(), df['TransactionDT'].max())] \n",
    "                  if 'TransactionDT' in df else '',\n",
    "    'Percent Fraudulent': str(round(100 * df.isFraud.sum() / len(df), 3)) + '%'\n",
    "                          if 'isFraud' in df else '',\n",
    "    }\n",
    " for df, name\n",
    " in zip(\n",
    "   (train_transaction, test_transaction, train_identity, test_identity),\n",
    "   ('train_transaction', 'test_transaction', 'train_identity', 'test_identity')\n",
    "   )\n",
    "}\n",
    "\n",
    "pd.DataFrame.from_dict(tmp_dict, dtype='str')"
   ]
  },
  {
   "cell_type": "markdown",
   "metadata": {},
   "source": [
    "### Takeaways\n",
    "**Big Data**: We have over half a million records of card transactions in each of `train_transaction` and `test_transaction` datasets, and a maximum of 434 features to work with\n",
    "\n",
    "- **Missing Data**: Almost all the columns include some portion of missing data, which may need to be addressed before our final model  \n",
    "\n",
    "- **Masked Data**: Most feature names are intentionally masked for privacy protection and contract agreement\n",
    "\n",
    "- **Imbalanced Outcome Variable**: Only 3.5% of transactions are marked fraud, so we may want to balance the training data before our final model - we should be cautious of accuracy as a metric\n",
    "\n",
    "**Identity Tables as Subset of Transaction Tables**: The identity tables do not include our outcome variable but instead include network connection information (IP, ISP, Proxy, etc) and digital signature (UA/browser/os/version, etc) associated with transactions\n",
    "- The transactions in `train_identity` are a subset of the transactions in `train_transaction`, as is `test_identity` to `test_transaction` \n",
    "- About 25% of the transactions in `training_transaction` have a corresponding record in `training_identity`\n",
    "- Because joining `training_identity` features to `training_transaction` will introduce a lot of `NULL` values, we will simply create a binary variable `have_identity` to indicate whether a transaction appears in both tables\n",
    "\n",
    "**Differing Transaction Date Ranges**: The transaction dates in `training_transaction` appear to cover a 181-day time period starting at day 0, while the transaction dates in `test_transaction` appear to cover a 182-day time period starting at day 212  \n",
    "- The training and test data do not overlap in time\n",
    "- Though the data publishers deliberately mask the dates of this data, we infer that Day 0 is June 1, 2018 based on timing of the competition the apparent choice to omit December as an outlier holiday month \n"
   ]
  },
  {
   "cell_type": "markdown",
   "metadata": {},
   "source": [
    "## Transaction Amount"
   ]
  },
  {
   "cell_type": "code",
   "execution_count": 4,
   "metadata": {},
   "outputs": [
    {
     "data": {
      "text/plain": [
       "(-0.5, 1.5, 0.0, 400.0)"
      ]
     },
     "execution_count": 4,
     "metadata": {},
     "output_type": "execute_result"
    },
    {
     "data": {
      "image/png": "[encoded data removed]",
      "text/plain": [
       "<Figure size 640x480 with 1 Axes>"
      ]
     },
     "metadata": {},
     "output_type": "display_data"
    }
   ],
   "source": [
    "sns.boxplot(data=train_transaction, x='isFraud', y='TransactionAmt').axis(ymin=0,ymax=400)"
   ]
  },
  {
   "cell_type": "markdown",
   "metadata": {},
   "source": [
    "### Takeaways - Transaction Amount\n",
    "\n",
    "The distribution of fraudulent transactions appear to be somewhat greater than for the transactions not marked as fraud. This feature should be included in the model. "
   ]
  },
  {
   "cell_type": "markdown",
   "metadata": {},
   "source": [
    "## Look at an Example of Fraud"
   ]
  },
  {
   "cell_type": "code",
   "execution_count": 5,
   "metadata": {},
   "outputs": [
    {
     "data": {
      "text/html": [
       "<div>\n",
       "<style scoped>\n",
       "    .dataframe tbody tr th:only-of-type {\n",
       "        vertical-align: middle;\n",
       "    }\n",
       "\n",
       "    .dataframe tbody tr th {\n",
       "        vertical-align: top;\n",
       "    }\n",
       "\n",
       "    .dataframe thead th {\n",
       "        text-align: right;\n",
       "    }\n",
       "</style>\n",
       "<table border=\"1\" class=\"dataframe\">\n",
       "  <thead>\n",
       "    <tr style=\"text-align: right;\">\n",
       "      <th></th>\n",
       "      <th>TransactionID</th>\n",
       "      <th>isFraud</th>\n",
       "      <th>TransactionDT</th>\n",
       "      <th>TransactionAmt</th>\n",
       "      <th>ProductCD</th>\n",
       "      <th>card1</th>\n",
       "      <th>card2</th>\n",
       "      <th>card3</th>\n",
       "      <th>card4</th>\n",
       "      <th>card5</th>\n",
       "      <th>...</th>\n",
       "      <th>V330</th>\n",
       "      <th>V331</th>\n",
       "      <th>V332</th>\n",
       "      <th>V333</th>\n",
       "      <th>V334</th>\n",
       "      <th>V335</th>\n",
       "      <th>V336</th>\n",
       "      <th>V337</th>\n",
       "      <th>V338</th>\n",
       "      <th>V339</th>\n",
       "    </tr>\n",
       "  </thead>\n",
       "  <tbody>\n",
       "    <tr>\n",
       "      <th>295081</th>\n",
       "      <td>3282081</td>\n",
       "      <td>1</td>\n",
       "      <td>7291745</td>\n",
       "      <td>26.706</td>\n",
       "      <td>C</td>\n",
       "      <td>9917</td>\n",
       "      <td>142.0</td>\n",
       "      <td>185.0</td>\n",
       "      <td>visa</td>\n",
       "      <td>138.0</td>\n",
       "      <td>...</td>\n",
       "      <td>NaN</td>\n",
       "      <td>NaN</td>\n",
       "      <td>NaN</td>\n",
       "      <td>NaN</td>\n",
       "      <td>NaN</td>\n",
       "      <td>NaN</td>\n",
       "      <td>NaN</td>\n",
       "      <td>NaN</td>\n",
       "      <td>NaN</td>\n",
       "      <td>NaN</td>\n",
       "    </tr>\n",
       "  </tbody>\n",
       "</table>\n",
       "<p>1 rows × 394 columns</p>\n",
       "</div>"
      ],
      "text/plain": [
       "        TransactionID  isFraud  TransactionDT  TransactionAmt ProductCD  \\\n",
       "295081        3282081        1        7291745          26.706         C   \n",
       "\n",
       "        card1  card2  card3 card4  card5  ... V330  V331  V332  V333  V334  \\\n",
       "295081   9917  142.0  185.0  visa  138.0  ...  NaN   NaN   NaN   NaN   NaN   \n",
       "\n",
       "       V335 V336  V337  V338  V339  \n",
       "295081  NaN  NaN   NaN   NaN   NaN  \n",
       "\n",
       "[1 rows x 394 columns]"
      ]
     },
     "execution_count": 5,
     "metadata": {},
     "output_type": "execute_result"
    }
   ],
   "source": [
    "tmp_fraud_id = train_transaction[train_transaction['isFraud'] == 1].TransactionID.sample(1).values[0]\n",
    "train_transaction[\n",
    "    train_transaction['TransactionID'] == tmp_fraud_id\n",
    "    ]"
   ]
  },
  {
   "cell_type": "code",
   "execution_count": 6,
   "metadata": {},
   "outputs": [
    {
     "data": {
      "text/html": [
       "<div>\n",
       "<style scoped>\n",
       "    .dataframe tbody tr th:only-of-type {\n",
       "        vertical-align: middle;\n",
       "    }\n",
       "\n",
       "    .dataframe tbody tr th {\n",
       "        vertical-align: top;\n",
       "    }\n",
       "\n",
       "    .dataframe thead th {\n",
       "        text-align: right;\n",
       "    }\n",
       "</style>\n",
       "<table border=\"1\" class=\"dataframe\">\n",
       "  <thead>\n",
       "    <tr style=\"text-align: right;\">\n",
       "      <th></th>\n",
       "      <th>TransactionID</th>\n",
       "      <th>id_01</th>\n",
       "      <th>id_02</th>\n",
       "      <th>id_03</th>\n",
       "      <th>id_04</th>\n",
       "      <th>id_05</th>\n",
       "      <th>id_06</th>\n",
       "      <th>id_07</th>\n",
       "      <th>id_08</th>\n",
       "      <th>id_09</th>\n",
       "      <th>...</th>\n",
       "      <th>id_31</th>\n",
       "      <th>id_32</th>\n",
       "      <th>id_33</th>\n",
       "      <th>id_34</th>\n",
       "      <th>id_35</th>\n",
       "      <th>id_36</th>\n",
       "      <th>id_37</th>\n",
       "      <th>id_38</th>\n",
       "      <th>DeviceType</th>\n",
       "      <th>DeviceInfo</th>\n",
       "    </tr>\n",
       "  </thead>\n",
       "  <tbody>\n",
       "    <tr>\n",
       "      <th>88124</th>\n",
       "      <td>3282081</td>\n",
       "      <td>-10.0</td>\n",
       "      <td>774941.0</td>\n",
       "      <td>0.0</td>\n",
       "      <td>0.0</td>\n",
       "      <td>0.0</td>\n",
       "      <td>0.0</td>\n",
       "      <td>NaN</td>\n",
       "      <td>NaN</td>\n",
       "      <td>0.0</td>\n",
       "      <td>...</td>\n",
       "      <td>chrome 64.0 for android</td>\n",
       "      <td>NaN</td>\n",
       "      <td>NaN</td>\n",
       "      <td>NaN</td>\n",
       "      <td>F</td>\n",
       "      <td>F</td>\n",
       "      <td>T</td>\n",
       "      <td>F</td>\n",
       "      <td>mobile</td>\n",
       "      <td>F5121 Build/34.3.A.0.252</td>\n",
       "    </tr>\n",
       "  </tbody>\n",
       "</table>\n",
       "<p>1 rows × 41 columns</p>\n",
       "</div>"
      ],
      "text/plain": [
       "       TransactionID  id_01     id_02  id_03  id_04  id_05  id_06  id_07  \\\n",
       "88124        3282081  -10.0  774941.0    0.0    0.0    0.0    0.0    NaN   \n",
       "\n",
       "       id_08  id_09  ...                    id_31  id_32 id_33  id_34  id_35  \\\n",
       "88124    NaN    0.0  ...  chrome 64.0 for android    NaN   NaN    NaN      F   \n",
       "\n",
       "      id_36 id_37  id_38  DeviceType                DeviceInfo  \n",
       "88124     F     T      F      mobile  F5121 Build/34.3.A.0.252  \n",
       "\n",
       "[1 rows x 41 columns]"
      ]
     },
     "execution_count": 6,
     "metadata": {},
     "output_type": "execute_result"
    }
   ],
   "source": [
    "train_identity[train_identity['TransactionID'] == tmp_fraud_id]"
   ]
  },
  {
   "cell_type": "markdown",
   "metadata": {},
   "source": [
    "# III. Training a Model"
   ]
  },
  {
   "cell_type": "markdown",
   "metadata": {},
   "source": [
    "## Baseline Model with KNN"
   ]
  },
  {
   "cell_type": "markdown",
   "metadata": {},
   "source": [
    "*NOTE - Naikaj you may want to code the normalization code here in a separate cell and I can insert it into the long method chaining I do in the following cell*"
   ]
  },
  {
   "cell_type": "code",
   "execution_count": 7,
   "metadata": {},
   "outputs": [],
   "source": [
    "# Split the data into training and test sets\n",
    "\n",
    "tmp = (\n",
    "    # One-hot encode the desired variables, leaving one value out as default\n",
    "    pd.get_dummies(train_transaction, columns=['ProductCD', 'card4', 'card6'], prefix=['ProductCD', 'card4', 'card6'])\n",
    "\n",
    "    # Join 2 columns of identity data and then create a new variable to indicate match between tables\n",
    "    .merge(train_identity.iloc[:,range(2)], on='TransactionID', how='left')\n",
    "    .assign(have_identity=lambda df: ~pd.isna(df['id_01']))\n",
    "\n",
    "    # Drop every column not listed\n",
    "    .loc[:,['isFraud', 'TransactionDT', 'TransactionAmt', 'card4_discover', 'card4_mastercard', 'card4_visa',\n",
    "            'ProductCD_H', 'ProductCD_R', 'ProductCD_S', 'ProductCD_W', 'card6_charge card', 'card6_credit', 'card6_debit', 'card6_debit or credit',\n",
    "            'C1', 'C2', 'C3', 'C4', 'C5', 'have_identity']]\n",
    "    )\n",
    "\n",
    "# Split data into test and training set using scikit-learn method\n",
    "X_train, X_test, y_train, y_test = train_test_split(tmp.loc[:, tmp.columns != 'isFraud'], tmp['isFraud'], random_state=1)\n",
    "\n",
    "del tmp\n",
    "\n",
    "# Now we need to downsample the training set to include an even amount of fraud and non-fraud transactions\n",
    "## Start by rejoining the X and Y variables into one DataFrame\n",
    "tmp = X_train\n",
    "tmp['isFraud'] = y_train\n",
    "\n",
    "## Use groupby and sample to perform stratified random sample on isFraud\n",
    "tmp = tmp.groupby('isFraud').sample(12500)\n",
    "\n",
    "## Split the data back into two datasets - note that we dropped a lot of rows in the last step\n",
    "y_train = tmp['isFraud']\n",
    "X_train = tmp.loc[:, tmp.columns != 'isFraud']\n",
    "\n",
    "del tmp"
   ]
  },
  {
   "cell_type": "code",
   "execution_count": 8,
   "metadata": {},
   "outputs": [
    {
     "data": {
      "image/png": "[encoded data removed]",
      "text/plain": [
       "<Figure size 640x480 with 1 Axes>"
      ]
     },
     "metadata": {},
     "output_type": "display_data"
    }
   ],
   "source": [
    "knn = KNeighborsClassifier(n_neighbors = 5)\n",
    "\n",
    "knn.fit(X_train, y_train)\n",
    "\n",
    "y_scores = knn.predict_proba(X_test)\n",
    "fpr, tpr, threshold = roc_curve(y_test, y_scores[:, 1])\n",
    "roc_auc = auc(fpr, tpr)\n",
    "\n",
    "plt.plot(fpr, tpr, 'b', label = 'AUC = %0.2f' % roc_auc)\n",
    "plt.legend(loc = 'lower right')\n",
    "plt.plot([0, 1], [0, 1],'r--')\n",
    "plt.xlim([0, 1])\n",
    "plt.ylim([0, 1])\n",
    "plt.ylabel('True Positive Rate')\n",
    "plt.xlabel('False Positive Rate')\n",
    "plt.title('ROC Curve of Baseline KNN Model')\n",
    "plt.show()"
   ]
  }
 ],
 "metadata": {
  "kernelspec": {
   "display_name": "Python 3.10.4 64-bit",
   "language": "python",
   "name": "python3"
  },
  "language_info": {
   "codemirror_mode": {
    "name": "ipython",
    "version": 3
   },
   "file_extension": ".py",
   "mimetype": "text/x-python",
   "name": "python",
   "nbconvert_exporter": "python",
   "pygments_lexer": "ipython3",
   "version": "3.10.4"
  },
  "orig_nbformat": 4,
  "vscode": {
   "interpreter": {
    "hash": "807207e50864ba942fdea3697702c6ceff6811bbc7deef42e07b12b1046b97db"
   }
  }
 },
 "nbformat": 4,
 "nbformat_minor": 2
}
