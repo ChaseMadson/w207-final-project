{
 "cells": [
  {
   "cell_type": "markdown",
   "metadata": {},
   "source": [
    "# Final Project - Detecting Fraudulent Credit Card Transactions\n",
    "\n",
    "| Course | Term | Section | Group | Objective | Kaggle URL |\n",
    "| --- | --- | --- | --- | --- | --- |\n",
    "| W207 | Fall 2022 | 11 | 2 | Detect fraudulent credit card transactions | IEEE-CIS Fraud Detection ([Link](kaggle.com/competitions/ieee-fraud-detection)) |\n",
    "\n",
    "**Group Members**\n",
    "- Naikaj Pandya\n",
    "- Chase Madson\n",
    "- Eric Danforth\n"
   ]
  },
  {
   "cell_type": "markdown",
   "metadata": {},
   "source": [
    "## I. Setup"
   ]
  },
  {
   "cell_type": "markdown",
   "metadata": {},
   "source": [
    "### A. Import Packages"
   ]
  },
  {
   "cell_type": "code",
   "execution_count": 1,
   "metadata": {},
   "outputs": [],
   "source": [
    "# Import necessary libraries\n",
    "import numpy as np\n",
    "from matplotlib import pyplot as plt\n",
    "import pandas as pd\n",
    "import seaborn as sns  # for nicer plots\n",
    "from math import floor\n",
    "sns.set(style=\"darkgrid\")  # default style\n",
    "\n",
    "# For fitting the baseline KNN model\n",
    "from sklearn.model_selection import train_test_split\n",
    "from sklearn.neighbors import KNeighborsClassifier\n",
    "from sklearn.metrics import roc_curve, auc"
   ]
  },
  {
   "cell_type": "markdown",
   "metadata": {},
   "source": [
    "### B. Load Data"
   ]
  },
  {
   "cell_type": "code",
   "execution_count": 2,
   "metadata": {},
   "outputs": [],
   "source": [
    "train_identity = pd.read_csv('data/train_identity.csv')\n",
    "train_transaction = pd.read_csv('data/train_transaction.csv')\n",
    "test_identity = pd.read_csv('data/test_identity.csv')\n",
    "test_transaction = pd.read_csv('data/test_transaction.csv')"
   ]
  },
  {
   "cell_type": "markdown",
   "metadata": {},
   "source": [
    "## II. Exploratory Data Analysis"
   ]
  },
  {
   "cell_type": "markdown",
   "metadata": {},
   "source": [
    "### A. Background Info and Summary of Data\n",
    "\n",
    "This competition involves the application of machine learning neural networks to determine fraudulent credit card transactions. The aim of the project is to train a model on credit card activity dataset from Vesta and use it to determine which transactions in the test data are likely to be fraudulent. This competition is hosted by IEEE-CIS (IEEE Computational Intelligence Society) and the Vesta corporation, the world's leading payment service company.  \n",
    "\n",
    "The data comes primarily from Vesta in terms of 2 tables: the transaction table and the identity table:  \n",
    "\n",
    "* The transaction table is a list of each transaction with attributes such as transaction ID, transaction amount, card issue company, product purchased, etc. Along with these, there are a large number of \"masked\" fields in which the data is masked/encoded or the column name is masked. We believe that these masked data fields contain valuable information like currency of transaction, latitude/longitude of transaction, etc. Evaluation of these is not included for developing the baseline model, but will be used for the final model. The transaction table has the important column `isFraud` which is 1 if the transaction is a fraud and is 0 if it is not. This is our target column. The transaction table is the primary table with 1.97m rows split into train and test dataset, having 590,540 rows and 506,691 rows.  \n",
    "\n",
    "* Next, the Identity table is a much smaller table when compared to the transaction table. This table includes a number of fields that are masked/encoded because they provide identifying features. The Identity dataset has a total of 286k rows split into train and test datasets having 144,233 rows and 141,907 rows, respectively. The identity table rows can be mapped to the transaction table using the transactionID column.  "
   ]
  },
  {
   "cell_type": "markdown",
   "metadata": {},
   "source": [
    "### B. First Look at the Data\n",
    "\n",
    "This data is collected by Vesta’s fraud protection system and digital security partners (the sponsors of this competition)."
   ]
  },
  {
   "cell_type": "code",
   "execution_count": 3,
   "metadata": {},
   "outputs": [
    {
     "data": {
      "text/html": [
       "<div>\n",
       "<style scoped>\n",
       "    .dataframe tbody tr th:only-of-type {\n",
       "        vertical-align: middle;\n",
       "    }\n",
       "\n",
       "    .dataframe tbody tr th {\n",
       "        vertical-align: top;\n",
       "    }\n",
       "\n",
       "    .dataframe thead th {\n",
       "        text-align: right;\n",
       "    }\n",
       "</style>\n",
       "<table border=\"1\" class=\"dataframe\">\n",
       "  <thead>\n",
       "    <tr style=\"text-align: right;\">\n",
       "      <th></th>\n",
       "      <th>train_transaction</th>\n",
       "      <th>test_transaction</th>\n",
       "      <th>train_identity</th>\n",
       "      <th>test_identity</th>\n",
       "    </tr>\n",
       "  </thead>\n",
       "  <tbody>\n",
       "    <tr>\n",
       "      <th>Transactions</th>\n",
       "      <td>590540</td>\n",
       "      <td>506691</td>\n",
       "      <td>144233</td>\n",
       "      <td>141907</td>\n",
       "    </tr>\n",
       "    <tr>\n",
       "      <th>Features</th>\n",
       "      <td>394</td>\n",
       "      <td>393</td>\n",
       "      <td>41</td>\n",
       "      <td>41</td>\n",
       "    </tr>\n",
       "    <tr>\n",
       "      <th>Date Range</th>\n",
       "      <td>[0, 181]</td>\n",
       "      <td>[212, 394]</td>\n",
       "      <td></td>\n",
       "      <td></td>\n",
       "    </tr>\n",
       "  </tbody>\n",
       "</table>\n",
       "</div>"
      ],
      "text/plain": [
       "             train_transaction test_transaction train_identity test_identity\n",
       "Transactions            590540           506691         144233        141907\n",
       "Features                   394              393             41            41\n",
       "Date Range            [0, 181]       [212, 394]                             "
      ]
     },
     "execution_count": 3,
     "metadata": {},
     "output_type": "execute_result"
    }
   ],
   "source": [
    "tmp_dict = {\n",
    " name:{\n",
    "    'Transactions': len(df), \n",
    "    'Features': len(df.columns),\n",
    "    'Date Range': [floor(i / (60 * 60 * 24)) - 1 for i in (df['TransactionDT'].min(), df['TransactionDT'].max())] \n",
    "                  if 'TransactionDT' in df else '',\n",
    "    }\n",
    " for df, name\n",
    " in zip(\n",
    "   (train_transaction, test_transaction, train_identity, test_identity),\n",
    "   ('train_transaction', 'test_transaction', 'train_identity', 'test_identity')\n",
    "   )\n",
    "}\n",
    "\n",
    "pd.DataFrame.from_dict(tmp_dict, dtype='str')"
   ]
  },
  {
   "cell_type": "markdown",
   "metadata": {},
   "source": [
    "#### Takeaways  \n",
    "\n",
    "* **Big Data**: We have over half a million records of card transactions in each of `train_transaction` and `test_transaction` datasets, and a maximum of 434 features to work with\n",
    "\n",
    "- **Differing Transaction Date Ranges**: The transaction dates in `training_transaction` appear to cover a 181-day time period starting at day 0, while the transaction dates in `test_transaction` appear to cover a 182-day time period starting at day 212  \n",
    "    - The training and test data do not overlap in time\n",
    "    - Though the data publishers deliberately mask the dates of this data, we infer that Day 0 is June 1, 2018 based on timing of the competition the apparent choice to omit December as an outlier holiday month"
   ]
  },
  {
   "cell_type": "markdown",
   "metadata": {},
   "source": [
    "### C. Missing Data"
   ]
  },
  {
   "cell_type": "code",
   "execution_count": 4,
   "metadata": {},
   "outputs": [
    {
     "data": {
      "text/html": [
       "<div>\n",
       "<style scoped>\n",
       "    .dataframe tbody tr th:only-of-type {\n",
       "        vertical-align: middle;\n",
       "    }\n",
       "\n",
       "    .dataframe tbody tr th {\n",
       "        vertical-align: top;\n",
       "    }\n",
       "\n",
       "    .dataframe thead th {\n",
       "        text-align: right;\n",
       "    }\n",
       "</style>\n",
       "<table border=\"1\" class=\"dataframe\">\n",
       "  <thead>\n",
       "    <tr style=\"text-align: right;\">\n",
       "      <th></th>\n",
       "      <th>train_transaction</th>\n",
       "      <th>test_transaction</th>\n",
       "      <th>train_identity</th>\n",
       "      <th>test_identity</th>\n",
       "    </tr>\n",
       "  </thead>\n",
       "  <tbody>\n",
       "    <tr>\n",
       "      <th>Percent of all Values that are Null</th>\n",
       "      <td>41.1%</td>\n",
       "      <td>36.9%</td>\n",
       "      <td>35.6%</td>\n",
       "      <td>36.2%</td>\n",
       "    </tr>\n",
       "    <tr>\n",
       "      <th>Total Features</th>\n",
       "      <td>394</td>\n",
       "      <td>393</td>\n",
       "      <td>41</td>\n",
       "      <td>41</td>\n",
       "    </tr>\n",
       "    <tr>\n",
       "      <th>Features w/ Nulls</th>\n",
       "      <td>374</td>\n",
       "      <td>345</td>\n",
       "      <td>38</td>\n",
       "      <td>38</td>\n",
       "    </tr>\n",
       "    <tr>\n",
       "      <th>Features w/ &gt; 50% Nulls</th>\n",
       "      <td>174</td>\n",
       "      <td>170</td>\n",
       "      <td>12</td>\n",
       "      <td>15</td>\n",
       "    </tr>\n",
       "    <tr>\n",
       "      <th>Features w/ &gt; 80% Nulls</th>\n",
       "      <td>55</td>\n",
       "      <td>52</td>\n",
       "      <td>9</td>\n",
       "      <td>9</td>\n",
       "    </tr>\n",
       "  </tbody>\n",
       "</table>\n",
       "</div>"
      ],
      "text/plain": [
       "                                    train_transaction test_transaction  \\\n",
       "Percent of all Values that are Null             41.1%            36.9%   \n",
       "Total Features                                    394              393   \n",
       "Features w/ Nulls                                 374              345   \n",
       "Features w/ > 50% Nulls                           174              170   \n",
       "Features w/ > 80% Nulls                            55               52   \n",
       "\n",
       "                                    train_identity test_identity  \n",
       "Percent of all Values that are Null          35.6%         36.2%  \n",
       "Total Features                                  41            41  \n",
       "Features w/ Nulls                               38            38  \n",
       "Features w/ > 50% Nulls                         12            15  \n",
       "Features w/ > 80% Nulls                          9             9  "
      ]
     },
     "execution_count": 4,
     "metadata": {},
     "output_type": "execute_result"
    }
   ],
   "source": [
    "tmp_dict = {\n",
    " name:{\n",
    "    'Percent of all Values that are Null': f'{(len(df) - df.count()).sum() / (df.shape[0] * df.shape[1]):.1%}',\n",
    "    'Total Features': df.shape[1],\n",
    "    'Features w/ Nulls': df.isnull().any().sum(),\n",
    "    'Features w/ > 50% Nulls': (df.count() < (len(df) * 0.5)).values.sum(),\n",
    "    'Features w/ > 80% Nulls': (df.count() < (len(df) * 0.2)).values.sum(),\n",
    "    }\n",
    " for df, name\n",
    " in zip(\n",
    "   (train_transaction, test_transaction, train_identity, test_identity),\n",
    "   ('train_transaction', 'test_transaction', 'train_identity', 'test_identity')\n",
    "   )\n",
    "}\n",
    "\n",
    "pd.DataFrame.from_dict(tmp_dict, dtype='str')"
   ]
  },
  {
   "cell_type": "markdown",
   "metadata": {},
   "source": [
    "#### Takeaways  \n",
    "\n",
    "* **Missing Data**: Almost all the columns include some portion of missing data, which may need to be addressed before our final model  \n",
    "    - Since we are looking to build the baseline model, we will do no missing value imputation and instead work only with features without null values"
   ]
  },
  {
   "cell_type": "markdown",
   "metadata": {},
   "source": [
    "### D. Outcome Variable - `isFraud`"
   ]
  },
  {
   "cell_type": "code",
   "execution_count": 5,
   "metadata": {},
   "outputs": [
    {
     "name": "stdout",
     "output_type": "stream",
     "text": [
      "Percent Fraudulent: 3.499%\n"
     ]
    }
   ],
   "source": [
    "print(f'Percent Fraudulent: {train_transaction.isFraud.sum() / len(train_transaction):.3%}')"
   ]
  },
  {
   "cell_type": "code",
   "execution_count": 6,
   "metadata": {},
   "outputs": [
    {
     "data": {
      "image/png": "[encoded data removed]",
      "text/plain": [
       "<Figure size 640x480 with 1 Axes>"
      ]
     },
     "metadata": {},
     "output_type": "display_data"
    }
   ],
   "source": [
    "(sns.countplot(data=train_transaction, x='isFraud')\n",
    "    .set(ylabel='Number of Transactions',\n",
    "         title='Count of Fraudulent vs. Non-Fraudulent Transactions')\n",
    "    );"
   ]
  },
  {
   "cell_type": "code",
   "execution_count": 7,
   "metadata": {},
   "outputs": [
    {
     "data": {
      "image/png": "[encoded data removed]",
      "text/plain": [
       "<Figure size 640x480 with 1 Axes>"
      ]
     },
     "metadata": {},
     "output_type": "display_data"
    }
   ],
   "source": [
    "boxplot = sns.boxplot(data=train_transaction, x='isFraud', y='TransactionAmt')\n",
    "boxplot.axes.axis(ymin=0, ymax=400)\n",
    "boxplot.set_ylabel('Transaction Amount')\n",
    "boxplot.set_title('Boxplots of Distributions for Fraudulent vs. Non-Fraudulent Transactions')\n",
    "boxplot;"
   ]
  },
  {
   "cell_type": "markdown",
   "metadata": {},
   "source": [
    "#### Takeaways  \n",
    "\n",
    "* **Imbalanced Outcome Variable**: Only 3.5% of transactions are marked fraud, so we may want to account for this during training - we should be cautious of accuracy as a metric\n",
    "    - One strategy: Downsample the majority class (i.e., not-fraud transactions) in the training data to build the model, then test the model against a normal test set.  \n",
    "\n",
    "\n",
    "- **Difference in Transaction Amounts**: The distribution of fraudulent transactions appear to be somewhat greater than for the transactions not marked as fraud. This feature should be included in the model. "
   ]
  },
  {
   "cell_type": "markdown",
   "metadata": {},
   "source": [
    "### E. Identity Table"
   ]
  },
  {
   "cell_type": "code",
   "execution_count": 8,
   "metadata": {},
   "outputs": [
    {
     "data": {
      "text/html": [
       "<div>\n",
       "<style scoped>\n",
       "    .dataframe tbody tr th:only-of-type {\n",
       "        vertical-align: middle;\n",
       "    }\n",
       "\n",
       "    .dataframe tbody tr th {\n",
       "        vertical-align: top;\n",
       "    }\n",
       "\n",
       "    .dataframe thead th {\n",
       "        text-align: right;\n",
       "    }\n",
       "</style>\n",
       "<table border=\"1\" class=\"dataframe\">\n",
       "  <thead>\n",
       "    <tr style=\"text-align: right;\">\n",
       "      <th></th>\n",
       "      <th>TransactionID</th>\n",
       "      <th>id_01</th>\n",
       "    </tr>\n",
       "    <tr>\n",
       "      <th>have_identity</th>\n",
       "      <th></th>\n",
       "      <th></th>\n",
       "    </tr>\n",
       "  </thead>\n",
       "  <tbody>\n",
       "    <tr>\n",
       "      <th>False</th>\n",
       "      <td>446307</td>\n",
       "      <td>0</td>\n",
       "    </tr>\n",
       "    <tr>\n",
       "      <th>True</th>\n",
       "      <td>144233</td>\n",
       "      <td>144233</td>\n",
       "    </tr>\n",
       "  </tbody>\n",
       "</table>\n",
       "</div>"
      ],
      "text/plain": [
       "               TransactionID   id_01\n",
       "have_identity                       \n",
       "False                 446307       0\n",
       "True                  144233  144233"
      ]
     },
     "execution_count": 8,
     "metadata": {},
     "output_type": "execute_result"
    }
   ],
   "source": [
    "(train_transaction[['TransactionID']]\n",
    "    .merge(train_identity.iloc[:,range(2)], on='TransactionID', how='left')\n",
    "    .assign(have_identity=lambda df: ~pd.isna(df['id_01']))\n",
    "    .groupby('have_identity')\n",
    "    .count()\n",
    "    )"
   ]
  },
  {
   "cell_type": "markdown",
   "metadata": {},
   "source": [
    "#### Takeaways  \n",
    "\n",
    "* The transactions in `train_identity` are a subset of the transactions in `train_transaction`, as is `test_identity` to `test_transaction` \n",
    "* About 25% of the transactions in `training_transaction` have a corresponding record in `training_identity`\n",
    "* Because joining `training_identity` features to `training_transaction` will introduce a lot of `NULL` values, we will simply create a binary variable `have_identity` to indicate whether a transaction appears in both tables"
   ]
  },
  {
   "cell_type": "markdown",
   "metadata": {},
   "source": [
    "## III. Training the Baseline Model with KNN"
   ]
  },
  {
   "cell_type": "markdown",
   "metadata": {},
   "source": [
    "### A. Handling Missing Data\n",
    "We defer the handling of missing values at this stage by dropping any column containing nulls."
   ]
  },
  {
   "cell_type": "code",
   "execution_count": 9,
   "metadata": {},
   "outputs": [
    {
     "data": {
      "text/html": [
       "<div>\n",
       "<style scoped>\n",
       "    .dataframe tbody tr th:only-of-type {\n",
       "        vertical-align: middle;\n",
       "    }\n",
       "\n",
       "    .dataframe tbody tr th {\n",
       "        vertical-align: top;\n",
       "    }\n",
       "\n",
       "    .dataframe thead th {\n",
       "        text-align: right;\n",
       "    }\n",
       "</style>\n",
       "<table border=\"1\" class=\"dataframe\">\n",
       "  <thead>\n",
       "    <tr style=\"text-align: right;\">\n",
       "      <th></th>\n",
       "      <th>TransactionID</th>\n",
       "      <th>isFraud</th>\n",
       "      <th>TransactionDT</th>\n",
       "      <th>TransactionAmt</th>\n",
       "      <th>ProductCD</th>\n",
       "      <th>card1</th>\n",
       "      <th>C1</th>\n",
       "      <th>C2</th>\n",
       "      <th>C3</th>\n",
       "      <th>C4</th>\n",
       "      <th>C5</th>\n",
       "      <th>C6</th>\n",
       "      <th>C7</th>\n",
       "      <th>C8</th>\n",
       "      <th>C9</th>\n",
       "      <th>C10</th>\n",
       "      <th>C11</th>\n",
       "      <th>C12</th>\n",
       "      <th>C13</th>\n",
       "      <th>C14</th>\n",
       "    </tr>\n",
       "  </thead>\n",
       "  <tbody>\n",
       "    <tr>\n",
       "      <th>0</th>\n",
       "      <td>2987000</td>\n",
       "      <td>0</td>\n",
       "      <td>86400</td>\n",
       "      <td>68.5</td>\n",
       "      <td>W</td>\n",
       "      <td>13926</td>\n",
       "      <td>1.0</td>\n",
       "      <td>1.0</td>\n",
       "      <td>0.0</td>\n",
       "      <td>0.0</td>\n",
       "      <td>0.0</td>\n",
       "      <td>1.0</td>\n",
       "      <td>0.0</td>\n",
       "      <td>0.0</td>\n",
       "      <td>1.0</td>\n",
       "      <td>0.0</td>\n",
       "      <td>2.0</td>\n",
       "      <td>0.0</td>\n",
       "      <td>1.0</td>\n",
       "      <td>1.0</td>\n",
       "    </tr>\n",
       "    <tr>\n",
       "      <th>1</th>\n",
       "      <td>2987001</td>\n",
       "      <td>0</td>\n",
       "      <td>86401</td>\n",
       "      <td>29.0</td>\n",
       "      <td>W</td>\n",
       "      <td>2755</td>\n",
       "      <td>1.0</td>\n",
       "      <td>1.0</td>\n",
       "      <td>0.0</td>\n",
       "      <td>0.0</td>\n",
       "      <td>0.0</td>\n",
       "      <td>1.0</td>\n",
       "      <td>0.0</td>\n",
       "      <td>0.0</td>\n",
       "      <td>0.0</td>\n",
       "      <td>0.0</td>\n",
       "      <td>1.0</td>\n",
       "      <td>0.0</td>\n",
       "      <td>1.0</td>\n",
       "      <td>1.0</td>\n",
       "    </tr>\n",
       "    <tr>\n",
       "      <th>2</th>\n",
       "      <td>2987002</td>\n",
       "      <td>0</td>\n",
       "      <td>86469</td>\n",
       "      <td>59.0</td>\n",
       "      <td>W</td>\n",
       "      <td>4663</td>\n",
       "      <td>1.0</td>\n",
       "      <td>1.0</td>\n",
       "      <td>0.0</td>\n",
       "      <td>0.0</td>\n",
       "      <td>0.0</td>\n",
       "      <td>1.0</td>\n",
       "      <td>0.0</td>\n",
       "      <td>0.0</td>\n",
       "      <td>1.0</td>\n",
       "      <td>0.0</td>\n",
       "      <td>1.0</td>\n",
       "      <td>0.0</td>\n",
       "      <td>1.0</td>\n",
       "      <td>1.0</td>\n",
       "    </tr>\n",
       "    <tr>\n",
       "      <th>3</th>\n",
       "      <td>2987003</td>\n",
       "      <td>0</td>\n",
       "      <td>86499</td>\n",
       "      <td>50.0</td>\n",
       "      <td>W</td>\n",
       "      <td>18132</td>\n",
       "      <td>2.0</td>\n",
       "      <td>5.0</td>\n",
       "      <td>0.0</td>\n",
       "      <td>0.0</td>\n",
       "      <td>0.0</td>\n",
       "      <td>4.0</td>\n",
       "      <td>0.0</td>\n",
       "      <td>0.0</td>\n",
       "      <td>1.0</td>\n",
       "      <td>0.0</td>\n",
       "      <td>1.0</td>\n",
       "      <td>0.0</td>\n",
       "      <td>25.0</td>\n",
       "      <td>1.0</td>\n",
       "    </tr>\n",
       "    <tr>\n",
       "      <th>4</th>\n",
       "      <td>2987004</td>\n",
       "      <td>0</td>\n",
       "      <td>86506</td>\n",
       "      <td>50.0</td>\n",
       "      <td>H</td>\n",
       "      <td>4497</td>\n",
       "      <td>1.0</td>\n",
       "      <td>1.0</td>\n",
       "      <td>0.0</td>\n",
       "      <td>0.0</td>\n",
       "      <td>0.0</td>\n",
       "      <td>1.0</td>\n",
       "      <td>0.0</td>\n",
       "      <td>1.0</td>\n",
       "      <td>0.0</td>\n",
       "      <td>1.0</td>\n",
       "      <td>1.0</td>\n",
       "      <td>0.0</td>\n",
       "      <td>1.0</td>\n",
       "      <td>1.0</td>\n",
       "    </tr>\n",
       "  </tbody>\n",
       "</table>\n",
       "</div>"
      ],
      "text/plain": [
       "   TransactionID  isFraud  TransactionDT  TransactionAmt ProductCD  card1  \\\n",
       "0        2987000        0          86400            68.5         W  13926   \n",
       "1        2987001        0          86401            29.0         W   2755   \n",
       "2        2987002        0          86469            59.0         W   4663   \n",
       "3        2987003        0          86499            50.0         W  18132   \n",
       "4        2987004        0          86506            50.0         H   4497   \n",
       "\n",
       "    C1   C2   C3   C4   C5   C6   C7   C8   C9  C10  C11  C12   C13  C14  \n",
       "0  1.0  1.0  0.0  0.0  0.0  1.0  0.0  0.0  1.0  0.0  2.0  0.0   1.0  1.0  \n",
       "1  1.0  1.0  0.0  0.0  0.0  1.0  0.0  0.0  0.0  0.0  1.0  0.0   1.0  1.0  \n",
       "2  1.0  1.0  0.0  0.0  0.0  1.0  0.0  0.0  1.0  0.0  1.0  0.0   1.0  1.0  \n",
       "3  2.0  5.0  0.0  0.0  0.0  4.0  0.0  0.0  1.0  0.0  1.0  0.0  25.0  1.0  \n",
       "4  1.0  1.0  0.0  0.0  0.0  1.0  0.0  1.0  0.0  1.0  1.0  0.0   1.0  1.0  "
      ]
     },
     "execution_count": 9,
     "metadata": {},
     "output_type": "execute_result"
    }
   ],
   "source": [
    "preprocessed_data = train_transaction[train_transaction.columns[(train_transaction.count() == len(train_transaction)).values]]\n",
    "preprocessed_data.head()"
   ]
  },
  {
   "cell_type": "markdown",
   "metadata": {},
   "source": [
    "### B. Preprocessing: Normalization\n",
    "\n",
    "Considering the magnitude of the `TransactionDT` and `TransactionAmt` variables, we wish to normalize these to between [-1, 1] to avoid skewing our KNN results."
   ]
  },
  {
   "cell_type": "code",
   "execution_count": 10,
   "metadata": {},
   "outputs": [
    {
     "data": {
      "text/html": [
       "<div>\n",
       "<style scoped>\n",
       "    .dataframe tbody tr th:only-of-type {\n",
       "        vertical-align: middle;\n",
       "    }\n",
       "\n",
       "    .dataframe tbody tr th {\n",
       "        vertical-align: top;\n",
       "    }\n",
       "\n",
       "    .dataframe thead th {\n",
       "        text-align: right;\n",
       "    }\n",
       "</style>\n",
       "<table border=\"1\" class=\"dataframe\">\n",
       "  <thead>\n",
       "    <tr style=\"text-align: right;\">\n",
       "      <th></th>\n",
       "      <th>TransactionID</th>\n",
       "      <th>isFraud</th>\n",
       "      <th>TransactionDT</th>\n",
       "      <th>TransactionAmt</th>\n",
       "      <th>ProductCD</th>\n",
       "      <th>card1</th>\n",
       "      <th>C1</th>\n",
       "      <th>C2</th>\n",
       "      <th>C3</th>\n",
       "      <th>C4</th>\n",
       "      <th>C5</th>\n",
       "      <th>C6</th>\n",
       "      <th>C7</th>\n",
       "      <th>C8</th>\n",
       "      <th>C9</th>\n",
       "      <th>C10</th>\n",
       "      <th>C11</th>\n",
       "      <th>C12</th>\n",
       "      <th>C13</th>\n",
       "      <th>C14</th>\n",
       "    </tr>\n",
       "  </thead>\n",
       "  <tbody>\n",
       "    <tr>\n",
       "      <th>0</th>\n",
       "      <td>2987000</td>\n",
       "      <td>0</td>\n",
       "      <td>0.005465</td>\n",
       "      <td>0.002145</td>\n",
       "      <td>W</td>\n",
       "      <td>13926</td>\n",
       "      <td>1.0</td>\n",
       "      <td>1.0</td>\n",
       "      <td>0.0</td>\n",
       "      <td>0.0</td>\n",
       "      <td>0.0</td>\n",
       "      <td>1.0</td>\n",
       "      <td>0.0</td>\n",
       "      <td>0.0</td>\n",
       "      <td>1.0</td>\n",
       "      <td>0.0</td>\n",
       "      <td>2.0</td>\n",
       "      <td>0.0</td>\n",
       "      <td>1.0</td>\n",
       "      <td>1.0</td>\n",
       "    </tr>\n",
       "    <tr>\n",
       "      <th>1</th>\n",
       "      <td>2987001</td>\n",
       "      <td>0</td>\n",
       "      <td>0.005465</td>\n",
       "      <td>0.000908</td>\n",
       "      <td>W</td>\n",
       "      <td>2755</td>\n",
       "      <td>1.0</td>\n",
       "      <td>1.0</td>\n",
       "      <td>0.0</td>\n",
       "      <td>0.0</td>\n",
       "      <td>0.0</td>\n",
       "      <td>1.0</td>\n",
       "      <td>0.0</td>\n",
       "      <td>0.0</td>\n",
       "      <td>0.0</td>\n",
       "      <td>0.0</td>\n",
       "      <td>1.0</td>\n",
       "      <td>0.0</td>\n",
       "      <td>1.0</td>\n",
       "      <td>1.0</td>\n",
       "    </tr>\n",
       "    <tr>\n",
       "      <th>2</th>\n",
       "      <td>2987002</td>\n",
       "      <td>0</td>\n",
       "      <td>0.005469</td>\n",
       "      <td>0.001847</td>\n",
       "      <td>W</td>\n",
       "      <td>4663</td>\n",
       "      <td>1.0</td>\n",
       "      <td>1.0</td>\n",
       "      <td>0.0</td>\n",
       "      <td>0.0</td>\n",
       "      <td>0.0</td>\n",
       "      <td>1.0</td>\n",
       "      <td>0.0</td>\n",
       "      <td>0.0</td>\n",
       "      <td>1.0</td>\n",
       "      <td>0.0</td>\n",
       "      <td>1.0</td>\n",
       "      <td>0.0</td>\n",
       "      <td>1.0</td>\n",
       "      <td>1.0</td>\n",
       "    </tr>\n",
       "    <tr>\n",
       "      <th>3</th>\n",
       "      <td>2987003</td>\n",
       "      <td>0</td>\n",
       "      <td>0.005471</td>\n",
       "      <td>0.001566</td>\n",
       "      <td>W</td>\n",
       "      <td>18132</td>\n",
       "      <td>2.0</td>\n",
       "      <td>5.0</td>\n",
       "      <td>0.0</td>\n",
       "      <td>0.0</td>\n",
       "      <td>0.0</td>\n",
       "      <td>4.0</td>\n",
       "      <td>0.0</td>\n",
       "      <td>0.0</td>\n",
       "      <td>1.0</td>\n",
       "      <td>0.0</td>\n",
       "      <td>1.0</td>\n",
       "      <td>0.0</td>\n",
       "      <td>25.0</td>\n",
       "      <td>1.0</td>\n",
       "    </tr>\n",
       "    <tr>\n",
       "      <th>4</th>\n",
       "      <td>2987004</td>\n",
       "      <td>0</td>\n",
       "      <td>0.005471</td>\n",
       "      <td>0.001566</td>\n",
       "      <td>H</td>\n",
       "      <td>4497</td>\n",
       "      <td>1.0</td>\n",
       "      <td>1.0</td>\n",
       "      <td>0.0</td>\n",
       "      <td>0.0</td>\n",
       "      <td>0.0</td>\n",
       "      <td>1.0</td>\n",
       "      <td>0.0</td>\n",
       "      <td>1.0</td>\n",
       "      <td>0.0</td>\n",
       "      <td>1.0</td>\n",
       "      <td>1.0</td>\n",
       "      <td>0.0</td>\n",
       "      <td>1.0</td>\n",
       "      <td>1.0</td>\n",
       "    </tr>\n",
       "  </tbody>\n",
       "</table>\n",
       "</div>"
      ],
      "text/plain": [
       "   TransactionID  isFraud  TransactionDT  TransactionAmt ProductCD  card1  \\\n",
       "0        2987000        0       0.005465        0.002145         W  13926   \n",
       "1        2987001        0       0.005465        0.000908         W   2755   \n",
       "2        2987002        0       0.005469        0.001847         W   4663   \n",
       "3        2987003        0       0.005471        0.001566         W  18132   \n",
       "4        2987004        0       0.005471        0.001566         H   4497   \n",
       "\n",
       "    C1   C2   C3   C4   C5   C6   C7   C8   C9  C10  C11  C12   C13  C14  \n",
       "0  1.0  1.0  0.0  0.0  0.0  1.0  0.0  0.0  1.0  0.0  2.0  0.0   1.0  1.0  \n",
       "1  1.0  1.0  0.0  0.0  0.0  1.0  0.0  0.0  0.0  0.0  1.0  0.0   1.0  1.0  \n",
       "2  1.0  1.0  0.0  0.0  0.0  1.0  0.0  0.0  1.0  0.0  1.0  0.0   1.0  1.0  \n",
       "3  2.0  5.0  0.0  0.0  0.0  4.0  0.0  0.0  1.0  0.0  1.0  0.0  25.0  1.0  \n",
       "4  1.0  1.0  0.0  0.0  0.0  1.0  0.0  1.0  0.0  1.0  1.0  0.0   1.0  1.0  "
      ]
     },
     "execution_count": 10,
     "metadata": {},
     "output_type": "execute_result"
    }
   ],
   "source": [
    "preprocessed_data = preprocessed_data.assign(\n",
    "    TransactionAmt=lambda df: df[\"TransactionAmt\"] / df[\"TransactionAmt\"].max(), \n",
    "    TransactionDT=lambda df: df[\"TransactionDT\"] / df[\"TransactionDT\"].max()\n",
    "    )\n",
    "preprocessed_data.head()"
   ]
  },
  {
   "cell_type": "markdown",
   "metadata": {},
   "source": [
    "### C. Drop Categorical Variables and Primary Key\n",
    "\n",
    "Along with dropping our primary key `TransactionID`, we drop all our categorical variables to defer one-hot encoding."
   ]
  },
  {
   "cell_type": "code",
   "execution_count": 11,
   "metadata": {},
   "outputs": [
    {
     "data": {
      "text/html": [
       "<div>\n",
       "<style scoped>\n",
       "    .dataframe tbody tr th:only-of-type {\n",
       "        vertical-align: middle;\n",
       "    }\n",
       "\n",
       "    .dataframe tbody tr th {\n",
       "        vertical-align: top;\n",
       "    }\n",
       "\n",
       "    .dataframe thead th {\n",
       "        text-align: right;\n",
       "    }\n",
       "</style>\n",
       "<table border=\"1\" class=\"dataframe\">\n",
       "  <thead>\n",
       "    <tr style=\"text-align: right;\">\n",
       "      <th></th>\n",
       "      <th>isFraud</th>\n",
       "      <th>TransactionDT</th>\n",
       "      <th>TransactionAmt</th>\n",
       "      <th>C1</th>\n",
       "      <th>C2</th>\n",
       "      <th>C3</th>\n",
       "      <th>C4</th>\n",
       "      <th>C5</th>\n",
       "      <th>C6</th>\n",
       "      <th>C7</th>\n",
       "      <th>C8</th>\n",
       "      <th>C9</th>\n",
       "      <th>C10</th>\n",
       "      <th>C11</th>\n",
       "      <th>C12</th>\n",
       "      <th>C13</th>\n",
       "      <th>C14</th>\n",
       "    </tr>\n",
       "  </thead>\n",
       "  <tbody>\n",
       "    <tr>\n",
       "      <th>0</th>\n",
       "      <td>0</td>\n",
       "      <td>0.005465</td>\n",
       "      <td>0.002145</td>\n",
       "      <td>1.0</td>\n",
       "      <td>1.0</td>\n",
       "      <td>0.0</td>\n",
       "      <td>0.0</td>\n",
       "      <td>0.0</td>\n",
       "      <td>1.0</td>\n",
       "      <td>0.0</td>\n",
       "      <td>0.0</td>\n",
       "      <td>1.0</td>\n",
       "      <td>0.0</td>\n",
       "      <td>2.0</td>\n",
       "      <td>0.0</td>\n",
       "      <td>1.0</td>\n",
       "      <td>1.0</td>\n",
       "    </tr>\n",
       "    <tr>\n",
       "      <th>1</th>\n",
       "      <td>0</td>\n",
       "      <td>0.005465</td>\n",
       "      <td>0.000908</td>\n",
       "      <td>1.0</td>\n",
       "      <td>1.0</td>\n",
       "      <td>0.0</td>\n",
       "      <td>0.0</td>\n",
       "      <td>0.0</td>\n",
       "      <td>1.0</td>\n",
       "      <td>0.0</td>\n",
       "      <td>0.0</td>\n",
       "      <td>0.0</td>\n",
       "      <td>0.0</td>\n",
       "      <td>1.0</td>\n",
       "      <td>0.0</td>\n",
       "      <td>1.0</td>\n",
       "      <td>1.0</td>\n",
       "    </tr>\n",
       "    <tr>\n",
       "      <th>2</th>\n",
       "      <td>0</td>\n",
       "      <td>0.005469</td>\n",
       "      <td>0.001847</td>\n",
       "      <td>1.0</td>\n",
       "      <td>1.0</td>\n",
       "      <td>0.0</td>\n",
       "      <td>0.0</td>\n",
       "      <td>0.0</td>\n",
       "      <td>1.0</td>\n",
       "      <td>0.0</td>\n",
       "      <td>0.0</td>\n",
       "      <td>1.0</td>\n",
       "      <td>0.0</td>\n",
       "      <td>1.0</td>\n",
       "      <td>0.0</td>\n",
       "      <td>1.0</td>\n",
       "      <td>1.0</td>\n",
       "    </tr>\n",
       "    <tr>\n",
       "      <th>3</th>\n",
       "      <td>0</td>\n",
       "      <td>0.005471</td>\n",
       "      <td>0.001566</td>\n",
       "      <td>2.0</td>\n",
       "      <td>5.0</td>\n",
       "      <td>0.0</td>\n",
       "      <td>0.0</td>\n",
       "      <td>0.0</td>\n",
       "      <td>4.0</td>\n",
       "      <td>0.0</td>\n",
       "      <td>0.0</td>\n",
       "      <td>1.0</td>\n",
       "      <td>0.0</td>\n",
       "      <td>1.0</td>\n",
       "      <td>0.0</td>\n",
       "      <td>25.0</td>\n",
       "      <td>1.0</td>\n",
       "    </tr>\n",
       "    <tr>\n",
       "      <th>4</th>\n",
       "      <td>0</td>\n",
       "      <td>0.005471</td>\n",
       "      <td>0.001566</td>\n",
       "      <td>1.0</td>\n",
       "      <td>1.0</td>\n",
       "      <td>0.0</td>\n",
       "      <td>0.0</td>\n",
       "      <td>0.0</td>\n",
       "      <td>1.0</td>\n",
       "      <td>0.0</td>\n",
       "      <td>1.0</td>\n",
       "      <td>0.0</td>\n",
       "      <td>1.0</td>\n",
       "      <td>1.0</td>\n",
       "      <td>0.0</td>\n",
       "      <td>1.0</td>\n",
       "      <td>1.0</td>\n",
       "    </tr>\n",
       "  </tbody>\n",
       "</table>\n",
       "</div>"
      ],
      "text/plain": [
       "   isFraud  TransactionDT  TransactionAmt   C1   C2   C3   C4   C5   C6   C7  \\\n",
       "0        0       0.005465        0.002145  1.0  1.0  0.0  0.0  0.0  1.0  0.0   \n",
       "1        0       0.005465        0.000908  1.0  1.0  0.0  0.0  0.0  1.0  0.0   \n",
       "2        0       0.005469        0.001847  1.0  1.0  0.0  0.0  0.0  1.0  0.0   \n",
       "3        0       0.005471        0.001566  2.0  5.0  0.0  0.0  0.0  4.0  0.0   \n",
       "4        0       0.005471        0.001566  1.0  1.0  0.0  0.0  0.0  1.0  0.0   \n",
       "\n",
       "    C8   C9  C10  C11  C12   C13  C14  \n",
       "0  0.0  1.0  0.0  2.0  0.0   1.0  1.0  \n",
       "1  0.0  0.0  0.0  1.0  0.0   1.0  1.0  \n",
       "2  0.0  1.0  0.0  1.0  0.0   1.0  1.0  \n",
       "3  0.0  1.0  0.0  1.0  0.0  25.0  1.0  \n",
       "4  1.0  0.0  1.0  1.0  0.0   1.0  1.0  "
      ]
     },
     "execution_count": 11,
     "metadata": {},
     "output_type": "execute_result"
    }
   ],
   "source": [
    "preprocessed_data = preprocessed_data.drop(['TransactionID', 'ProductCD', 'card1'], axis=1)\n",
    "preprocessed_data.head()"
   ]
  },
  {
   "cell_type": "markdown",
   "metadata": {},
   "source": [
    "### D. Test-Train Split\n",
    "\n",
    "Now we split the data for testing and training."
   ]
  },
  {
   "cell_type": "code",
   "execution_count": 12,
   "metadata": {},
   "outputs": [],
   "source": [
    "train, test = train_test_split(preprocessed_data)"
   ]
  },
  {
   "cell_type": "markdown",
   "metadata": {},
   "source": [
    "### E. Subsetting Training Data\n",
    "\n",
    "We train on a sample of the data for speed and to address class imbalance."
   ]
  },
  {
   "cell_type": "code",
   "execution_count": 13,
   "metadata": {},
   "outputs": [],
   "source": [
    "def subset_training(df, stratify):\n",
    "    if stratify:\n",
    "        return df.groupby('isFraud').sample(12500) # Stratified sample to balance training set\n",
    "    else:\n",
    "        return df.sample(25000) # If we just want a simple random sample\n",
    "\n",
    "# Split the data\n",
    "train = subset_training(train, stratify=True)\n",
    "\n",
    "# Separate the feature space from the outcome variable in training and test sets\n",
    "y_train = train['isFraud']\n",
    "X_train = train.drop('isFraud', axis=1)\n",
    "y_test = test['isFraud']\n",
    "X_test = test.drop('isFraud', axis=1)\n",
    "\n",
    "# Drop unnecessary tables\n",
    "del preprocessed_data, train, test"
   ]
  },
  {
   "cell_type": "markdown",
   "metadata": {},
   "source": [
    "### F. Train the Model\n",
    "\n",
    "We choose the *KNN algorithm* to build our baseline model with the feature space: `TransactionDT`, `TransactionAmt`, `C1`, `C2`, ..., `C14`"
   ]
  },
  {
   "cell_type": "code",
   "execution_count": 14,
   "metadata": {},
   "outputs": [
    {
     "data": {
      "image/png": "[encoded data removed]",
      "text/plain": [
       "<Figure size 640x480 with 1 Axes>"
      ]
     },
     "metadata": {},
     "output_type": "display_data"
    }
   ],
   "source": [
    "knn = KNeighborsClassifier(n_neighbors = 5)\n",
    "\n",
    "knn.fit(X_train, y_train)\n",
    "\n",
    "y_scores = knn.predict_proba(X_test)\n",
    "fpr, tpr, threshold = roc_curve(y_test, y_scores[:, 1])\n",
    "roc_auc = auc(fpr, tpr)\n",
    "\n",
    "plt.plot(fpr, tpr, 'b', label = f'AUC = {roc_auc:.1%}')\n",
    "plt.legend(loc = 'lower right')\n",
    "plt.plot([0, 1], [0, 1],'r--')\n",
    "plt.xlim([0, 1])\n",
    "plt.ylim([0, 1])\n",
    "plt.ylabel('True Positive Rate')\n",
    "plt.xlabel('False Positive Rate')\n",
    "plt.title('ROC Curve of Baseline KNN Model')\n",
    "plt.show()"
   ]
  }
 ],
 "metadata": {
  "kernelspec": {
   "display_name": "Python 3.10.4 64-bit",
   "language": "python",
   "name": "python3"
  },
  "language_info": {
   "codemirror_mode": {
    "name": "ipython",
    "version": 3
   },
   "file_extension": ".py",
   "mimetype": "text/x-python",
   "name": "python",
   "nbconvert_exporter": "python",
   "pygments_lexer": "ipython3",
   "version": "3.10.4"
  },
  "orig_nbformat": 4,
  "vscode": {
   "interpreter": {
    "hash": "807207e50864ba942fdea3697702c6ceff6811bbc7deef42e07b12b1046b97db"
   }
  }
 },
 "nbformat": 4,
 "nbformat_minor": 2
}
