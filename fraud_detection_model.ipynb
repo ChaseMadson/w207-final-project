{
 "cells": [
  {
   "cell_type": "markdown",
   "metadata": {},
   "source": [
    "# Final Project - Detecting Fraudulent Credit Card Transactions\n",
    "\n",
    "| Course | Term | Section | Group | Objective | Kaggle URL |\n",
    "| --- | --- | --- | --- | --- | --- |\n",
    "| W207 | Fall 2022 | 11 | 2 | Detect fraudulent credit card transactions | IEEE-CIS Fraud Detection ([Link](kaggle.com/competitions/ieee-fraud-detection)) |\n",
    "\n",
    "**Group Members**\n",
    "- Naikaj Pandya\n",
    "- Chase Madson\n",
    "- Eric Danforth\n"
   ]
  },
  {
   "cell_type": "markdown",
   "metadata": {},
   "source": [
    "# I. Setup"
   ]
  },
  {
   "cell_type": "markdown",
   "metadata": {},
   "source": [
    "## A. Load Libraries"
   ]
  },
  {
   "cell_type": "code",
   "execution_count": 1,
   "metadata": {},
   "outputs": [],
   "source": [
    "import numpy as np\n",
    "import pandas as pd\n",
    "import matplotlib.pyplot as plt\n",
    "\n",
    "# For feature engineering\n",
    "from decimal import Decimal\n",
    "\n",
    "# For splitting data \n",
    "from sklearn.model_selection import train_test_split\n",
    "\n",
    "# For preprocessing\n",
    "from sklearn.preprocessing import minmax_scale, OneHotEncoder\n",
    "\n",
    "# For fitting\n",
    "import tensorflow as tf\n",
    "\n",
    "# For model evalutaion\n",
    "from sklearn.metrics import roc_curve, auc"
   ]
  },
  {
   "cell_type": "markdown",
   "metadata": {},
   "source": [
    "## B. Load Data"
   ]
  },
  {
   "cell_type": "code",
   "execution_count": 2,
   "metadata": {},
   "outputs": [],
   "source": [
    "# Load Data\n",
    "train = pd.read_csv('data/train_transaction.csv')\n",
    "test = pd.read_csv('data/test_transaction.csv')\n",
    "sub = pd.read_csv('data/sample_submission.csv').drop('isFraud', axis=1)"
   ]
  },
  {
   "cell_type": "markdown",
   "metadata": {},
   "source": [
    "## C. Custom Groupings for Purchaser and Recipient Domains\n",
    "\n",
    "To use the purchaser and recipient domain email addresses, we create a highly customized categorical variable called `custom_domain_grouping`. \n",
    "\n",
    "This uses a switch statement to condense information about:\n",
    "\n",
    "1. Drop the domain extensions so \"gmail.com\" and \"gmail\" are placed into same group\n",
    "2. Whether recipient, purchaser, or both email addresses are null\n",
    "3. Whether the recipient and purchaser domain address matched (e.g., gmail to gmail)\n",
    "4. If the recipient and purchaser domain addresses do match, what domain is it?"
   ]
  },
  {
   "cell_type": "code",
   "execution_count": 3,
   "metadata": {},
   "outputs": [],
   "source": [
    "def get_custom_domain_grouping(df_train, df_test):\n",
    "    \"\"\"This function is disgusting but gives us good categories from the domain addresses\"\"\"\n",
    "\n",
    "    # Remove the domain extensions on all variables\n",
    "    df_train['purch_domain_name'] = df_train.P_emaildomain.str.replace('\\..*', '', regex=True)\n",
    "    df_train['recip_domain_name'] = df_train.R_emaildomain.str.replace('\\..*', '', regex=True)\n",
    "    df_test['purch_domain_name'] = df_test.P_emaildomain.str.replace('\\..*', '', regex=True)\n",
    "    df_test['recip_domain_name'] = df_test.R_emaildomain.str.replace('\\..*', '', regex=True)\n",
    "\n",
    "    # Get the list of top 95% of email domains in the _training_ set only \n",
    "    top_95pct_purch_domains = (\n",
    "        df_train.purch_domain_name\n",
    "        .value_counts(normalize=True)\n",
    "        .rename_axis('factor_levels')\n",
    "        .cumsum()\n",
    "        .reset_index(name='cumsum')\n",
    "        .query('cumsum<0.95')\n",
    "        .sort_values('cumsum')\n",
    "        .factor_levels\n",
    "        .tolist()   \n",
    "    )\n",
    "    \n",
    "    # This switch statement is based on \n",
    "    custom_domain_grouping_train = np.select(\n",
    "        condlist = [\n",
    "            # Create a group for null recipients\n",
    "            df_train.R_emaildomain.isnull(),\n",
    "            # Create a group for null purchasers (when recipient not null)\n",
    "            df_train.P_emaildomain.isnull(),\n",
    "            # Create a group for purchaser domains paired with a distinct recipient domain\n",
    "            df_train.purch_domain_name != df_train.recip_domain_name,\n",
    "            # If domains match and in our most common domains \n",
    "            df_train.purch_domain_name.isin(top_95pct_purch_domains)\n",
    "            ], \n",
    "        choicelist = [\n",
    "            'Recipient or Both Blank',\n",
    "            'Just Purchaser Blank',\n",
    "            'Purchaser and Recipient Differ',\n",
    "            'Purchaser and Recipient Same: ' + df_train.purch_domain_name\n",
    "            ],\n",
    "        default='Purchaser and Recipient Same: other domain'\n",
    "    )\n",
    "\n",
    "    # Do the same as above, but for the test set\n",
    "    custom_domain_grouping_test = np.select(\n",
    "        condlist = [\n",
    "            df_test.R_emaildomain.isnull(),\n",
    "            df_test.P_emaildomain.isnull(),\n",
    "            df_test.purch_domain_name != df_test.recip_domain_name,\n",
    "            df_test.purch_domain_name.isin(top_95pct_purch_domains)\n",
    "            ], \n",
    "        choicelist = [\n",
    "            'Recipient or Both Blank',\n",
    "            'Just Purchaser Blank',\n",
    "            'Purchaser and Recipient Differ',\n",
    "            'Purchaser and Recipient Same: ' + df_test.purch_domain_name\n",
    "            ],\n",
    "        default='Purchaser and Recipient Same: other domain'\n",
    "    )\n",
    "\n",
    "    return custom_domain_grouping_train, custom_domain_grouping_test\n",
    "\n",
    "train['custom_domain_grouping'], test['custom_domain_grouping'] = get_custom_domain_grouping(train, test)"
   ]
  },
  {
   "cell_type": "markdown",
   "metadata": {},
   "source": [
    "## D. Feature Engineering: Whether Currency has More than Two Decimals"
   ]
  },
  {
   "cell_type": "code",
   "execution_count": 4,
   "metadata": {},
   "outputs": [],
   "source": [
    "def txn_usd_convert(amt):\n",
    "    return np.float16(-Decimal(str(amt)).as_tuple().exponent > 2)\n",
    "\n",
    "train['Transaction_curr_type'] = train['TransactionAmt'].apply(txn_usd_convert)\n",
    "test['Transaction_curr_type'] = test['TransactionAmt'].apply(txn_usd_convert)"
   ]
  },
  {
   "cell_type": "markdown",
   "metadata": {},
   "source": [
    "## E. Group the Columns"
   ]
  },
  {
   "cell_type": "code",
   "execution_count": 5,
   "metadata": {},
   "outputs": [],
   "source": [
    "# Transaction payment amount in USD\n",
    "features_num_amt = train[['TransactionAmt']].columns\n",
    "\n",
    "# Date and time of transactions\n",
    "features_num_dt = train[['TransactionDT']].columns\n",
    "\n",
    "# Distance measures between two masked points\n",
    "features_num_dist = train.filter(regex='^dist').columns\n",
    "\n",
    "# Various (masked) counts, e.g. how many addresses associated with payment card\n",
    "features_num_C = train.filter(regex='^C').columns\n",
    "\n",
    "# Various (masked) timedeltas, e.g. days between previous transactions\n",
    "features_num_D = train.filter(regex='^D').columns\n",
    "\n",
    "# Various (masked) Vesta engineered rich features\n",
    "features_num_V = train.filter(regex='^V').columns\n",
    "\n",
    "features_num = (\n",
    "    features_num_amt\n",
    "    .union(features_num_dt)\n",
    "    .union(features_num_dist)\n",
    "    .union(features_num_C)\n",
    "    .union(features_num_D)\n",
    "    .union(features_num_V)\n",
    ")"
   ]
  },
  {
   "cell_type": "code",
   "execution_count": 6,
   "metadata": {},
   "outputs": [],
   "source": [
    "# Product code for the product associated with the transaction\n",
    "features_cat_CD = train[['ProductCD']].columns\n",
    "\n",
    "# Payment card information, such as card type, card category, issue bank, country\n",
    "# features_cat_card = train.filter(regex='^card').columns\n",
    "features_cat_card4 = train.filter(regex='^card4').columns\n",
    "features_cat_card6 = train.filter(regex='^card6').columns\n",
    "\n",
    "# Address (unspecified)\n",
    "features_cat_addr = train.filter(regex='^addr').columns\n",
    "\n",
    "# Purchaser and recipient email domains\n",
    "features_cat_domain = train[['custom_domain_grouping']].columns\n",
    "\n",
    "# Various matches (masked), e.g. names on card and addresses\n",
    "features_cat_M = train.filter(regex='^M').columns\n",
    "\n",
    "# New feature - whether the transaction amount had more than 2 decimal places\n",
    "features_cat_curr_type = train[['Transaction_curr_type']].columns\n",
    "\n",
    "features_cat = (\n",
    "    features_cat_CD\n",
    "    # .union(features_cat_card)\n",
    "    .union(features_cat_card4)\n",
    "    .union(features_cat_card6)\n",
    "    .union(features_cat_addr)\n",
    "    .union(features_cat_domain)\n",
    "    .union(features_cat_M)\n",
    "    .union(features_cat_curr_type)\n",
    ")"
   ]
  },
  {
   "cell_type": "code",
   "execution_count": 7,
   "metadata": {},
   "outputs": [
    {
     "name": "stdout",
     "output_type": "stream",
     "text": [
      "We start with 388 available features: 372 numeric and 16 categorical.\n"
     ]
    }
   ],
   "source": [
    "# Define the sets of features used, by variable type \n",
    "features = features_num.union(features_cat)\n",
    "\n",
    "# Define our ID column and target\n",
    "id = train[['TransactionID']].columns\n",
    "target = train[['isFraud']].columns\n",
    "\n",
    "# Select relevant columns\n",
    "train = train[target.union(features)]\n",
    "test = test[features]\n",
    "\n",
    "print(f'We start with {len(features)} available features: {len(features_num)} numeric and {len(features_cat)} categorical.')"
   ]
  },
  {
   "cell_type": "markdown",
   "metadata": {},
   "source": [
    "# II. Data Preparation"
   ]
  },
  {
   "cell_type": "markdown",
   "metadata": {},
   "source": [
    "## A. Split Data into Train and Validation"
   ]
  },
  {
   "cell_type": "code",
   "execution_count": 8,
   "metadata": {},
   "outputs": [],
   "source": [
    "# Save 30% of the training data for validation\n",
    "training, validation = train_test_split(train, test_size=0.3, random_state=1)\n",
    "\n",
    "# With the remaining 70% in the training set, downsample the majority class\n",
    "training = (\n",
    "    training\n",
    "    .groupby('isFraud')\n",
    "    .sample(\n",
    "        n=sum(training.isFraud == 1),\n",
    "        random_state=1\n",
    "    )\n",
    ")\n",
    "\n",
    "# Separate the features from the label\n",
    "y_train = training[['isFraud']]\n",
    "y_val = validation[['isFraud']]\n",
    "X_train = training[features]\n",
    "X_val = validation[features]\n",
    "\n",
    "# Drop unneeded DataFrames\n",
    "del training, validation"
   ]
  },
  {
   "cell_type": "markdown",
   "metadata": {},
   "source": [
    "## B. Preprocessing Numeric Values\n",
    "\n",
    "Apply Min-Max normalization and replace missing values for all numeric features in training, validation, and test sets"
   ]
  },
  {
   "cell_type": "code",
   "execution_count": 9,
   "metadata": {},
   "outputs": [],
   "source": [
    "def replace_na_and_normalize(df, cols=features_num):\n",
    "    return (df[cols]\n",
    "        .apply(lambda var: var.fillna(var.min() - 2))\n",
    "        .apply(minmax_scale, feature_range=(0,1))\n",
    "    )\n",
    "\n",
    "X_train[features_num] = replace_na_and_normalize(X_train)\n",
    "X_val[features_num] = replace_na_and_normalize(X_val)\n",
    "test[features_num] = replace_na_and_normalize(test)"
   ]
  },
  {
   "cell_type": "markdown",
   "metadata": {},
   "source": [
    "## C. Preprocessing Categorical Values\n",
    "\n",
    "Replace raw categorical features with one-hot encoding values"
   ]
  },
  {
   "cell_type": "code",
   "execution_count": 10,
   "metadata": {},
   "outputs": [],
   "source": [
    "def get_one_hot_encoding(df, feature):\n",
    "    # Instantiate the transformer\n",
    "    ohe = OneHotEncoder()\n",
    "\n",
    "    # Stack all datasets to get all unique categories observed\n",
    "    categories = pd.concat([train[[feature]], test[[feature]]])\n",
    "\n",
    "    # Fit the transformer with the observed classes\n",
    "    ohe.fit(categories)\n",
    "\n",
    "    # Create a sparse array with one binary vector per category\n",
    "    transformed_array = ohe.transform(df[[feature]]).toarray()\n",
    "\n",
    "    # Turn the transformed array into a DataFrame and assign names\n",
    "    transformed_ndarray = pd.DataFrame(\n",
    "        transformed_array,\n",
    "        columns=ohe.get_feature_names_out(),\n",
    "        index=df.index\n",
    "    ).astype(np.float16)\n",
    "\n",
    "    return transformed_ndarray"
   ]
  },
  {
   "cell_type": "code",
   "execution_count": 11,
   "metadata": {},
   "outputs": [],
   "source": [
    "def replace_raw_cats_with_one_hots(df, cols=features_cat):\n",
    "    # Initialize a placeholder list\n",
    "    tmp_list = []\n",
    "\n",
    "    # For each variable in our categorical features, get one-hot encoding matrix\n",
    "    for var in features_cat:\n",
    "        tmp_list.append(get_one_hot_encoding(df, var))\n",
    "\n",
    "    # Convert list of DataFrames into one DataFrame of several sparse matrices\n",
    "    tmp_df = pd.concat(tmp_list, axis=1)\n",
    "\n",
    "    # Drop the raw categorical variables and replace with sparce matrices\n",
    "    new_df = pd.concat([df.drop(features_cat, axis=1), tmp_df], axis=1)\n",
    "    \n",
    "    return new_df"
   ]
  },
  {
   "cell_type": "code",
   "execution_count": 12,
   "metadata": {},
   "outputs": [],
   "source": [
    "# Carry out the one-hot encoding functions above for each data set\n",
    "X_train = replace_raw_cats_with_one_hots(X_train)\n",
    "X_val = replace_raw_cats_with_one_hots(X_val)\n",
    "test = replace_raw_cats_with_one_hots(test)"
   ]
  },
  {
   "cell_type": "markdown",
   "metadata": {},
   "source": [
    "# III. Fitting a Model"
   ]
  },
  {
   "cell_type": "code",
   "execution_count": 13,
   "metadata": {},
   "outputs": [],
   "source": [
    "def build_model(\n",
    "  set_act,\n",
    "  set_lr,\n",
    "  n_classes=1,\n",
    "  hidden_layer_sizes=[]\n",
    "  ):\n",
    "  tf.keras.backend.clear_session()\n",
    "  np.random.seed(0)\n",
    "  tf.random.set_seed(0)\n",
    "  # INPUT LAYER\n",
    "  model = tf.keras.Sequential()\n",
    "  # HIDDEN LAYERS\n",
    "  for hidden_layer_size in hidden_layer_sizes:\n",
    "    model.add(tf.keras.layers.Dense(units=hidden_layer_size, activation=set_act))\n",
    "  # OUTPUT LAYER\n",
    "  model.add(tf.keras.layers.Dense( \n",
    "    units=n_classes,     # Dim of output space\n",
    "    use_bias=True,       # Specify to keep bias term\n",
    "    activation='sigmoid' # Apply sigmoid function since its binary classification\n",
    "    ))\n",
    "  model.compile(\n",
    "    loss='binary_crossentropy', \n",
    "    optimizer=tf.keras.optimizers.Adam(learning_rate=set_lr), \n",
    "    metrics=[\n",
    "      tf.keras.metrics.AUC(name='auc'),\n",
    "      tf.keras.metrics.Precision(name='pre'),\n",
    "      tf.keras.metrics.Recall(name='rec'),\n",
    "      ]\n",
    "  )\n",
    "  return model"
   ]
  },
  {
   "cell_type": "code",
   "execution_count": 14,
   "metadata": {},
   "outputs": [
    {
     "name": "stdout",
     "output_type": "stream",
     "text": [
      "Training...\n",
      "Epoch 1/64\n",
      "205/205 [==============================] - 2s 6ms/step - loss: 0.6524 - auc: 0.6852 - pre: 0.6095 - rec: 0.5647 - val_loss: 0.7063 - val_auc: 0.0000e+00 - val_pre: 1.0000 - val_rec: 0.5554\n",
      "Epoch 2/64\n",
      "205/205 [==============================] - 1s 5ms/step - loss: 0.5986 - auc: 0.7484 - pre: 0.6829 - rec: 0.5574 - val_loss: 0.6872 - val_auc: 0.0000e+00 - val_pre: 1.0000 - val_rec: 0.5548\n",
      "Epoch 3/64\n",
      "205/205 [==============================] - 1s 5ms/step - loss: 0.5717 - auc: 0.7780 - pre: 0.7066 - rec: 0.5545 - val_loss: 0.6513 - val_auc: 0.0000e+00 - val_pre: 1.0000 - val_rec: 0.5654\n",
      "Epoch 4/64\n",
      "205/205 [==============================] - 1s 5ms/step - loss: 0.5502 - auc: 0.7961 - pre: 0.7238 - rec: 0.6023 - val_loss: 0.6284 - val_auc: 0.0000e+00 - val_pre: 1.0000 - val_rec: 0.6357\n",
      "Epoch 5/64\n",
      "205/205 [==============================] - 1s 5ms/step - loss: 0.5353 - auc: 0.8076 - pre: 0.7286 - rec: 0.6504 - val_loss: 0.6298 - val_auc: 0.0000e+00 - val_pre: 1.0000 - val_rec: 0.6632\n",
      "Epoch 6/64\n",
      "205/205 [==============================] - 1s 5ms/step - loss: 0.5251 - auc: 0.8156 - pre: 0.7313 - rec: 0.6801 - val_loss: 0.6494 - val_auc: 0.0000e+00 - val_pre: 1.0000 - val_rec: 0.6522\n",
      "Epoch 7/64\n",
      "205/205 [==============================] - 1s 5ms/step - loss: 0.5178 - auc: 0.8208 - pre: 0.7365 - rec: 0.6904 - val_loss: 0.6026 - val_auc: 0.0000e+00 - val_pre: 1.0000 - val_rec: 0.6939\n",
      "Epoch 8/64\n",
      "205/205 [==============================] - 1s 5ms/step - loss: 0.5117 - auc: 0.8252 - pre: 0.7382 - rec: 0.6944 - val_loss: 0.6004 - val_auc: 0.0000e+00 - val_pre: 1.0000 - val_rec: 0.6935\n",
      "Epoch 9/64\n",
      "205/205 [==============================] - 1s 5ms/step - loss: 0.5067 - auc: 0.8286 - pre: 0.7408 - rec: 0.7014 - val_loss: 0.5729 - val_auc: 0.0000e+00 - val_pre: 1.0000 - val_rec: 0.7114\n",
      "Epoch 10/64\n",
      "205/205 [==============================] - 1s 5ms/step - loss: 0.5020 - auc: 0.8318 - pre: 0.7445 - rec: 0.6985 - val_loss: 0.5885 - val_auc: 0.0000e+00 - val_pre: 1.0000 - val_rec: 0.6963\n",
      "Epoch 11/64\n",
      "205/205 [==============================] - 1s 5ms/step - loss: 0.4980 - auc: 0.8343 - pre: 0.7472 - rec: 0.6992 - val_loss: 0.6141 - val_auc: 0.0000e+00 - val_pre: 1.0000 - val_rec: 0.6767\n",
      "Epoch 12/64\n",
      "205/205 [==============================] - 1s 5ms/step - loss: 0.4944 - auc: 0.8368 - pre: 0.7523 - rec: 0.6999 - val_loss: 0.5888 - val_auc: 0.0000e+00 - val_pre: 1.0000 - val_rec: 0.6959\n",
      "Epoch 13/64\n",
      "205/205 [==============================] - 1s 5ms/step - loss: 0.4913 - auc: 0.8388 - pre: 0.7533 - rec: 0.7020 - val_loss: 0.5501 - val_auc: 0.0000e+00 - val_pre: 1.0000 - val_rec: 0.7235\n",
      "Epoch 14/64\n",
      "205/205 [==============================] - 1s 5ms/step - loss: 0.4879 - auc: 0.8410 - pre: 0.7550 - rec: 0.7028 - val_loss: 0.5868 - val_auc: 0.0000e+00 - val_pre: 1.0000 - val_rec: 0.6942\n",
      "Epoch 15/64\n",
      "205/205 [==============================] - 1s 5ms/step - loss: 0.4849 - auc: 0.8430 - pre: 0.7578 - rec: 0.7044 - val_loss: 0.5834 - val_auc: 0.0000e+00 - val_pre: 1.0000 - val_rec: 0.6942\n",
      "Epoch 16/64\n",
      "205/205 [==============================] - 1s 5ms/step - loss: 0.4825 - auc: 0.8445 - pre: 0.7609 - rec: 0.7018 - val_loss: 0.5690 - val_auc: 0.0000e+00 - val_pre: 1.0000 - val_rec: 0.7056\n",
      "Epoch 17/64\n",
      "205/205 [==============================] - 1s 5ms/step - loss: 0.4797 - auc: 0.8463 - pre: 0.7610 - rec: 0.7032 - val_loss: 0.5986 - val_auc: 0.0000e+00 - val_pre: 1.0000 - val_rec: 0.6856\n",
      "Epoch 18/64\n",
      "205/205 [==============================] - 1s 5ms/step - loss: 0.4773 - auc: 0.8479 - pre: 0.7652 - rec: 0.7051 - val_loss: 0.5884 - val_auc: 0.0000e+00 - val_pre: 1.0000 - val_rec: 0.6932\n",
      "Epoch 19/64\n",
      "205/205 [==============================] - 1s 5ms/step - loss: 0.4752 - auc: 0.8494 - pre: 0.7664 - rec: 0.7066 - val_loss: 0.5817 - val_auc: 0.0000e+00 - val_pre: 1.0000 - val_rec: 0.6970\n",
      "Epoch 20/64\n",
      "205/205 [==============================] - 1s 5ms/step - loss: 0.4727 - auc: 0.8510 - pre: 0.7698 - rec: 0.7050 - val_loss: 0.5291 - val_auc: 0.0000e+00 - val_pre: 1.0000 - val_rec: 0.7331\n",
      "Epoch 21/64\n",
      "205/205 [==============================] - 1s 6ms/step - loss: 0.4709 - auc: 0.8521 - pre: 0.7689 - rec: 0.7075 - val_loss: 0.5436 - val_auc: 0.0000e+00 - val_pre: 1.0000 - val_rec: 0.7252\n",
      "Epoch 22/64\n",
      "205/205 [==============================] - 1s 5ms/step - loss: 0.4689 - auc: 0.8535 - pre: 0.7702 - rec: 0.7099 - val_loss: 0.5695 - val_auc: 0.0000e+00 - val_pre: 1.0000 - val_rec: 0.7039\n",
      "Epoch 23/64\n",
      "205/205 [==============================] - 1s 5ms/step - loss: 0.4669 - auc: 0.8549 - pre: 0.7706 - rec: 0.7104 - val_loss: 0.5682 - val_auc: 0.0000e+00 - val_pre: 1.0000 - val_rec: 0.7032\n",
      "Epoch 24/64\n",
      "205/205 [==============================] - 1s 5ms/step - loss: 0.4649 - auc: 0.8560 - pre: 0.7748 - rec: 0.7076 - val_loss: 0.5595 - val_auc: 0.0000e+00 - val_pre: 1.0000 - val_rec: 0.7087\n",
      "Epoch 25/64\n",
      "205/205 [==============================] - 1s 5ms/step - loss: 0.4632 - auc: 0.8573 - pre: 0.7736 - rec: 0.7128 - val_loss: 0.5947 - val_auc: 0.0000e+00 - val_pre: 1.0000 - val_rec: 0.6853\n",
      "Epoch 26/64\n",
      "205/205 [==============================] - 1s 5ms/step - loss: 0.4612 - auc: 0.8585 - pre: 0.7786 - rec: 0.7116 - val_loss: 0.5737 - val_auc: 0.0000e+00 - val_pre: 1.0000 - val_rec: 0.6994\n",
      "Epoch 27/64\n",
      "205/205 [==============================] - 1s 5ms/step - loss: 0.4598 - auc: 0.8593 - pre: 0.7777 - rec: 0.7137 - val_loss: 0.5731 - val_auc: 0.0000e+00 - val_pre: 1.0000 - val_rec: 0.7004\n",
      "Epoch 28/64\n",
      "205/205 [==============================] - 1s 5ms/step - loss: 0.4579 - auc: 0.8606 - pre: 0.7805 - rec: 0.7121 - val_loss: 0.5533 - val_auc: 0.0000e+00 - val_pre: 1.0000 - val_rec: 0.7107\n",
      "Epoch 29/64\n",
      "205/205 [==============================] - 1s 5ms/step - loss: 0.4564 - auc: 0.8615 - pre: 0.7800 - rec: 0.7146 - val_loss: 0.6054 - val_auc: 0.0000e+00 - val_pre: 1.0000 - val_rec: 0.6770\n",
      "Epoch 30/64\n",
      "205/205 [==============================] - 1s 5ms/step - loss: 0.4548 - auc: 0.8626 - pre: 0.7833 - rec: 0.7145 - val_loss: 0.5333 - val_auc: 0.0000e+00 - val_pre: 1.0000 - val_rec: 0.7238\n",
      "Epoch 31/64\n",
      "205/205 [==============================] - 1s 5ms/step - loss: 0.4532 - auc: 0.8636 - pre: 0.7848 - rec: 0.7147 - val_loss: 0.5388 - val_auc: 0.0000e+00 - val_pre: 1.0000 - val_rec: 0.7197\n",
      "Epoch 32/64\n",
      "205/205 [==============================] - 1s 5ms/step - loss: 0.4516 - auc: 0.8645 - pre: 0.7846 - rec: 0.7177 - val_loss: 0.5701 - val_auc: 0.0000e+00 - val_pre: 1.0000 - val_rec: 0.6990\n",
      "Epoch 33/64\n",
      "205/205 [==============================] - 1s 5ms/step - loss: 0.4503 - auc: 0.8654 - pre: 0.7879 - rec: 0.7171 - val_loss: 0.5599 - val_auc: 0.0000e+00 - val_pre: 1.0000 - val_rec: 0.7035\n",
      "Epoch 34/64\n",
      "205/205 [==============================] - 1s 5ms/step - loss: 0.4486 - auc: 0.8665 - pre: 0.7880 - rec: 0.7182 - val_loss: 0.5401 - val_auc: 0.0000e+00 - val_pre: 1.0000 - val_rec: 0.7166\n",
      "Epoch 35/64\n",
      "205/205 [==============================] - 1s 5ms/step - loss: 0.4472 - auc: 0.8674 - pre: 0.7894 - rec: 0.7200 - val_loss: 0.5542 - val_auc: 0.0000e+00 - val_pre: 1.0000 - val_rec: 0.7039\n",
      "Epoch 36/64\n",
      "205/205 [==============================] - 1s 5ms/step - loss: 0.4455 - auc: 0.8685 - pre: 0.7905 - rec: 0.7210 - val_loss: 0.5868 - val_auc: 0.0000e+00 - val_pre: 1.0000 - val_rec: 0.6849\n",
      "Epoch 37/64\n",
      "205/205 [==============================] - 1s 5ms/step - loss: 0.4446 - auc: 0.8691 - pre: 0.7920 - rec: 0.7196 - val_loss: 0.5462 - val_auc: 0.0000e+00 - val_pre: 1.0000 - val_rec: 0.7132\n",
      "Epoch 38/64\n",
      "205/205 [==============================] - 1s 5ms/step - loss: 0.4432 - auc: 0.8699 - pre: 0.7938 - rec: 0.7190 - val_loss: 0.5429 - val_auc: 0.0000e+00 - val_pre: 1.0000 - val_rec: 0.7166\n",
      "Epoch 39/64\n",
      "205/205 [==============================] - 1s 5ms/step - loss: 0.4416 - auc: 0.8710 - pre: 0.7940 - rec: 0.7249 - val_loss: 0.6060 - val_auc: 0.0000e+00 - val_pre: 1.0000 - val_rec: 0.6725\n",
      "Epoch 40/64\n",
      "205/205 [==============================] - 1s 5ms/step - loss: 0.4404 - auc: 0.8717 - pre: 0.7969 - rec: 0.7243 - val_loss: 0.5461 - val_auc: 0.0000e+00 - val_pre: 1.0000 - val_rec: 0.7132\n",
      "Epoch 41/64\n",
      "205/205 [==============================] - 1s 5ms/step - loss: 0.4392 - auc: 0.8723 - pre: 0.7963 - rec: 0.7218 - val_loss: 0.5452 - val_auc: 0.0000e+00 - val_pre: 1.0000 - val_rec: 0.7142\n",
      "Epoch 42/64\n",
      "205/205 [==============================] - 1s 5ms/step - loss: 0.4375 - auc: 0.8735 - pre: 0.7967 - rec: 0.7254 - val_loss: 0.5536 - val_auc: 0.0000e+00 - val_pre: 1.0000 - val_rec: 0.7073\n",
      "Epoch 43/64\n",
      "205/205 [==============================] - 1s 5ms/step - loss: 0.4363 - auc: 0.8742 - pre: 0.7980 - rec: 0.7230 - val_loss: 0.5112 - val_auc: 0.0000e+00 - val_pre: 1.0000 - val_rec: 0.7373\n",
      "Epoch 44/64\n",
      "205/205 [==============================] - 1s 5ms/step - loss: 0.4353 - auc: 0.8747 - pre: 0.7998 - rec: 0.7257 - val_loss: 0.5410 - val_auc: 0.0000e+00 - val_pre: 1.0000 - val_rec: 0.7173\n",
      "Epoch 45/64\n",
      "205/205 [==============================] - 1s 5ms/step - loss: 0.4337 - auc: 0.8757 - pre: 0.7995 - rec: 0.7271 - val_loss: 0.5633 - val_auc: 0.0000e+00 - val_pre: 1.0000 - val_rec: 0.7008\n",
      "Epoch 46/64\n",
      "205/205 [==============================] - 1s 5ms/step - loss: 0.4323 - auc: 0.8767 - pre: 0.8025 - rec: 0.7273 - val_loss: 0.5364 - val_auc: 0.0000e+00 - val_pre: 1.0000 - val_rec: 0.7207\n",
      "Epoch 47/64\n",
      "205/205 [==============================] - 1s 5ms/step - loss: 0.4312 - auc: 0.8772 - pre: 0.8025 - rec: 0.7260 - val_loss: 0.5381 - val_auc: 0.0000e+00 - val_pre: 1.0000 - val_rec: 0.7180\n",
      "Epoch 48/64\n",
      "205/205 [==============================] - 1s 5ms/step - loss: 0.4300 - auc: 0.8781 - pre: 0.8031 - rec: 0.7271 - val_loss: 0.5398 - val_auc: 0.0000e+00 - val_pre: 1.0000 - val_rec: 0.7166\n",
      "Epoch 49/64\n",
      "205/205 [==============================] - 1s 5ms/step - loss: 0.4288 - auc: 0.8787 - pre: 0.8038 - rec: 0.7272 - val_loss: 0.5244 - val_auc: 0.0000e+00 - val_pre: 1.0000 - val_rec: 0.7280\n",
      "Epoch 50/64\n",
      "205/205 [==============================] - 1s 5ms/step - loss: 0.4275 - auc: 0.8796 - pre: 0.8043 - rec: 0.7292 - val_loss: 0.5375 - val_auc: 0.0000e+00 - val_pre: 1.0000 - val_rec: 0.7200\n",
      "Epoch 51/64\n",
      "205/205 [==============================] - 1s 5ms/step - loss: 0.4264 - auc: 0.8803 - pre: 0.8072 - rec: 0.7284 - val_loss: 0.4855 - val_auc: 0.0000e+00 - val_pre: 1.0000 - val_rec: 0.7579\n",
      "Epoch 52/64\n",
      "205/205 [==============================] - 1s 5ms/step - loss: 0.4246 - auc: 0.8813 - pre: 0.8068 - rec: 0.7324 - val_loss: 0.5163 - val_auc: 0.0000e+00 - val_pre: 1.0000 - val_rec: 0.7345\n",
      "Epoch 53/64\n",
      "205/205 [==============================] - 1s 5ms/step - loss: 0.4238 - auc: 0.8819 - pre: 0.8066 - rec: 0.7308 - val_loss: 0.5578 - val_auc: 0.0000e+00 - val_pre: 1.0000 - val_rec: 0.7052\n",
      "Epoch 54/64\n",
      "205/205 [==============================] - 1s 5ms/step - loss: 0.4227 - auc: 0.8826 - pre: 0.8107 - rec: 0.7317 - val_loss: 0.5220 - val_auc: 0.0000e+00 - val_pre: 1.0000 - val_rec: 0.7335\n",
      "Epoch 55/64\n",
      "205/205 [==============================] - 1s 5ms/step - loss: 0.4211 - auc: 0.8836 - pre: 0.8079 - rec: 0.7329 - val_loss: 0.5554 - val_auc: 0.0000e+00 - val_pre: 1.0000 - val_rec: 0.7080\n",
      "Epoch 56/64\n",
      "205/205 [==============================] - 1s 5ms/step - loss: 0.4200 - auc: 0.8840 - pre: 0.8113 - rec: 0.7341 - val_loss: 0.5147 - val_auc: 0.0000e+00 - val_pre: 1.0000 - val_rec: 0.7383\n",
      "Epoch 57/64\n",
      "205/205 [==============================] - 1s 5ms/step - loss: 0.4190 - auc: 0.8847 - pre: 0.8119 - rec: 0.7360 - val_loss: 0.5233 - val_auc: 0.0000e+00 - val_pre: 1.0000 - val_rec: 0.7317\n",
      "Epoch 58/64\n",
      "205/205 [==============================] - 1s 5ms/step - loss: 0.4179 - auc: 0.8854 - pre: 0.8135 - rec: 0.7357 - val_loss: 0.5437 - val_auc: 0.0000e+00 - val_pre: 1.0000 - val_rec: 0.7187\n",
      "Epoch 59/64\n",
      "205/205 [==============================] - 1s 5ms/step - loss: 0.4167 - auc: 0.8861 - pre: 0.8139 - rec: 0.7355 - val_loss: 0.5408 - val_auc: 0.0000e+00 - val_pre: 1.0000 - val_rec: 0.7207\n",
      "Epoch 60/64\n",
      "205/205 [==============================] - 1s 5ms/step - loss: 0.4155 - auc: 0.8867 - pre: 0.8142 - rec: 0.7365 - val_loss: 0.5078 - val_auc: 0.0000e+00 - val_pre: 1.0000 - val_rec: 0.7438\n",
      "Epoch 61/64\n",
      "205/205 [==============================] - 1s 5ms/step - loss: 0.4141 - auc: 0.8878 - pre: 0.8165 - rec: 0.7386 - val_loss: 0.5283 - val_auc: 0.0000e+00 - val_pre: 1.0000 - val_rec: 0.7328\n",
      "Epoch 62/64\n",
      "205/205 [==============================] - 1s 5ms/step - loss: 0.4132 - auc: 0.8882 - pre: 0.8166 - rec: 0.7380 - val_loss: 0.5239 - val_auc: 0.0000e+00 - val_pre: 1.0000 - val_rec: 0.7348\n",
      "Epoch 63/64\n",
      "205/205 [==============================] - 1s 5ms/step - loss: 0.4122 - auc: 0.8888 - pre: 0.8185 - rec: 0.7400 - val_loss: 0.5261 - val_auc: 0.0000e+00 - val_pre: 1.0000 - val_rec: 0.7335\n",
      "Epoch 64/64\n",
      "205/205 [==============================] - 1s 5ms/step - loss: 0.4109 - auc: 0.8895 - pre: 0.8199 - rec: 0.7374 - val_loss: 0.4745 - val_auc: 0.0000e+00 - val_pre: 1.0000 - val_rec: 0.7665\n"
     ]
    },
    {
     "data": {
      "image/png": "[encoded data removed]",
      "text/plain": [
       "<Figure size 640x480 with 1 Axes>"
      ]
     },
     "metadata": {},
     "output_type": "display_data"
    }
   ],
   "source": [
    "def train_and_evaluate(\n",
    "  df_x_train=X_train,\n",
    "  df_y_train=y_train,\n",
    "  df_x_test=X_val,\n",
    "  df_y_test=y_val,\n",
    "  hidden_layer_sizes=[512, 256, 128], \n",
    "  set_act='relu',\n",
    "  num_epochs=64,\n",
    "  batch_size=128,\n",
    "  set_lr=0.00001\n",
    "  ):\n",
    "\n",
    "  # Build the model.\n",
    "  model = build_model(\n",
    "    n_classes=1,\n",
    "    hidden_layer_sizes=hidden_layer_sizes,\n",
    "    set_act=set_act,\n",
    "    set_lr = set_lr\n",
    "    )\n",
    "\n",
    "  # Train the model.\n",
    "  print('Training...')\n",
    "\n",
    "  history = model.fit(\n",
    "    x=df_x_train,\n",
    "    y=df_y_train,\n",
    "    epochs=num_epochs,\n",
    "    batch_size=batch_size,\n",
    "    validation_split=0.1,\n",
    "    verbose=1\n",
    "    )\n",
    "    \n",
    "  # Retrieve training metrics (after each train epoch) and the final test accuracy\n",
    "  train_loss = history.history['loss']\n",
    "  val_loss = history.history['val_loss']\n",
    "  plt.plot(train_loss, label='train loss')\n",
    "  plt.plot(val_loss, label='validation loss')\n",
    "  plt.xticks(range(num_epochs))\n",
    "  plt.xlabel('Train epochs')\n",
    "  plt.legend()\n",
    "  plt.show()\n",
    "\n",
    "  test_metrics = model.evaluate(\n",
    "    x=df_x_test,\n",
    "    y=df_y_test,\n",
    "    verbose=0,\n",
    "    return_dict=True\n",
    "    )\n",
    "  \n",
    "  return model, test_metrics\n",
    "\n",
    "fit, test_metrics = train_and_evaluate()"
   ]
  },
  {
   "cell_type": "markdown",
   "metadata": {},
   "source": [
    "# IV. Evaluating the Model"
   ]
  },
  {
   "cell_type": "code",
   "execution_count": 15,
   "metadata": {},
   "outputs": [
    {
     "data": {
      "text/plain": [
       "{'loss': 0.5484502911567688,\n",
       " 'auc': 0.8632202744483948,\n",
       " 'pre': 0.10160178691148758,\n",
       " 'rec': 0.8151944279670715}"
      ]
     },
     "execution_count": 15,
     "metadata": {},
     "output_type": "execute_result"
    }
   ],
   "source": [
    "test_metrics"
   ]
  },
  {
   "cell_type": "code",
   "execution_count": 16,
   "metadata": {},
   "outputs": [
    {
     "name": "stdout",
     "output_type": "stream",
     "text": [
      "5537/5537 [==============================] - 7s 1ms/step\n"
     ]
    },
    {
     "data": {
      "image/png": "[encoded data removed]",
      "text/plain": [
       "<Figure size 640x480 with 1 Axes>"
      ]
     },
     "metadata": {},
     "output_type": "display_data"
    }
   ],
   "source": [
    "fpr, tpr, threshold = roc_curve(y_val, fit.predict(X_val))\n",
    "roc_auc = auc(fpr, tpr)\n",
    "\n",
    "plt.plot(fpr, tpr, 'b', label = f'AUC = {roc_auc:.1%}')\n",
    "plt.legend(loc = 'lower right')\n",
    "plt.plot([0, 1], [0, 1],'r--')\n",
    "plt.xlim([0, 1])\n",
    "plt.ylim([0, 1])\n",
    "plt.ylabel('True Positive Rate')\n",
    "plt.xlabel('False Positive Rate')\n",
    "plt.title('ROC Curve')\n",
    "plt.show()"
   ]
  },
  {
   "cell_type": "markdown",
   "metadata": {},
   "source": [
    "# V. Outputting Model"
   ]
  },
  {
   "cell_type": "code",
   "execution_count": 17,
   "metadata": {},
   "outputs": [
    {
     "name": "stdout",
     "output_type": "stream",
     "text": [
      "15835/15835 [==============================] - 23s 1ms/step\n"
     ]
    }
   ],
   "source": [
    "sub['isFraud'] = fit.predict(test)"
   ]
  },
  {
   "cell_type": "code",
   "execution_count": 18,
   "metadata": {},
   "outputs": [],
   "source": [
    "# sub.to_csv('data/submissions/sub_11_30.csv', index=False)"
   ]
  }
 ],
 "metadata": {
  "kernelspec": {
   "display_name": "Python 3.10.4 64-bit",
   "language": "python",
   "name": "python3"
  },
  "language_info": {
   "codemirror_mode": {
    "name": "ipython",
    "version": 3
   },
   "file_extension": ".py",
   "mimetype": "text/x-python",
   "name": "python",
   "nbconvert_exporter": "python",
   "pygments_lexer": "ipython3",
   "version": "3.10.4"
  },
  "orig_nbformat": 4,
  "vscode": {
   "interpreter": {
    "hash": "807207e50864ba942fdea3697702c6ceff6811bbc7deef42e07b12b1046b97db"
   }
  }
 },
 "nbformat": 4,
 "nbformat_minor": 2
}
