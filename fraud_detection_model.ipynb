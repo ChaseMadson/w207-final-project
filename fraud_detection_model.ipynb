{
 "cells": [
  {
   "cell_type": "markdown",
   "metadata": {},
   "source": [
    "# Final Project - Detecting Fraudulent Credit Card Transactions\n",
    "\n",
    "| Course | Term | Section | Group | Objective | Kaggle URL |\n",
    "| --- | --- | --- | --- | --- | --- |\n",
    "| W207 | Fall 2022 | 11 | 2 | Detect fraudulent credit card transactions | IEEE-CIS Fraud Detection ([Link](kaggle.com/competitions/ieee-fraud-detection)) |\n",
    "\n",
    "**Group Members**\n",
    "- Naikaj Pandya\n",
    "- Chase Madson\n",
    "- Eric Danforth\n"
   ]
  },
  {
   "cell_type": "markdown",
   "metadata": {},
   "source": [
    "# I. Setup"
   ]
  },
  {
   "cell_type": "markdown",
   "metadata": {},
   "source": [
    "## A. Load Libraries"
   ]
  },
  {
   "cell_type": "code",
   "execution_count": 1,
   "metadata": {},
   "outputs": [],
   "source": [
    "import numpy as np\n",
    "import pandas as pd\n",
    "import matplotlib.pyplot as plt\n",
    "\n",
    "# For feature engineering\n",
    "from decimal import Decimal\n",
    "\n",
    "# For splitting data \n",
    "from sklearn.model_selection import train_test_split\n",
    "\n",
    "# For preprocessing\n",
    "from sklearn.preprocessing import minmax_scale, OneHotEncoder\n",
    "\n",
    "# For fitting\n",
    "import tensorflow as tf\n",
    "\n",
    "# For model evalutaion\n",
    "from sklearn.metrics import roc_curve, auc"
   ]
  },
  {
   "cell_type": "markdown",
   "metadata": {},
   "source": [
    "## B. Load Data"
   ]
  },
  {
   "cell_type": "code",
   "execution_count": 2,
   "metadata": {},
   "outputs": [],
   "source": [
    "# Load Data\n",
    "train = pd.read_csv('data/train_transaction.csv')\n",
    "test = pd.read_csv('data/test_transaction.csv')\n",
    "sub = pd.read_csv('data/sample_submission.csv').drop('isFraud', axis=1)"
   ]
  },
  {
   "cell_type": "markdown",
   "metadata": {},
   "source": [
    "## C. Feature Engineering"
   ]
  },
  {
   "cell_type": "markdown",
   "metadata": {},
   "source": [
    "### 1. Custom Groupings for Purchaser and Recipient Domains\n",
    "\n",
    "To use the purchaser and recipient domain email addresses, we create a highly customized categorical variable called `custom_domain_grouping`. \n",
    "\n",
    "This uses a switch statement to condense information about:\n",
    "\n",
    "1. Drop the domain extensions so \"gmail.com\" and \"gmail\" are placed into same group\n",
    "2. Whether recipient, purchaser, or both email addresses are null\n",
    "3. Whether the recipient and purchaser domain address matched (e.g., gmail to gmail)\n",
    "4. If the recipient and purchaser domain addresses do match, what domain is it?"
   ]
  },
  {
   "cell_type": "code",
   "execution_count": 3,
   "metadata": {},
   "outputs": [],
   "source": [
    "def get_custom_domain_grouping(df_train, df_test):\n",
    "    \"\"\"This function is disgusting but gives us good categories from the domain addresses\"\"\"\n",
    "\n",
    "    # Remove the domain extensions on all variables\n",
    "    df_train['purch_domain_name'] = df_train.P_emaildomain.str.replace('\\..*', '', regex=True)\n",
    "    df_train['recip_domain_name'] = df_train.R_emaildomain.str.replace('\\..*', '', regex=True)\n",
    "    df_test['purch_domain_name'] = df_test.P_emaildomain.str.replace('\\..*', '', regex=True)\n",
    "    df_test['recip_domain_name'] = df_test.R_emaildomain.str.replace('\\..*', '', regex=True)\n",
    "\n",
    "    # Get the list of top 95% of email domains in the _training_ set only \n",
    "    top_95pct_purch_domains = (\n",
    "        df_train.purch_domain_name\n",
    "        .value_counts(normalize=True)\n",
    "        .rename_axis('factor_levels')\n",
    "        .cumsum()\n",
    "        .reset_index(name='cumsum')\n",
    "        .query('cumsum<0.95')\n",
    "        .sort_values('cumsum')\n",
    "        .factor_levels\n",
    "        .tolist()   \n",
    "    )\n",
    "    \n",
    "    # This switch statement is based on \n",
    "    custom_domain_grouping_train = np.select(\n",
    "        condlist = [\n",
    "            # Create a group for null recipients\n",
    "            df_train.R_emaildomain.isnull(),\n",
    "            # Create a group for null purchasers (when recipient not null)\n",
    "            df_train.P_emaildomain.isnull(),\n",
    "            # Create a group for purchaser domains paired with a distinct recipient domain\n",
    "            df_train.purch_domain_name != df_train.recip_domain_name,\n",
    "            # If domains match and in our most common domains \n",
    "            df_train.purch_domain_name.isin(top_95pct_purch_domains)\n",
    "            ], \n",
    "        choicelist = [\n",
    "            'Recipient or Both Blank',\n",
    "            'Just Purchaser Blank',\n",
    "            'Purchaser and Recipient Differ',\n",
    "            'Purchaser and Recipient Same: ' + df_train.purch_domain_name\n",
    "            ],\n",
    "        default='Purchaser and Recipient Same: other domain'\n",
    "    )\n",
    "\n",
    "    # Do the same as above, but for the test set\n",
    "    custom_domain_grouping_test = np.select(\n",
    "        condlist = [\n",
    "            df_test.R_emaildomain.isnull(),\n",
    "            df_test.P_emaildomain.isnull(),\n",
    "            df_test.purch_domain_name != df_test.recip_domain_name,\n",
    "            df_test.purch_domain_name.isin(top_95pct_purch_domains)\n",
    "            ], \n",
    "        choicelist = [\n",
    "            'Recipient or Both Blank',\n",
    "            'Just Purchaser Blank',\n",
    "            'Purchaser and Recipient Differ',\n",
    "            'Purchaser and Recipient Same: ' + df_test.purch_domain_name\n",
    "            ],\n",
    "        default='Purchaser and Recipient Same: other domain'\n",
    "    )\n",
    "\n",
    "    return custom_domain_grouping_train, custom_domain_grouping_test\n",
    "\n",
    "train['custom_domain_grouping'], test['custom_domain_grouping'] = get_custom_domain_grouping(train, test)"
   ]
  },
  {
   "cell_type": "markdown",
   "metadata": {},
   "source": [
    "### 3. Feature Engineering: Whether Currency has More than Two Decimals"
   ]
  },
  {
   "cell_type": "code",
   "execution_count": 4,
   "metadata": {},
   "outputs": [],
   "source": [
    "def txn_usd_convert(amt):\n",
    "    return np.float16(-Decimal(str(amt)).as_tuple().exponent > 2)\n",
    "\n",
    "train['Transaction_curr_type'] = train['TransactionAmt'].apply(txn_usd_convert)\n",
    "test['Transaction_curr_type'] = test['TransactionAmt'].apply(txn_usd_convert)"
   ]
  },
  {
   "cell_type": "markdown",
   "metadata": {},
   "source": [
    "### 4. Feature Engineering: User ID"
   ]
  },
  {
   "cell_type": "code",
   "execution_count": 5,
   "metadata": {},
   "outputs": [],
   "source": [
    "train['uid'] = train['ProductCD'].astype(str) + '_' + \\\n",
    "  train['card1'].astype(str) + '_' + \\\n",
    "  train['card4'].astype(str) + '_' + \\\n",
    "  train['card6'].astype(str) + '_' + \\\n",
    "  train['addr1'].astype(str) + '_' + \\\n",
    "  train['dist1'].astype(str) + '_' + \\\n",
    "  train['dist2'].astype(str) + '_' + \\\n",
    "  train['P_emaildomain'].astype(str) + '_' + \\\n",
    "  train['C13'].astype(str)\n",
    "train['uid'] = train['uid'].apply(lambda x: hash(x))\n",
    "\n",
    "test['uid'] = test['ProductCD'].astype(str) + '_' + \\\n",
    "  test['card1'].astype(str) + '_' + \\\n",
    "  test['card4'].astype(str) + '_' + \\\n",
    "  test['card6'].astype(str) + '_' + \\\n",
    "  test['addr1'].astype(str) + '_' + \\\n",
    "  test['dist1'].astype(str) + '_' + \\\n",
    "  test['dist2'].astype(str) + '_' + \\\n",
    "  test['P_emaildomain'].astype(str) + '_' + \\\n",
    "  test['C13'].astype(str)\n",
    "  \n",
    "test['uid'] = test['uid'].apply(lambda x: hash(x))"
   ]
  },
  {
   "cell_type": "markdown",
   "metadata": {},
   "source": [
    "## D. Group the Columns"
   ]
  },
  {
   "cell_type": "code",
   "execution_count": 6,
   "metadata": {},
   "outputs": [],
   "source": [
    "# Transaction payment amount in USD\n",
    "features_num_amt = train[['TransactionAmt']].columns\n",
    "\n",
    "# Date and time of transactions\n",
    "features_num_dt = train[['TransactionDT']].columns\n",
    "\n",
    "# Distance measures between two masked points\n",
    "features_num_dist = train.filter(regex='^dist').columns\n",
    "\n",
    "# Various (masked) counts, e.g. how many addresses associated with payment card\n",
    "features_num_C = train.filter(regex='^C').columns\n",
    "\n",
    "# Various (masked) timedeltas, e.g. days between previous transactions\n",
    "features_num_D = train.filter(regex='^D').columns\n",
    "\n",
    "# Various (masked) Vesta engineered rich features\n",
    "features_num_V = train.filter(regex='^V').columns\n",
    "\n",
    "# uid\n",
    "features_uid = train[['uid']].columns\n",
    "\n",
    "features_num = (\n",
    "    features_num_amt\n",
    "    .union(features_num_dt)\n",
    "    .union(features_num_dist)\n",
    "    .union(features_num_C)\n",
    "    .union(features_num_D)\n",
    "    .union(features_num_V)\n",
    "    .union(features_uid)\n",
    ")"
   ]
  },
  {
   "cell_type": "code",
   "execution_count": 7,
   "metadata": {},
   "outputs": [],
   "source": [
    "# Product code for the product associated with the transaction\n",
    "features_cat_CD = train[['ProductCD']].columns\n",
    "\n",
    "# Payment card information, such as card type, card category, issue bank, country\n",
    "# features_cat_card = train.filter(regex='^card').columns\n",
    "features_cat_card4 = train.filter(regex='^card4').columns\n",
    "features_cat_card6 = train.filter(regex='^card6').columns\n",
    "\n",
    "# Address (unspecified)\n",
    "features_cat_addr = train.filter(regex='^addr').columns\n",
    "\n",
    "# Purchaser and recipient email domains\n",
    "features_cat_domain = train[['custom_domain_grouping']].columns\n",
    "\n",
    "# Various matches (masked), e.g. names on card and addresses\n",
    "features_cat_M = train.filter(regex='^M').columns\n",
    "\n",
    "# New feature - whether the transaction amount had more than 2 decimal places\n",
    "features_cat_curr_type = train[['Transaction_curr_type']].columns\n",
    "\n",
    "features_cat = (\n",
    "    features_cat_CD\n",
    "    # .union(features_cat_card)\n",
    "    .union(features_cat_card4)\n",
    "    .union(features_cat_card6)\n",
    "    .union(features_cat_addr)\n",
    "    .union(features_cat_domain)\n",
    "    .union(features_cat_M)\n",
    "    .union(features_cat_curr_type)\n",
    ")"
   ]
  },
  {
   "cell_type": "code",
   "execution_count": 8,
   "metadata": {},
   "outputs": [
    {
     "name": "stdout",
     "output_type": "stream",
     "text": [
      "We start with 389 available features: 373 numeric and 16 categorical.\n"
     ]
    }
   ],
   "source": [
    "# Define the sets of features used, by variable type \n",
    "features = features_num.union(features_cat)\n",
    "\n",
    "# Define our ID column and target\n",
    "id = train[['TransactionID']].columns\n",
    "target = train[['isFraud']].columns\n",
    "\n",
    "# Select relevant columns\n",
    "train = train[target.union(features)]\n",
    "test = test[features]\n",
    "\n",
    "print(f'We start with {len(features)} available features: {len(features_num)} numeric and {len(features_cat)} categorical.')"
   ]
  },
  {
   "cell_type": "markdown",
   "metadata": {},
   "source": [
    "# II. Data Preparation"
   ]
  },
  {
   "cell_type": "markdown",
   "metadata": {},
   "source": [
    "## A. Split Data into Train and Validation"
   ]
  },
  {
   "cell_type": "code",
   "execution_count": 9,
   "metadata": {},
   "outputs": [],
   "source": [
    "# Save 30% of the training data for validation\n",
    "training, validation = train_test_split(train, test_size=0.3, random_state=1)\n",
    "\n",
    "# With the remaining 70% in the training set, downsample the majority class\n",
    "training = (\n",
    "    training\n",
    "    .groupby('isFraud')\n",
    "    .sample(\n",
    "        n=sum(training.isFraud == 1),\n",
    "        random_state=1\n",
    "    )\n",
    ")\n",
    "\n",
    "# Separate the features from the label\n",
    "y_train = training[['isFraud']]\n",
    "y_val = validation[['isFraud']]\n",
    "X_train = training[features]\n",
    "X_val = validation[features]\n",
    "\n",
    "# Drop unneeded DataFrames\n",
    "del training, validation"
   ]
  },
  {
   "cell_type": "markdown",
   "metadata": {},
   "source": [
    "## B. Preprocessing Numeric Values\n",
    "\n",
    "Apply Min-Max normalization and replace missing values for all numeric features in training, validation, and test sets"
   ]
  },
  {
   "cell_type": "code",
   "execution_count": 10,
   "metadata": {},
   "outputs": [],
   "source": [
    "def replace_na_and_normalize(df, cols=features_num):\n",
    "    return (df[cols]\n",
    "        .apply(lambda var: var.fillna(var.min() - 2))\n",
    "        .apply(minmax_scale, feature_range=(0,1))\n",
    "    )\n",
    "\n",
    "X_train[features_num] = replace_na_and_normalize(X_train)\n",
    "X_val[features_num] = replace_na_and_normalize(X_val)\n",
    "test[features_num] = replace_na_and_normalize(test)"
   ]
  },
  {
   "cell_type": "markdown",
   "metadata": {},
   "source": [
    "## C. Preprocessing Categorical Values\n",
    "\n",
    "Replace raw categorical features with one-hot encoding values"
   ]
  },
  {
   "cell_type": "code",
   "execution_count": 11,
   "metadata": {},
   "outputs": [],
   "source": [
    "def get_one_hot_encoding(df, feature):\n",
    "    # Instantiate the transformer\n",
    "    ohe = OneHotEncoder()\n",
    "\n",
    "    # Stack all datasets to get all unique categories observed\n",
    "    categories = pd.concat([train[[feature]], test[[feature]]])\n",
    "\n",
    "    # Fit the transformer with the observed classes\n",
    "    ohe.fit(categories)\n",
    "\n",
    "    # Create a sparse array with one binary vector per category\n",
    "    transformed_array = ohe.transform(df[[feature]]).toarray()\n",
    "\n",
    "    # Turn the transformed array into a DataFrame and assign names\n",
    "    transformed_ndarray = pd.DataFrame(\n",
    "        transformed_array,\n",
    "        columns=ohe.get_feature_names_out(),\n",
    "        index=df.index\n",
    "    ).astype(np.float16)\n",
    "\n",
    "    return transformed_ndarray"
   ]
  },
  {
   "cell_type": "code",
   "execution_count": 12,
   "metadata": {},
   "outputs": [],
   "source": [
    "def replace_raw_cats_with_one_hots(df, cols=features_cat):\n",
    "    # Initialize a placeholder list\n",
    "    tmp_list = []\n",
    "\n",
    "    # For each variable in our categorical features, get one-hot encoding matrix\n",
    "    for var in features_cat:\n",
    "        tmp_list.append(get_one_hot_encoding(df, var))\n",
    "\n",
    "    # Convert list of DataFrames into one DataFrame of several sparse matrices\n",
    "    tmp_df = pd.concat(tmp_list, axis=1)\n",
    "\n",
    "    # Drop the raw categorical variables and replace with sparce matrices\n",
    "    new_df = pd.concat([df.drop(features_cat, axis=1), tmp_df], axis=1)\n",
    "    \n",
    "    return new_df"
   ]
  },
  {
   "cell_type": "code",
   "execution_count": 13,
   "metadata": {},
   "outputs": [],
   "source": [
    "# Carry out the one-hot encoding functions above for each data set\n",
    "X_train = replace_raw_cats_with_one_hots(X_train)\n",
    "X_val = replace_raw_cats_with_one_hots(X_val)\n",
    "test = replace_raw_cats_with_one_hots(test)"
   ]
  },
  {
   "cell_type": "markdown",
   "metadata": {},
   "source": [
    "# III. Fitting a Model"
   ]
  },
  {
   "cell_type": "code",
   "execution_count": 14,
   "metadata": {},
   "outputs": [],
   "source": [
    "HIDDEN_LAYER_SIZES = [512, 256, 256, 128]\n",
    "HL_ACTIVATION = 'relu'\n",
    "LEARNING_RATE = 0.0005\n",
    "OPTIMIZER = tf.keras.optimizers.Adam(learning_rate=LEARNING_RATE)\n",
    "LAMBDA = 0.05\n",
    "DROPOUT_RATE = 0.5\n",
    "NUM_EPOCHS = 64\n",
    "BATCH_SIZE = 1024\n",
    "VALIDATION_SPLIT = 0.1"
   ]
  },
  {
   "cell_type": "code",
   "execution_count": 15,
   "metadata": {},
   "outputs": [],
   "source": [
    "def build_model():\n",
    "  i=0\n",
    "  tf.keras.backend.clear_session()\n",
    "  np.random.seed(0)\n",
    "  tf.random.set_seed(0)\n",
    "  # INPUT LAYER\n",
    "  model = tf.keras.Sequential()\n",
    "  # HIDDEN LAYERS\n",
    "  for hidden_layer_size in HIDDEN_LAYER_SIZES:\n",
    "    if i == 0:\n",
    "      model.add(tf.keras.layers.Dense(\n",
    "        units=hidden_layer_size, activation=HL_ACTIVATION, name=f'dense_{i}'\n",
    "      ))\n",
    "    else:\n",
    "      model.add(tf.keras.layers.Dense(\n",
    "        units=hidden_layer_size, activation=HL_ACTIVATION, name=f'dense_{i}',\n",
    "        kernel_regularizer=tf.keras.regularizers.L2(l2=LAMBDA)\n",
    "      ))\n",
    "    model.add(tf.keras.layers.BatchNormalization(name=f'batch_norm_{i}'))\n",
    "    model.add(tf.keras.layers.Dropout(DROPOUT_RATE, name=f'dropout_{i}'))\n",
    "    i+=1\n",
    "  # OUTPUT LAYER\n",
    "  model.add(tf.keras.layers.Dense(units=1, use_bias=True, activation='sigmoid'))\n",
    "  model.compile(\n",
    "    loss='binary_crossentropy', \n",
    "    optimizer=OPTIMIZER, \n",
    "    metrics=[\n",
    "      tf.keras.metrics.AUC(name='auc'),\n",
    "      tf.keras.metrics.Precision(name='pre'),\n",
    "      tf.keras.metrics.Recall(name='rec'),\n",
    "      ]\n",
    "  ) \n",
    "  return model"
   ]
  },
  {
   "cell_type": "code",
   "execution_count": 16,
   "metadata": {},
   "outputs": [
    {
     "name": "stdout",
     "output_type": "stream",
     "text": [
      "Training...\n",
      "Epoch 1/64\n",
      "26/26 [==============================] - 2s 42ms/step - loss: 33.6926 - auc: 0.6380 - pre: 0.5467 - rec: 0.5858 - val_loss: 27.8609 - val_auc: 0.0000e+00 - val_pre: 1.0000 - val_rec: 0.0176\n",
      "Epoch 2/64\n",
      "26/26 [==============================] - 1s 30ms/step - loss: 23.5963 - auc: 0.6992 - pre: 0.6014 - rec: 0.6126 - val_loss: 19.4603 - val_auc: 0.0000e+00 - val_pre: 0.0000e+00 - val_rec: 0.0000e+00\n",
      "Epoch 3/64\n",
      "26/26 [==============================] - 1s 31ms/step - loss: 16.2985 - auc: 0.7261 - pre: 0.6304 - rec: 0.6042 - val_loss: 13.5210 - val_auc: 0.0000e+00 - val_pre: 0.0000e+00 - val_rec: 0.0000e+00\n",
      "Epoch 4/64\n",
      "26/26 [==============================] - 1s 30ms/step - loss: 11.1820 - auc: 0.7495 - pre: 0.6519 - rec: 0.6125 - val_loss: 9.4146 - val_auc: 0.0000e+00 - val_pre: 0.0000e+00 - val_rec: 0.0000e+00\n",
      "Epoch 5/64\n",
      "26/26 [==============================] - 1s 31ms/step - loss: 7.6422 - auc: 0.7736 - pre: 0.6821 - rec: 0.6302 - val_loss: 6.6097 - val_auc: 0.0000e+00 - val_pre: 0.0000e+00 - val_rec: 0.0000e+00\n",
      "Epoch 6/64\n",
      "26/26 [==============================] - 1s 30ms/step - loss: 5.2290 - auc: 0.7869 - pre: 0.6985 - rec: 0.6262 - val_loss: 4.6697 - val_auc: 0.0000e+00 - val_pre: 0.0000e+00 - val_rec: 0.0000e+00\n",
      "Epoch 7/64\n",
      "26/26 [==============================] - 1s 30ms/step - loss: 3.6018 - auc: 0.8013 - pre: 0.7147 - rec: 0.6373 - val_loss: 3.3779 - val_auc: 0.0000e+00 - val_pre: 0.0000e+00 - val_rec: 0.0000e+00\n",
      "Epoch 8/64\n",
      "26/26 [==============================] - 1s 31ms/step - loss: 2.5151 - auc: 0.8126 - pre: 0.7356 - rec: 0.6439 - val_loss: 2.5184 - val_auc: 0.0000e+00 - val_pre: 0.0000e+00 - val_rec: 0.0000e+00\n",
      "Epoch 9/64\n",
      "26/26 [==============================] - 1s 31ms/step - loss: 1.7971 - auc: 0.8234 - pre: 0.7427 - rec: 0.6639 - val_loss: 1.9879 - val_auc: 0.0000e+00 - val_pre: 0.0000e+00 - val_rec: 0.0000e+00\n",
      "Epoch 10/64\n",
      "26/26 [==============================] - 1s 31ms/step - loss: 1.3347 - auc: 0.8288 - pre: 0.7534 - rec: 0.6648 - val_loss: 1.6380 - val_auc: 0.0000e+00 - val_pre: 1.0000 - val_rec: 6.8871e-04\n",
      "Epoch 11/64\n",
      "26/26 [==============================] - 1s 31ms/step - loss: 1.0369 - auc: 0.8326 - pre: 0.7643 - rec: 0.6634 - val_loss: 1.4148 - val_auc: 0.0000e+00 - val_pre: 1.0000 - val_rec: 0.0038\n",
      "Epoch 12/64\n",
      "26/26 [==============================] - 1s 31ms/step - loss: 0.8455 - auc: 0.8374 - pre: 0.7610 - rec: 0.6665 - val_loss: 1.2613 - val_auc: 0.0000e+00 - val_pre: 1.0000 - val_rec: 0.0041\n",
      "Epoch 13/64\n",
      "26/26 [==============================] - 1s 30ms/step - loss: 0.7204 - auc: 0.8416 - pre: 0.7656 - rec: 0.6822 - val_loss: 1.1470 - val_auc: 0.0000e+00 - val_pre: 1.0000 - val_rec: 0.0069\n",
      "Epoch 14/64\n",
      "26/26 [==============================] - 1s 30ms/step - loss: 0.6486 - auc: 0.8424 - pre: 0.7633 - rec: 0.6870 - val_loss: 1.0379 - val_auc: 0.0000e+00 - val_pre: 1.0000 - val_rec: 0.0179\n",
      "Epoch 15/64\n",
      "26/26 [==============================] - 1s 30ms/step - loss: 0.5985 - auc: 0.8469 - pre: 0.7800 - rec: 0.6711 - val_loss: 1.0062 - val_auc: 0.0000e+00 - val_pre: 1.0000 - val_rec: 0.0207\n",
      "Epoch 16/64\n",
      "26/26 [==============================] - 1s 31ms/step - loss: 0.5705 - auc: 0.8481 - pre: 0.7822 - rec: 0.6827 - val_loss: 0.9510 - val_auc: 0.0000e+00 - val_pre: 1.0000 - val_rec: 0.0589\n",
      "Epoch 17/64\n",
      "26/26 [==============================] - 1s 30ms/step - loss: 0.5523 - auc: 0.8491 - pre: 0.7760 - rec: 0.6982 - val_loss: 0.9638 - val_auc: 0.0000e+00 - val_pre: 1.0000 - val_rec: 0.1136\n",
      "Epoch 18/64\n",
      "26/26 [==============================] - 1s 31ms/step - loss: 0.5386 - auc: 0.8520 - pre: 0.7812 - rec: 0.6932 - val_loss: 0.8814 - val_auc: 0.0000e+00 - val_pre: 1.0000 - val_rec: 0.1705\n",
      "Epoch 19/64\n",
      "26/26 [==============================] - 1s 31ms/step - loss: 0.5260 - auc: 0.8572 - pre: 0.7826 - rec: 0.7036 - val_loss: 0.8722 - val_auc: 0.0000e+00 - val_pre: 1.0000 - val_rec: 0.2118\n",
      "Epoch 20/64\n",
      "26/26 [==============================] - 1s 31ms/step - loss: 0.5202 - auc: 0.8577 - pre: 0.7896 - rec: 0.6944 - val_loss: 0.8058 - val_auc: 0.0000e+00 - val_pre: 1.0000 - val_rec: 0.3364\n",
      "Epoch 21/64\n",
      "26/26 [==============================] - 1s 31ms/step - loss: 0.5134 - auc: 0.8605 - pre: 0.7893 - rec: 0.6938 - val_loss: 0.7735 - val_auc: 0.0000e+00 - val_pre: 1.0000 - val_rec: 0.3950\n",
      "Epoch 22/64\n",
      "26/26 [==============================] - 1s 31ms/step - loss: 0.5114 - auc: 0.8617 - pre: 0.7874 - rec: 0.7026 - val_loss: 0.7308 - val_auc: 0.0000e+00 - val_pre: 1.0000 - val_rec: 0.4659\n",
      "Epoch 23/64\n",
      "26/26 [==============================] - 1s 30ms/step - loss: 0.5093 - auc: 0.8624 - pre: 0.7897 - rec: 0.6961 - val_loss: 0.6758 - val_auc: 0.0000e+00 - val_pre: 1.0000 - val_rec: 0.5940\n",
      "Epoch 24/64\n",
      "26/26 [==============================] - 1s 30ms/step - loss: 0.5037 - auc: 0.8656 - pre: 0.7958 - rec: 0.7103 - val_loss: 0.7114 - val_auc: 0.0000e+00 - val_pre: 1.0000 - val_rec: 0.5010\n",
      "Epoch 25/64\n",
      "26/26 [==============================] - 1s 31ms/step - loss: 0.5025 - auc: 0.8667 - pre: 0.7941 - rec: 0.7077 - val_loss: 0.6707 - val_auc: 0.0000e+00 - val_pre: 1.0000 - val_rec: 0.6040\n",
      "Epoch 26/64\n",
      "26/26 [==============================] - 1s 31ms/step - loss: 0.4977 - auc: 0.8699 - pre: 0.7958 - rec: 0.7252 - val_loss: 0.6461 - val_auc: 0.0000e+00 - val_pre: 1.0000 - val_rec: 0.6191\n",
      "Epoch 27/64\n",
      "26/26 [==============================] - 1s 30ms/step - loss: 0.4952 - auc: 0.8719 - pre: 0.7997 - rec: 0.7139 - val_loss: 0.6621 - val_auc: 0.0000e+00 - val_pre: 1.0000 - val_rec: 0.6395\n",
      "Epoch 28/64\n",
      "26/26 [==============================] - 1s 31ms/step - loss: 0.4968 - auc: 0.8717 - pre: 0.7965 - rec: 0.7192 - val_loss: 0.5838 - val_auc: 0.0000e+00 - val_pre: 1.0000 - val_rec: 0.7021\n",
      "Epoch 29/64\n",
      "26/26 [==============================] - 1s 30ms/step - loss: 0.4920 - auc: 0.8756 - pre: 0.8010 - rec: 0.7261 - val_loss: 0.5774 - val_auc: 0.0000e+00 - val_pre: 1.0000 - val_rec: 0.6956\n",
      "Epoch 30/64\n",
      "26/26 [==============================] - 1s 31ms/step - loss: 0.4929 - auc: 0.8753 - pre: 0.8108 - rec: 0.7103 - val_loss: 0.6100 - val_auc: 0.0000e+00 - val_pre: 1.0000 - val_rec: 0.6866\n",
      "Epoch 31/64\n",
      "26/26 [==============================] - 1s 31ms/step - loss: 0.4879 - auc: 0.8775 - pre: 0.8042 - rec: 0.7231 - val_loss: 0.5271 - val_auc: 0.0000e+00 - val_pre: 1.0000 - val_rec: 0.7955\n",
      "Epoch 32/64\n",
      "26/26 [==============================] - 1s 35ms/step - loss: 0.4874 - auc: 0.8792 - pre: 0.8050 - rec: 0.7319 - val_loss: 0.6911 - val_auc: 0.0000e+00 - val_pre: 1.0000 - val_rec: 0.6350\n",
      "Epoch 33/64\n",
      "26/26 [==============================] - 1s 32ms/step - loss: 0.4873 - auc: 0.8791 - pre: 0.8021 - rec: 0.7304 - val_loss: 0.6303 - val_auc: 0.0000e+00 - val_pre: 1.0000 - val_rec: 0.6901\n",
      "Epoch 34/64\n",
      "26/26 [==============================] - 1s 33ms/step - loss: 0.4836 - auc: 0.8808 - pre: 0.8076 - rec: 0.7318 - val_loss: 0.5915 - val_auc: 0.0000e+00 - val_pre: 1.0000 - val_rec: 0.7197\n",
      "Epoch 35/64\n",
      "26/26 [==============================] - 1s 34ms/step - loss: 0.4779 - auc: 0.8842 - pre: 0.8107 - rec: 0.7360 - val_loss: 0.5971 - val_auc: 0.0000e+00 - val_pre: 1.0000 - val_rec: 0.6832\n",
      "Epoch 36/64\n",
      "26/26 [==============================] - 1s 32ms/step - loss: 0.4823 - auc: 0.8820 - pre: 0.8125 - rec: 0.7315 - val_loss: 0.5510 - val_auc: 0.0000e+00 - val_pre: 1.0000 - val_rec: 0.7138\n",
      "Epoch 37/64\n",
      "26/26 [==============================] - 1s 32ms/step - loss: 0.4776 - auc: 0.8859 - pre: 0.8160 - rec: 0.7328 - val_loss: 0.6274 - val_auc: 0.0000e+00 - val_pre: 1.0000 - val_rec: 0.7107\n",
      "Epoch 38/64\n",
      "26/26 [==============================] - 1s 33ms/step - loss: 0.4722 - auc: 0.8886 - pre: 0.8113 - rec: 0.7460 - val_loss: 0.5919 - val_auc: 0.0000e+00 - val_pre: 1.0000 - val_rec: 0.7052\n",
      "Epoch 39/64\n",
      "26/26 [==============================] - 1s 32ms/step - loss: 0.4693 - auc: 0.8889 - pre: 0.8179 - rec: 0.7395 - val_loss: 0.5335 - val_auc: 0.0000e+00 - val_pre: 1.0000 - val_rec: 0.7507\n",
      "Epoch 40/64\n",
      "26/26 [==============================] - 1s 32ms/step - loss: 0.4662 - auc: 0.8901 - pre: 0.8199 - rec: 0.7354 - val_loss: 0.5402 - val_auc: 0.0000e+00 - val_pre: 1.0000 - val_rec: 0.7331\n",
      "Epoch 41/64\n",
      "26/26 [==============================] - 1s 32ms/step - loss: 0.4678 - auc: 0.8888 - pre: 0.8227 - rec: 0.7323 - val_loss: 0.5021 - val_auc: 0.0000e+00 - val_pre: 1.0000 - val_rec: 0.7899\n",
      "Epoch 42/64\n",
      "26/26 [==============================] - 1s 32ms/step - loss: 0.4641 - auc: 0.8919 - pre: 0.8143 - rec: 0.7475 - val_loss: 0.4463 - val_auc: 0.0000e+00 - val_pre: 1.0000 - val_rec: 0.8023\n",
      "Epoch 43/64\n",
      "26/26 [==============================] - 1s 32ms/step - loss: 0.4627 - auc: 0.8921 - pre: 0.8179 - rec: 0.7441 - val_loss: 0.5169 - val_auc: 0.0000e+00 - val_pre: 1.0000 - val_rec: 0.7545\n",
      "Epoch 44/64\n",
      "26/26 [==============================] - 1s 32ms/step - loss: 0.4634 - auc: 0.8921 - pre: 0.8158 - rec: 0.7467 - val_loss: 0.5847 - val_auc: 0.0000e+00 - val_pre: 1.0000 - val_rec: 0.7283\n",
      "Epoch 45/64\n",
      "26/26 [==============================] - 1s 32ms/step - loss: 0.4583 - auc: 0.8940 - pre: 0.8302 - rec: 0.7406 - val_loss: 0.5635 - val_auc: 0.0000e+00 - val_pre: 1.0000 - val_rec: 0.7183\n",
      "Epoch 46/64\n",
      "26/26 [==============================] - 1s 32ms/step - loss: 0.4528 - auc: 0.8954 - pre: 0.8256 - rec: 0.7422 - val_loss: 0.6365 - val_auc: 0.0000e+00 - val_pre: 1.0000 - val_rec: 0.7018\n",
      "Epoch 47/64\n",
      "26/26 [==============================] - 1s 32ms/step - loss: 0.4573 - auc: 0.8940 - pre: 0.8200 - rec: 0.7463 - val_loss: 0.4832 - val_auc: 0.0000e+00 - val_pre: 1.0000 - val_rec: 0.7913\n",
      "Epoch 48/64\n",
      "26/26 [==============================] - 1s 32ms/step - loss: 0.4477 - auc: 0.8987 - pre: 0.8341 - rec: 0.7382 - val_loss: 0.5400 - val_auc: 0.0000e+00 - val_pre: 1.0000 - val_rec: 0.7607\n",
      "Epoch 49/64\n",
      "26/26 [==============================] - 1s 33ms/step - loss: 0.4433 - auc: 0.9007 - pre: 0.8282 - rec: 0.7547 - val_loss: 0.4540 - val_auc: 0.0000e+00 - val_pre: 1.0000 - val_rec: 0.8061\n",
      "Epoch 50/64\n",
      "26/26 [==============================] - 1s 33ms/step - loss: 0.4487 - auc: 0.8992 - pre: 0.8303 - rec: 0.7517 - val_loss: 0.5719 - val_auc: 0.0000e+00 - val_pre: 1.0000 - val_rec: 0.7469\n",
      "Epoch 51/64\n",
      "26/26 [==============================] - 1s 31ms/step - loss: 0.4424 - auc: 0.9022 - pre: 0.8235 - rec: 0.7642 - val_loss: 0.6713 - val_auc: 0.0000e+00 - val_pre: 1.0000 - val_rec: 0.6997\n",
      "Epoch 52/64\n",
      "26/26 [==============================] - 1s 32ms/step - loss: 0.4457 - auc: 0.8995 - pre: 0.8159 - rec: 0.7616 - val_loss: 0.6438 - val_auc: 0.0000e+00 - val_pre: 1.0000 - val_rec: 0.6846\n",
      "Epoch 53/64\n",
      "26/26 [==============================] - 1s 32ms/step - loss: 0.4364 - auc: 0.9038 - pre: 0.8286 - rec: 0.7652 - val_loss: 0.5648 - val_auc: 0.0000e+00 - val_pre: 1.0000 - val_rec: 0.7379\n",
      "Epoch 54/64\n",
      "26/26 [==============================] - 1s 31ms/step - loss: 0.4359 - auc: 0.9035 - pre: 0.8280 - rec: 0.7605 - val_loss: 0.6123 - val_auc: 0.0000e+00 - val_pre: 1.0000 - val_rec: 0.7379\n",
      "Epoch 55/64\n",
      "26/26 [==============================] - 1s 32ms/step - loss: 0.4396 - auc: 0.9024 - pre: 0.8240 - rec: 0.7688 - val_loss: 0.7249 - val_auc: 0.0000e+00 - val_pre: 1.0000 - val_rec: 0.6494\n",
      "Epoch 56/64\n",
      "26/26 [==============================] - 1s 32ms/step - loss: 0.4336 - auc: 0.9050 - pre: 0.8310 - rec: 0.7572 - val_loss: 0.6430 - val_auc: 0.0000e+00 - val_pre: 1.0000 - val_rec: 0.6897\n",
      "Epoch 57/64\n",
      "26/26 [==============================] - 1s 32ms/step - loss: 0.4336 - auc: 0.9061 - pre: 0.8296 - rec: 0.7712 - val_loss: 0.5589 - val_auc: 0.0000e+00 - val_pre: 1.0000 - val_rec: 0.7524\n",
      "Epoch 58/64\n",
      "26/26 [==============================] - 1s 32ms/step - loss: 0.4289 - auc: 0.9080 - pre: 0.8364 - rec: 0.7670 - val_loss: 0.4721 - val_auc: 0.0000e+00 - val_pre: 1.0000 - val_rec: 0.7851\n",
      "Epoch 59/64\n",
      "26/26 [==============================] - 1s 32ms/step - loss: 0.4302 - auc: 0.9065 - pre: 0.8318 - rec: 0.7631 - val_loss: 0.6141 - val_auc: 0.0000e+00 - val_pre: 1.0000 - val_rec: 0.7001\n",
      "Epoch 60/64\n",
      "26/26 [==============================] - 1s 32ms/step - loss: 0.4239 - auc: 0.9092 - pre: 0.8421 - rec: 0.7672 - val_loss: 0.5407 - val_auc: 0.0000e+00 - val_pre: 1.0000 - val_rec: 0.7569\n",
      "Epoch 61/64\n",
      "26/26 [==============================] - 1s 32ms/step - loss: 0.4223 - auc: 0.9104 - pre: 0.8350 - rec: 0.7812 - val_loss: 0.5949 - val_auc: 0.0000e+00 - val_pre: 1.0000 - val_rec: 0.6770\n",
      "Epoch 62/64\n",
      "26/26 [==============================] - 1s 32ms/step - loss: 0.4265 - auc: 0.9084 - pre: 0.8357 - rec: 0.7644 - val_loss: 0.5117 - val_auc: 0.0000e+00 - val_pre: 1.0000 - val_rec: 0.7782\n",
      "Epoch 63/64\n",
      "26/26 [==============================] - 1s 31ms/step - loss: 0.4257 - auc: 0.9093 - pre: 0.8356 - rec: 0.7715 - val_loss: 0.5671 - val_auc: 0.0000e+00 - val_pre: 1.0000 - val_rec: 0.7431\n",
      "Epoch 64/64\n",
      "26/26 [==============================] - 1s 32ms/step - loss: 0.4242 - auc: 0.9097 - pre: 0.8312 - rec: 0.7701 - val_loss: 0.5264 - val_auc: 0.0000e+00 - val_pre: 1.0000 - val_rec: 0.7848\n"
     ]
    },
    {
     "data": {
      "image/png": "[encoded data removed]",
      "text/plain": [
       "<Figure size 640x480 with 1 Axes>"
      ]
     },
     "metadata": {},
     "output_type": "display_data"
    }
   ],
   "source": [
    "def train_and_evaluate(\n",
    "  df_x_train=X_train,\n",
    "  df_y_train=y_train,\n",
    "  df_x_test=X_val,\n",
    "  df_y_test=y_val\n",
    "  ):\n",
    "\n",
    "  # Build the model.\n",
    "  model = build_model()\n",
    "\n",
    "  # Train the model.\n",
    "  print('Training...')\n",
    "\n",
    "  history = model.fit(\n",
    "    x=df_x_train,\n",
    "    y=df_y_train,\n",
    "    epochs=NUM_EPOCHS,\n",
    "    batch_size=BATCH_SIZE,\n",
    "    validation_split=VALIDATION_SPLIT,\n",
    "    verbose=1\n",
    "    )\n",
    "    \n",
    "  # Retrieve training metrics (after each train epoch) and the final test accuracy\n",
    "  train_loss = history.history['loss']\n",
    "  val_loss = history.history['val_loss']\n",
    "  plt.plot(train_loss, label='train loss')\n",
    "  plt.plot(val_loss, label='validation loss')\n",
    "  plt.xticks(range(NUM_EPOCHS))\n",
    "  plt.xlabel('Train epochs')\n",
    "  plt.legend()\n",
    "  plt.show()\n",
    "\n",
    "  test_metrics = model.evaluate(\n",
    "    x=df_x_test,\n",
    "    y=df_y_test,\n",
    "    verbose=0,\n",
    "    return_dict=True\n",
    "    )\n",
    "  \n",
    "  return model, test_metrics\n",
    "\n",
    "fit, test_metrics = train_and_evaluate()"
   ]
  },
  {
   "cell_type": "code",
   "execution_count": 17,
   "metadata": {},
   "outputs": [
    {
     "name": "stdout",
     "output_type": "stream",
     "text": [
      "88.8%\n",
      "2.0%\n"
     ]
    }
   ],
   "source": [
    "print(f'{test_metrics[\"auc\"]:.1%}')\n",
    "print(f'{(test_metrics[\"auc\"]-0.868):.1%}')"
   ]
  },
  {
   "cell_type": "markdown",
   "metadata": {},
   "source": [
    "# IV. Evaluating the Model"
   ]
  },
  {
   "cell_type": "code",
   "execution_count": 18,
   "metadata": {},
   "outputs": [
    {
     "name": "stdout",
     "output_type": "stream",
     "text": [
      "5537/5537 [==============================] - 7s 1ms/step\n"
     ]
    },
    {
     "data": {
      "image/png": "[encoded data removed]",
      "text/plain": [
       "<Figure size 640x480 with 1 Axes>"
      ]
     },
     "metadata": {},
     "output_type": "display_data"
    }
   ],
   "source": [
    "fpr, tpr, threshold = roc_curve(y_val, fit.predict(X_val))\n",
    "roc_auc = auc(fpr, tpr)\n",
    "\n",
    "plt.plot(fpr, tpr, 'b', label = f'AUC = {roc_auc:.1%}')\n",
    "plt.legend(loc = 'lower right')\n",
    "plt.plot([0, 1], [0, 1],'r--')\n",
    "plt.xlim([0, 1])\n",
    "plt.ylim([0, 1])\n",
    "plt.ylabel('True Positive Rate')\n",
    "plt.xlabel('False Positive Rate')\n",
    "plt.title('ROC Curve')\n",
    "plt.show()"
   ]
  },
  {
   "cell_type": "markdown",
   "metadata": {},
   "source": [
    "# V. Outputting Model"
   ]
  },
  {
   "cell_type": "code",
   "execution_count": 19,
   "metadata": {},
   "outputs": [
    {
     "name": "stdout",
     "output_type": "stream",
     "text": [
      "15835/15835 [==============================] - 23s 1ms/step\n"
     ]
    }
   ],
   "source": [
    "sub['isFraud'] = fit.predict(test)"
   ]
  },
  {
   "cell_type": "code",
   "execution_count": 20,
   "metadata": {},
   "outputs": [],
   "source": [
    "sub.to_csv('data/submissions/sub_12_03_07.csv', index=False)"
   ]
  }
 ],
 "metadata": {
  "kernelspec": {
   "display_name": "Python 3.10.4 64-bit",
   "language": "python",
   "name": "python3"
  },
  "language_info": {
   "codemirror_mode": {
    "name": "ipython",
    "version": 3
   },
   "file_extension": ".py",
   "mimetype": "text/x-python",
   "name": "python",
   "nbconvert_exporter": "python",
   "pygments_lexer": "ipython3",
   "version": "3.10.4"
  },
  "orig_nbformat": 4,
  "vscode": {
   "interpreter": {
    "hash": "807207e50864ba942fdea3697702c6ceff6811bbc7deef42e07b12b1046b97db"
   }
  }
 },
 "nbformat": 4,
 "nbformat_minor": 2
}
