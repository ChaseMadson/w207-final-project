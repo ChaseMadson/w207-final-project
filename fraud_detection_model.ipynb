{
 "cells": [
  {
   "cell_type": "markdown",
   "metadata": {},
   "source": [
    "# Final Project - Detecting Fraudulent Credit Card Transactions\n",
    "\n",
    "| Course | Term | Section | Group | Objective | Kaggle URL |\n",
    "| --- | --- | --- | --- | --- | --- |\n",
    "| W207 | Fall 2022 | 11 | 2 | Detect fraudulent credit card transactions | IEEE-CIS Fraud Detection ([Link](kaggle.com/competitions/ieee-fraud-detection)) |\n",
    "\n",
    "**Group Members**\n",
    "- Naikaj Pandya\n",
    "- Chase Madson\n",
    "- Eric Danforth\n"
   ]
  },
  {
   "cell_type": "markdown",
   "metadata": {},
   "source": [
    "# I. Setup"
   ]
  },
  {
   "cell_type": "markdown",
   "metadata": {},
   "source": [
    "## A. Load Libraries"
   ]
  },
  {
   "cell_type": "code",
   "execution_count": 1,
   "metadata": {},
   "outputs": [],
   "source": [
    "import numpy as np\n",
    "import pandas as pd\n",
    "import matplotlib.pyplot as plt\n",
    "\n",
    "# For feature engineering\n",
    "from decimal import Decimal\n",
    "\n",
    "# For splitting data \n",
    "from sklearn.model_selection import train_test_split\n",
    "\n",
    "# For preprocessing\n",
    "from sklearn.preprocessing import minmax_scale, OneHotEncoder\n",
    "\n",
    "# For fitting\n",
    "import tensorflow as tf\n",
    "\n",
    "# For model evalutaion\n",
    "from sklearn.metrics import roc_curve, auc"
   ]
  },
  {
   "cell_type": "markdown",
   "metadata": {},
   "source": [
    "## B. Load Data"
   ]
  },
  {
   "cell_type": "code",
   "execution_count": 2,
   "metadata": {},
   "outputs": [],
   "source": [
    "# Load Data\n",
    "train = pd.read_csv('data/train_transaction.csv')\n",
    "test = pd.read_csv('data/test_transaction.csv')\n",
    "sub = pd.read_csv('data/sample_submission.csv').drop('isFraud', axis=1)"
   ]
  },
  {
   "cell_type": "markdown",
   "metadata": {},
   "source": [
    "## C. Feature Engineering"
   ]
  },
  {
   "cell_type": "markdown",
   "metadata": {},
   "source": [
    "### 1. Custom Groupings for Purchaser and Recipient Domains\n",
    "\n",
    "To use the purchaser and recipient domain email addresses, we create a highly customized categorical variable called `custom_domain_grouping`. \n",
    "\n",
    "This uses a switch statement to condense information about:\n",
    "\n",
    "1. Drop the domain extensions so \"gmail.com\" and \"gmail\" are placed into same group\n",
    "2. Whether recipient, purchaser, or both email addresses are null\n",
    "3. Whether the recipient and purchaser domain address matched (e.g., gmail to gmail)\n",
    "4. If the recipient and purchaser domain addresses do match, what domain is it?"
   ]
  },
  {
   "cell_type": "code",
   "execution_count": 3,
   "metadata": {},
   "outputs": [],
   "source": [
    "def get_custom_domain_grouping(df_train, df_test):\n",
    "    \"\"\"This function is disgusting but gives us good categories from the domain addresses\"\"\"\n",
    "\n",
    "    # Remove the domain extensions on all variables\n",
    "    df_train['purch_domain_name'] = df_train.P_emaildomain.str.replace('\\..*', '', regex=True)\n",
    "    df_train['recip_domain_name'] = df_train.R_emaildomain.str.replace('\\..*', '', regex=True)\n",
    "    df_test['purch_domain_name'] = df_test.P_emaildomain.str.replace('\\..*', '', regex=True)\n",
    "    df_test['recip_domain_name'] = df_test.R_emaildomain.str.replace('\\..*', '', regex=True)\n",
    "\n",
    "    # Get the list of top 95% of email domains in the _training_ set only \n",
    "    top_95pct_purch_domains = (\n",
    "        df_train.purch_domain_name\n",
    "        .value_counts(normalize=True)\n",
    "        .rename_axis('factor_levels')\n",
    "        .cumsum()\n",
    "        .reset_index(name='cumsum')\n",
    "        .query('cumsum<0.95')\n",
    "        .sort_values('cumsum')\n",
    "        .factor_levels\n",
    "        .tolist()   \n",
    "    )\n",
    "    \n",
    "    # This switch statement is based on \n",
    "    custom_domain_grouping_train = np.select(\n",
    "        condlist = [\n",
    "            # Create a group for null recipients\n",
    "            df_train.R_emaildomain.isnull(),\n",
    "            # Create a group for null purchasers (when recipient not null)\n",
    "            df_train.P_emaildomain.isnull(),\n",
    "            # Create a group for purchaser domains paired with a distinct recipient domain\n",
    "            df_train.purch_domain_name != df_train.recip_domain_name,\n",
    "            # If domains match and in our most common domains \n",
    "            df_train.purch_domain_name.isin(top_95pct_purch_domains)\n",
    "            ], \n",
    "        choicelist = [\n",
    "            'Recipient or Both Blank',\n",
    "            'Just Purchaser Blank',\n",
    "            'Purchaser and Recipient Differ',\n",
    "            'Purchaser and Recipient Same: ' + df_train.purch_domain_name\n",
    "            ],\n",
    "        default='Purchaser and Recipient Same: other domain'\n",
    "    )\n",
    "\n",
    "    # Do the same as above, but for the test set\n",
    "    custom_domain_grouping_test = np.select(\n",
    "        condlist = [\n",
    "            df_test.R_emaildomain.isnull(),\n",
    "            df_test.P_emaildomain.isnull(),\n",
    "            df_test.purch_domain_name != df_test.recip_domain_name,\n",
    "            df_test.purch_domain_name.isin(top_95pct_purch_domains)\n",
    "            ], \n",
    "        choicelist = [\n",
    "            'Recipient or Both Blank',\n",
    "            'Just Purchaser Blank',\n",
    "            'Purchaser and Recipient Differ',\n",
    "            'Purchaser and Recipient Same: ' + df_test.purch_domain_name\n",
    "            ],\n",
    "        default='Purchaser and Recipient Same: other domain'\n",
    "    )\n",
    "\n",
    "    return custom_domain_grouping_train, custom_domain_grouping_test\n",
    "\n",
    "train['custom_domain_grouping'], test['custom_domain_grouping'] = get_custom_domain_grouping(train, test)"
   ]
  },
  {
   "cell_type": "markdown",
   "metadata": {},
   "source": [
    "### 3. Feature Engineering: Whether Currency has More than Two Decimals"
   ]
  },
  {
   "cell_type": "code",
   "execution_count": 4,
   "metadata": {},
   "outputs": [],
   "source": [
    "def txn_usd_convert(amt):\n",
    "    return np.float16(-Decimal(str(amt)).as_tuple().exponent > 2)\n",
    "\n",
    "train['Transaction_curr_type'] = train['TransactionAmt'].apply(txn_usd_convert)\n",
    "test['Transaction_curr_type'] = test['TransactionAmt'].apply(txn_usd_convert)"
   ]
  },
  {
   "cell_type": "markdown",
   "metadata": {},
   "source": [
    "### 4. Feature Engineering: User ID"
   ]
  },
  {
   "cell_type": "code",
   "execution_count": 5,
   "metadata": {},
   "outputs": [],
   "source": [
    "train['uid'] = train['ProductCD'].astype(str) + '_' + \\\n",
    "  train['card1'].astype(str) + '_' + \\\n",
    "  train['card4'].astype(str) + '_' + \\\n",
    "  train['card6'].astype(str) + '_' + \\\n",
    "  train['addr1'].astype(str) + '_' + \\\n",
    "  train['dist1'].astype(str) + '_' + \\\n",
    "  train['dist2'].astype(str) + '_' + \\\n",
    "  train['P_emaildomain'].astype(str) + '_' + \\\n",
    "  train['C13'].astype(str)\n",
    "train['uid'] = train['uid'].apply(lambda x: hash(x))\n",
    "\n",
    "test['uid'] = test['ProductCD'].astype(str) + '_' + \\\n",
    "  test['card1'].astype(str) + '_' + \\\n",
    "  test['card4'].astype(str) + '_' + \\\n",
    "  test['card6'].astype(str) + '_' + \\\n",
    "  test['addr1'].astype(str) + '_' + \\\n",
    "  test['dist1'].astype(str) + '_' + \\\n",
    "  test['dist2'].astype(str) + '_' + \\\n",
    "  test['P_emaildomain'].astype(str) + '_' + \\\n",
    "  test['C13'].astype(str)\n",
    "  \n",
    "test['uid'] = test['uid'].apply(lambda x: hash(x))"
   ]
  },
  {
   "cell_type": "markdown",
   "metadata": {},
   "source": [
    "## D. Group the Columns"
   ]
  },
  {
   "cell_type": "code",
   "execution_count": 6,
   "metadata": {},
   "outputs": [],
   "source": [
    "# Transaction payment amount in USD\n",
    "features_num_amt = train[['TransactionAmt']].columns\n",
    "\n",
    "# Date and time of transactions\n",
    "features_num_dt = train[['TransactionDT']].columns\n",
    "\n",
    "# Distance measures between two masked points\n",
    "features_num_dist = train.filter(regex='^dist').columns\n",
    "\n",
    "# Various (masked) counts, e.g. how many addresses associated with payment card\n",
    "features_num_C = train.filter(regex='^C').columns\n",
    "\n",
    "# Various (masked) timedeltas, e.g. days between previous transactions\n",
    "features_num_D = train.filter(regex='^D').columns\n",
    "\n",
    "# Various (masked) Vesta engineered rich features\n",
    "features_num_V = train.filter(regex='^V').columns\n",
    "\n",
    "# uid\n",
    "features_uid = train[['uid']].columns\n",
    "\n",
    "features_num = (\n",
    "    features_num_amt\n",
    "    .union(features_num_dt)\n",
    "    .union(features_num_dist)\n",
    "    .union(features_num_C)\n",
    "    .union(features_num_D)\n",
    "    .union(features_num_V)\n",
    "    .union(features_uid)\n",
    ")"
   ]
  },
  {
   "cell_type": "code",
   "execution_count": 7,
   "metadata": {},
   "outputs": [],
   "source": [
    "# Product code for the product associated with the transaction\n",
    "features_cat_CD = train[['ProductCD']].columns\n",
    "\n",
    "# Payment card information, such as card type, card category, issue bank, country\n",
    "# features_cat_card = train.filter(regex='^card').columns\n",
    "features_cat_card4 = train.filter(regex='^card4').columns\n",
    "features_cat_card6 = train.filter(regex='^card6').columns\n",
    "\n",
    "# Address (unspecified)\n",
    "features_cat_addr = train.filter(regex='^addr').columns\n",
    "\n",
    "# Purchaser and recipient email domains\n",
    "features_cat_domain = train[['custom_domain_grouping']].columns\n",
    "\n",
    "# Various matches (masked), e.g. names on card and addresses\n",
    "features_cat_M = train.filter(regex='^M').columns\n",
    "\n",
    "# New feature - whether the transaction amount had more than 2 decimal places\n",
    "features_cat_curr_type = train[['Transaction_curr_type']].columns\n",
    "\n",
    "features_cat = (\n",
    "    features_cat_CD\n",
    "    # .union(features_cat_card)\n",
    "    .union(features_cat_card4)\n",
    "    .union(features_cat_card6)\n",
    "    .union(features_cat_addr)\n",
    "    .union(features_cat_domain)\n",
    "    .union(features_cat_M)\n",
    "    .union(features_cat_curr_type)\n",
    ")"
   ]
  },
  {
   "cell_type": "code",
   "execution_count": 8,
   "metadata": {},
   "outputs": [
    {
     "name": "stdout",
     "output_type": "stream",
     "text": [
      "We start with 389 available features: 373 numeric and 16 categorical.\n"
     ]
    }
   ],
   "source": [
    "# Define the sets of features used, by variable type \n",
    "features = features_num.union(features_cat)\n",
    "\n",
    "# Define our ID column and target\n",
    "id = train[['TransactionID']].columns\n",
    "target = train[['isFraud']].columns\n",
    "\n",
    "# Select relevant columns\n",
    "train = train[target.union(features)]\n",
    "test = test[features]\n",
    "\n",
    "print(f'We start with {len(features)} available features: {len(features_num)} numeric and {len(features_cat)} categorical.')"
   ]
  },
  {
   "cell_type": "markdown",
   "metadata": {},
   "source": [
    "# II. Data Preparation"
   ]
  },
  {
   "cell_type": "markdown",
   "metadata": {},
   "source": [
    "## A. Split Data into Train and Validation"
   ]
  },
  {
   "cell_type": "code",
   "execution_count": 9,
   "metadata": {},
   "outputs": [],
   "source": [
    "# Save 30% of the training data for validation\n",
    "training, validation = train_test_split(train, test_size=0.3, random_state=1)\n",
    "\n",
    "# With the remaining 70% in the training set, downsample the majority class\n",
    "training = (\n",
    "    training\n",
    "    .groupby('isFraud')\n",
    "    .sample(\n",
    "        n=sum(training.isFraud == 1),\n",
    "        random_state=1\n",
    "    )\n",
    ")\n",
    "\n",
    "# Separate the features from the label\n",
    "y_train = training[['isFraud']]\n",
    "y_val = validation[['isFraud']]\n",
    "X_train = training[features]\n",
    "X_val = validation[features]\n",
    "\n",
    "# Drop unneeded DataFrames\n",
    "del training, validation"
   ]
  },
  {
   "cell_type": "markdown",
   "metadata": {},
   "source": [
    "## B. Preprocessing Numeric Values\n",
    "\n",
    "Apply Min-Max normalization and replace missing values for all numeric features in training, validation, and test sets"
   ]
  },
  {
   "cell_type": "code",
   "execution_count": 10,
   "metadata": {},
   "outputs": [],
   "source": [
    "def replace_na_and_normalize(df, cols=features_num):\n",
    "    return (df[cols]\n",
    "        .apply(lambda var: var.fillna(var.min() - 2))\n",
    "        .apply(minmax_scale, feature_range=(0,1))\n",
    "    )\n",
    "\n",
    "X_train[features_num] = replace_na_and_normalize(X_train)\n",
    "X_val[features_num] = replace_na_and_normalize(X_val)\n",
    "test[features_num] = replace_na_and_normalize(test)"
   ]
  },
  {
   "cell_type": "markdown",
   "metadata": {},
   "source": [
    "## C. Preprocessing Categorical Values\n",
    "\n",
    "Replace raw categorical features with one-hot encoding values"
   ]
  },
  {
   "cell_type": "code",
   "execution_count": 11,
   "metadata": {},
   "outputs": [],
   "source": [
    "def get_one_hot_encoding(df, feature):\n",
    "    # Instantiate the transformer\n",
    "    ohe = OneHotEncoder()\n",
    "\n",
    "    # Stack all datasets to get all unique categories observed\n",
    "    categories = pd.concat([train[[feature]], test[[feature]]])\n",
    "\n",
    "    # Fit the transformer with the observed classes\n",
    "    ohe.fit(categories)\n",
    "\n",
    "    # Create a sparse array with one binary vector per category\n",
    "    transformed_array = ohe.transform(df[[feature]]).toarray()\n",
    "\n",
    "    # Turn the transformed array into a DataFrame and assign names\n",
    "    transformed_ndarray = pd.DataFrame(\n",
    "        transformed_array,\n",
    "        columns=ohe.get_feature_names_out(),\n",
    "        index=df.index\n",
    "    ).astype(np.float16)\n",
    "\n",
    "    return transformed_ndarray"
   ]
  },
  {
   "cell_type": "code",
   "execution_count": 12,
   "metadata": {},
   "outputs": [],
   "source": [
    "def replace_raw_cats_with_one_hots(df, cols=features_cat):\n",
    "    # Initialize a placeholder list\n",
    "    tmp_list = []\n",
    "\n",
    "    # For each variable in our categorical features, get one-hot encoding matrix\n",
    "    for var in features_cat:\n",
    "        tmp_list.append(get_one_hot_encoding(df, var))\n",
    "\n",
    "    # Convert list of DataFrames into one DataFrame of several sparse matrices\n",
    "    tmp_df = pd.concat(tmp_list, axis=1)\n",
    "\n",
    "    # Drop the raw categorical variables and replace with sparce matrices\n",
    "    new_df = pd.concat([df.drop(features_cat, axis=1), tmp_df], axis=1)\n",
    "    \n",
    "    return new_df"
   ]
  },
  {
   "cell_type": "code",
   "execution_count": 13,
   "metadata": {},
   "outputs": [],
   "source": [
    "# Carry out the one-hot encoding functions above for each data set\n",
    "X_train = replace_raw_cats_with_one_hots(X_train)\n",
    "X_val = replace_raw_cats_with_one_hots(X_val)\n",
    "test = replace_raw_cats_with_one_hots(test)"
   ]
  },
  {
   "cell_type": "markdown",
   "metadata": {},
   "source": [
    "# III. Fitting a Model"
   ]
  },
  {
   "cell_type": "code",
   "execution_count": 14,
   "metadata": {},
   "outputs": [],
   "source": [
    "def build_model(\n",
    "  set_act,\n",
    "  set_lr,\n",
    "  n_classes=1,\n",
    "  hidden_layer_sizes=[]\n",
    "  ):\n",
    "  tf.keras.backend.clear_session()\n",
    "  np.random.seed(0)\n",
    "  tf.random.set_seed(0)\n",
    "  # INPUT LAYER\n",
    "  model = tf.keras.Sequential()\n",
    "  # HIDDEN LAYERS\n",
    "  for hidden_layer_size in hidden_layer_sizes:\n",
    "    model.add(tf.keras.layers.Dense(units=hidden_layer_size, activation=set_act))\n",
    "  # OUTPUT LAYER\n",
    "  model.add(tf.keras.layers.Dense( \n",
    "    units=n_classes,     # Dim of output space\n",
    "    use_bias=True,       # Specify to keep bias term\n",
    "    activation='sigmoid' # Apply sigmoid function since its binary classification\n",
    "    ))\n",
    "  model.compile(\n",
    "    loss='binary_crossentropy', \n",
    "    optimizer=tf.keras.optimizers.Adam(learning_rate=set_lr), \n",
    "    metrics=[\n",
    "      tf.keras.metrics.AUC(name='auc'),\n",
    "      tf.keras.metrics.Precision(name='pre'),\n",
    "      tf.keras.metrics.Recall(name='rec'),\n",
    "      ]\n",
    "  )\n",
    "  return model"
   ]
  },
  {
   "cell_type": "code",
   "execution_count": 15,
   "metadata": {},
   "outputs": [
    {
     "name": "stdout",
     "output_type": "stream",
     "text": [
      "Training...\n",
      "Epoch 1/64\n",
      "205/205 [==============================] - 2s 6ms/step - loss: 0.6367 - auc: 0.7116 - pre: 0.7177 - rec: 0.4455 - val_loss: 0.7086 - val_auc: 0.0000e+00 - val_pre: 1.0000 - val_rec: 0.5441\n",
      "Epoch 2/64\n",
      "205/205 [==============================] - 1s 5ms/step - loss: 0.5850 - auc: 0.7699 - pre: 0.6978 - rec: 0.5556 - val_loss: 0.6700 - val_auc: 0.0000e+00 - val_pre: 1.0000 - val_rec: 0.5579\n",
      "Epoch 3/64\n",
      "205/205 [==============================] - 1s 5ms/step - loss: 0.5579 - auc: 0.7895 - pre: 0.7169 - rec: 0.5828 - val_loss: 0.6371 - val_auc: 0.0000e+00 - val_pre: 1.0000 - val_rec: 0.6061\n",
      "Epoch 4/64\n",
      "205/205 [==============================] - 1s 5ms/step - loss: 0.5398 - auc: 0.8035 - pre: 0.7255 - rec: 0.6388 - val_loss: 0.6202 - val_auc: 0.0000e+00 - val_pre: 1.0000 - val_rec: 0.6501\n",
      "Epoch 5/64\n",
      "205/205 [==============================] - 1s 5ms/step - loss: 0.5280 - auc: 0.8126 - pre: 0.7292 - rec: 0.6660 - val_loss: 0.6197 - val_auc: 0.0000e+00 - val_pre: 1.0000 - val_rec: 0.6698\n",
      "Epoch 6/64\n",
      "205/205 [==============================] - 1s 5ms/step - loss: 0.5195 - auc: 0.8192 - pre: 0.7332 - rec: 0.6810 - val_loss: 0.6436 - val_auc: 0.0000e+00 - val_pre: 1.0000 - val_rec: 0.6505\n",
      "Epoch 7/64\n",
      "205/205 [==============================] - 1s 5ms/step - loss: 0.5134 - auc: 0.8236 - pre: 0.7405 - rec: 0.6915 - val_loss: 0.6000 - val_auc: 0.0000e+00 - val_pre: 1.0000 - val_rec: 0.6935\n",
      "Epoch 8/64\n",
      "205/205 [==============================] - 1s 5ms/step - loss: 0.5082 - auc: 0.8275 - pre: 0.7445 - rec: 0.6963 - val_loss: 0.5963 - val_auc: 0.0000e+00 - val_pre: 1.0000 - val_rec: 0.6966\n",
      "Epoch 9/64\n",
      "205/205 [==============================] - 1s 5ms/step - loss: 0.5038 - auc: 0.8305 - pre: 0.7443 - rec: 0.7026 - val_loss: 0.5724 - val_auc: 0.0000e+00 - val_pre: 1.0000 - val_rec: 0.7149\n",
      "Epoch 10/64\n",
      "205/205 [==============================] - 1s 5ms/step - loss: 0.4995 - auc: 0.8334 - pre: 0.7488 - rec: 0.6989 - val_loss: 0.5847 - val_auc: 0.0000e+00 - val_pre: 1.0000 - val_rec: 0.7008\n",
      "Epoch 11/64\n",
      "205/205 [==============================] - 1s 5ms/step - loss: 0.4958 - auc: 0.8357 - pre: 0.7510 - rec: 0.7020 - val_loss: 0.6131 - val_auc: 0.0000e+00 - val_pre: 1.0000 - val_rec: 0.6815\n",
      "Epoch 12/64\n",
      "205/205 [==============================] - 1s 5ms/step - loss: 0.4925 - auc: 0.8381 - pre: 0.7551 - rec: 0.7022 - val_loss: 0.5892 - val_auc: 0.0000e+00 - val_pre: 1.0000 - val_rec: 0.6997\n",
      "Epoch 13/64\n",
      "205/205 [==============================] - 1s 5ms/step - loss: 0.4896 - auc: 0.8401 - pre: 0.7574 - rec: 0.7042 - val_loss: 0.5478 - val_auc: 0.0000e+00 - val_pre: 1.0000 - val_rec: 0.7221\n",
      "Epoch 14/64\n",
      "205/205 [==============================] - 1s 5ms/step - loss: 0.4864 - auc: 0.8422 - pre: 0.7596 - rec: 0.7069 - val_loss: 0.5857 - val_auc: 0.0000e+00 - val_pre: 1.0000 - val_rec: 0.6987\n",
      "Epoch 15/64\n",
      "205/205 [==============================] - 1s 5ms/step - loss: 0.4836 - auc: 0.8441 - pre: 0.7621 - rec: 0.7090 - val_loss: 0.5844 - val_auc: 0.0000e+00 - val_pre: 1.0000 - val_rec: 0.6970\n",
      "Epoch 16/64\n",
      "205/205 [==============================] - 1s 5ms/step - loss: 0.4812 - auc: 0.8456 - pre: 0.7639 - rec: 0.7060 - val_loss: 0.5685 - val_auc: 0.0000e+00 - val_pre: 1.0000 - val_rec: 0.7076\n",
      "Epoch 17/64\n",
      "205/205 [==============================] - 1s 5ms/step - loss: 0.4786 - auc: 0.8473 - pre: 0.7638 - rec: 0.7085 - val_loss: 0.5950 - val_auc: 0.0000e+00 - val_pre: 1.0000 - val_rec: 0.6887\n",
      "Epoch 18/64\n",
      "205/205 [==============================] - 1s 5ms/step - loss: 0.4763 - auc: 0.8488 - pre: 0.7683 - rec: 0.7081 - val_loss: 0.5862 - val_auc: 0.0000e+00 - val_pre: 1.0000 - val_rec: 0.6963\n",
      "Epoch 19/64\n",
      "205/205 [==============================] - 1s 5ms/step - loss: 0.4742 - auc: 0.8503 - pre: 0.7693 - rec: 0.7104 - val_loss: 0.5810 - val_auc: 0.0000e+00 - val_pre: 1.0000 - val_rec: 0.6983\n",
      "Epoch 20/64\n",
      "205/205 [==============================] - 1s 5ms/step - loss: 0.4717 - auc: 0.8519 - pre: 0.7722 - rec: 0.7075 - val_loss: 0.5260 - val_auc: 0.0000e+00 - val_pre: 1.0000 - val_rec: 0.7335\n",
      "Epoch 21/64\n",
      "205/205 [==============================] - 1s 5ms/step - loss: 0.4700 - auc: 0.8529 - pre: 0.7720 - rec: 0.7090 - val_loss: 0.5425 - val_auc: 0.0000e+00 - val_pre: 1.0000 - val_rec: 0.7228\n",
      "Epoch 22/64\n",
      "205/205 [==============================] - 1s 5ms/step - loss: 0.4680 - auc: 0.8543 - pre: 0.7735 - rec: 0.7115 - val_loss: 0.5708 - val_auc: 0.0000e+00 - val_pre: 1.0000 - val_rec: 0.7059\n",
      "Epoch 23/64\n",
      "205/205 [==============================] - 1s 5ms/step - loss: 0.4661 - auc: 0.8558 - pre: 0.7739 - rec: 0.7111 - val_loss: 0.5675 - val_auc: 0.0000e+00 - val_pre: 1.0000 - val_rec: 0.7045\n",
      "Epoch 24/64\n",
      "205/205 [==============================] - 1s 5ms/step - loss: 0.4640 - auc: 0.8568 - pre: 0.7775 - rec: 0.7103 - val_loss: 0.5588 - val_auc: 0.0000e+00 - val_pre: 1.0000 - val_rec: 0.7087\n",
      "Epoch 25/64\n",
      "205/205 [==============================] - 1s 5ms/step - loss: 0.4623 - auc: 0.8581 - pre: 0.7758 - rec: 0.7137 - val_loss: 0.5913 - val_auc: 0.0000e+00 - val_pre: 1.0000 - val_rec: 0.6918\n",
      "Epoch 26/64\n",
      "205/205 [==============================] - 1s 5ms/step - loss: 0.4603 - auc: 0.8594 - pre: 0.7814 - rec: 0.7118 - val_loss: 0.5702 - val_auc: 0.0000e+00 - val_pre: 1.0000 - val_rec: 0.7018\n",
      "Epoch 27/64\n",
      "205/205 [==============================] - 1s 5ms/step - loss: 0.4588 - auc: 0.8602 - pre: 0.7813 - rec: 0.7139 - val_loss: 0.5724 - val_auc: 0.0000e+00 - val_pre: 1.0000 - val_rec: 0.7018\n",
      "Epoch 28/64\n",
      "205/205 [==============================] - 1s 5ms/step - loss: 0.4569 - auc: 0.8616 - pre: 0.7817 - rec: 0.7125 - val_loss: 0.5550 - val_auc: 0.0000e+00 - val_pre: 1.0000 - val_rec: 0.7121\n",
      "Epoch 29/64\n",
      "205/205 [==============================] - 1s 5ms/step - loss: 0.4554 - auc: 0.8624 - pre: 0.7833 - rec: 0.7149 - val_loss: 0.6070 - val_auc: 0.0000e+00 - val_pre: 1.0000 - val_rec: 0.6746\n",
      "Epoch 30/64\n",
      "205/205 [==============================] - 1s 5ms/step - loss: 0.4538 - auc: 0.8635 - pre: 0.7858 - rec: 0.7152 - val_loss: 0.5314 - val_auc: 0.0000e+00 - val_pre: 1.0000 - val_rec: 0.7262\n",
      "Epoch 31/64\n",
      "205/205 [==============================] - 1s 5ms/step - loss: 0.4522 - auc: 0.8645 - pre: 0.7879 - rec: 0.7161 - val_loss: 0.5372 - val_auc: 0.0000e+00 - val_pre: 1.0000 - val_rec: 0.7235\n",
      "Epoch 32/64\n",
      "205/205 [==============================] - 1s 5ms/step - loss: 0.4506 - auc: 0.8655 - pre: 0.7857 - rec: 0.7185 - val_loss: 0.5695 - val_auc: 0.0000e+00 - val_pre: 1.0000 - val_rec: 0.6963\n",
      "Epoch 33/64\n",
      "205/205 [==============================] - 1s 5ms/step - loss: 0.4492 - auc: 0.8664 - pre: 0.7899 - rec: 0.7173 - val_loss: 0.5627 - val_auc: 0.0000e+00 - val_pre: 1.0000 - val_rec: 0.7028\n",
      "Epoch 34/64\n",
      "205/205 [==============================] - 1s 5ms/step - loss: 0.4475 - auc: 0.8675 - pre: 0.7908 - rec: 0.7188 - val_loss: 0.5372 - val_auc: 0.0000e+00 - val_pre: 1.0000 - val_rec: 0.7218\n",
      "Epoch 35/64\n",
      "205/205 [==============================] - 1s 5ms/step - loss: 0.4461 - auc: 0.8684 - pre: 0.7927 - rec: 0.7208 - val_loss: 0.5504 - val_auc: 0.0000e+00 - val_pre: 1.0000 - val_rec: 0.7104\n",
      "Epoch 36/64\n",
      "205/205 [==============================] - 1s 5ms/step - loss: 0.4444 - auc: 0.8696 - pre: 0.7928 - rec: 0.7212 - val_loss: 0.5874 - val_auc: 0.0000e+00 - val_pre: 1.0000 - val_rec: 0.6863\n",
      "Epoch 37/64\n",
      "205/205 [==============================] - 1s 5ms/step - loss: 0.4434 - auc: 0.8702 - pre: 0.7954 - rec: 0.7208 - val_loss: 0.5466 - val_auc: 0.0000e+00 - val_pre: 1.0000 - val_rec: 0.7128\n",
      "Epoch 38/64\n",
      "205/205 [==============================] - 1s 5ms/step - loss: 0.4420 - auc: 0.8710 - pre: 0.7959 - rec: 0.7181 - val_loss: 0.5422 - val_auc: 0.0000e+00 - val_pre: 1.0000 - val_rec: 0.7159\n",
      "Epoch 39/64\n",
      "205/205 [==============================] - 1s 5ms/step - loss: 0.4403 - auc: 0.8721 - pre: 0.7947 - rec: 0.7229 - val_loss: 0.6085 - val_auc: 0.0000e+00 - val_pre: 1.0000 - val_rec: 0.6701\n",
      "Epoch 40/64\n",
      "205/205 [==============================] - 1s 5ms/step - loss: 0.4391 - auc: 0.8728 - pre: 0.7999 - rec: 0.7218 - val_loss: 0.5455 - val_auc: 0.0000e+00 - val_pre: 1.0000 - val_rec: 0.7152\n",
      "Epoch 41/64\n",
      "205/205 [==============================] - 1s 5ms/step - loss: 0.4379 - auc: 0.8735 - pre: 0.7993 - rec: 0.7225 - val_loss: 0.5404 - val_auc: 0.0000e+00 - val_pre: 1.0000 - val_rec: 0.7180\n",
      "Epoch 42/64\n",
      "205/205 [==============================] - 1s 5ms/step - loss: 0.4362 - auc: 0.8746 - pre: 0.7994 - rec: 0.7266 - val_loss: 0.5576 - val_auc: 0.0000e+00 - val_pre: 1.0000 - val_rec: 0.7056\n",
      "Epoch 43/64\n",
      "205/205 [==============================] - 1s 5ms/step - loss: 0.4349 - auc: 0.8754 - pre: 0.8011 - rec: 0.7240 - val_loss: 0.5117 - val_auc: 0.0000e+00 - val_pre: 1.0000 - val_rec: 0.7352\n",
      "Epoch 44/64\n",
      "205/205 [==============================] - 1s 5ms/step - loss: 0.4339 - auc: 0.8760 - pre: 0.8021 - rec: 0.7262 - val_loss: 0.5443 - val_auc: 0.0000e+00 - val_pre: 1.0000 - val_rec: 0.7145\n",
      "Epoch 45/64\n",
      "205/205 [==============================] - 1s 5ms/step - loss: 0.4324 - auc: 0.8769 - pre: 0.8035 - rec: 0.7294 - val_loss: 0.5578 - val_auc: 0.0000e+00 - val_pre: 1.0000 - val_rec: 0.7066\n",
      "Epoch 46/64\n",
      "205/205 [==============================] - 1s 5ms/step - loss: 0.4310 - auc: 0.8779 - pre: 0.8049 - rec: 0.7278 - val_loss: 0.5367 - val_auc: 0.0000e+00 - val_pre: 1.0000 - val_rec: 0.7190\n",
      "Epoch 47/64\n",
      "205/205 [==============================] - 1s 4ms/step - loss: 0.4298 - auc: 0.8785 - pre: 0.8066 - rec: 0.7305 - val_loss: 0.5377 - val_auc: 0.0000e+00 - val_pre: 1.0000 - val_rec: 0.7197\n",
      "Epoch 48/64\n",
      "205/205 [==============================] - 1s 5ms/step - loss: 0.4286 - auc: 0.8793 - pre: 0.8057 - rec: 0.7288 - val_loss: 0.5424 - val_auc: 0.0000e+00 - val_pre: 1.0000 - val_rec: 0.7169\n",
      "Epoch 49/64\n",
      "205/205 [==============================] - 1s 5ms/step - loss: 0.4273 - auc: 0.8800 - pre: 0.8071 - rec: 0.7297 - val_loss: 0.5251 - val_auc: 0.0000e+00 - val_pre: 1.0000 - val_rec: 0.7276\n",
      "Epoch 50/64\n",
      "205/205 [==============================] - 1s 5ms/step - loss: 0.4259 - auc: 0.8809 - pre: 0.8113 - rec: 0.7331 - val_loss: 0.5353 - val_auc: 0.0000e+00 - val_pre: 1.0000 - val_rec: 0.7221\n",
      "Epoch 51/64\n",
      "205/205 [==============================] - 1s 5ms/step - loss: 0.4248 - auc: 0.8817 - pre: 0.8107 - rec: 0.7301 - val_loss: 0.4890 - val_auc: 0.0000e+00 - val_pre: 1.0000 - val_rec: 0.7500\n",
      "Epoch 52/64\n",
      "205/205 [==============================] - 1s 5ms/step - loss: 0.4230 - auc: 0.8826 - pre: 0.8089 - rec: 0.7333 - val_loss: 0.5169 - val_auc: 0.0000e+00 - val_pre: 1.0000 - val_rec: 0.7331\n",
      "Epoch 53/64\n",
      "205/205 [==============================] - 1s 5ms/step - loss: 0.4222 - auc: 0.8831 - pre: 0.8113 - rec: 0.7344 - val_loss: 0.5545 - val_auc: 0.0000e+00 - val_pre: 1.0000 - val_rec: 0.7070\n",
      "Epoch 54/64\n",
      "205/205 [==============================] - 1s 5ms/step - loss: 0.4211 - auc: 0.8839 - pre: 0.8151 - rec: 0.7347 - val_loss: 0.5169 - val_auc: 0.0000e+00 - val_pre: 1.0000 - val_rec: 0.7355\n",
      "Epoch 55/64\n",
      "205/205 [==============================] - 1s 5ms/step - loss: 0.4194 - auc: 0.8849 - pre: 0.8135 - rec: 0.7355 - val_loss: 0.5514 - val_auc: 0.0000e+00 - val_pre: 1.0000 - val_rec: 0.7118\n",
      "Epoch 56/64\n",
      "205/205 [==============================] - 1s 5ms/step - loss: 0.4183 - auc: 0.8854 - pre: 0.8150 - rec: 0.7354 - val_loss: 0.5166 - val_auc: 0.0000e+00 - val_pre: 1.0000 - val_rec: 0.7324\n",
      "Epoch 57/64\n",
      "205/205 [==============================] - 1s 5ms/step - loss: 0.4173 - auc: 0.8860 - pre: 0.8124 - rec: 0.7364 - val_loss: 0.5228 - val_auc: 0.0000e+00 - val_pre: 1.0000 - val_rec: 0.7307\n",
      "Epoch 58/64\n",
      "205/205 [==============================] - 1s 5ms/step - loss: 0.4162 - auc: 0.8866 - pre: 0.8155 - rec: 0.7365 - val_loss: 0.5379 - val_auc: 0.0000e+00 - val_pre: 1.0000 - val_rec: 0.7211\n",
      "Epoch 59/64\n",
      "205/205 [==============================] - 1s 5ms/step - loss: 0.4150 - auc: 0.8873 - pre: 0.8159 - rec: 0.7386 - val_loss: 0.5368 - val_auc: 0.0000e+00 - val_pre: 1.0000 - val_rec: 0.7231\n",
      "Epoch 60/64\n",
      "205/205 [==============================] - 1s 4ms/step - loss: 0.4138 - auc: 0.8880 - pre: 0.8166 - rec: 0.7376 - val_loss: 0.5041 - val_auc: 0.0000e+00 - val_pre: 1.0000 - val_rec: 0.7438\n",
      "Epoch 61/64\n",
      "205/205 [==============================] - 1s 5ms/step - loss: 0.4124 - auc: 0.8891 - pre: 0.8171 - rec: 0.7408 - val_loss: 0.5261 - val_auc: 0.0000e+00 - val_pre: 1.0000 - val_rec: 0.7304\n",
      "Epoch 62/64\n",
      "205/205 [==============================] - 1s 5ms/step - loss: 0.4114 - auc: 0.8895 - pre: 0.8180 - rec: 0.7400 - val_loss: 0.5270 - val_auc: 0.0000e+00 - val_pre: 1.0000 - val_rec: 0.7293\n",
      "Epoch 63/64\n",
      "205/205 [==============================] - 1s 5ms/step - loss: 0.4104 - auc: 0.8902 - pre: 0.8188 - rec: 0.7396 - val_loss: 0.5293 - val_auc: 0.0000e+00 - val_pre: 1.0000 - val_rec: 0.7307\n",
      "Epoch 64/64\n",
      "205/205 [==============================] - 1s 5ms/step - loss: 0.4091 - auc: 0.8908 - pre: 0.8208 - rec: 0.7404 - val_loss: 0.4712 - val_auc: 0.0000e+00 - val_pre: 1.0000 - val_rec: 0.7638\n"
     ]
    },
    {
     "data": {
      "image/png": "[encoded data removed]",
      "text/plain": [
       "<Figure size 640x480 with 1 Axes>"
      ]
     },
     "metadata": {},
     "output_type": "display_data"
    }
   ],
   "source": [
    "def train_and_evaluate(\n",
    "  df_x_train=X_train,\n",
    "  df_y_train=y_train,\n",
    "  df_x_test=X_val,\n",
    "  df_y_test=y_val,\n",
    "  hidden_layer_sizes=[512, 256, 128], \n",
    "  set_act='relu',\n",
    "  num_epochs=64,\n",
    "  batch_size=128,\n",
    "  set_lr=0.00001\n",
    "  ):\n",
    "\n",
    "  # Build the model.\n",
    "  model = build_model(\n",
    "    n_classes=1,\n",
    "    hidden_layer_sizes=hidden_layer_sizes,\n",
    "    set_act=set_act,\n",
    "    set_lr = set_lr\n",
    "    )\n",
    "\n",
    "  # Train the model.\n",
    "  print('Training...')\n",
    "\n",
    "  history = model.fit(\n",
    "    x=df_x_train,\n",
    "    y=df_y_train,\n",
    "    epochs=num_epochs,\n",
    "    batch_size=batch_size,\n",
    "    validation_split=0.1,\n",
    "    verbose=1\n",
    "    )\n",
    "    \n",
    "  # Retrieve training metrics (after each train epoch) and the final test accuracy\n",
    "  train_loss = history.history['loss']\n",
    "  val_loss = history.history['val_loss']\n",
    "  plt.plot(train_loss, label='train loss')\n",
    "  plt.plot(val_loss, label='validation loss')\n",
    "  plt.xticks(range(num_epochs))\n",
    "  plt.xlabel('Train epochs')\n",
    "  plt.legend()\n",
    "  plt.show()\n",
    "\n",
    "  test_metrics = model.evaluate(\n",
    "    x=df_x_test,\n",
    "    y=df_y_test,\n",
    "    verbose=0,\n",
    "    return_dict=True\n",
    "    )\n",
    "  \n",
    "  return model, test_metrics\n",
    "\n",
    "fit, test_metrics = train_and_evaluate()"
   ]
  },
  {
   "cell_type": "markdown",
   "metadata": {},
   "source": [
    "# IV. Evaluating the Model"
   ]
  },
  {
   "cell_type": "code",
   "execution_count": 16,
   "metadata": {},
   "outputs": [
    {
     "data": {
      "text/plain": [
       "{'loss': 0.42575976252555847,\n",
       " 'auc': 0.8655726909637451,\n",
       " 'pre': 0.1296703964471817,\n",
       " 'rec': 0.7475191354751587}"
      ]
     },
     "execution_count": 16,
     "metadata": {},
     "output_type": "execute_result"
    }
   ],
   "source": [
    "test_metrics"
   ]
  },
  {
   "cell_type": "code",
   "execution_count": 17,
   "metadata": {},
   "outputs": [
    {
     "name": "stdout",
     "output_type": "stream",
     "text": [
      "5537/5537 [==============================] - 7s 1ms/step\n"
     ]
    },
    {
     "data": {
      "image/png": "[encoded data removed]",
      "text/plain": [
       "<Figure size 640x480 with 1 Axes>"
      ]
     },
     "metadata": {},
     "output_type": "display_data"
    }
   ],
   "source": [
    "fpr, tpr, threshold = roc_curve(y_val, fit.predict(X_val))\n",
    "roc_auc = auc(fpr, tpr)\n",
    "\n",
    "plt.plot(fpr, tpr, 'b', label = f'AUC = {roc_auc:.1%}')\n",
    "plt.legend(loc = 'lower right')\n",
    "plt.plot([0, 1], [0, 1],'r--')\n",
    "plt.xlim([0, 1])\n",
    "plt.ylim([0, 1])\n",
    "plt.ylabel('True Positive Rate')\n",
    "plt.xlabel('False Positive Rate')\n",
    "plt.title('ROC Curve')\n",
    "plt.show()"
   ]
  },
  {
   "cell_type": "markdown",
   "metadata": {},
   "source": [
    "# V. Outputting Model"
   ]
  },
  {
   "cell_type": "code",
   "execution_count": 18,
   "metadata": {},
   "outputs": [
    {
     "name": "stdout",
     "output_type": "stream",
     "text": [
      "15835/15835 [==============================] - 21s 1ms/step\n"
     ]
    }
   ],
   "source": [
    "sub['isFraud'] = fit.predict(test)"
   ]
  },
  {
   "cell_type": "code",
   "execution_count": 21,
   "metadata": {},
   "outputs": [],
   "source": [
    "sub.to_csv('data/submissions/sub_11_30.csv', index=False)"
   ]
  }
 ],
 "metadata": {
  "kernelspec": {
   "display_name": "Python 3.10.4 64-bit",
   "language": "python",
   "name": "python3"
  },
  "language_info": {
   "codemirror_mode": {
    "name": "ipython",
    "version": 3
   },
   "file_extension": ".py",
   "mimetype": "text/x-python",
   "name": "python",
   "nbconvert_exporter": "python",
   "pygments_lexer": "ipython3",
   "version": "3.10.4"
  },
  "orig_nbformat": 4,
  "vscode": {
   "interpreter": {
    "hash": "807207e50864ba942fdea3697702c6ceff6811bbc7deef42e07b12b1046b97db"
   }
  }
 },
 "nbformat": 4,
 "nbformat_minor": 2
}
